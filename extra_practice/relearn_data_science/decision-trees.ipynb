{
 "cells": [
  {
   "cell_type": "markdown",
   "metadata": {},
   "source": [
    "#Decision Trees\n",
    "\n",
    "A **decision tree** is a non-parametric hierarchical classification technique.\n",
    "\n",
    "**Non-parametric** means no parameters or no distribution assumptions.\n",
    "\n",
    "**Hierarchical** means consisting of a sequence of questions which yield a class label when applied to any record."
   ]
  },
  {
   "cell_type": "markdown",
   "metadata": {},
   "source": [
    "Decision trees are represented by **nodes** and **edges**:\n",
    "<ul>\n",
    "<li>Nodes are decision points, or test conditions</li>\n",
    "    <ul>\n",
    "    <li>**Root node**</li>\n",
    "    <li>**Internal node**</li>\n",
    "    <li>**Leaf node**</li>\n",
    "    </ul>\n",
    "<li>Edges are decision paths, or answers</li>\n",
    "</ul>\n",
    "\n",
    "**Binary split**\n",
    "\n",
    "**Multiway split**"
   ]
  },
  {
   "cell_type": "markdown",
   "metadata": {},
   "source": [
    "###Hunt's Algorithm"
   ]
  },
  {
   "cell_type": "markdown",
   "metadata": {},
   "source": [
    "**Purity**"
   ]
  },
  {
   "cell_type": "markdown",
   "metadata": {
    "collapsed": true
   },
   "source": [
    "###Objective Functions"
   ]
  },
  {
   "cell_type": "markdown",
   "metadata": {},
   "source": [
    "####Measures of Impurity\n",
    "\n",
    "**Entropy** measures **impurity** or **disorder** of a dataset:\n",
    "$$Entropy(t) = - \\sum \\limits_{i=0}^{c-1} \\space p(i|t) \\space log_2 \\space p(i|t)$$\n",
    "\n",
    "As data become purer, entropy becomes smaller.\n",
    "\n",
    "The **Gini index**\n",
    "$$Gini(t) = 1 - \\sum \\limits_{i=0}^{c-1} \\space [p(i|t)]^2$$\n",
    "\n",
    "**Classification error**\n",
    "$$Classification \\space error(t) = 1 - max_i \\space [p(i|t)]$$"
   ]
  },
  {
   "cell_type": "markdown",
   "metadata": {},
   "source": [
    "**Gain**\n",
    "$$ \\Delta = I(parent) - \\sum \\limits_{children j} \\frac {N_j}{N} I(child \\space j)$$\n",
    "\n",
    "**Gain ratio**\n",
    "$$gain \\space ratio = \\frac {\\Delta_{info}}{- \\sum p(v_i) log_2 p(v_i)}$$"
   ]
  },
  {
   "cell_type": "markdown",
   "metadata": {},
   "source": [
    "###Preventing Overfitting"
   ]
  },
  {
   "cell_type": "markdown",
   "metadata": {},
   "source": [
    "Like before, we can use stopping criteria to tell us when we're done iterating.\n",
    "\n",
    "Another possibility is **pre-pruning**, which sets a minimum gain; iteration stops when the next gain does not reach this minimum.\n",
    "\n",
    "**Post-pruning**"
   ]
  },
  {
   "cell_type": "markdown",
   "metadata": {},
   "source": [
    "First test condition is chosen by whichever feature leads to the largest purity gain."
   ]
  },
  {
   "cell_type": "markdown",
   "metadata": {
    "collapsed": true
   },
   "source": [
    "###Regression Trees"
   ]
  },
  {
   "cell_type": "markdown",
   "metadata": {},
   "source": [
    "[**Root mean-squared error**](https://www.kaggle.com/wiki/RootMeanSquaredError)\n",
    "\n",
    "**Gini importance**"
   ]
  },
  {
   "cell_type": "code",
   "execution_count": null,
   "metadata": {
    "collapsed": true
   },
   "outputs": [],
   "source": []
  }
 ],
 "metadata": {
  "kernelspec": {
   "display_name": "Python 2",
   "language": "python",
   "name": "python2"
  },
  "language_info": {
   "codemirror_mode": {
    "name": "ipython",
    "version": 2
   },
   "file_extension": ".py",
   "mimetype": "text/x-python",
   "name": "python",
   "nbconvert_exporter": "python",
   "pygments_lexer": "ipython2",
   "version": "2.7.9"
  }
 },
 "nbformat": 4,
 "nbformat_minor": 0
}
