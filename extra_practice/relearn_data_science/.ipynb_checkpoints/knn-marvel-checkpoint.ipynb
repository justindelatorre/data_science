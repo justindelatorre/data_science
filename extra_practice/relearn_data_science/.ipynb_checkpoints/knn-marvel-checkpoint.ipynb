{
 "cells": [
  {
   "cell_type": "markdown",
   "metadata": {},
   "source": [
    "# K-Nearest Neighbor (Marvel edition)"
   ]
  },
  {
   "cell_type": "markdown",
   "metadata": {
    "collapsed": true
   },
   "source": [
    "In this notebook, we'll:\n",
    "<ul>\n",
    "<li>Apply the <i>k</i>-NN algorithm</li>\n",
    "<li>Use cross-validation</li>\n",
    "<li>Apply scaling</li>\n",
    "</ul>\n",
    "\n",
    "We'll use the Marvel Wikia dataset from http://www.github.com/fivethirtyeight."
   ]
  },
  {
   "cell_type": "markdown",
   "metadata": {},
   "source": [
    "## <i>k</i>-Nearest Neighbor"
   ]
  },
  {
   "cell_type": "markdown",
   "metadata": {},
   "source": [
    "The <b><i>k</i>-Nearest Neighbor (<i>k</i>NN)</b> methodology is a supervised machine learning algorithm used with categorical data.\n",
    "\n",
    "To review, machine learning is <b>supervised</b> when labeled data has already been provided. The data scientist uses this labeled data to \"train\" a proposed model, \"tests\" the remaining data using the trained model, then checks for accuracy.\n",
    "\n",
    "<b>Categorical</b> data is data that has discrete, rather than continous, values."
   ]
  },
  {
   "cell_type": "markdown",
   "metadata": {},
   "source": [
    "To start, let's import all the necessary packages we'll need."
   ]
  },
  {
   "cell_type": "code",
   "execution_count": 2,
   "metadata": {
    "collapsed": false
   },
   "outputs": [],
   "source": [
    "%matplotlib inline\n",
    "from __future__ import division\n",
    "import pandas as pd\n",
    "import numpy as np\n",
    "from seaborn import plt # TODO(jaydelatorre): Make sure to note what Seaborn is\n",
    "import matplotlib.pyplot as plt"
   ]
  },
  {
   "cell_type": "markdown",
   "metadata": {},
   "source": [
    "Next, let's read the dataset into a pandas DataFrame and explore it."
   ]
  },
  {
   "cell_type": "code",
   "execution_count": 3,
   "metadata": {
    "collapsed": false
   },
   "outputs": [
    {
     "name": "stdout",
     "output_type": "stream",
     "text": [
      "   page_id                                 name  \\\n",
      "0     1678            Spider-Man (Peter Parker)   \n",
      "1     7139      Captain America (Steven Rogers)   \n",
      "2    64786  Wolverine (James \\\"Logan\\\" Howlett)   \n",
      "3     1868    Iron Man (Anthony \\\"Tony\\\" Stark)   \n",
      "4     2460                  Thor (Thor Odinson)   \n",
      "\n",
      "                                   urlslug                ID  \\\n",
      "0              \\/Spider-Man_(Peter_Parker)   Secret Identity   \n",
      "1        \\/Captain_America_(Steven_Rogers)   Public Identity   \n",
      "2  \\/Wolverine_(James_%22Logan%22_Howlett)   Public Identity   \n",
      "3    \\/Iron_Man_(Anthony_%22Tony%22_Stark)   Public Identity   \n",
      "4                    \\/Thor_(Thor_Odinson)  No Dual Identity   \n",
      "\n",
      "                ALIGN         EYE        HAIR              SEX  GSM  \\\n",
      "0     Good Characters  Hazel Eyes  Brown Hair  Male Characters  NaN   \n",
      "1     Good Characters   Blue Eyes  White Hair  Male Characters  NaN   \n",
      "2  Neutral Characters   Blue Eyes  Black Hair  Male Characters  NaN   \n",
      "3     Good Characters   Blue Eyes  Black Hair  Male Characters  NaN   \n",
      "4     Good Characters   Blue Eyes  Blond Hair  Male Characters  NaN   \n",
      "\n",
      "               ALIVE  APPEARANCES FIRST APPEARANCE  Year  \n",
      "0  Living Characters         4043           Aug-62  1962  \n",
      "1  Living Characters         3360           Mar-41  1941  \n",
      "2  Living Characters         3061           Oct-74  1974  \n",
      "3  Living Characters         2961           Mar-63  1963  \n",
      "4  Living Characters         2258           Nov-50  1950  \n"
     ]
    }
   ],
   "source": [
    "df = pd.read_csv('marvel-wikia-data.csv')\n",
    "\n",
    "print df.head()"
   ]
  },
  {
   "cell_type": "markdown",
   "metadata": {},
   "source": [
    "We see that the dataset has a few features:\n",
    "<ul>\n",
    "<li><code>page_id: </code>the ID of the Wikia page for the character</li>\n",
    "<li><code>name: </code>the name of the character</li>\n",
    "<li><code>urlslug: </code>the unique URL string for the character's Wikia page</li>\n",
    "<li><code>ID: </code>describes whether the character's identity is secret, public, or if he/she does not distinguish between either status</li>\n",
    "<li><code>ALIGN: </code>the character's moral alignment</li>\n",
    "<li><code>EYE: </code>color of the character's eyes</li>\n",
    "<li><code>HAIR: </code>color of the character's hair</li>\n",
    "<li><code>SEX: </code>the character's gender, which may also be asexual or non-sexual</li>\n",
    "<li><code>GSM: </code>the character's sexual orientation and/or sexual expression; not all characters have a value for this feature</li>\n",
    "<li><code>ALIVE: </code>whether or not the character is living</li>\n",
    "<li><code>APPEARANCES: </code>number of times the character has appeared in the Marvel multi-verse</li>\n",
    "<li><code>FIRST APPEARANCE: </code>month-year when the character first showed up in the Marvel multi-verse</li>\n",
    "<li><code>Year: </code>year of character's first appearance</li>\n",
    "</ul>"
   ]
  },
  {
   "cell_type": "code",
   "execution_count": 13,
   "metadata": {
    "collapsed": false
   },
   "outputs": [
    {
     "data": {
      "text/plain": [
       "Homosexual Characters     66\n",
       "Bisexual Characters       19\n",
       "Transgender Characters     2\n",
       "Genderfluid Characters     1\n",
       "Transvestites              1\n",
       "Pansexual Characters       1\n",
       "dtype: int64"
      ]
     },
     "execution_count": 13,
     "metadata": {},
     "output_type": "execute_result"
    }
   ],
   "source": [
    "df.GSM.value_counts()"
   ]
  },
  {
   "cell_type": "code",
   "execution_count": null,
   "metadata": {
    "collapsed": true
   },
   "outputs": [],
   "source": []
  }
 ],
 "metadata": {
  "kernelspec": {
   "display_name": "Python 2",
   "language": "python",
   "name": "python2"
  },
  "language_info": {
   "codemirror_mode": {
    "name": "ipython",
    "version": 2
   },
   "file_extension": ".py",
   "mimetype": "text/x-python",
   "name": "python",
   "nbconvert_exporter": "python",
   "pygments_lexer": "ipython2",
   "version": "2.7.9"
  }
 },
 "nbformat": 4,
 "nbformat_minor": 0
}
