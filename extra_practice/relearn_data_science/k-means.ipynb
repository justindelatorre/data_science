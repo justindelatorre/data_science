{
 "cells": [
  {
   "cell_type": "markdown",
   "metadata": {},
   "source": [
    "#K-Means Clustering"
   ]
  },
  {
   "cell_type": "markdown",
   "metadata": {},
   "source": [
    "**$k$-Means** is an unsupervised machine learning algorithm used to classify categorical data.\n",
    "\n",
    "**Unsupervised** machine learning is implemented when data are not pre-labelled. Labels are generated after the data are sorted into groups based on similarity, or **clusters**, which can then be potentially labelled a class.\n",
    "\n",
    "The goal of cluster analysis is to **extract and enhance the natural structure of the data**, and not to impose arbitrary structure.\n",
    "\n",
    "Specifically, $k$-Means is a **greedy** learner that partitions a dataset into $k$ clusters. It's greedy because it captures the local structure of the data; partitioning performs complete clustering, where each point belonging to exactly one cluster."
   ]
  },
  {
   "cell_type": "markdown",
   "metadata": {},
   "source": [
    "Partitions are determined by assigning each point to the nearest **centroid**, which is the mean of the data points in a cluster. This requires continuous (vector-like) features and highlights the iterative nature of algorithm.\n",
    "\n",
    "<img src=\"kmeans_visualization.png\">\n",
    "\n",
    "Note, however, that **partitions are not scale-invariant**, which means that the same data can yield very different clusters depending on the **scale and the units used**. This means that data representation (e.g., the scale of the initial visualization) is very important before applying a clustering algorithm. For example, the visualizations below represent the same data set differently:\n",
    "\n",
    "<img src=\"same_data_diff_viz.png\">"
   ]
  },
  {
   "cell_type": "markdown",
   "metadata": {},
   "source": [
    "To apply $k$-Means:\n",
    "<ol>\n",
    "<li>Choose $k$ initial centroids (note that $k$ is an input)</li>\n",
    "<li>For each point:\n",
    "    <ul>\n",
    "    <li>Find distance to each centroid</li>\n",
    "    <li>Assign point to nearest centroid</li>\n",
    "    </ul>\n",
    "</li>\n",
    "<li>Recalculate centroid positions</li>\n",
    "<li>Rinse and repeat steps 2 and 3 until stopping criteria are met</li>\n",
    "</ol>\n",
    "\n",
    "It loosely resembles a \"ready, fire, aim\" optimization approach.\n",
    "\n",
    "<img src=\"kmeans_viz.png\">\n",
    "\n",
    "Note that $k$-Means has a hard time dealing with non-convex clusters, or data with widely varying shapes and densities. This can potentially be remedied by increasing the $k$ and combining subclusters in a post-processing step."
   ]
  },
  {
   "cell_type": "markdown",
   "metadata": {},
   "source": [
    "There are several ways to choose initial centroid positions:\n",
    "<ul>\n",
    "<li>Randomly (but this may yield divergent behavior)</li>\n",
    "<li>First perform an alternative clustering task, then use the resulting centroids as initial $k$-Means centroid</li>\n",
    "<li>Start with a global centroid, and choose a point a max distance, then repeat (but this risks selecting an outlier as a centroid)</li>\n",
    "</ul>"
   ]
  },
  {
   "cell_type": "markdown",
   "metadata": {},
   "source": [
    "**\"Nearness\"** is measured similarly to $k$NN - based on similarity or distance, where similarity must satisfy certain conditions:\n",
    "\n",
    "<img src=\"symmetry_conditions.png\">"
   ]
  },
  {
   "cell_type": "markdown",
   "metadata": {},
   "source": [
    "####Similarity Measures"
   ]
  },
  {
   "cell_type": "markdown",
   "metadata": {},
   "source": [
    "For data that takes values in $R^n$, we can use **Euclidean distance**:\n",
    "\n",
    "$$d(x,y) = \\sqrt {\\sum (x_i - y_i)^2}$$\n",
    "\n",
    "A matrix whose entries $D_{ij}$ contains $d(x,y)$ for all $x$ and $y$ is called the [**distance matrix**](http://en.wikipedia.org/wiki/Distance_matrix)."
   ]
  },
  {
   "cell_type": "markdown",
   "metadata": {},
   "source": [
    "For text mining problems (or any problem with sparse binary data), we can use the [**Jaccard coefficient**](http://en.wikipedia.org/wiki/Jaccard_index):\n",
    "\n",
    "$$J(A,B) = \\frac{|A \\cap B|}{|A \\cup B|}$$\n",
    "\n",
    "The formula above can be read as:\n",
    "\n",
    "**The similarity $J$ between $A$ and $B$ is equal to the absolute value of the intersection of the data in $A$ and $B$ divided by the union of the data between $A$ and $B$.**\n",
    "\n",
    "Let's make the above statement more concrete with an example. Say we have two arrays generated from SMS messages:\n",
    "\n",
    "<code>A = ['please', 'call', 'me', 'soon']</code><br>\n",
    "<code>B = ['call', 'me', 'now']</code>\n",
    "\n",
    "${|A \\cap B|}$ <code>= ['call', 'me']</code> = 2<br>\n",
    "${|A \\cup B|}$ <code>= ['please', 'call', 'me', 'soon', 'now']</code> = 5\n",
    "\n",
    "$$\\Longrightarrow J(A,B) = \\frac{2}{5}$$"
   ]
  },
  {
   "cell_type": "markdown",
   "metadata": {},
   "source": [
    "####Objective Function"
   ]
  },
  {
   "cell_type": "markdown",
   "metadata": {},
   "source": [
    "We can compute the centroid positions at each iteration of the algorithm by optimizing an **objective function** that tells use how \"good\" the clustering is.\n",
    "\n",
    "One common objective function when using Euclidean distance is the **sum of squared errors** ($SSE$) from each point $x$ to its centroid $c_i$:\n",
    "\n",
    "$$SSE = \\sum\\limits_{i=1}^K \\sum\\limits_{x \\in C_i} d(x_i, c_i)^2$$\n",
    "\n",
    "Given two clustering results, the optimal one will be the one with lower SSE because a lower SSE means the centroids have converged to better locations (i.e., a better local optimum). \n",
    "\n",
    "If this sounds familiar, this is conceptually similar for the concept of **least residual squares** in linear regression, since it generally involves minimizing the distance between a mean value and a data point."
   ]
  },
  {
   "cell_type": "markdown",
   "metadata": {},
   "source": [
    "#### Convergence"
   ]
  },
  {
   "cell_type": "markdown",
   "metadata": {},
   "source": [
    "We then continue to iterate on the model until some stopping criteria are met, a few examples being:\n",
    "<ul>\n",
    "<li>centroid positions change by no more than $\\varepsilon$</li>\n",
    "<li>no more than $x$% change in clusters between iterations</li>\n",
    "</ul>\n",
    "\n",
    "Remember that, in general, different runs of the algorithm will converge to different local centroid configurations."
   ]
  },
  {
   "cell_type": "markdown",
   "metadata": {},
   "source": [
    "###Cluster Validation"
   ]
  },
  {
   "cell_type": "markdown",
   "metadata": {},
   "source": [
    "$k$-means will converge to a solution and will return a set of $k$ clusters, even if no natural clusters exist in the data. As a result, we'll need to validate these clustering attempts. Two useful metrics we can use are **cohesion** and **separation**.\n",
    "\n",
    "**Cohesion** measures clustering effectiveness **within a cluster**:\n",
    "\n",
    "$$\\hat{C} (C_i) = \\sum \\limits_{x \\in C_i} d(x, c_i)$$\n",
    "\n",
    "where $d(x,c_i)$ is the distance between each point in a cluster and the centroid.\n",
    "\n",
    "**Separation** measures clustering effectiveness **between clusters**:\n",
    "\n",
    "$$\\hat{S} (C_i,C_j) = d(c_i,c_j)$$\n",
    "\n",
    "where $d(c_i,c_j)$ is the distance between centroids in different clusters.\n",
    "\n",
    "<img src=\"cohesion_separation.png\">"
   ]
  },
  {
   "cell_type": "markdown",
   "metadata": {},
   "source": [
    "We can then turn these values into overall measures of cluster validity by taking a **weighted sum over clusters**:\n",
    "\n",
    "$$\\hat{V}_{total} = \\sum\\limits_{1}^K w_i \\hat{V} (C_i)$$\n",
    "\n",
    "where $V$ can be cohesion, separation, or some function of both.\n",
    "\n",
    "The weights can all be set to 1 - which is best for $k$-Means - or proportional to the cluster masses (i.e., the number of points they contain).\n",
    "\n",
    "These validation measures can be used to identify clusters that should be split or merged, or to identify individual points with a disproportionate effect on the overall clustering (like outliers)."
   ]
  },
  {
   "cell_type": "markdown",
   "metadata": {},
   "source": [
    "####Silhouette Coefficent"
   ]
  },
  {
   "cell_type": "markdown",
   "metadata": {},
   "source": [
    "One useful measure that combines cohesion and separation is the **silhouette coefficient** ($SC$). For a point $x_i$, this is given by:\n",
    "\n",
    "$$SC_i = \\frac{b_i - a_i}{max(a_i,b_i)}$$\n",
    "\n",
    "where:\n",
    "<ul>\n",
    "<li>$a_i$ = average in-cluster distance to $x_i$</li>\n",
    "<li>$b_{ij}$ = average between-cluster distance to $x_i$</li>\n",
    "<li>$b_i$ = $min_j(b_{ij})$</li>\n",
    "</ul>\n",
    "\n",
    "The silhouette coefficient can take values between -1 and 1.\n",
    "\n",
    "In general, we want separation to be high and cohesion to be low, which corresponds to a value of $SC$ close to +1. A negative $SC$ means the cluster radius is larger is larger than the space between clusters (i.e., the clusters overlap).\n",
    "\n",
    "<img src=\"silhouette_coefficient.png\">"
   ]
  },
  {
   "cell_type": "markdown",
   "metadata": {},
   "source": [
    "The $SC$ for an **individual cluster** is given by the **average $SC$ across all points in $C_i$**:\n",
    "\n",
    "$$SC(C_i) = \\frac{1}{m_i} \\sum\\limits_{x \\in C_i} SC_i$$\n",
    "\n",
    "The **overall $SC$** is given by the **average $SC$ across all points**, which gives a summary measure of the overall clustering quality:\n",
    "\n",
    "$$SC_{total} = \\frac{1}{k} \\sum\\limits_1^k SC(C_i)$$"
   ]
  },
  {
   "cell_type": "markdown",
   "metadata": {},
   "source": [
    "We can compute the best number of clusters for a dataset **by computing the overall $SSE$ or $SC$ for different values of $k$**.\n",
    "\n",
    "<img src=\"sse_sc.png\">\n",
    "\n",
    "Based on the examples above, the optimal $k$ seems to be 10 clusters, since we are looking for low values of $SSE$ and high values of $SC$."
   ]
  },
  {
   "cell_type": "markdown",
   "metadata": {},
   "source": [
    "##Implementing $k$-Means"
   ]
  },
  {
   "cell_type": "markdown",
   "metadata": {},
   "source": [
    "Now, we'll implement $k$-Means using a sample dataset and some of <code>scikit-learn</code>'s packages."
   ]
  },
  {
   "cell_type": "markdown",
   "metadata": {},
   "source": [
    "First, let's create some unlabelled sample data to use. We'll use the following characteristics:\n",
    "\n",
    "<ul>\n",
    "<li>There should be four clusters of points</li>\n",
    "<li>Each cluster should be formed by points whose coordinates come from a 2D Gaussian</li>\n",
    "<li>The 2D Gaussians should have the following centers: (1,1), (1,3), (3,1), (3,3)</li>\n",
    "<li>They should have a variance of 0.1, and a covariance of 0</li>\n",
    "</ul>\n",
    "\n",
    "The **<code>np.random.multivariate</code>** function, which we'll use to generate the data, takes three parameters: mean, covariance, and number of samples.\n",
    "\n",
    "To start, let's import a few packages we'll need."
   ]
  },
  {
   "cell_type": "code",
   "execution_count": 2,
   "metadata": {
    "collapsed": true
   },
   "outputs": [],
   "source": [
    "import numpy as np\n",
    "import matplotlib.pyplot as plt\n",
    "%matplotlib inline"
   ]
  },
  {
   "cell_type": "markdown",
   "metadata": {},
   "source": [
    "In the code below, <code>np.random.multivariate_normal</code> samples from a Gaussian distribution to generate a collection of points. Let's first get comfortable with sampling from a distribution."
   ]
  },
  {
   "cell_type": "code",
   "execution_count": 3,
   "metadata": {
    "collapsed": false
   },
   "outputs": [
    {
     "name": "stdout",
     "output_type": "stream",
     "text": [
      "[[ 0.90310995  1.3146796 ]\n",
      " [ 0.85361537  1.24392748]\n",
      " [ 1.91933219  1.32999538]\n",
      " [ 1.06636829  1.43349867]\n",
      " [ 0.52557843  1.38126666]\n",
      " [ 1.01448039  0.44581522]\n",
      " [ 1.05422005  0.90831376]\n",
      " [ 1.24919566  1.38441503]\n",
      " [ 1.88348032  1.24854452]\n",
      " [ 0.60629351  1.00581853]\n",
      " [ 1.11200319  1.26774841]\n",
      " [ 1.11375399  0.84642551]\n",
      " [ 0.95196821  0.865351  ]\n",
      " [ 1.07178612  1.12170878]\n",
      " [ 0.91887868  1.16777088]\n",
      " [ 0.49580684  0.91714834]\n",
      " [ 1.2908708   0.70686633]\n",
      " [ 0.70333069  1.02430366]\n",
      " [ 1.60984766  1.33904519]\n",
      " [ 0.97644148  1.24397679]]\n"
     ]
    }
   ],
   "source": [
    "sample = np.random.multivariate_normal([1,1],[[.1,0],[0,.1]],20)\n",
    "\n",
    "print sample"
   ]
  },
  {
   "cell_type": "markdown",
   "metadata": {},
   "source": [
    "Let's plot the data to get a feel for it."
   ]
  },
  {
   "cell_type": "code",
   "execution_count": 4,
   "metadata": {
    "collapsed": false
   },
   "outputs": [
    {
     "data": {
      "image/png": "[encoded data removed]",
      "text/plain": [
       "<matplotlib.figure.Figure at 0x104ff7110>"
      ]
     },
     "metadata": {},
     "output_type": "display_data"
    }
   ],
   "source": [
    "plt.scatter(sample[:,0], sample[:,1])\n",
    "plt.title('4 clusters ?')\n",
    "plt.show()"
   ]
  },
  {
   "cell_type": "markdown",
   "metadata": {},
   "source": [
    "Now, we'll create our clusters by creating four separate groups of data and using **<code>np.vpstack</code>** to union the groups together."
   ]
  },
  {
   "cell_type": "code",
   "execution_count": 5,
   "metadata": {
    "collapsed": true
   },
   "outputs": [],
   "source": [
    "data = np.vstack([np.random.multivariate_normal([1,1],[[.1,0],[0,.1]],20),\n",
    "                 np.random.multivariate_normal([1,3],[[.1,0],[0,.1]],20),\n",
    "                 np.random.multivariate_normal([3,1],[[.1,0],[0,.1]],20),\n",
    "                 np.random.multivariate_normal([3,3],[[.1,0],[0,.1]],20)])"
   ]
  },
  {
   "cell_type": "code",
   "execution_count": 6,
   "metadata": {
    "collapsed": false
   },
   "outputs": [
    {
     "data": {
      "text/plain": [
       "array([[ 0.31503476,  1.32690641],\n",
       "       [ 1.56755209,  1.54892116],\n",
       "       [ 1.45941232,  1.54308457],\n",
       "       [ 1.19758976,  1.17006995],\n",
       "       [ 1.1799548 ,  0.9349318 ],\n",
       "       [ 1.35714735,  1.20400106],\n",
       "       [ 1.87880039,  1.30938693],\n",
       "       [ 0.59255085,  1.28103083],\n",
       "       [ 1.02436002,  1.24709921],\n",
       "       [ 0.60719247,  0.65234262]])"
      ]
     },
     "execution_count": 6,
     "metadata": {},
     "output_type": "execute_result"
    }
   ],
   "source": [
    "data[:10, :]"
   ]
  },
  {
   "cell_type": "markdown",
   "metadata": {},
   "source": [
    "Let's plot these points. We should get a graph that more closely resembles four clusters of data now."
   ]
  },
  {
   "cell_type": "code",
   "execution_count": 7,
   "metadata": {
    "collapsed": false
   },
   "outputs": [
    {
     "data": {
      "image/png": "[encoded data removed]",
      "text/plain": [
       "<matplotlib.figure.Figure at 0x105046790>"
      ]
     },
     "metadata": {},
     "output_type": "display_data"
    }
   ],
   "source": [
    "plt.scatter(data[:,0], data[:,1])\n",
    "plt.title('4 clusters ?')\n",
    "plt.show()"
   ]
  },
  {
   "cell_type": "markdown",
   "metadata": {},
   "source": [
    "Now, we'll create load **<code>KMeans</code>** from scikit-learn and create and $k$-Means instance."
   ]
  },
  {
   "cell_type": "code",
   "execution_count": 8,
   "metadata": {
    "collapsed": true
   },
   "outputs": [],
   "source": [
    "from sklearn.cluster import KMeans"
   ]
  },
  {
   "cell_type": "markdown",
   "metadata": {},
   "source": [
    "We'll create a <code>KMeans</code> instance with four clusters, random initialization, a <code>random_state</code> of 1, one initial centroid seed (<code>n_init=1</code>), and maximum number of iterations equal to 1:"
   ]
  },
  {
   "cell_type": "code",
   "execution_count": 9,
   "metadata": {
    "collapsed": true
   },
   "outputs": [],
   "source": [
    "km = KMeans(n_clusters=4,\n",
    "            init='random',\n",
    "            n_init=1,\n",
    "            max_iter=1,\n",
    "            random_state=1)"
   ]
  },
  {
   "cell_type": "markdown",
   "metadata": {},
   "source": [
    "Now, we'll fit the model on all the data."
   ]
  },
  {
   "cell_type": "code",
   "execution_count": 10,
   "metadata": {
    "collapsed": false
   },
   "outputs": [
    {
     "data": {
      "text/plain": [
       "KMeans(copy_x=True, init='random', max_iter=1, n_clusters=4, n_init=1,\n",
       "    n_jobs=1, precompute_distances=True, random_state=1, tol=0.0001,\n",
       "    verbose=0)"
      ]
     },
     "execution_count": 10,
     "metadata": {},
     "output_type": "execute_result"
    }
   ],
   "source": [
    "km.fit(data)"
   ]
  },
  {
   "cell_type": "markdown",
   "metadata": {},
   "source": [
    "From here, we can extract the coordinates of the cluster centers (centroids) using the **<code>cluster\\_centers_</code>** method:"
   ]
  },
  {
   "cell_type": "code",
   "execution_count": 11,
   "metadata": {
    "collapsed": false
   },
   "outputs": [
    {
     "data": {
      "text/plain": [
       "array([[ 2.85772702,  1.62861576],\n",
       "       [ 0.96637732,  3.09723783],\n",
       "       [ 0.86420477,  1.20075413],\n",
       "       [ 3.10161673,  3.25912263]])"
      ]
     },
     "execution_count": 11,
     "metadata": {},
     "output_type": "execute_result"
    }
   ],
   "source": [
    "centroids = km.cluster_centers_\n",
    "centroids"
   ]
  },
  {
   "cell_type": "markdown",
   "metadata": {},
   "source": [
    "Next, we'll predict the clusters for each data point using the <code>predict</code> method:"
   ]
  },
  {
   "cell_type": "code",
   "execution_count": 12,
   "metadata": {
    "collapsed": false
   },
   "outputs": [
    {
     "name": "stdout",
     "output_type": "stream",
     "text": [
      "[2 2 2 2 2 2 2 2 2 2 2 2 2 2 2 2 2 2 2 2 1 1 1 1 1 1 1 1 1 1 1 1 1 1 1 1 1\n",
      " 1 1 1 0 0 0 0 0 0 0 0 0 0 0 0 0 0 0 0 0 0 0 0 3 3 3 3 3 3 3 3 3 3 3 3 3 3\n",
      " 3 3 3 3 3 3]\n"
     ]
    }
   ],
   "source": [
    "y = km.predict(data)\n",
    "print y"
   ]
  },
  {
   "cell_type": "markdown",
   "metadata": {},
   "source": [
    "We'll plot the points with a different color for each cluster, and we'll represent the centroids as red squares:"
   ]
  },
  {
   "cell_type": "code",
   "execution_count": 13,
   "metadata": {
    "collapsed": false
   },
   "outputs": [
    {
     "data": {
      "text/plain": [
       "<matplotlib.collections.PathCollection at 0x1079cca10>"
      ]
     },
     "execution_count": 13,
     "metadata": {},
     "output_type": "execute_result"
    },
    {
     "data": {
      "image/png": "[encoded data removed]",
      "text/plain": [
       "<matplotlib.figure.Figure at 0x1078b7790>"
      ]
     },
     "metadata": {},
     "output_type": "display_data"
    }
   ],
   "source": [
    "fig, ax = plt.subplots(1,1, figsize=(8,8))\n",
    "for t,marker,c in zip(xrange(4),\">ox+\",\"rgby\") :\n",
    "    ax.scatter(data[y == t,0],\n",
    "                data[y == t,1],\n",
    "                marker=marker,\n",
    "                c=c)\n",
    "\n",
    "ax.scatter(centroids[:,0],centroids[:,1],marker = 's',c='r')"
   ]
  },
  {
   "cell_type": "markdown",
   "metadata": {},
   "source": [
    "Looks pretty good so far but let's see if we can improve the model a bit. We'll create another instance with four clusters, improved initialization (<code>\"k-means++\"</code>), ten initial centroid seeds, and a maximum of 300 iterations:"
   ]
  },
  {
   "cell_type": "code",
   "execution_count": 14,
   "metadata": {
    "collapsed": true
   },
   "outputs": [],
   "source": [
    "km = KMeans(n_clusters=4, init='k-means++', n_init=10 , max_iter = 300, random_state=1)"
   ]
  },
  {
   "cell_type": "markdown",
   "metadata": {},
   "source": [
    "We'll condense the previous workflow into a function that takes in all the data and returns the graph. Note that the function is specifically for models where $k$ = 4."
   ]
  },
  {
   "cell_type": "code",
   "execution_count": 15,
   "metadata": {
    "collapsed": true
   },
   "outputs": [],
   "source": [
    "def do_kmeans_4(km, data):\n",
    "    km.fit(data)\n",
    "    centroids = km.cluster_centers_\n",
    "    print \"centroids:\", centroids\n",
    "    y = km.predict(data)\n",
    "    \n",
    "    \n",
    "    fig, ax = plt.subplots(1,1, figsize=(8,8))\n",
    "    for t,marker,c in zip(xrange(4),\">ox+\",\"rgby\") :\n",
    "        ax.scatter(data[y == t,0],\n",
    "                   data[y == t,1],\n",
    "                   marker=marker,\n",
    "                   c=c)\n",
    "\n",
    "    ax.scatter(centroids[:,0],centroids[:,1],marker = 's',c='r')"
   ]
  },
  {
   "cell_type": "markdown",
   "metadata": {},
   "source": [
    "Let's call the new function to see what happens:"
   ]
  },
  {
   "cell_type": "code",
   "execution_count": 16,
   "metadata": {
    "collapsed": false
   },
   "outputs": [
    {
     "name": "stdout",
     "output_type": "stream",
     "text": [
      "centroids: [[ 0.93888343  3.07634391]\n",
      " [ 0.93731981  1.1322555 ]\n",
      " [ 2.97036944  0.93412588]\n",
      " [ 2.90378129  3.07279517]]\n"
     ]
    },
    {
     "data": {
      "image/png": "[encoded data removed]",
      "text/plain": [
       "<matplotlib.figure.Figure at 0x1079ef6d0>"
      ]
     },
     "metadata": {},
     "output_type": "display_data"
    }
   ],
   "source": [
    "do_kmeans_4(km, data)"
   ]
  },
  {
   "cell_type": "markdown",
   "metadata": {},
   "source": [
    "Not too shabby!"
   ]
  },
  {
   "cell_type": "markdown",
   "metadata": {},
   "source": [
    "####Blurred Boundaries (Potentially Overlapping Clusters)"
   ]
  },
  {
   "cell_type": "markdown",
   "metadata": {},
   "source": [
    "In this example, we'll generate data points with a larger variance of 0.5 (as compared to the original 0 in the previous example) around the original centroids."
   ]
  },
  {
   "cell_type": "code",
   "execution_count": 17,
   "metadata": {
    "collapsed": false
   },
   "outputs": [
    {
     "data": {
      "text/plain": [
       "<matplotlib.collections.PathCollection at 0x107d9f3d0>"
      ]
     },
     "execution_count": 17,
     "metadata": {},
     "output_type": "execute_result"
    },
    {
     "data": {
      "image/png": "[encoded data removed]",
      "text/plain": [
       "<matplotlib.figure.Figure at 0x1078b7690>"
      ]
     },
     "metadata": {},
     "output_type": "display_data"
    }
   ],
   "source": [
    "data1 = np.vstack([np.random.multivariate_normal([1,1],[[.5,0],[0,.5]],20),\n",
    "                 np.random.multivariate_normal([1,3],[[.5,0],[0,.5]],20),\n",
    "                 np.random.multivariate_normal([3,1],[[.5,0],[0,.5]],20),\n",
    "                 np.random.multivariate_normal([3,3],[[.5,0],[0,.5]],20)])\n",
    "plt.scatter(data1[:,0], data1[:,1])"
   ]
  },
  {
   "cell_type": "markdown",
   "metadata": {},
   "source": [
    "Let's follow the same workflow as before:\n",
    "\n",
    "<ol>\n",
    "<li>Initialize a new <code>KMeans</code> classifier</li>\n",
    "<li>Use the new <code>do_kmeans_4</code> to fit and plot the new data</li>\n",
    "</ol>"
   ]
  },
  {
   "cell_type": "code",
   "execution_count": 18,
   "metadata": {
    "collapsed": false
   },
   "outputs": [
    {
     "name": "stdout",
     "output_type": "stream",
     "text": [
      "centroids: [[ 2.93255365  1.19654188]\n",
      " [ 0.93287874  3.09506108]\n",
      " [ 1.0061444   1.0178228 ]\n",
      " [ 3.28971869  3.13478895]]\n"
     ]
    },
    {
     "data": {
      "image/png": "[encoded data removed]",
      "text/plain": [
       "<matplotlib.figure.Figure at 0x107c034d0>"
      ]
     },
     "metadata": {},
     "output_type": "display_data"
    }
   ],
   "source": [
    "km = KMeans(n_clusters=4, random_state=1)\n",
    "\n",
    "do_kmeans_4(km, data1)"
   ]
  },
  {
   "cell_type": "markdown",
   "metadata": {},
   "source": [
    "What happens when we repeat the workflow with **150 points per cluster** rather than the 20 we've been using?"
   ]
  },
  {
   "cell_type": "code",
   "execution_count": 19,
   "metadata": {
    "collapsed": false
   },
   "outputs": [
    {
     "data": {
      "text/plain": [
       "<matplotlib.collections.PathCollection at 0x107f69050>"
      ]
     },
     "execution_count": 19,
     "metadata": {},
     "output_type": "execute_result"
    },
    {
     "data": {
      "image/png": "[encoded data removed]",
      "text/plain": [
       "<matplotlib.figure.Figure at 0x107fc0110>"
      ]
     },
     "metadata": {},
     "output_type": "display_data"
    }
   ],
   "source": [
    "data1 = np.vstack([np.random.multivariate_normal([1,1],[[.5,0],[0,.5]],150),\n",
    "                 np.random.multivariate_normal([1,3],[[.5,0],[0,.5]],150),\n",
    "                 np.random.multivariate_normal([3,1],[[.5,0],[0,.5]],150),\n",
    "                 np.random.multivariate_normal([3,3],[[.5,0],[0,.5]],150)])\n",
    "plt.scatter(data1[:,0], data1[:,1])"
   ]
  },
  {
   "cell_type": "code",
   "execution_count": 20,
   "metadata": {
    "collapsed": false
   },
   "outputs": [
    {
     "name": "stdout",
     "output_type": "stream",
     "text": [
      "centroids: [[ 0.96007988  3.01366965]\n",
      " [ 3.07006364  1.10895569]\n",
      " [ 0.95459164  0.92570192]\n",
      " [ 2.96747856  2.97443494]]\n"
     ]
    },
    {
     "data": {
      "image/png": "[encoded data removed]",
      "text/plain": [
       "<matplotlib.figure.Figure at 0x107fcf350>"
      ]
     },
     "metadata": {},
     "output_type": "display_data"
    }
   ],
   "source": [
    "do_kmeans_4(km, data1)"
   ]
  },
  {
   "cell_type": "markdown",
   "metadata": {},
   "source": [
    "It looks like the clusters are starting to creep in on each other..."
   ]
  },
  {
   "cell_type": "code",
   "execution_count": null,
   "metadata": {
    "collapsed": true
   },
   "outputs": [],
   "source": []
  }
 ],
 "metadata": {
  "kernelspec": {
   "display_name": "Python 2",
   "language": "python",
   "name": "python2"
  },
  "language_info": {
   "codemirror_mode": {
    "name": "ipython",
    "version": 2
   },
   "file_extension": ".py",
   "mimetype": "text/x-python",
   "name": "python",
   "nbconvert_exporter": "python",
   "pygments_lexer": "ipython2",
   "version": "2.7.9"
  }
 },
 "nbformat": 4,
 "nbformat_minor": 0
}
