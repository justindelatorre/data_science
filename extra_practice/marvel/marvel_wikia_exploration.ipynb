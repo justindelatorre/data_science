{
 "cells": [
  {
   "cell_type": "markdown",
   "metadata": {},
   "source": [
    "# Data Science and the Marvel Universe"
   ]
  },
  {
   "cell_type": "markdown",
   "metadata": {},
   "source": [
    "In this IPython notebook, we'll use Marvel Wikia data from fivethirtyeight.com to explore and explain some basic data science and machine learning concepts taught in General Assembly's Data Science course."
   ]
  },
  {
   "cell_type": "code",
   "execution_count": 1,
   "metadata": {
    "collapsed": true
   },
   "outputs": [],
   "source": [
    "# First, import packages we'll use\n",
    "import pandas as pd"
   ]
  },
  {
   "cell_type": "code",
   "execution_count": 3,
   "metadata": {
    "collapsed": false
   },
   "outputs": [],
   "source": [
    "# Read data into a pandas DataFrame\n",
    "df = pd.read_csv('marvel-wikia-data.csv')"
   ]
  },
  {
   "cell_type": "markdown",
   "metadata": {},
   "source": [
    "Let's get to know the dataset a little by exploring its characteristics and unique values."
   ]
  },
  {
   "cell_type": "code",
   "execution_count": 4,
   "metadata": {
    "collapsed": false
   },
   "outputs": [
    {
     "data": {
      "text/plain": [
       "16376"
      ]
     },
     "execution_count": 4,
     "metadata": {},
     "output_type": "execute_result"
    }
   ],
   "source": [
    "# How many characters are in this version of the dataset?\n",
    "len(df)"
   ]
  },
  {
   "cell_type": "code",
   "execution_count": 14,
   "metadata": {
    "collapsed": false,
    "scrolled": true
   },
   "outputs": [
    {
     "data": {
      "text/html": [
       "<div style=\"max-height:1000px;max-width:1500px;overflow:auto;\">\n",
       "<table border=\"1\" class=\"dataframe\">\n",
       "  <thead>\n",
       "    <tr style=\"text-align: right;\">\n",
       "      <th></th>\n",
       "      <th>page_id</th>\n",
       "      <th>name</th>\n",
       "      <th>urlslug</th>\n",
       "      <th>ID</th>\n",
       "      <th>ALIGN</th>\n",
       "      <th>EYE</th>\n",
       "      <th>HAIR</th>\n",
       "      <th>SEX</th>\n",
       "      <th>GSM</th>\n",
       "      <th>ALIVE</th>\n",
       "      <th>APPEARANCES</th>\n",
       "      <th>FIRST APPEARANCE</th>\n",
       "      <th>Year</th>\n",
       "    </tr>\n",
       "  </thead>\n",
       "  <tbody>\n",
       "    <tr>\n",
       "      <th>0</th>\n",
       "      <td>  1678</td>\n",
       "      <td>           Spider-Man (Peter Parker)</td>\n",
       "      <td>             \\/Spider-Man_(Peter_Parker)</td>\n",
       "      <td>  Secret Identity</td>\n",
       "      <td>    Good Characters</td>\n",
       "      <td> Hazel Eyes</td>\n",
       "      <td> Brown Hair</td>\n",
       "      <td> Male Characters</td>\n",
       "      <td> NaN</td>\n",
       "      <td> Living Characters</td>\n",
       "      <td> 4043</td>\n",
       "      <td> Aug-62</td>\n",
       "      <td> 1962</td>\n",
       "    </tr>\n",
       "    <tr>\n",
       "      <th>1</th>\n",
       "      <td>  7139</td>\n",
       "      <td>     Captain America (Steven Rogers)</td>\n",
       "      <td>       \\/Captain_America_(Steven_Rogers)</td>\n",
       "      <td>  Public Identity</td>\n",
       "      <td>    Good Characters</td>\n",
       "      <td>  Blue Eyes</td>\n",
       "      <td> White Hair</td>\n",
       "      <td> Male Characters</td>\n",
       "      <td> NaN</td>\n",
       "      <td> Living Characters</td>\n",
       "      <td> 3360</td>\n",
       "      <td> Mar-41</td>\n",
       "      <td> 1941</td>\n",
       "    </tr>\n",
       "    <tr>\n",
       "      <th>2</th>\n",
       "      <td> 64786</td>\n",
       "      <td> Wolverine (James \\\"Logan\\\" Howlett)</td>\n",
       "      <td> \\/Wolverine_(James_%22Logan%22_Howlett)</td>\n",
       "      <td>  Public Identity</td>\n",
       "      <td> Neutral Characters</td>\n",
       "      <td>  Blue Eyes</td>\n",
       "      <td> Black Hair</td>\n",
       "      <td> Male Characters</td>\n",
       "      <td> NaN</td>\n",
       "      <td> Living Characters</td>\n",
       "      <td> 3061</td>\n",
       "      <td> Oct-74</td>\n",
       "      <td> 1974</td>\n",
       "    </tr>\n",
       "    <tr>\n",
       "      <th>3</th>\n",
       "      <td>  1868</td>\n",
       "      <td>   Iron Man (Anthony \\\"Tony\\\" Stark)</td>\n",
       "      <td>   \\/Iron_Man_(Anthony_%22Tony%22_Stark)</td>\n",
       "      <td>  Public Identity</td>\n",
       "      <td>    Good Characters</td>\n",
       "      <td>  Blue Eyes</td>\n",
       "      <td> Black Hair</td>\n",
       "      <td> Male Characters</td>\n",
       "      <td> NaN</td>\n",
       "      <td> Living Characters</td>\n",
       "      <td> 2961</td>\n",
       "      <td> Mar-63</td>\n",
       "      <td> 1963</td>\n",
       "    </tr>\n",
       "    <tr>\n",
       "      <th>4</th>\n",
       "      <td>  2460</td>\n",
       "      <td>                 Thor (Thor Odinson)</td>\n",
       "      <td>                   \\/Thor_(Thor_Odinson)</td>\n",
       "      <td> No Dual Identity</td>\n",
       "      <td>    Good Characters</td>\n",
       "      <td>  Blue Eyes</td>\n",
       "      <td> Blond Hair</td>\n",
       "      <td> Male Characters</td>\n",
       "      <td> NaN</td>\n",
       "      <td> Living Characters</td>\n",
       "      <td> 2258</td>\n",
       "      <td> Nov-50</td>\n",
       "      <td> 1950</td>\n",
       "    </tr>\n",
       "  </tbody>\n",
       "</table>\n",
       "</div>"
      ],
      "text/plain": [
       "   page_id                                 name  \\\n",
       "0     1678            Spider-Man (Peter Parker)   \n",
       "1     7139      Captain America (Steven Rogers)   \n",
       "2    64786  Wolverine (James \\\"Logan\\\" Howlett)   \n",
       "3     1868    Iron Man (Anthony \\\"Tony\\\" Stark)   \n",
       "4     2460                  Thor (Thor Odinson)   \n",
       "\n",
       "                                   urlslug                ID  \\\n",
       "0              \\/Spider-Man_(Peter_Parker)   Secret Identity   \n",
       "1        \\/Captain_America_(Steven_Rogers)   Public Identity   \n",
       "2  \\/Wolverine_(James_%22Logan%22_Howlett)   Public Identity   \n",
       "3    \\/Iron_Man_(Anthony_%22Tony%22_Stark)   Public Identity   \n",
       "4                    \\/Thor_(Thor_Odinson)  No Dual Identity   \n",
       "\n",
       "                ALIGN         EYE        HAIR              SEX  GSM  \\\n",
       "0     Good Characters  Hazel Eyes  Brown Hair  Male Characters  NaN   \n",
       "1     Good Characters   Blue Eyes  White Hair  Male Characters  NaN   \n",
       "2  Neutral Characters   Blue Eyes  Black Hair  Male Characters  NaN   \n",
       "3     Good Characters   Blue Eyes  Black Hair  Male Characters  NaN   \n",
       "4     Good Characters   Blue Eyes  Blond Hair  Male Characters  NaN   \n",
       "\n",
       "               ALIVE  APPEARANCES FIRST APPEARANCE  Year  \n",
       "0  Living Characters         4043           Aug-62  1962  \n",
       "1  Living Characters         3360           Mar-41  1941  \n",
       "2  Living Characters         3061           Oct-74  1974  \n",
       "3  Living Characters         2961           Mar-63  1963  \n",
       "4  Living Characters         2258           Nov-50  1950  "
      ]
     },
     "execution_count": 14,
     "metadata": {},
     "output_type": "execute_result"
    }
   ],
   "source": [
    "# What features does this dataset include?\n",
    "\n",
    "# TODO(justindelatorre): Find out which pandas function captures\n",
    "#   DataFrame column names\n",
    "df.head()"
   ]
  },
  {
   "cell_type": "markdown",
   "metadata": {},
   "source": [
    "What are the unique values and counts of each feature?"
   ]
  },
  {
   "cell_type": "code",
   "execution_count": 20,
   "metadata": {
    "collapsed": false
   },
   "outputs": [
    {
     "data": {
      "text/plain": [
       "Secret Identity                  6275\n",
       "Public Identity                  4528\n",
       "No Dual Identity                 1788\n",
       "Known to Authorities Identity      15\n",
       "dtype: int64"
      ]
     },
     "execution_count": 20,
     "metadata": {},
     "output_type": "execute_result"
    }
   ],
   "source": [
    "# feature: ID\n",
    "df.ID.value_counts()"
   ]
  },
  {
   "cell_type": "code",
   "execution_count": 21,
   "metadata": {
    "collapsed": false
   },
   "outputs": [
    {
     "data": {
      "text/plain": [
       "Bad Characters        6720\n",
       "Good Characters       4636\n",
       "Neutral Characters    2208\n",
       "dtype: int64"
      ]
     },
     "execution_count": 21,
     "metadata": {},
     "output_type": "execute_result"
    }
   ],
   "source": [
    "# feature: ALIGN\n",
    "df.ALIGN.value_counts()"
   ]
  },
  {
   "cell_type": "code",
   "execution_count": 22,
   "metadata": {
    "collapsed": false
   },
   "outputs": [
    {
     "data": {
      "text/plain": [
       "Blue Eyes          1962\n",
       "Brown Eyes         1924\n",
       "Green Eyes          613\n",
       "Black Eyes          555\n",
       "Red Eyes            508\n",
       "White Eyes          400\n",
       "Yellow Eyes         256\n",
       "Grey Eyes            95\n",
       "Hazel Eyes           76\n",
       "Variable Eyes        49\n",
       "Purple Eyes          31\n",
       "Orange Eyes          25\n",
       "Pink Eyes            21\n",
       "One Eye              21\n",
       "Gold Eyes            14\n",
       "Silver Eyes          12\n",
       "Violet Eyes          11\n",
       "Amber Eyes           10\n",
       "No Eyes               7\n",
       "Multiple Eyes         7\n",
       "Yellow Eyeballs       6\n",
       "Black Eyeballs        3\n",
       "Magenta Eyes          2\n",
       "Compound Eyes         1\n",
       "dtype: int64"
      ]
     },
     "execution_count": 22,
     "metadata": {},
     "output_type": "execute_result"
    }
   ],
   "source": [
    "# feature: ALIGN\n",
    "df.EYE.value_counts()"
   ]
  },
  {
   "cell_type": "code",
   "execution_count": 23,
   "metadata": {
    "collapsed": false
   },
   "outputs": [
    {
     "data": {
      "text/plain": [
       "Black Hair               3755\n",
       "Brown Hair               2339\n",
       "Blond Hair               1582\n",
       "No Hair                  1176\n",
       "Bald                      838\n",
       "White Hair                754\n",
       "Red Hair                  620\n",
       "Grey Hair                 531\n",
       "Green Hair                117\n",
       "Auburn Hair                78\n",
       "Blue Hair                  56\n",
       "Purple Hair                47\n",
       "Strawberry Blond Hair      47\n",
       "Orange Hair                43\n",
       "Variable Hair              32\n",
       "Pink Hair                  31\n",
       "Yellow Hair                20\n",
       "Silver Hair                16\n",
       "Gold Hair                   8\n",
       "Light Brown Hair            6\n",
       "Reddish Blond Hair          6\n",
       "Magenta Hair                5\n",
       "Orange-brown Hair           3\n",
       "Bronze Hair                 1\n",
       "Dyed Hair                   1\n",
       "dtype: int64"
      ]
     },
     "execution_count": 23,
     "metadata": {},
     "output_type": "execute_result"
    }
   ],
   "source": [
    "# feature: HAIR\n",
    "df.HAIR.value_counts()"
   ]
  },
  {
   "cell_type": "code",
   "execution_count": 24,
   "metadata": {
    "collapsed": false
   },
   "outputs": [
    {
     "data": {
      "text/plain": [
       "Male Characters           11638\n",
       "Female Characters          3837\n",
       "Agender Characters           45\n",
       "Genderfluid Characters        2\n",
       "dtype: int64"
      ]
     },
     "execution_count": 24,
     "metadata": {},
     "output_type": "execute_result"
    }
   ],
   "source": [
    "# feature: SEX\n",
    "df.SEX.value_counts()"
   ]
  },
  {
   "cell_type": "code",
   "execution_count": 25,
   "metadata": {
    "collapsed": false
   },
   "outputs": [
    {
     "data": {
      "text/plain": [
       "Living Characters      12608\n",
       "Deceased Characters     3765\n",
       "dtype: int64"
      ]
     },
     "execution_count": 25,
     "metadata": {},
     "output_type": "execute_result"
    }
   ],
   "source": [
    "# feature: ALIVE\n",
    "df.ALIVE.value_counts()"
   ]
  },
  {
   "cell_type": "markdown",
   "metadata": {},
   "source": [
    "Let's make some comparisons and unfounded correlations, just for fun!"
   ]
  },
  {
   "cell_type": "code",
   "execution_count": 27,
   "metadata": {
    "collapsed": false
   },
   "outputs": [
    {
     "data": {
      "text/plain": [
       "SEX                                        \n",
       "Agender Characters      Living Characters        39\n",
       "                        Deceased Characters       6\n",
       "Female Characters       Living Characters      3074\n",
       "                        Deceased Characters     763\n",
       "Genderfluid Characters  Living Characters         2\n",
       "Male Characters         Living Characters      8769\n",
       "                        Deceased Characters    2869\n",
       "dtype: int64"
      ]
     },
     "execution_count": 27,
     "metadata": {},
     "output_type": "execute_result"
    }
   ],
   "source": [
    "# At a glance, how likely is a character to be dead based on his/her/its sex?\n",
    "df.groupby('SEX').ALIVE.value_counts()"
   ]
  },
  {
   "cell_type": "code",
   "execution_count": 32,
   "metadata": {
    "collapsed": false
   },
   "outputs": [
    {
     "name": "stdout",
     "output_type": "stream",
     "text": [
      "0.753479979378\n"
     ]
    }
   ],
   "source": [
    "count_male_living = len(df[(df.SEX == 'Male Characters') & (df.ALIVE == 'Living Characters')])\n",
    "count_male_total = len(df[df.SEX == 'Male Characters'])\n",
    "\n",
    "print float(count_male_living) / count_male_total"
   ]
  },
  {
   "cell_type": "markdown",
   "metadata": {},
   "source": [
    "You have a three in four chance of staying alive if you're male. Nice! What about if you're female?"
   ]
  },
  {
   "cell_type": "code",
   "execution_count": 33,
   "metadata": {
    "collapsed": false
   },
   "outputs": [
    {
     "name": "stdout",
     "output_type": "stream",
     "text": [
      "0.801146729216\n"
     ]
    }
   ],
   "source": [
    "count_female_living = len(df[(df.SEX == 'Female Characters') & (df.ALIVE == 'Living Characters')])\n",
    "count_female_total = len(df[df.SEX == 'Female Characters'])\n",
    "\n",
    "print float(count_female_living) / count_female_total"
   ]
  },
  {
   "cell_type": "markdown",
   "metadata": {},
   "source": [
    "You've got an even better chance if you're female! What about if you're agendered?"
   ]
  },
  {
   "cell_type": "code",
   "execution_count": 34,
   "metadata": {
    "collapsed": false
   },
   "outputs": [
    {
     "name": "stdout",
     "output_type": "stream",
     "text": [
      "0.866666666667\n"
     ]
    }
   ],
   "source": [
    "count_agender_living = len(df[(df.SEX == 'Agender Characters') & (df.ALIVE == 'Living Characters')])\n",
    "count_agender_total = len(df[df.SEX == 'Agender Characters'])\n",
    "\n",
    "print float(count_agender_living) / count_agender_total"
   ]
  },
  {
   "cell_type": "markdown",
   "metadata": {},
   "source": [
    "Sorry boys and girls - looks like your luck is even better if you're neither male nor female."
   ]
  },
  {
   "cell_type": "markdown",
   "metadata": {},
   "source": [
    "Who should you have sided with during the Civil War - Captain America or Iron Man? Pro- or anti-registration? Let's take a look at survival rates based on identity status."
   ]
  },
  {
   "cell_type": "code",
   "execution_count": 36,
   "metadata": {
    "collapsed": false
   },
   "outputs": [
    {
     "data": {
      "text/plain": [
       "ID                                                \n",
       "Known to Authorities Identity  Living Characters        14\n",
       "                               Deceased Characters       1\n",
       "No Dual Identity               Living Characters      1345\n",
       "                               Deceased Characters     443\n",
       "Public Identity                Living Characters      3484\n",
       "                               Deceased Characters    1044\n",
       "Secret Identity                Living Characters      4647\n",
       "                               Deceased Characters    1628\n",
       "dtype: int64"
      ]
     },
     "execution_count": 36,
     "metadata": {},
     "output_type": "execute_result"
    }
   ],
   "source": [
    "# At a glance, how likely is a character to be dead based on \n",
    "#   his/her/its identity status?\n",
    "df.groupby('ID').ALIVE.value_counts()"
   ]
  },
  {
   "cell_type": "code",
   "execution_count": 38,
   "metadata": {
    "collapsed": false
   },
   "outputs": [
    {
     "name": "stdout",
     "output_type": "stream",
     "text": [
      "0.740557768924\n"
     ]
    }
   ],
   "source": [
    "count_secret_living = len(df[(df.ID == 'Secret Identity') & (df.ALIVE == 'Living Characters')])\n",
    "count_secret_total = len(df[df.ID == 'Secret Identity'])\n",
    "\n",
    "print float(count_secret_living) / count_secret_total"
   ]
  },
  {
   "cell_type": "markdown",
   "metadata": {},
   "source": [
    "Male characters and those with secret identities seem to have similar rates of survival. What about those living (or dying) publicly?"
   ]
  },
  {
   "cell_type": "code",
   "execution_count": 39,
   "metadata": {
    "collapsed": false
   },
   "outputs": [
    {
     "name": "stdout",
     "output_type": "stream",
     "text": [
      "0.769434628975\n"
     ]
    }
   ],
   "source": [
    "count_public_living = len(df[(df.ID == 'Public Identity') & (df.ALIVE == 'Living Characters')])\n",
    "count_public_total = len(df[df.ID == 'Public Identity'])\n",
    "\n",
    "print float(count_public_living) / count_public_total"
   ]
  },
  {
   "cell_type": "markdown",
   "metadata": {},
   "source": [
    "Sorry Cap - looks like Stark edges this one out. You know his dad built your shield right? \n",
    "\n",
    "Okay Jarvis: What about for heroes like Thor, who don't have split identities?"
   ]
  },
  {
   "cell_type": "code",
   "execution_count": 40,
   "metadata": {
    "collapsed": false
   },
   "outputs": [
    {
     "name": "stdout",
     "output_type": "stream",
     "text": [
      "0.752237136465\n"
     ]
    }
   ],
   "source": [
    "count_nodual_living = len(df[(df.ID == 'No Dual Identity') & (df.ALIVE == 'Living Characters')])\n",
    "count_nodual_total = len(df[df.ID == 'No Dual Identity'])\n",
    "\n",
    "print float(count_nodual_living) / count_nodual_total"
   ]
  },
  {
   "cell_type": "markdown",
   "metadata": {},
   "source": [
    "Great beard of Odin - Stark takes another! At least he can't lift your hammer?"
   ]
  },
  {
   "cell_type": "markdown",
   "metadata": {},
   "source": [
    "### The Good, The Bad, and The Neutral: Prediction by Physical Traits"
   ]
  },
  {
   "cell_type": "markdown",
   "metadata": {},
   "source": [
    "In this section, we'll use the <i>K-Nearest Neighbor</i> and <i>Naïve Bayesian</i> classification methods to see if we can use physical features to predict whether a character will be <b>Good</b>, <b>Bad</b>, or <b>Neutral</b>.\n",
    "\n",
    "Yes, we're <i>kind of</i> racially profiling Marvel characters. But it's for educational purposes, so maybe it's not so bad?"
   ]
  },
  {
   "cell_type": "code",
   "execution_count": null,
   "metadata": {
    "collapsed": true
   },
   "outputs": [],
   "source": []
  }
 ],
 "metadata": {
  "kernelspec": {
   "display_name": "Python 2",
   "language": "python",
   "name": "python2"
  },
  "language_info": {
   "codemirror_mode": {
    "name": "ipython",
    "version": 2
   },
   "file_extension": ".py",
   "mimetype": "text/x-python",
   "name": "python",
   "nbconvert_exporter": "python",
   "pygments_lexer": "ipython2",
   "version": "2.7.9"
  }
 },
 "nbformat": 4,
 "nbformat_minor": 0
}
