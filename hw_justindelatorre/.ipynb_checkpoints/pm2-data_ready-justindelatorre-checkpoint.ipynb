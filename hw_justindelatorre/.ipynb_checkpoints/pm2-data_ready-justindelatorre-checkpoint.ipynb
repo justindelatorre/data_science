{
 "cells": [
  {
   "cell_type": "markdown",
   "metadata": {},
   "source": [
    "#Cleaning Inaugural Address Data\n",
    "\n",
    "**Raw Text Source**: [Project Gutenberg](http://www.gutenberg.org/cache/epub/925/pg925.txt)\n",
    "\n",
    "For more qualitative (and some quantitative) facts about inaugural addresses, check [this](http://blogs.britannica.com/2009/01/inaugural-adresses-the-longest-shortest-dumbest-and-most-memorable/) out."
   ]
  },
  {
   "cell_type": "markdown",
   "metadata": {},
   "source": [
    "First, let's import all the packages we'll need to clean the data:\n",
    "<ul>\n",
    "<li><code>re</code> for regular expression functions</li>\n",
    "<li><code>pprint</code> to make printing more readable</li>\n",
    "<li><code>string</code> to clean string values</li>\n",
    "<li><code>pandas</code> because <i>duh</i></li>\n",
    "<li><code>numpy</code> because math</li>\n",
    "<li><code>matplotlib.pyplot</code> for charts</li>\n",
    "<li><code>CountVectorizer</code> for parsing tokens and removing stop words</li>\n",
    "</ul>"
   ]
  },
  {
   "cell_type": "code",
   "execution_count": 1,
   "metadata": {
    "collapsed": true
   },
   "outputs": [],
   "source": [
    "%matplotlib inline\n",
    "import re\n",
    "import pprint as pp\n",
    "import string\n",
    "import pandas as pd\n",
    "import numpy as np\n",
    "import matplotlib.pyplot as plt\n",
    "from sklearn.feature_extraction.text import CountVectorizer"
   ]
  },
  {
   "cell_type": "markdown",
   "metadata": {},
   "source": [
    "Next, we'll open the text file and read it into a Python string object that can be parsed."
   ]
  },
  {
   "cell_type": "code",
   "execution_count": 2,
   "metadata": {
    "collapsed": false
   },
   "outputs": [],
   "source": [
    "file = open('inaugural.txt', 'r')\n",
    "file_text = file.read()"
   ]
  },
  {
   "cell_type": "markdown",
   "metadata": {},
   "source": [
    "Now we'll extract raw versions of speech titles by using <code>re</code> modules."
   ]
  },
  {
   "cell_type": "code",
   "execution_count": 3,
   "metadata": {
    "collapsed": false
   },
   "outputs": [
    {
     "name": "stdout",
     "output_type": "stream",
     "text": [
      "55\n"
     ]
    }
   ],
   "source": [
    "raw_speech_id_list = re.findall(r'\\*\\s\\*\\s\\*\\s\\*\\s\\*([\\w\\s\\,\\.]+)ADDRESS',\n",
    "                                file_text)\n",
    "\n",
    "print len(raw_speech_id_list)"
   ]
  },
  {
   "cell_type": "markdown",
   "metadata": {},
   "source": [
    "We'll use a <code>string</code> method (<code>strip</code>) to remove extraneous characters from the title list first. Later, we'll create a <code>dict</code> object that will have each title as a key and each full speech text as a value."
   ]
  },
  {
   "cell_type": "code",
   "execution_count": 4,
   "metadata": {
    "collapsed": false
   },
   "outputs": [
    {
     "name": "stdout",
     "output_type": "stream",
     "text": [
      "['GEORGE WASHINGTON, FIRST INAUGURAL',\n",
      " 'GEORGE WASHINGTON, SECOND INAUGURAL',\n",
      " 'JOHN ADAMS INAUGURAL',\n",
      " 'THOMAS JEFFERSON FIRST INAUGURAL',\n",
      " 'THOMAS JEFFERSON SECOND INAUGURAL',\n",
      " 'JAMES MADISON FIRST INAUGURAL',\n",
      " 'JAMES MADISON, SECOND INAUGURAL',\n",
      " 'JAMES MONROE FIRST INAUGURAL',\n",
      " 'JAMES MONROE, SECOND INAUGURAL',\n",
      " 'JOHN QUINCY ADAMS, INAUGURAL',\n",
      " 'ANDREW JACKSON, FIRST INAUGURAL',\n",
      " 'ANDREW JACKSON, SECOND INAUGURAL',\n",
      " 'MARTIN VAN BUREN, INAUGURAL',\n",
      " 'WILLIAM HENRY HARRISON, INAUGURAL',\n",
      " 'JAMES KNOX POLK, INAUGURAL',\n",
      " 'ZACHARY TAYLOR, INAUGURAL',\n",
      " 'FRANKLIN PIERCE, INAUGURAL',\n",
      " 'JAMES BUCHANAN, INAUGURAL',\n",
      " 'ABRAHAM LINCOLN, FIRST INAUGURAL',\n",
      " 'ABRAHAM LINCOLN, SECOND INAUGURAL',\n",
      " 'ULYSSES S. GRANT, FIRST INAUGURAL',\n",
      " 'ULYSSES S. GRANT, SECOND INAUGURAL',\n",
      " 'RUTHERFORD B. HAYES, INAUGURAL',\n",
      " 'JAMES A. GARFIELD INAUGURAL',\n",
      " 'GROVER CLEVELAND, FIRST INAUGURAL',\n",
      " 'BENJAMIN HARRISON, INAUGURAL',\n",
      " 'GROVER CLEVELAND, SECOND INAUGURAL',\n",
      " 'WILLIAM MCKINLEY FIRST INAUGURAL',\n",
      " 'WILLIAM MCKINLEY, SECOND INAUGURAL',\n",
      " 'THEODORE ROOSEVELT, INAUGURAL',\n",
      " 'WILLIAM HOWARD TAFT, INAUGURAL',\n",
      " 'WOODROW WILSON, FIRST INAUGURAL',\n",
      " 'WOODROW WILSON, SECOND INAUGURAL',\n",
      " 'WARREN G. HARDING, INAUGURAL',\n",
      " 'CALVIN COOLIDGE, INAUGURAL',\n",
      " 'HERBERT HOOVER, INAUGURAL',\n",
      " 'FRANKLIN D. ROOSEVELT, FIRST INAUGURAL',\n",
      " 'FRANKLIN D. ROOSEVELT, SECOND INAUGURAL',\n",
      " 'FRANKLIN D. ROOSEVELT, THIRD INAUGURAL',\n",
      " 'FRANKLIN D. ROOSEVELT, FOURTH INAUGURAL',\n",
      " 'HARRY S. TRUMAN, INAUGURAL',\n",
      " 'DWIGHT D. EISENHOWER, FIRST INAUGURAL',\n",
      " 'DWIGHT D. EISENHOWER, SECOND INAUGURAL',\n",
      " 'JOHN F. KENNEDY, INAUGURAL',\n",
      " 'LYNDON BAINES JOHNSON, INAUGURAL',\n",
      " 'RICHARD MILHOUS NIXON, FIRST INAUGURAL',\n",
      " 'RICHARD MILHOUS NIXON, SECOND INAUGURAL',\n",
      " 'JIMMY CARTER, INAUGURAL',\n",
      " 'RONALD REAGAN, FIRST INAUGURAL',\n",
      " 'RONALD REAGAN, SECOND INAUGURAL',\n",
      " 'GEORGE BUSH, INAUGURAL',\n",
      " 'WILLIAM JEFFERSON CLINTON, FIRST INAUGURAL',\n",
      " 'WILLIAM JEFFERSON CLINTON, SECOND INAUGURAL',\n",
      " 'GEORGE W. BUSH, FIRST INAUGURAL',\n",
      " 'GEORGE W. BUSH, SECOND INAUGURAL']\n"
     ]
    }
   ],
   "source": [
    "stripped_id_list = [string.strip(title, \"\\r\\n \") for title in raw_speech_id_list]\n",
    "\n",
    "pp.pprint(stripped_id_list)"
   ]
  },
  {
   "cell_type": "markdown",
   "metadata": {},
   "source": [
    "Let's move on to cleaning the speech text since we've cleaned the titles.\n",
    "\n",
    "All the speeches in the text file are separated by \"* * * * *\" delimiters, so we'll use <code>re.split</code> again to extract all the text between the delimiters."
   ]
  },
  {
   "cell_type": "code",
   "execution_count": 5,
   "metadata": {
    "collapsed": false
   },
   "outputs": [],
   "source": [
    "raw_speech = re.split(r'\\*\\s\\*\\s\\*\\s\\*\\s\\*', file_text)"
   ]
  },
  {
   "cell_type": "markdown",
   "metadata": {
    "collapsed": true
   },
   "source": [
    "Next, we'll use <code>re.sub</code> to replace the \"Transcriber's Notes\" because we only want the speech text for each inaugural address. We'll also ignore the first and last elements in the <code>raw_speech</code> list because it isn't actually speech text."
   ]
  },
  {
   "cell_type": "code",
   "execution_count": 6,
   "metadata": {
    "collapsed": false
   },
   "outputs": [
    {
     "name": "stdout",
     "output_type": "stream",
     "text": [
      "55\n"
     ]
    }
   ],
   "source": [
    "speeches = [re.sub(r'^([\\w\\W\\s]+)\\]', \"\", speech) for speech in raw_speech[1:len(raw_speech)-1]]\n",
    "print len(speeches)"
   ]
  },
  {
   "cell_type": "markdown",
   "metadata": {},
   "source": [
    "Finally, we'll use a combination of <code>re.sub</code> and <code>string.strip</code> to clean up all the extra spaces and newline characters in each speech."
   ]
  },
  {
   "cell_type": "code",
   "execution_count": 8,
   "metadata": {
    "collapsed": false
   },
   "outputs": [
    {
     "name": "stdout",
     "output_type": "stream",
     "text": [
      "'GEORGE W. BUSH, SECOND INAUGURAL ADDRESS  THURSDAY, JANUARY 20, 2005    Vice President Cheney, Mr. Chief Justice, President Carter, President Bush, President Clinton, reverend clergy, distinguished guests, fellow citizens:  On this day, prescribed by law and marked by ceremony, we celebrate the durable wisdom of our Constitution, and recall the deep commitments that unite our country. I am grateful for the honor of this hour, mindful of the consequential times in which we live, and determined to fulfill the oath that I have sworn and you have witnessed.  At this second gathering, our duties are defined not by the words I use, but by the history we have seen together. For a half century, America defended our own freedom by standing watch on distant borders. After the shipwreck of communism came years of relative quiet, years of repose, years of sabbatical--and then there came a day of fire.  We have seen our vulnerability--and we have seen its deepest source. For as long as whole regions of the world simmer in resentment and tyranny--prone to ideologies that feed hatred and excuse murder--violence will gather, and multiply in destructive power, and cross the most defended borders, and raise a mortal threat. There is only one force of history that can break the reign of hatred and resentment, and expose the pretensions of tyrants, and reward the hopes of the decent and tolerant, and that is the force of human freedom.  We are led, by events and common sense, to one conclusion:  The survival of liberty in our land increasingly depends on the success of liberty in other lands. The best hope for peace in our world is the expansion of freedom in all the world.  America\\'s vital interests and our deepest beliefs are now one. From the day of our Founding, we have proclaimed that every man and woman on this earth has rights, and dignity, and matchless value, because they bear the image of the Maker of Heaven and earth. Across the generations we have proclaimed the imperative of self-government, because no one is fit to be a master, and no one deserves to be a slave. Advancing these ideals is the mission that created our Nation. It is the honorable achievement of our fathers. Now it is the urgent requirement of our nation\\'s security, and the calling of our time.  So it is the policy of the United States to seek and support the growth of democratic movements and institutions in every nation and culture, with the ultimate goal of ending tyranny in our world.  This is not primarily the task of arms, though we will defend ourselves and our friends by force of arms when necessary. Freedom, by its nature, must be chosen, and defended by citizens, and sustained by the rule of law and the protection of minorities. And when the soul of a nation finally speaks, the institutions that arise may reflect customs and traditions very different from our own. America will not impose our own style of government on the unwilling. Our goal instead is to help others find their own voice, attain their own freedom, and make their own way.  The great objective of ending tyranny is the concentrated work of generations. The difficulty of the task is no excuse for avoiding it. America\\'s influence is not unlimited, but fortunately for the oppressed, America\\'s influence is considerable, and we will use it confidently in freedom\\'s cause.  My most solemn duty is to protect this nation and its people against further attacks and emerging threats. Some have unwisely chosen to test America\\'s resolve, and have found it firm.  We will persistently clarify the choice before every ruler and every nation:  The moral choice between oppression, which is always wrong, and freedom, which is eternally right. America will not pretend that jailed dissidents prefer their chains, or that women welcome humiliation and servitude, or that any human being aspires to live at the mercy of bullies.  We will encourage reform in other governments by making clear that success in our relations will require the decent treatment of their own people. America\\'s belief in human dignity will guide our policies, yet rights must be more than the grudging concessions of dictators; they are secured by free dissent and the participation of the governed. In the long run, there is no justice without freedom, and there can be no human rights without human liberty.  Some, I know, have questioned the global appeal of liberty--though this time in history, four decades defined by the swiftest advance of freedom ever seen, is an odd time for doubt. Americans, of all people, should never be surprised by the power of our ideals. Eventually, the call of freedom comes to every mind and every soul. We do not accept the existence of permanent tyranny because we do not accept the possibility of permanent slavery. Liberty will come to those who love it.  Today, America speaks anew to the peoples of the world:  All who live in tyranny and hopelessness can know: the United States will not ignore your oppression, or excuse your oppressors. When you stand for your liberty, we will stand with you.  Democratic reformers facing repression, prison, or exile can know: America sees you for who you are: the future leaders of your free country.  The rulers of outlaw regimes can know that we still believe as Abraham Lincoln did:  \"Those who deny freedom to others deserve it not for themselves; and, under the rule of a just God, cannot long retain it.\"  The leaders of governments with long habits of control need to know:  To serve your people you must learn to trust them. Start on this journey of progress and justice, and America will walk at your side.  And all the allies of the United States can know: we honor your friendship, we rely on your counsel, and we depend on your help. Division among free nations is a primary goal of freedom\\'s enemies. The concerted effort of free nations to promote democracy is a prelude to our enemies\\' defeat.  Today, I also speak anew to my fellow citizens:  From all of you, I have asked patience in the hard task of securing America, which you have granted in good measure. Our country has accepted obligations that are difficult to fulfill, and would be dishonorable to abandon. Yet because we have acted in the great liberating tradition of this nation, tens of millions have achieved their freedom. And as hope kindles hope, millions more will find it. By our efforts, we have lit a fire as well--a fire in the minds of men. It warms those who feel its power, it burns those who fight its progress, and one day this untamed fire of freedom will reach the darkest corners of our world.  A few Americans have accepted the hardest duties in this cause--in the quiet work of intelligence and diplomacy...the idealistic work of helping raise up free governments...the dangerous and necessary work of fighting our enemies. Some have shown their devotion to our country in deaths that honored their whole lives--and we will always honor their names and their sacrifice.  All Americans have witnessed this idealism, and some for the first time. I ask our youngest citizens to believe the evidence of your eyes. You have seen duty and allegiance in the determined faces of our soldiers. You have seen that life is fragile, and evil is real, and courage triumphs. Make the choice to serve in a cause larger than your wants, larger than yourself--and in your days you will add not just to the wealth of our country, but to its character.  America has need of idealism and courage, because we have essential work at home--the unfinished work of American freedom. In a world moving toward liberty, we are determined to show the meaning and promise of liberty.  In America\\'s ideal of freedom, citizens find the dignity and security of economic independence, instead of laboring on the edge of subsistence. This is the broader definition of liberty that motivated the Homestead Act, the Social Security Act, and the G.I. Bill of Rights. And now we will extend this vision by reforming great institutions to serve the needs of our time. To give every American a stake in the promise and future of our country, we will bring the highest standards to our schools, and build an ownership society. We will widen the ownership of homes and businesses, retirement savings and health insurance--preparing our people for the challenges of life in a free society. By making every citizen an agent of his or her own destiny, we will give our fellow Americans greater freedom from want and fear, and make our society more prosperous and just and equal.  In America\\'s ideal of freedom, the public interest depends on private character--on integrity, and tolerance toward others, and the rule of conscience in our own lives. Self-government relies, in the end, on the governing of the self. That edifice of character is built in families, supported by communities with standards, and sustained in our national life by the truths of Sinai, the Sermon on the Mount, the words of the Koran, and the varied faiths of our people. Americans move forward in every generation by reaffirming all that is good and true that came before--ideals of justice and conduct that are the same yesterday, today, and forever.  In America\\'s ideal of freedom, the exercise of rights is ennobled by service, and mercy, and a heart for the weak. Liberty for all does not mean independence from one another. Our nation relies on men and women who look after a neighbor and surround the lost with love. Americans, at our best, value the life we see in one another, and must always remember that even the unwanted have worth. And our country must abandon all the habits of racism, because we cannot carry the message of freedom and the baggage of bigotry at the same time.  From the perspective of a single day, including this day of dedication, the issues and questions before our country are many. From the viewpoint of centuries, the questions that come to us are narrowed and few. Did our generation advance the cause of freedom?  And did our character bring credit to that cause?  These questions that judge us also unite us, because Americans of every party and background, Americans by choice and by birth, are bound to one another in the cause of freedom. We have known divisions, which must be healed to move forward in great purposes--and I will strive in good faith to heal them. Yet those divisions do not define America. We felt the unity and fellowship of our nation when freedom came under attack, and our response came like a single hand over a single heart. And we can feel that same unity and pride whenever America acts for good, and the victims of disaster are given hope, and the unjust encounter justice, and the captives are set free.  We go forward with complete confidence in the eventual triumph of freedom. Not because history runs on the wheels of inevitability; it is human choices that move events. Not because we consider ourselves a chosen nation; God moves and chooses as He wills. We have confidence because freedom is the permanent hope of mankind, the hunger in dark places, the longing of the soul. When our Founders declared a new order of the ages; when soldiers died in wave upon wave for a union based on liberty; when citizens marched in peaceful outrage under the banner \"Freedom Now\"--they were acting on an ancient hope that is meant to be fulfilled. History has an ebb and flow of justice, but history also has a visible direction, set by liberty and the Author of Liberty.  When the Declaration of Independence was first read in public and the Liberty Bell was sounded in celebration, a witness said, \"It rang as if it meant something.\"  In our time it means something still. America, in this young century, proclaims liberty throughout all the world, and to all the inhabitants thereof. Renewed in our strength--tested, but not weary--we are ready for the greatest achievements in the history of freedom.  May God bless you, and may He watch over the United States of America.'\n"
     ]
    }
   ],
   "source": [
    "clean_speeches = []\n",
    "[clean_speeches.append(re.sub(r'\\r\\n',\n",
    "                              \" \",\n",
    "                              string.strip(speech,\n",
    "                                           \"\\r\\n\"))) for speech in speeches]\n",
    "\n",
    "pp.pprint(clean_speeches[-1])"
   ]
  },
  {
   "cell_type": "markdown",
   "metadata": {},
   "source": [
    "Now that the data are all clean, we can create the <code>dict</code> that we mentioned earlier. But first, we'll create <code>list</code> of zipped <code>tuple</code>s, in case we need to access the data by index, since the key values in the <code>dict</code> will be a little unwieldy to invoke."
   ]
  },
  {
   "cell_type": "code",
   "execution_count": 9,
   "metadata": {
    "collapsed": false
   },
   "outputs": [],
   "source": [
    "# Zip the titles and speeches together\n",
    "speeches_zip = zip(stripped_id_list, clean_speeches)\n",
    "\n",
    "# Create a dictionary from the zipped data\n",
    "speeches_dict = dict(speeches_zip)"
   ]
  },
  {
   "cell_type": "code",
   "execution_count": 10,
   "metadata": {
    "collapsed": false
   },
   "outputs": [
    {
     "name": "stdout",
     "output_type": "stream",
     "text": [
      "[('GEORGE WASHINGTON, FIRST INAUGURAL',\n",
      "  'Fellow-Citizens of the Senate and of the House of Representatives:  Among the vicissitudes incident to life no event could have filled me with greater anxieties than that of which the notification was transmitted by your order, and received on the 14th day of the present month. On the one hand, I was summoned by my Country, whose voice I can never hear but with veneration and love, from a retreat which I had chosen with the fondest predilection, and, in my flattering hopes, with an immutable decision, as the asylum of my declining years--a retreat which was rendered every day more necessary as well as more dear to me by the addition of habit to inclination, and of frequent interruptions in my health to the gradual waste committed on it by time. On the other hand, the magnitude and difficulty of the trust to which the voice of my country called me, being sufficient to awaken in the wisest and most experienced of her citizens a distrustful scrutiny into his qualifications, could not but overwhelm with despondence one who (inheriting inferior endowments from nature and unpracticed in the duties of civil administration) ought to be peculiarly conscious of his own deficiencies. In this conflict of emotions all I dare aver is that it has been my faithful study to collect my duty from a just appreciation of every circumstance by which it might be affected. All I dare hope is that if, in executing this task, I have been too much swayed by a grateful remembrance of former instances, or by an affectionate sensibility to this transcendent proof of the confidence of my fellow-citizens, and have thence too little consulted my incapacity as well as disinclination for the weighty and untried cares before me, my error will be palliated by the motives which mislead me, and its consequences be judged by my country with some share of the partiality in which they originated.  Such being the impressions under which I have, in obedience to the public summons, repaired to the present station, it would be peculiarly improper to omit in this first official act my fervent supplications to that Almighty Being who rules over the universe, who presides in the councils of nations, and whose providential aids can supply every human defect, that His benediction may consecrate to the liberties and happiness of the people of the United States a Government instituted by themselves for these essential purposes, and may enable every instrument employed in its administration to execute with success the functions allotted to his charge. In tendering this homage to the Great Author of every public and private good, I assure myself that it expresses your sentiments not less than my own, nor those of my fellow-citizens at large less than either. No people can be bound to acknowledge and adore the Invisible Hand which conducts the affairs of men more than those of the United States. Every step by which they have advanced to the character of an independent nation seems to have been distinguished by some token of providential agency; and in the important revolution just accomplished in the system of their united government the tranquil deliberations and voluntary consent of so many distinct communities from which the event has resulted can not be compared with the means by which most governments have been established without some return of pious gratitude, along with an humble anticipation of the future blessings which the past seem to presage. These reflections, arising out of the present crisis, have forced themselves too strongly on my mind to be suppressed. You will join with me, I trust, in thinking that there are none under the influence of which the proceedings of a new and free government can more auspiciously commence.  By the article establishing the executive department it is made the duty of the President \"to recommend to your consideration such measures as he shall judge necessary and expedient.\" The circumstances under which I now meet you will acquit me from entering into that subject further than to refer to the great constitutional charter under which you are assembled, and which, in defining your powers, designates the objects to which your attention is to be given. It will be more consistent with those circumstances, and far more congenial with the feelings which actuate me, to substitute, in place of a recommendation of particular measures, the tribute that is due to the talents, the rectitude, and the patriotism which adorn the characters selected to devise and adopt them. In these honorable qualifications I behold the surest pledges that as on one side no local prejudices or attachments, no separate views nor party animosities, will misdirect the comprehensive and equal eye which ought to watch over this great assemblage of communities and interests, so, on another, that the foundation of our national policy will be laid in the pure and immutable principles of private morality, and the preeminence of free government be exemplified by all the attributes which can win the affections of its citizens and command the respect of the world. I dwell on this prospect with every satisfaction which an ardent love for my country can inspire, since there is no truth more thoroughly established than that there exists in the economy and course of nature an indissoluble union between virtue and happiness; between duty and advantage; between the genuine maxims of an honest and magnanimous policy and the solid rewards of public prosperity and felicity; since we ought to be no less persuaded that the propitious smiles of Heaven can never be expected on a nation that disregards the eternal rules of order and right which Heaven itself has ordained; and since the preservation of the sacred fire of liberty and the destiny of the republican model of government are justly considered, perhaps, as deeply, as finally, staked on the experiment entrusted to the hands of the American people.  Besides the ordinary objects submitted to your care, it will remain with your judgment to decide how far an exercise of the occasional power delegated by the fifth article of the Constitution is rendered expedient at the present juncture by the nature of objections which have been urged against the system, or by the degree of inquietude which has given birth to them. Instead of undertaking particular recommendations on this subject, in which I could be guided by no lights derived from official opportunities, I shall again give way to my entire confidence in your discernment and pursuit of the public good; for I assure myself that whilst you carefully avoid every alteration which might endanger the benefits of an united and effective government, or which ought to await the future lessons of experience, a reverence for the characteristic rights of freemen and a regard  for the public harmony will sufficiently influence your deliberations on the question how far the former can be impregnably fortified or the latter be safely and advantageously promoted.  To the foregoing observations I have one to add, which will be most properly addressed to the House of Representatives. It concerns myself, and will therefore be as brief as possible. When I was first honored with a call into the service of my country, then on the eve of an arduous struggle for its liberties, the light in which I contemplated my duty required that I should renounce every pecuniary compensation. From this resolution I have in no instance departed; and being still under the impressions which produced it, I must decline as inapplicable to myself any share in the personal emoluments which may be indispensably included in a permanent provision for the executive department, and must accordingly pray that the pecuniary estimates for the station in which I am placed may during my continuance in it be limited to such actual expenditures as the public good may be thought to require.  Having thus imparted to you my sentiments as they have been awakened by the occasion which brings us together, I shall take my present leave; but not without resorting once more to the benign Parent of the Human Race in humble supplication that, since He has been pleased to favor the American people with opportunities for deliberating in perfect tranquillity, and dispositions for deciding with unparalleled unanimity on a form of government for the security of their union and the advancement of their happiness, so His divine blessing may be equally conspicuous in the enlarged views, the temperate consultations, and the wise measures on which the success of this Government must depend.'),\n",
      " ('GEORGE WASHINGTON, SECOND INAUGURAL',\n",
      "  'Fellow Citizens:  I am again called upon by the voice of my country to execute the functions of its Chief Magistrate. When the occasion proper for it shall arrive, I shall endeavor to express the high sense I entertain of this distinguished honor, and of the confidence which has been reposed in me by the people of united America.  Previous to the execution of any official act of the President the Constitution requires an oath of office. This oath I am now about to take, and in your presence: That if it shall be found during my administration of the Government I have in any instance violated willingly or knowingly the injunctions thereof, I may (besides incurring constitutional punishment) be subject to the upbraidings of all who are now witnesses of the present solemn ceremony.')]\n"
     ]
    }
   ],
   "source": [
    "pp.pprint(speeches_zip[:2])"
   ]
  },
  {
   "cell_type": "markdown",
   "metadata": {},
   "source": [
    "Now that the data are mostly clean, we can now begin parsing the actual speech words using <code>CountVectorizer</code>.\n",
    "\n",
    "We'll since the <code>get_feature_names</code> method for <code>CountVectorizer</code> instances returns Unicode strings, we'll use the <code>encode</code> function to convert the resulting tokens to ASCII strings."
   ]
  },
  {
   "cell_type": "code",
   "execution_count": 11,
   "metadata": {
    "collapsed": false
   },
   "outputs": [
    {
     "name": "stdout",
     "output_type": "stream",
     "text": [
      "['000',\n",
      " '100',\n",
      " '120',\n",
      " '125',\n",
      " '13',\n",
      " '14th',\n",
      " '15th',\n",
      " '16',\n",
      " '1774',\n",
      " '1776',\n",
      " '1778',\n",
      " '1780',\n",
      " '1787',\n",
      " '1789',\n",
      " '1790',\n",
      " '1800',\n",
      " '1801',\n",
      " '1812',\n",
      " '1815',\n",
      " '1816',\n",
      " '1817',\n",
      " '1818',\n",
      " '1826',\n",
      " '1850',\n",
      " '1861',\n",
      " '1868',\n",
      " '1873',\n",
      " '1880',\n",
      " '1886',\n",
      " '1890',\n",
      " '1893',\n",
      " '1896',\n",
      " '1897',\n",
      " '1898',\n",
      " '1899',\n",
      " '18th',\n",
      " '1907',\n",
      " '1917',\n",
      " '1933',\n",
      " '1941',\n",
      " '1945',\n",
      " '1963',\n",
      " '1972',\n",
      " '1980',\n",
      " '1984',\n",
      " '1997',\n",
      " '19th',\n",
      " '20',\n",
      " '200',\n",
      " '2001',\n",
      " '2005',\n",
      " '200th',\n",
      " '20th',\n",
      " '21st',\n",
      " '225',\n",
      " '25',\n",
      " '30',\n",
      " '30th',\n",
      " '3d',\n",
      " '41',\n",
      " '48',\n",
      " '4th',\n",
      " '50',\n",
      " '50th',\n",
      " '60',\n",
      " '67',\n",
      " '6th',\n",
      " 'abandon',\n",
      " 'abandoned',\n",
      " 'abandonment',\n",
      " 'abate',\n",
      " 'abdicated',\n",
      " 'abeyance',\n",
      " 'abhorring',\n",
      " 'abide',\n",
      " 'abiding',\n",
      " 'abilities',\n",
      " 'ability',\n",
      " 'abject',\n",
      " 'able',\n",
      " 'abnormal',\n",
      " 'abode',\n",
      " 'abodes',\n",
      " 'abolish',\n",
      " 'abolished',\n",
      " 'abolishing',\n",
      " 'aboriginal',\n",
      " 'aborigines',\n",
      " 'abound',\n",
      " 'abounding',\n",
      " 'abounds',\n",
      " 'abraham',\n",
      " 'abreast',\n",
      " 'abridging',\n",
      " 'abroad',\n",
      " 'absence',\n",
      " 'absent',\n",
      " 'absolute',\n",
      " 'absolutely',\n",
      " 'absorb']\n"
     ]
    }
   ],
   "source": [
    "vect = CountVectorizer(decode_error = 'ignore', stop_words='english')\n",
    "vect.fit(clean_speeches)\n",
    "raw_feature_names = [token.encode('ascii','ignore') for token in vect.get_feature_names()]\n",
    "\n",
    "pp.pprint(raw_feature_names[:100])"
   ]
  },
  {
   "cell_type": "code",
   "execution_count": null,
   "metadata": {
    "collapsed": true
   },
   "outputs": [],
   "source": []
  },
  {
   "cell_type": "markdown",
   "metadata": {},
   "source": [
    "We'll create a document-term matrix that will allow us to then create a <code>DataFrame</code> that counts the number of times each token appears in each speech:"
   ]
  },
  {
   "cell_type": "code",
   "execution_count": 12,
   "metadata": {
    "collapsed": false
   },
   "outputs": [],
   "source": [
    "dtm = vect.transform(clean_speeches)\n",
    "dtm.toarray()\n",
    "raw_df = pd.DataFrame(dtm.toarray(), columns=vect.get_feature_names())"
   ]
  },
  {
   "cell_type": "markdown",
   "metadata": {},
   "source": [
    "Let's clean up the <code>DataFrame</code> by ignoring all the \"number\" tokens so we're left with only full words. We'll also add the titles to the final <code>DataFrame</code> to make labelling easier."
   ]
  },
  {
   "cell_type": "code",
   "execution_count": 30,
   "metadata": {
    "collapsed": false,
    "scrolled": true
   },
   "outputs": [
    {
     "name": "stdout",
     "output_type": "stream",
     "text": [
      "                                       title_id  abandon  abandoned  \\\n",
      "0            GEORGE WASHINGTON, FIRST INAUGURAL        0          0   \n",
      "1           GEORGE WASHINGTON, SECOND INAUGURAL        0          0   \n",
      "2                          JOHN ADAMS INAUGURAL        0          1   \n",
      "3              THOMAS JEFFERSON FIRST INAUGURAL        1          0   \n",
      "4             THOMAS JEFFERSON SECOND INAUGURAL        0          0   \n",
      "5                 JAMES MADISON FIRST INAUGURAL        0          0   \n",
      "6               JAMES MADISON, SECOND INAUGURAL        0          0   \n",
      "7                  JAMES MONROE FIRST INAUGURAL        0          0   \n",
      "8                JAMES MONROE, SECOND INAUGURAL        2          0   \n",
      "9                  JOHN QUINCY ADAMS, INAUGURAL        0          0   \n",
      "10              ANDREW JACKSON, FIRST INAUGURAL        0          0   \n",
      "11             ANDREW JACKSON, SECOND INAUGURAL        0          1   \n",
      "12                  MARTIN VAN BUREN, INAUGURAL        0          0   \n",
      "13            WILLIAM HENRY HARRISON, INAUGURAL        0          0   \n",
      "14                   JAMES KNOX POLK, INAUGURAL        0          0   \n",
      "15                    ZACHARY TAYLOR, INAUGURAL        0          0   \n",
      "16                   FRANKLIN PIERCE, INAUGURAL        0          0   \n",
      "17                    JAMES BUCHANAN, INAUGURAL        0          0   \n",
      "18             ABRAHAM LINCOLN, FIRST INAUGURAL        0          0   \n",
      "19            ABRAHAM LINCOLN, SECOND INAUGURAL        0          0   \n",
      "20            ULYSSES S. GRANT, FIRST INAUGURAL        0          0   \n",
      "21           ULYSSES S. GRANT, SECOND INAUGURAL        0          0   \n",
      "22               RUTHERFORD B. HAYES, INAUGURAL        0          0   \n",
      "23                  JAMES A. GARFIELD INAUGURAL        0          0   \n",
      "24            GROVER CLEVELAND, FIRST INAUGURAL        1          0   \n",
      "25                 BENJAMIN HARRISON, INAUGURAL        0          0   \n",
      "26           GROVER CLEVELAND, SECOND INAUGURAL        0          0   \n",
      "27             WILLIAM MCKINLEY FIRST INAUGURAL        0          0   \n",
      "28           WILLIAM MCKINLEY, SECOND INAUGURAL        0          1   \n",
      "29                THEODORE ROOSEVELT, INAUGURAL        0          0   \n",
      "30               WILLIAM HOWARD TAFT, INAUGURAL        0          0   \n",
      "31              WOODROW WILSON, FIRST INAUGURAL        0          0   \n",
      "32             WOODROW WILSON, SECOND INAUGURAL        0          0   \n",
      "33                 WARREN G. HARDING, INAUGURAL        0          0   \n",
      "34                   CALVIN COOLIDGE, INAUGURAL        0          0   \n",
      "35                    HERBERT HOOVER, INAUGURAL        0          1   \n",
      "36       FRANKLIN D. ROOSEVELT, FIRST INAUGURAL        0          0   \n",
      "37      FRANKLIN D. ROOSEVELT, SECOND INAUGURAL        1          0   \n",
      "38       FRANKLIN D. ROOSEVELT, THIRD INAUGURAL        0          0   \n",
      "39      FRANKLIN D. ROOSEVELT, FOURTH INAUGURAL        0          0   \n",
      "40                   HARRY S. TRUMAN, INAUGURAL        1          0   \n",
      "41        DWIGHT D. EISENHOWER, FIRST INAUGURAL        0          0   \n",
      "42       DWIGHT D. EISENHOWER, SECOND INAUGURAL        0          0   \n",
      "43                   JOHN F. KENNEDY, INAUGURAL        0          0   \n",
      "44             LYNDON BAINES JOHNSON, INAUGURAL        1          0   \n",
      "45       RICHARD MILHOUS NIXON, FIRST INAUGURAL        0          0   \n",
      "46      RICHARD MILHOUS NIXON, SECOND INAUGURAL        0          0   \n",
      "47                      JIMMY CARTER, INAUGURAL        0          0   \n",
      "48               RONALD REAGAN, FIRST INAUGURAL        0          0   \n",
      "49              RONALD REAGAN, SECOND INAUGURAL        0          0   \n",
      "50                       GEORGE BUSH, INAUGURAL        0          0   \n",
      "51   WILLIAM JEFFERSON CLINTON, FIRST INAUGURAL        0          0   \n",
      "52  WILLIAM JEFFERSON CLINTON, SECOND INAUGURAL        0          0   \n",
      "53              GEORGE W. BUSH, FIRST INAUGURAL        0          0   \n",
      "54             GEORGE W. BUSH, SECOND INAUGURAL        2          0   \n",
      "\n",
      "    abandonment  abate  abdicated  abeyance  abhorring  abide  abiding  ...   \\\n",
      "0             0      0          0         0          0      0        0  ...    \n",
      "1             0      0          0         0          0      0        0  ...    \n",
      "2             0      0          0         0          0      0        0  ...    \n",
      "3             0      0          0         0          0      0        0  ...    \n",
      "4             0      0          0         0          0      0        0  ...    \n",
      "5             0      0          0         0          0      0        0  ...    \n",
      "6             0      0          0         0          0      0        0  ...    \n",
      "7             0      0          0         0          0      0        0  ...    \n",
      "8             0      0          0         0          0      0        0  ...    \n",
      "9             0      0          0         0          0      0        0  ...    \n",
      "10            0      0          0         0          0      0        0  ...    \n",
      "11            0      0          0         0          0      0        0  ...    \n",
      "12            0      0          0         0          0      0        1  ...    \n",
      "13            0      0          0         0          0      0        0  ...    \n",
      "14            0      0          0         0          0      0        0  ...    \n",
      "15            0      0          0         0          0      0        0  ...    \n",
      "16            0      0          0         0          0      0        0  ...    \n",
      "17            0      0          0         0          0      0        0  ...    \n",
      "18            0      0          0         0          0      2        0  ...    \n",
      "19            0      0          0         0          0      0        0  ...    \n",
      "20            0      0          0         1          0      0        1  ...    \n",
      "21            0      0          0         0          0      0        0  ...    \n",
      "22            0      0          0         0          0      0        0  ...    \n",
      "23            0      0          0         0          0      0        0  ...    \n",
      "24            1      0          0         0          0      0        0  ...    \n",
      "25            0      0          0         0          0      0        2  ...    \n",
      "26            0      0          0         0          0      0        0  ...    \n",
      "27            0      0          0         0          0      0        1  ...    \n",
      "28            0      1          0         0          0      0        1  ...    \n",
      "29            0      0          0         0          0      0        1  ...    \n",
      "30            0      0          0         0          0      0        0  ...    \n",
      "31            0      0          0         0          0      0        0  ...    \n",
      "32            0      0          0         0          0      0        0  ...    \n",
      "33            0      0          0         0          0      0        0  ...    \n",
      "34            0      0          0         0          0      0        0  ...    \n",
      "35            0      0          0         0          0      0        2  ...    \n",
      "36            1      0          1         0          0      0        0  ...    \n",
      "37            0      0          0         0          0      0        1  ...    \n",
      "38            0      0          0         0          0      0        0  ...    \n",
      "39            1      0          0         0          0      0        0  ...    \n",
      "40            0      0          0         0          0      0        0  ...    \n",
      "41            0      0          0         0          1      0        1  ...    \n",
      "42            0      0          0         0          0      0        0  ...    \n",
      "43            0      0          0         0          0      0        0  ...    \n",
      "44            0      0          0         0          0      0        1  ...    \n",
      "45            0      0          0         0          0      0        0  ...    \n",
      "46            0      0          0         0          0      0        0  ...    \n",
      "47            0      0          0         0          0      0        1  ...    \n",
      "48            0      0          0         0          0      0        0  ...    \n",
      "49            0      0          0         0          0      0        0  ...    \n",
      "50            0      0          0         0          0      0        0  ...    \n",
      "51            0      0          0         0          0      0        1  ...    \n",
      "52            0      0          0         0          0      0        0  ...    \n",
      "53            1      0          0         0          0      0        0  ...    \n",
      "54            0      0          0         0          0      0        0  ...    \n",
      "\n",
      "    yorktown  young  younger  youngest  youth  youthful  zeal  zealous  \\\n",
      "0          0      0        0         0      0         0     0        0   \n",
      "1          0      0        0         0      0         0     0        0   \n",
      "2          0      0        0         0      0         0     1        0   \n",
      "3          0      0        0         0      0         0     1        0   \n",
      "4          0      0        0         0      0         0     3        0   \n",
      "5          0      0        0         0      0         0     0        0   \n",
      "6          0      0        0         0      0         0     0        0   \n",
      "7          0      0        0         0      0         1     1        1   \n",
      "8          0      0        0         0      0         0     0        1   \n",
      "9          0      0        0         0      0         0     1        0   \n",
      "10         0      0        0         0      0         0     1        1   \n",
      "11         0      0        0         0      0         0     0        0   \n",
      "12         0      0        0         0      0         0     0        0   \n",
      "13         0      0        0         0      0         0     0        0   \n",
      "14         0      0        1         0      0         0     0        0   \n",
      "15         0      0        0         0      0         0     0        0   \n",
      "16         0      0        0         0      0         0     0        0   \n",
      "17         0      0        0         0      0         0     0        0   \n",
      "18         0      0        0         0      0         0     0        0   \n",
      "19         0      0        0         0      0         0     0        0   \n",
      "20         0      1        0         0      0         0     0        0   \n",
      "21         0      0        0         0      0         0     0        0   \n",
      "22         0      0        0         0      0         0     0        1   \n",
      "23         1      0        0         0      0         0     0        0   \n",
      "24         0      0        0         0      0         0     1        0   \n",
      "25         1      2        0         0      0         0     0        0   \n",
      "26         0      0        0         0      0         0     0        0   \n",
      "27         0      0        0         0      0         0     3        1   \n",
      "28         0      0        0         0      0         0     0        0   \n",
      "29         0      0        0         0      0         0     0        0   \n",
      "30         0      0        0         0      0         0     0        0   \n",
      "31         0      0        0         0      0         0     0        0   \n",
      "32         0      0        0         0      0         0     0        0   \n",
      "33         0      0        0         0      0         0     0        0   \n",
      "34         0      0        0         0      0         0     0        0   \n",
      "35         0      0        0         0      1         0     0        0   \n",
      "36         0      1        0         0      0         0     0        0   \n",
      "37         0      0        0         0      0         0     0        0   \n",
      "38         0      0        0         0      0         0     0        0   \n",
      "39         0      0        0         0      0         0     0        0   \n",
      "40         0      0        0         0      0         0     0        0   \n",
      "41         0      0        0         0      0         0     0        0   \n",
      "42         0      0        0         0      0         0     0        0   \n",
      "43         0      1        0         0      0         0     0        0   \n",
      "44         0      1        0         0      0         0     0        0   \n",
      "45         0      0        0         0      2         0     0        0   \n",
      "46         0      1        0         0      0         0     0        0   \n",
      "47         0      0        0         0      0         0     0        0   \n",
      "48         0      2        0         0      0         0     0        0   \n",
      "49         0      2        0         0      1         0     0        0   \n",
      "50         0      4        0         0      0         0     0        0   \n",
      "51         0      2        0         0      0         0     0        0   \n",
      "52         0      1        0         0      0         0     0        0   \n",
      "53         0      1        0         0      0         0     0        0   \n",
      "54         0      1        0         1      0         0     0        0   \n",
      "\n",
      "    zealously  zone  \n",
      "0           0     0  \n",
      "1           0     0  \n",
      "2           0     0  \n",
      "3           0     0  \n",
      "4           0     0  \n",
      "5           1     0  \n",
      "6           0     0  \n",
      "7           0     1  \n",
      "8           1     0  \n",
      "9           0     0  \n",
      "10          0     0  \n",
      "11          0     0  \n",
      "12          1     0  \n",
      "13          1     0  \n",
      "14          0     0  \n",
      "15          1     0  \n",
      "16          0     0  \n",
      "17          0     0  \n",
      "18          0     0  \n",
      "19          0     0  \n",
      "20          0     0  \n",
      "21          0     0  \n",
      "22          0     0  \n",
      "23          0     0  \n",
      "24          0     0  \n",
      "25          0     0  \n",
      "26          0     0  \n",
      "27          0     0  \n",
      "28          0     0  \n",
      "29          0     0  \n",
      "30          0     0  \n",
      "31          0     0  \n",
      "32          0     0  \n",
      "33          0     0  \n",
      "34          0     0  \n",
      "35          1     0  \n",
      "36          0     0  \n",
      "37          0     0  \n",
      "38          0     0  \n",
      "39          0     0  \n",
      "40          0     0  \n",
      "41          0     0  \n",
      "42          0     0  \n",
      "43          0     0  \n",
      "44          0     0  \n",
      "45          0     0  \n",
      "46          0     0  \n",
      "47          0     0  \n",
      "48          0     0  \n",
      "49          0     0  \n",
      "50          0     0  \n",
      "51          0     0  \n",
      "52          0     0  \n",
      "53          0     0  \n",
      "54          0     0  \n",
      "\n",
      "[55 rows x 8504 columns]\n",
      "                                       title_id  abandon  abandoned  \\\n",
      "0            GEORGE WASHINGTON, FIRST INAUGURAL        0          0   \n",
      "1           GEORGE WASHINGTON, SECOND INAUGURAL        0          0   \n",
      "2                          JOHN ADAMS INAUGURAL        0          1   \n",
      "3              THOMAS JEFFERSON FIRST INAUGURAL        1          0   \n",
      "4             THOMAS JEFFERSON SECOND INAUGURAL        0          0   \n",
      "5                 JAMES MADISON FIRST INAUGURAL        0          0   \n",
      "6               JAMES MADISON, SECOND INAUGURAL        0          0   \n",
      "7                  JAMES MONROE FIRST INAUGURAL        0          0   \n",
      "8                JAMES MONROE, SECOND INAUGURAL        2          0   \n",
      "9                  JOHN QUINCY ADAMS, INAUGURAL        0          0   \n",
      "10              ANDREW JACKSON, FIRST INAUGURAL        0          0   \n",
      "11             ANDREW JACKSON, SECOND INAUGURAL        0          1   \n",
      "12                  MARTIN VAN BUREN, INAUGURAL        0          0   \n",
      "13            WILLIAM HENRY HARRISON, INAUGURAL        0          0   \n",
      "14                   JAMES KNOX POLK, INAUGURAL        0          0   \n",
      "15                    ZACHARY TAYLOR, INAUGURAL        0          0   \n",
      "16                   FRANKLIN PIERCE, INAUGURAL        0          0   \n",
      "17                    JAMES BUCHANAN, INAUGURAL        0          0   \n",
      "18             ABRAHAM LINCOLN, FIRST INAUGURAL        0          0   \n",
      "19            ABRAHAM LINCOLN, SECOND INAUGURAL        0          0   \n",
      "20            ULYSSES S. GRANT, FIRST INAUGURAL        0          0   \n",
      "21           ULYSSES S. GRANT, SECOND INAUGURAL        0          0   \n",
      "22               RUTHERFORD B. HAYES, INAUGURAL        0          0   \n",
      "23                  JAMES A. GARFIELD INAUGURAL        0          0   \n",
      "24            GROVER CLEVELAND, FIRST INAUGURAL        1          0   \n",
      "25                 BENJAMIN HARRISON, INAUGURAL        0          0   \n",
      "26           GROVER CLEVELAND, SECOND INAUGURAL        0          0   \n",
      "27             WILLIAM MCKINLEY FIRST INAUGURAL        0          0   \n",
      "28           WILLIAM MCKINLEY, SECOND INAUGURAL        0          1   \n",
      "29                THEODORE ROOSEVELT, INAUGURAL        0          0   \n",
      "30               WILLIAM HOWARD TAFT, INAUGURAL        0          0   \n",
      "31              WOODROW WILSON, FIRST INAUGURAL        0          0   \n",
      "32             WOODROW WILSON, SECOND INAUGURAL        0          0   \n",
      "33                 WARREN G. HARDING, INAUGURAL        0          0   \n",
      "34                   CALVIN COOLIDGE, INAUGURAL        0          0   \n",
      "35                    HERBERT HOOVER, INAUGURAL        0          1   \n",
      "36       FRANKLIN D. ROOSEVELT, FIRST INAUGURAL        0          0   \n",
      "37      FRANKLIN D. ROOSEVELT, SECOND INAUGURAL        1          0   \n",
      "38       FRANKLIN D. ROOSEVELT, THIRD INAUGURAL        0          0   \n",
      "39      FRANKLIN D. ROOSEVELT, FOURTH INAUGURAL        0          0   \n",
      "40                   HARRY S. TRUMAN, INAUGURAL        1          0   \n",
      "41        DWIGHT D. EISENHOWER, FIRST INAUGURAL        0          0   \n",
      "42       DWIGHT D. EISENHOWER, SECOND INAUGURAL        0          0   \n",
      "43                   JOHN F. KENNEDY, INAUGURAL        0          0   \n",
      "44             LYNDON BAINES JOHNSON, INAUGURAL        1          0   \n",
      "45       RICHARD MILHOUS NIXON, FIRST INAUGURAL        0          0   \n",
      "46      RICHARD MILHOUS NIXON, SECOND INAUGURAL        0          0   \n",
      "47                      JIMMY CARTER, INAUGURAL        0          0   \n",
      "48               RONALD REAGAN, FIRST INAUGURAL        0          0   \n",
      "49              RONALD REAGAN, SECOND INAUGURAL        0          0   \n",
      "50                       GEORGE BUSH, INAUGURAL        0          0   \n",
      "51   WILLIAM JEFFERSON CLINTON, FIRST INAUGURAL        0          0   \n",
      "52  WILLIAM JEFFERSON CLINTON, SECOND INAUGURAL        0          0   \n",
      "53              GEORGE W. BUSH, FIRST INAUGURAL        0          0   \n",
      "54             GEORGE W. BUSH, SECOND INAUGURAL        2          0   \n",
      "\n",
      "    abandonment  abate  abdicated  abeyance  abhorring  abide  abiding  ...   \\\n",
      "0             0      0          0         0          0      0        0  ...    \n",
      "1             0      0          0         0          0      0        0  ...    \n",
      "2             0      0          0         0          0      0        0  ...    \n",
      "3             0      0          0         0          0      0        0  ...    \n",
      "4             0      0          0         0          0      0        0  ...    \n",
      "5             0      0          0         0          0      0        0  ...    \n",
      "6             0      0          0         0          0      0        0  ...    \n",
      "7             0      0          0         0          0      0        0  ...    \n",
      "8             0      0          0         0          0      0        0  ...    \n",
      "9             0      0          0         0          0      0        0  ...    \n",
      "10            0      0          0         0          0      0        0  ...    \n",
      "11            0      0          0         0          0      0        0  ...    \n",
      "12            0      0          0         0          0      0        1  ...    \n",
      "13            0      0          0         0          0      0        0  ...    \n",
      "14            0      0          0         0          0      0        0  ...    \n",
      "15            0      0          0         0          0      0        0  ...    \n",
      "16            0      0          0         0          0      0        0  ...    \n",
      "17            0      0          0         0          0      0        0  ...    \n",
      "18            0      0          0         0          0      2        0  ...    \n",
      "19            0      0          0         0          0      0        0  ...    \n",
      "20            0      0          0         1          0      0        1  ...    \n",
      "21            0      0          0         0          0      0        0  ...    \n",
      "22            0      0          0         0          0      0        0  ...    \n",
      "23            0      0          0         0          0      0        0  ...    \n",
      "24            1      0          0         0          0      0        0  ...    \n",
      "25            0      0          0         0          0      0        2  ...    \n",
      "26            0      0          0         0          0      0        0  ...    \n",
      "27            0      0          0         0          0      0        1  ...    \n",
      "28            0      1          0         0          0      0        1  ...    \n",
      "29            0      0          0         0          0      0        1  ...    \n",
      "30            0      0          0         0          0      0        0  ...    \n",
      "31            0      0          0         0          0      0        0  ...    \n",
      "32            0      0          0         0          0      0        0  ...    \n",
      "33            0      0          0         0          0      0        0  ...    \n",
      "34            0      0          0         0          0      0        0  ...    \n",
      "35            0      0          0         0          0      0        2  ...    \n",
      "36            1      0          1         0          0      0        0  ...    \n",
      "37            0      0          0         0          0      0        1  ...    \n",
      "38            0      0          0         0          0      0        0  ...    \n",
      "39            1      0          0         0          0      0        0  ...    \n",
      "40            0      0          0         0          0      0        0  ...    \n",
      "41            0      0          0         0          1      0        1  ...    \n",
      "42            0      0          0         0          0      0        0  ...    \n",
      "43            0      0          0         0          0      0        0  ...    \n",
      "44            0      0          0         0          0      0        1  ...    \n",
      "45            0      0          0         0          0      0        0  ...    \n",
      "46            0      0          0         0          0      0        0  ...    \n",
      "47            0      0          0         0          0      0        1  ...    \n",
      "48            0      0          0         0          0      0        0  ...    \n",
      "49            0      0          0         0          0      0        0  ...    \n",
      "50            0      0          0         0          0      0        0  ...    \n",
      "51            0      0          0         0          0      0        1  ...    \n",
      "52            0      0          0         0          0      0        0  ...    \n",
      "53            1      0          0         0          0      0        0  ...    \n",
      "54            0      0          0         0          0      0        0  ...    \n",
      "\n",
      "    yorktown  young  younger  youngest  youth  youthful  zeal  zealous  \\\n",
      "0          0      0        0         0      0         0     0        0   \n",
      "1          0      0        0         0      0         0     0        0   \n",
      "2          0      0        0         0      0         0     1        0   \n",
      "3          0      0        0         0      0         0     1        0   \n",
      "4          0      0        0         0      0         0     3        0   \n",
      "5          0      0        0         0      0         0     0        0   \n",
      "6          0      0        0         0      0         0     0        0   \n",
      "7          0      0        0         0      0         1     1        1   \n",
      "8          0      0        0         0      0         0     0        1   \n",
      "9          0      0        0         0      0         0     1        0   \n",
      "10         0      0        0         0      0         0     1        1   \n",
      "11         0      0        0         0      0         0     0        0   \n",
      "12         0      0        0         0      0         0     0        0   \n",
      "13         0      0        0         0      0         0     0        0   \n",
      "14         0      0        1         0      0         0     0        0   \n",
      "15         0      0        0         0      0         0     0        0   \n",
      "16         0      0        0         0      0         0     0        0   \n",
      "17         0      0        0         0      0         0     0        0   \n",
      "18         0      0        0         0      0         0     0        0   \n",
      "19         0      0        0         0      0         0     0        0   \n",
      "20         0      1        0         0      0         0     0        0   \n",
      "21         0      0        0         0      0         0     0        0   \n",
      "22         0      0        0         0      0         0     0        1   \n",
      "23         1      0        0         0      0         0     0        0   \n",
      "24         0      0        0         0      0         0     1        0   \n",
      "25         1      2        0         0      0         0     0        0   \n",
      "26         0      0        0         0      0         0     0        0   \n",
      "27         0      0        0         0      0         0     3        1   \n",
      "28         0      0        0         0      0         0     0        0   \n",
      "29         0      0        0         0      0         0     0        0   \n",
      "30         0      0        0         0      0         0     0        0   \n",
      "31         0      0        0         0      0         0     0        0   \n",
      "32         0      0        0         0      0         0     0        0   \n",
      "33         0      0        0         0      0         0     0        0   \n",
      "34         0      0        0         0      0         0     0        0   \n",
      "35         0      0        0         0      1         0     0        0   \n",
      "36         0      1        0         0      0         0     0        0   \n",
      "37         0      0        0         0      0         0     0        0   \n",
      "38         0      0        0         0      0         0     0        0   \n",
      "39         0      0        0         0      0         0     0        0   \n",
      "40         0      0        0         0      0         0     0        0   \n",
      "41         0      0        0         0      0         0     0        0   \n",
      "42         0      0        0         0      0         0     0        0   \n",
      "43         0      1        0         0      0         0     0        0   \n",
      "44         0      1        0         0      0         0     0        0   \n",
      "45         0      0        0         0      2         0     0        0   \n",
      "46         0      1        0         0      0         0     0        0   \n",
      "47         0      0        0         0      0         0     0        0   \n",
      "48         0      2        0         0      0         0     0        0   \n",
      "49         0      2        0         0      1         0     0        0   \n",
      "50         0      4        0         0      0         0     0        0   \n",
      "51         0      2        0         0      0         0     0        0   \n",
      "52         0      1        0         0      0         0     0        0   \n",
      "53         0      1        0         0      0         0     0        0   \n",
      "54         0      1        0         1      0         0     0        0   \n",
      "\n",
      "    zealously  zone  \n",
      "0           0     0  \n",
      "1           0     0  \n",
      "2           0     0  \n",
      "3           0     0  \n",
      "4           0     0  \n",
      "5           1     0  \n",
      "6           0     0  \n",
      "7           0     1  \n",
      "8           1     0  \n",
      "9           0     0  \n",
      "10          0     0  \n",
      "11          0     0  \n",
      "12          1     0  \n",
      "13          1     0  \n",
      "14          0     0  \n",
      "15          1     0  \n",
      "16          0     0  \n",
      "17          0     0  \n",
      "18          0     0  \n",
      "19          0     0  \n",
      "20          0     0  \n",
      "21          0     0  \n",
      "22          0     0  \n",
      "23          0     0  \n",
      "24          0     0  \n",
      "25          0     0  \n",
      "26          0     0  \n",
      "27          0     0  \n",
      "28          0     0  \n",
      "29          0     0  \n",
      "30          0     0  \n",
      "31          0     0  \n",
      "32          0     0  \n",
      "33          0     0  \n",
      "34          0     0  \n",
      "35          1     0  \n",
      "36          0     0  \n",
      "37          0     0  \n",
      "38          0     0  \n",
      "39          0     0  \n",
      "40          0     0  \n",
      "41          0     0  \n",
      "42          0     0  \n",
      "43          0     0  \n",
      "44          0     0  \n",
      "45          0     0  \n",
      "46          0     0  \n",
      "47          0     0  \n",
      "48          0     0  \n",
      "49          0     0  \n",
      "50          0     0  \n",
      "51          0     0  \n",
      "52          0     0  \n",
      "53          0     0  \n",
      "54          0     0  \n",
      "\n",
      "[55 rows x 8504 columns]\n"
     ]
    },
    {
     "name": "stderr",
     "output_type": "stream",
     "text": [
      "/Users/Jay/anaconda/lib/python2.7/site-packages/IPython/kernel/__main__.py:3: SettingWithCopyWarning: \n",
      "A value is trying to be set on a copy of a slice from a DataFrame.\n",
      "Try using .loc[row_indexer,col_indexer] = value instead\n",
      "\n",
      "See the the caveats in the documentation: http://pandas.pydata.org/pandas-docs/stable/indexing.html#indexing-view-versus-copy\n",
      "  app.launch_new_instance()\n"
     ]
    }
   ],
   "source": [
    "df = raw_df.iloc[:,raw_feature_names.index('6th')+1:]\n",
    "\n",
    "df['title_id'] = stripped_id_list\n",
    "\n",
    "cols = df.columns.tolist()\n",
    "cols = cols[-1:] + cols[:-1]\n",
    "df = df[cols]\n",
    "\n",
    "print df\n",
    "\n",
    "print df"
   ]
  },
  {
   "cell_type": "markdown",
   "metadata": {},
   "source": [
    "We can now begin plotting the data. First, we'll take the twenty most used words among all the inaugural addresses."
   ]
  },
  {
   "cell_type": "code",
   "execution_count": 92,
   "metadata": {
    "collapsed": false
   },
   "outputs": [
    {
     "data": {
      "text/plain": [
       "<matplotlib.axes._subplots.AxesSubplot at 0x110b5a650>"
      ]
     },
     "execution_count": 92,
     "metadata": {},
     "output_type": "execute_result"
    },
    {
     "data": {
      "image/png": "[encoded data removed]",
      "text/plain": [
       "<matplotlib.figure.Figure at 0x1085ad550>"
      ]
     },
     "metadata": {},
     "output_type": "display_data"
    }
   ],
   "source": [
    "df_counts = pd.DataFrame(df.iloc[:,1:].apply(np.sum, axis=0), columns=['word_count'])\n",
    "df_counts_sorted = df_counts.sort(['word_count'], ascending = [0])[:20]\n",
    "\n",
    "df_counts_sorted.plot(kind='bar')"
   ]
  },
  {
   "cell_type": "markdown",
   "metadata": {
    "collapsed": false
   },
   "source": [
    "Let's take a look at the gabbiest presidents (on average). First, let's use <code>pandas.DataFrame.sum</code> to get the word count for each speech, then <code>sort</code> the results."
   ]
  },
  {
   "cell_type": "code",
   "execution_count": 89,
   "metadata": {
    "collapsed": false
   },
   "outputs": [
    {
     "name": "stdout",
     "output_type": "stream",
     "text": [
      "                             title_id  word_count\n",
      "13  WILLIAM HENRY HARRISON, INAUGURAL        3314\n",
      "30     WILLIAM HOWARD TAFT, INAUGURAL        2331\n",
      "14         JAMES KNOX POLK, INAUGURAL        2030\n",
      "25       BENJAMIN HARRISON, INAUGURAL        1902\n",
      "8      JAMES MONROE, SECOND INAUGURAL        1794\n",
      "27   WILLIAM MCKINLEY FIRST INAUGURAL        1688\n",
      "34         CALVIN COOLIDGE, INAUGURAL        1672\n",
      "35          HERBERT HOOVER, INAUGURAL        1615\n",
      "33       WARREN G. HARDING, INAUGURAL        1557\n",
      "18   ABRAHAM LINCOLN, FIRST INAUGURAL        1436\n",
      "16         FRANKLIN PIERCE, INAUGURAL        1416\n",
      "7        JAMES MONROE FIRST INAUGURAL        1390\n",
      "12        MARTIN VAN BUREN, INAUGURAL        1368\n",
      "23        JAMES A. GARFIELD INAUGURAL        1306\n",
      "9        JOHN QUINCY ADAMS, INAUGURAL        1245\n"
     ]
    },
    {
     "data": {
      "text/plain": [
       "<matplotlib.axes._subplots.AxesSubplot at 0x111f9fb10>"
      ]
     },
     "execution_count": 89,
     "metadata": {},
     "output_type": "execute_result"
    },
    {
     "data": {
      "image/png": "[encoded data removed]",
      "text/plain": [
       "<matplotlib.figure.Figure at 0x110f19610>"
      ]
     },
     "metadata": {},
     "output_type": "display_data"
    }
   ],
   "source": [
    "df_speech_wc = pd.DataFrame(df.sum(axis=1), columns=['word_count'])\n",
    "\n",
    "# Add 'title_id' again to make labelling clearer\n",
    "df_speech_wc['title_id'] = df.title_id\n",
    "\n",
    "# Switch column order for better legibility\n",
    "cols_wc = df_speech_wc.columns.tolist()\n",
    "cols_wc = cols_wc[-1:] + cols_wc[:-1]\n",
    "df_speech_wc = df_speech_wc[cols_wc]\n",
    "\n",
    "# Sort the results in descending order by word_count\n",
    "df_speech_wc_sorted = df_speech_wc.sort('word_count', ascending = [0])\n",
    "\n",
    "# Print and plot the top 15 longest speeches\n",
    "print df_speech_wc_sorted[:15]\n",
    "df_speech_wc_sorted[:15].plot(kind='bar')"
   ]
  },
  {
   "cell_type": "markdown",
   "metadata": {},
   "source": [
    "Looks like two Williams - Henry Harrison and Howard Taft - have the longest speeches, the former almost 1,000 words longer than the latter. William McKinley also makes an appearance in the top ten. Clearly, a correlation between the name William and speech length has emerged!\n",
    "\n",
    "I'm kidding about that last part."
   ]
  },
  {
   "cell_type": "markdown",
   "metadata": {},
   "source": [
    "Last, let's plot the unsorted word counts to get an idea of if, and if so, how speech length has changed over time."
   ]
  },
  {
   "cell_type": "code",
   "execution_count": 91,
   "metadata": {
    "collapsed": false
   },
   "outputs": [
    {
     "data": {
      "text/plain": [
       "<matplotlib.axes._subplots.AxesSubplot at 0x1104af990>"
      ]
     },
     "execution_count": 91,
     "metadata": {},
     "output_type": "execute_result"
    },
    {
     "data": {
      "image/png": "[encoded data removed]",
      "text/plain": [
       "<matplotlib.figure.Figure at 0x110755150>"
      ]
     },
     "metadata": {},
     "output_type": "display_data"
    }
   ],
   "source": [
    "df_speech_wc.plot(kind='line')"
   ]
  },
  {
   "cell_type": "markdown",
   "metadata": {},
   "source": [
    "Yeah, that doesn't look promising."
   ]
  }
 ],
 "metadata": {
  "kernelspec": {
   "display_name": "Python 2",
   "language": "python",
   "name": "python2"
  },
  "language_info": {
   "codemirror_mode": {
    "name": "ipython",
    "version": 2
   },
   "file_extension": ".py",
   "mimetype": "text/x-python",
   "name": "python",
   "nbconvert_exporter": "python",
   "pygments_lexer": "ipython2",
   "version": "2.7.9"
  }
 },
 "nbformat": 4,
 "nbformat_minor": 0
}
