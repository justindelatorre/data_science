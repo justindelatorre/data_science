{
 "cells": [
  {
   "cell_type": "markdown",
   "metadata": {},
   "source": [
    "# HW1: Titanic Data"
   ]
  },
  {
   "cell_type": "code",
   "execution_count": 2,
   "metadata": {
    "collapsed": false
   },
   "outputs": [
    {
     "name": "stdout",
     "output_type": "stream",
     "text": [
      "Requirement already satisfied (use --upgrade to upgrade): seaborn in /Users/Jay/anaconda/lib/python2.7/site-packages\r\n"
     ]
    }
   ],
   "source": [
    "# First, import all packages\n",
    "!pip install seaborn\n",
    "\n",
    "import pandas as pd\n",
    "import numpy as np\n",
    "import seaborn as sns\n",
    "import matplotlib.pyplot as plt\n",
    "\n",
    "%matplotlib inline\n",
    "\n",
    "# Set display options\n",
    "pd.set_option('display.max_columns', None)\n",
    "pd.set_option('display.max_rows', 20)\n",
    "pd.set_option('display.precision', 3)"
   ]
  },
  {
   "cell_type": "code",
   "execution_count": 3,
   "metadata": {
    "collapsed": false
   },
   "outputs": [],
   "source": [
    "# Load the data set\n",
    "df = pd.read_csv('titanic.csv')"
   ]
  },
  {
   "cell_type": "code",
   "execution_count": 4,
   "metadata": {
    "collapsed": false
   },
   "outputs": [
    {
     "name": "stdout",
     "output_type": "stream",
     "text": [
      "891\n"
     ]
    }
   ],
   "source": [
    "# Question #1: How many passengers are in our passenger list?\n",
    "total_passengers = len(df)\n",
    "\n",
    "print total_passengers"
   ]
  },
  {
   "cell_type": "code",
   "execution_count": 5,
   "metadata": {
    "collapsed": false
   },
   "outputs": [
    {
     "name": "stdout",
     "output_type": "stream",
     "text": [
      "0.383838383838\n"
     ]
    }
   ],
   "source": [
    "# Question #2: What is the overall survival rate?\n",
    "\n",
    "# Count the number of records where Survived == 1\n",
    "total_survivors = len(df[df.Survived == 1])\n",
    "\n",
    "# Divide (using float() to ensure decimal output)\n",
    "#   total_survivors by total_passengers to get\n",
    "#   overall_survival_rate\n",
    "overall_survival_rate = float(total_survivors) / total_passengers\n",
    "\n",
    "print overall_survival_rate"
   ]
  },
  {
   "cell_type": "code",
   "execution_count": 6,
   "metadata": {
    "collapsed": false
   },
   "outputs": [
    {
     "name": "stdout",
     "output_type": "stream",
     "text": [
      "577\n"
     ]
    }
   ],
   "source": [
    "# Question #3: How many male passengers were onboard?\n",
    "\n",
    "# Count the number of records where Sex == 'male'\n",
    "total_males = len(df[df.Sex == 'male'])\n",
    "\n",
    "print total_males"
   ]
  },
  {
   "cell_type": "code",
   "execution_count": 7,
   "metadata": {
    "collapsed": false
   },
   "outputs": [
    {
     "name": "stdout",
     "output_type": "stream",
     "text": [
      "314\n"
     ]
    }
   ],
   "source": [
    "# Question #4: How many female passengers were onboard?\n",
    "\n",
    "# Count the number of records where Sex == 'female'\n",
    "total_females = len(df[df.Sex == 'female'])\n",
    "\n",
    "print total_females"
   ]
  },
  {
   "cell_type": "code",
   "execution_count": 8,
   "metadata": {
    "collapsed": false
   },
   "outputs": [
    {
     "name": "stdout",
     "output_type": "stream",
     "text": [
      "0.188908145581\n"
     ]
    }
   ],
   "source": [
    "# Question #5: What is the overall survival rate of male passengers?\n",
    "\n",
    "# Count the number of records where Sex == 'male'\n",
    "#   and Survived == 1\n",
    "total_survivors_male = len(df[(df.Sex == 'male') & (df.Survived == 1)])\n",
    "\n",
    "# Divide total_survivors_male by total_males to get\n",
    "#   overall_survival_rate_male\n",
    "overall_survival_rate_male = float(total_survivors_male) / total_males\n",
    "\n",
    "print overall_survival_rate_male"
   ]
  },
  {
   "cell_type": "code",
   "execution_count": 9,
   "metadata": {
    "collapsed": false
   },
   "outputs": [
    {
     "name": "stdout",
     "output_type": "stream",
     "text": [
      "0.742038216561\n"
     ]
    }
   ],
   "source": [
    "# Question #6: What is the overall survival rate of female passengers?\n",
    "\n",
    "# Count the number of records where Sex == 'female'\n",
    "#   and Survived == 1\n",
    "total_survivors_female = len(df[(df.Sex == 'female') & (df.Survived == 1)])\n",
    "\n",
    "# Divide total_survivors_female by total_males to \n",
    "#   get overall_survival_rate_female\n",
    "overall_survival_rate_female = float(total_survivors_female) / total_females\n",
    "\n",
    "print overall_survival_rate_female"
   ]
  },
  {
   "cell_type": "code",
   "execution_count": 19,
   "metadata": {
    "collapsed": false
   },
   "outputs": [
    {
     "name": "stdout",
     "output_type": "stream",
     "text": [
      "median:  28.0 | mean:  29.6991176471\n"
     ]
    }
   ],
   "source": [
    "# Question #7: What is the average age of all passengers onboard?\n",
    "\n",
    "# Use both mean() and median() methods on Age to get\n",
    "#   different average age calculations\n",
    "overall_median_age = df.Age.median()\n",
    "overall_mean_age = df.Age.mean()\n",
    "\n",
    "print 'median: ', overall_median_age, '| mean: ', overall_mean_age"
   ]
  },
  {
   "cell_type": "code",
   "execution_count": 20,
   "metadata": {
    "collapsed": false
   },
   "outputs": [
    {
     "name": "stdout",
     "output_type": "stream",
     "text": [
      "median:  28.0 | mean:  29.6991176471\n"
     ]
    }
   ],
   "source": [
    "# Question #7a: Note that some of the passengers do not have an age value. \n",
    "#   How did you deal with this? What are some other ways of dealing with this?\n",
    "\n",
    "# I left values as-is in the last example, but one way to deal with null values\n",
    "#   is to ignore records will null values by dropping them from the data frame\n",
    "#   on which the calculations would be done:\n",
    "df_no_nulls = df[df.Age.notnull()]\n",
    "\n",
    "# Use both mean() and median() methods on Age to get\n",
    "#   different average age calculations\n",
    "overall_median_age_no_nulls = df_no_nulls.Age.median()\n",
    "overall_mean_age_no_nulls = df_no_nulls.Age.mean()\n",
    "\n",
    "print 'median: ', overall_median_age_no_nulls, '| mean: ', overall_mean_age_no_nulls\n",
    "\n",
    "# It looks like the median() and mean() functions ignore null values when calculating\n",
    "#   on fields containing null values."
   ]
  },
  {
   "cell_type": "code",
   "execution_count": 33,
   "metadata": {
    "collapsed": false
   },
   "outputs": [
    {
     "data": {
      "text/plain": [
       "Survived\n",
       "0           30.63\n",
       "1           28.34\n",
       "Name: Age, dtype: float64"
      ]
     },
     "execution_count": 33,
     "metadata": {},
     "output_type": "execute_result"
    }
   ],
   "source": [
    "# Question #8: What is the average age of passengers who survived?\n",
    "# Question #9: What is the average age of passengers who did not survive?\n",
    "\n",
    "# Groupby Survived values and calculate the mean ages of each group\n",
    "df.groupby(['Survived']).Age.mean()"
   ]
  },
  {
   "cell_type": "code",
   "execution_count": 31,
   "metadata": {
    "collapsed": false
   },
   "outputs": [
    {
     "data": {
      "text/plain": [
       "Survived\n",
       "0           28\n",
       "1           28\n",
       "Name: Age, dtype: float64"
      ]
     },
     "execution_count": 31,
     "metadata": {},
     "output_type": "execute_result"
    }
   ],
   "source": [
    "# Groupby Survived values and calculate the median ages of each group\n",
    "df.groupby(['Survived']).Age.median()"
   ]
  },
  {
   "cell_type": "code",
   "execution_count": 34,
   "metadata": {
    "collapsed": true
   },
   "outputs": [],
   "source": [
    "# Question #10: At this (early) point in our analysis, \n",
    "#   what might you infer about any patterns you are seeing?\n",
    "\n",
    "# Based on the data, it looks like you're more likely to survive if\n",
    "#   you're female, and maybe a little more likely the younger you are."
   ]
  },
  {
   "cell_type": "code",
   "execution_count": 37,
   "metadata": {
    "collapsed": false
   },
   "outputs": [
    {
     "data": {
      "text/plain": [
       "3    491\n",
       "1    216\n",
       "2    184\n",
       "dtype: int64"
      ]
     },
     "execution_count": 37,
     "metadata": {},
     "output_type": "execute_result"
    }
   ],
   "source": [
    "# Question #11: How many passengers are in each of the three classes \n",
    "#   of service (e.g. First, Second, Third?)\n",
    "\n",
    "# Get value_counts() of each Pclass value\n",
    "df.Pclass.value_counts()"
   ]
  },
  {
   "cell_type": "code",
   "execution_count": 38,
   "metadata": {
    "collapsed": false
   },
   "outputs": [
    {
     "data": {
      "text/plain": [
       "Pclass   \n",
       "1       1    136\n",
       "        0     80\n",
       "2       0     97\n",
       "        1     87\n",
       "3       0    372\n",
       "        1    119\n",
       "dtype: int64"
      ]
     },
     "execution_count": 38,
     "metadata": {},
     "output_type": "execute_result"
    }
   ],
   "source": [
    "# Question #12: What is the survival rate for passengers in \n",
    "#   each of the three classes of service?\n",
    "\n",
    "# There are at least two ways to do this (that I can see):\n",
    "\n",
    "# Method #1: Groupby Pclass, then get value_counts() by Survived value\n",
    "#   This method doesn't actually set you up to do rate calculations,\n",
    "#   but it does allow you to see all the data at once, after which\n",
    "#   you can manually do calculations\n",
    "df.groupby('Pclass').Survived.value_counts()"
   ]
  },
  {
   "cell_type": "code",
   "execution_count": 44,
   "metadata": {
    "collapsed": false
   },
   "outputs": [
    {
     "name": "stdout",
     "output_type": "stream",
     "text": [
      "0.62962962963\n"
     ]
    }
   ],
   "source": [
    "# Method #2: Use boolean conditions to store the values needed to\n",
    "#   perform the calculations for each class' survival rate\n",
    "\n",
    "# Count surivivors and total passengers for Pclass == 1\n",
    "total_first_class_survivors = len(df[(df.Pclass == 1) & (df.Survived == 1)])\n",
    "total_first_class_passengers = len(df[df.Pclass == 1])\n",
    "\n",
    "first_class_survival_rate = float(total_first_class_survivors) / total_first_class_passengers\n",
    "\n",
    "print first_class_survival_rate"
   ]
  },
  {
   "cell_type": "code",
   "execution_count": 45,
   "metadata": {
    "collapsed": false
   },
   "outputs": [
    {
     "name": "stdout",
     "output_type": "stream",
     "text": [
      "0.472826086957\n"
     ]
    }
   ],
   "source": [
    "# Count surivivors and total passengers for Pclass == 2\n",
    "total_second_class_survivors = len(df[(df.Pclass == 2) & (df.Survived == 1)])\n",
    "total_second_class_passengers = len(df[df.Pclass == 2])\n",
    "\n",
    "second_class_survival_rate = float(total_second_class_survivors) / total_second_class_passengers\n",
    "\n",
    "print second_class_survival_rate"
   ]
  },
  {
   "cell_type": "code",
   "execution_count": 46,
   "metadata": {
    "collapsed": false
   },
   "outputs": [
    {
     "name": "stdout",
     "output_type": "stream",
     "text": [
      "0.242362525458\n"
     ]
    }
   ],
   "source": [
    "# Count surivivors and total passengers for Pclass == 3\n",
    "total_third_class_survivors = len(df[(df.Pclass == 3) & (df.Survived == 1)])\n",
    "total_third_class_passengers = len(df[df.Pclass == 3])\n",
    "\n",
    "third_class_survival_rate = float(total_third_class_survivors) / total_third_class_passengers\n",
    "\n",
    "print third_class_survival_rate"
   ]
  },
  {
   "cell_type": "code",
   "execution_count": 40,
   "metadata": {
    "collapsed": true
   },
   "outputs": [],
   "source": [
    "# Question #13: What else might you conclude?\n",
    "\n",
    "# It looks like it's a helluva lot better to be younger, in a higher \n",
    "#   fare class, and a female if you want to survive. I feel badly for the\n",
    "#   old, poor, males :("
   ]
  },
  {
   "cell_type": "code",
   "execution_count": null,
   "metadata": {
    "collapsed": true
   },
   "outputs": [],
   "source": [
    "# Question #14: Last, if we were to build a predictive model, which features \n",
    "#   in the data do you think we should include in the model and \n",
    "#   which can we leave out? Why?\n",
    "\n",
    "# Based on what we've observed in this lab, age, fare class, and gender seem to be\n",
    "#   features worth exploring. The 'SibSp' and 'Embarked' features also seem to have\n",
    "#   potentialy relevant groupings, so they may be worth exploring. Other fields like \n",
    "#   'Ticket' and 'Name' don't seem to have meaningful groupings that could lead to\n",
    "#   correlations."
   ]
  }
 ],
 "metadata": {
  "kernelspec": {
   "display_name": "Python 2",
   "language": "python",
   "name": "python2"
  },
  "language_info": {
   "codemirror_mode": {
    "name": "ipython",
    "version": 2
   },
   "file_extension": ".py",
   "mimetype": "text/x-python",
   "name": "python",
   "nbconvert_exporter": "python",
   "pygments_lexer": "ipython2",
   "version": "2.7.9"
  }
 },
 "nbformat": 4,
 "nbformat_minor": 0
}
