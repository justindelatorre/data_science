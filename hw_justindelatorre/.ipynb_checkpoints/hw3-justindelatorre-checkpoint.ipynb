{
 "cells": [
  {
   "cell_type": "markdown",
   "metadata": {},
   "source": [
    "#HW3: Decision Trees"
   ]
  },
  {
   "cell_type": "markdown",
   "metadata": {
    "collapsed": true
   },
   "source": [
    "First, we'll import all the packages and data we'll need."
   ]
  },
  {
   "cell_type": "code",
   "execution_count": 1,
   "metadata": {
    "collapsed": true
   },
   "outputs": [],
   "source": [
    "# Import packages and modules\n",
    "%matplotlib inline\n",
    "import pandas as pd\n",
    "import numpy as np\n",
    "from seaborn import plt\n",
    "import matplotlib.pyplot as plt\n",
    "from matplotlib.colors import ListedColormap\n",
    "from sklearn.cross_validation import train_test_split, cross_val_score\n",
    "from sklearn.tree import DecisionTreeRegressor\n",
    "\n",
    "# Read both datasets into pandas DataFrames\n",
    "df = pd.read_csv('bank.txt', sep=';')\n",
    "df_full = pd.read_csv('bank-additional-full.txt', sep=';')"
   ]
  },
  {
   "cell_type": "markdown",
   "metadata": {},
   "source": [
    "###Q1: Use the file <code>bank.csv</code> to explore the dataset.\n",
    "\n",
    "Observe the features:\n",
    "<ul>\n",
    "<li>Are they numbers?</li>\n",
    "<li>Are they strings?</li>\n",
    "<li>Are they binary?</li>\n",
    "<li>Are they continuous?</li>\n",
    "</ul>"
   ]
  },
  {
   "cell_type": "code",
   "execution_count": 2,
   "metadata": {
    "collapsed": false
   },
   "outputs": [
    {
     "name": "stdout",
     "output_type": "stream",
     "text": [
      "<class 'pandas.core.frame.DataFrame'>\n",
      "Int64Index: 4521 entries, 0 to 4520\n",
      "Data columns (total 17 columns):\n",
      "age          4521 non-null int64\n",
      "job          4521 non-null object\n",
      "marital      4521 non-null object\n",
      "education    4521 non-null object\n",
      "default      4521 non-null object\n",
      "balance      4521 non-null int64\n",
      "housing      4521 non-null object\n",
      "loan         4521 non-null object\n",
      "contact      4521 non-null object\n",
      "day          4521 non-null int64\n",
      "month        4521 non-null object\n",
      "duration     4521 non-null int64\n",
      "campaign     4521 non-null int64\n",
      "pdays        4521 non-null int64\n",
      "previous     4521 non-null int64\n",
      "poutcome     4521 non-null object\n",
      "y            4521 non-null object\n",
      "dtypes: int64(7), object(10)\n",
      "memory usage: 635.8+ KB\n"
     ]
    }
   ],
   "source": [
    "df.info()"
   ]
  },
  {
   "cell_type": "code",
   "execution_count": 3,
   "metadata": {
    "collapsed": false
   },
   "outputs": [
    {
     "data": {
      "text/html": [
       "<div style=\"max-height:1000px;max-width:1500px;overflow:auto;\">\n",
       "<table border=\"1\" class=\"dataframe\">\n",
       "  <thead>\n",
       "    <tr style=\"text-align: right;\">\n",
       "      <th></th>\n",
       "      <th>age</th>\n",
       "      <th>job</th>\n",
       "      <th>marital</th>\n",
       "      <th>education</th>\n",
       "      <th>default</th>\n",
       "      <th>balance</th>\n",
       "      <th>housing</th>\n",
       "      <th>loan</th>\n",
       "      <th>contact</th>\n",
       "      <th>day</th>\n",
       "      <th>month</th>\n",
       "      <th>duration</th>\n",
       "      <th>campaign</th>\n",
       "      <th>pdays</th>\n",
       "      <th>previous</th>\n",
       "      <th>poutcome</th>\n",
       "      <th>y</th>\n",
       "    </tr>\n",
       "  </thead>\n",
       "  <tbody>\n",
       "    <tr>\n",
       "      <th>0</th>\n",
       "      <td> 30</td>\n",
       "      <td>  unemployed</td>\n",
       "      <td> married</td>\n",
       "      <td>   primary</td>\n",
       "      <td> no</td>\n",
       "      <td> 1787</td>\n",
       "      <td>  no</td>\n",
       "      <td>  no</td>\n",
       "      <td> cellular</td>\n",
       "      <td> 19</td>\n",
       "      <td> oct</td>\n",
       "      <td>  79</td>\n",
       "      <td> 1</td>\n",
       "      <td>  -1</td>\n",
       "      <td> 0</td>\n",
       "      <td> unknown</td>\n",
       "      <td> no</td>\n",
       "    </tr>\n",
       "    <tr>\n",
       "      <th>1</th>\n",
       "      <td> 33</td>\n",
       "      <td>    services</td>\n",
       "      <td> married</td>\n",
       "      <td> secondary</td>\n",
       "      <td> no</td>\n",
       "      <td> 4789</td>\n",
       "      <td> yes</td>\n",
       "      <td> yes</td>\n",
       "      <td> cellular</td>\n",
       "      <td> 11</td>\n",
       "      <td> may</td>\n",
       "      <td> 220</td>\n",
       "      <td> 1</td>\n",
       "      <td> 339</td>\n",
       "      <td> 4</td>\n",
       "      <td> failure</td>\n",
       "      <td> no</td>\n",
       "    </tr>\n",
       "    <tr>\n",
       "      <th>2</th>\n",
       "      <td> 35</td>\n",
       "      <td>  management</td>\n",
       "      <td>  single</td>\n",
       "      <td>  tertiary</td>\n",
       "      <td> no</td>\n",
       "      <td> 1350</td>\n",
       "      <td> yes</td>\n",
       "      <td>  no</td>\n",
       "      <td> cellular</td>\n",
       "      <td> 16</td>\n",
       "      <td> apr</td>\n",
       "      <td> 185</td>\n",
       "      <td> 1</td>\n",
       "      <td> 330</td>\n",
       "      <td> 1</td>\n",
       "      <td> failure</td>\n",
       "      <td> no</td>\n",
       "    </tr>\n",
       "    <tr>\n",
       "      <th>3</th>\n",
       "      <td> 30</td>\n",
       "      <td>  management</td>\n",
       "      <td> married</td>\n",
       "      <td>  tertiary</td>\n",
       "      <td> no</td>\n",
       "      <td> 1476</td>\n",
       "      <td> yes</td>\n",
       "      <td> yes</td>\n",
       "      <td>  unknown</td>\n",
       "      <td>  3</td>\n",
       "      <td> jun</td>\n",
       "      <td> 199</td>\n",
       "      <td> 4</td>\n",
       "      <td>  -1</td>\n",
       "      <td> 0</td>\n",
       "      <td> unknown</td>\n",
       "      <td> no</td>\n",
       "    </tr>\n",
       "    <tr>\n",
       "      <th>4</th>\n",
       "      <td> 59</td>\n",
       "      <td> blue-collar</td>\n",
       "      <td> married</td>\n",
       "      <td> secondary</td>\n",
       "      <td> no</td>\n",
       "      <td>    0</td>\n",
       "      <td> yes</td>\n",
       "      <td>  no</td>\n",
       "      <td>  unknown</td>\n",
       "      <td>  5</td>\n",
       "      <td> may</td>\n",
       "      <td> 226</td>\n",
       "      <td> 1</td>\n",
       "      <td>  -1</td>\n",
       "      <td> 0</td>\n",
       "      <td> unknown</td>\n",
       "      <td> no</td>\n",
       "    </tr>\n",
       "  </tbody>\n",
       "</table>\n",
       "</div>"
      ],
      "text/plain": [
       "   age          job  marital  education default  balance housing loan  \\\n",
       "0   30   unemployed  married    primary      no     1787      no   no   \n",
       "1   33     services  married  secondary      no     4789     yes  yes   \n",
       "2   35   management   single   tertiary      no     1350     yes   no   \n",
       "3   30   management  married   tertiary      no     1476     yes  yes   \n",
       "4   59  blue-collar  married  secondary      no        0     yes   no   \n",
       "\n",
       "    contact  day month  duration  campaign  pdays  previous poutcome   y  \n",
       "0  cellular   19   oct        79         1     -1         0  unknown  no  \n",
       "1  cellular   11   may       220         1    339         4  failure  no  \n",
       "2  cellular   16   apr       185         1    330         1  failure  no  \n",
       "3   unknown    3   jun       199         4     -1         0  unknown  no  \n",
       "4   unknown    5   may       226         1     -1         0  unknown  no  "
      ]
     },
     "execution_count": 3,
     "metadata": {},
     "output_type": "execute_result"
    }
   ],
   "source": [
    "df.head()"
   ]
  },
  {
   "cell_type": "markdown",
   "metadata": {},
   "source": [
    "The following fields are categorical:\n",
    "* job (string)\n",
    "* marital (string, binary)\n",
    "* education (string)\n",
    "* default (string, binary)\n",
    "* housing (int64, binary)\n",
    "* loan (string, binary)\n",
    "* month (string)\n",
    "* campaign (int64)\n",
    "* previous (int64)\n",
    "* poutcome (string, binary)\n",
    "* y (string, binary)\n",
    "\n",
    "These fields are continuous:\n",
    "* age (int64)\n",
    "* balance (int64)\n",
    "* day (int64)\n",
    "* duration (int64)\n",
    "* pdays (int64)"
   ]
  },
  {
   "cell_type": "markdown",
   "metadata": {},
   "source": [
    "###Q2: Learn about label encoders at the following link and use what you learn to transform the features to numerical features.\n",
    "\n",
    "[OneHotEncoder](http://scikit-learn.org/stable/modules/generated/sklearn.preprocessing.OneHotEncoder.html)"
   ]
  },
  {
   "cell_type": "markdown",
   "metadata": {},
   "source": [
    "First, we'll import two additional modules that we'll use to preprocess the data: <code>OneHotEncoder</code> and <code>LabelEncoder</code>."
   ]
  },
  {
   "cell_type": "code",
   "execution_count": 4,
   "metadata": {
    "collapsed": false
   },
   "outputs": [],
   "source": [
    "from sklearn.preprocessing import OneHotEncoder\n",
    "from sklearn.preprocessing import LabelEncoder"
   ]
  },
  {
   "cell_type": "markdown",
   "metadata": {},
   "source": [
    "Next, we'll map binary numerical values for the <code>y</code> label to make modelling easier."
   ]
  },
  {
   "cell_type": "code",
   "execution_count": 13,
   "metadata": {
    "collapsed": false
   },
   "outputs": [
    {
     "name": "stdout",
     "output_type": "stream",
     "text": [
      "    age  job  marital  education  default  balance  housing  loan  contact  \\\n",
      "0    30   10        1          0        0     1787        0     0        0   \n",
      "1    33    7        1          1        0     4789        1     1        0   \n",
      "2    35    4        2          2        0     1350        1     0        0   \n",
      "3    30    4        1          2        0     1476        1     1        2   \n",
      "4    59    1        1          1        0        0        1     0        2   \n",
      "5    35    4        2          2        0      747        0     0        0   \n",
      "6    36    6        1          2        0      307        1     0        0   \n",
      "7    39    9        1          1        0      147        1     0        0   \n",
      "8    41    2        1          2        0      221        1     0        2   \n",
      "9    43    7        1          0        0      -88        1     1        0   \n",
      "10   39    7        1          1        0     9374        1     0        2   \n",
      "11   43    0        1          1        0      264        1     0        0   \n",
      "12   36    9        1          2        0     1109        0     0        0   \n",
      "13   20    8        2          1        0      502        0     0        0   \n",
      "14   31    1        1          1        0      360        1     1        0   \n",
      "15   40    4        1          2        0      194        0     1        0   \n",
      "16   56    9        1          1        0     4073        0     0        0   \n",
      "17   37    0        2          2        0     2317        1     0        0   \n",
      "18   25    1        2          0        0     -221        1     0        2   \n",
      "19   31    7        1          1        0      132        0     0        0   \n",
      "\n",
      "    day month  duration  campaign  pdays  previous  poutcome  y  \n",
      "0    19   oct        79         1     -1         0         3  0  \n",
      "1    11   may       220         1    339         4         0  0  \n",
      "2    16   apr       185         1    330         1         0  0  \n",
      "3     3   jun       199         4     -1         0         3  0  \n",
      "4     5   may       226         1     -1         0         3  0  \n",
      "5    23   feb       141         2    176         3         0  0  \n",
      "6    14   may       341         1    330         2         1  0  \n",
      "7     6   may       151         2     -1         0         3  0  \n",
      "8    14   may        57         2     -1         0         3  0  \n",
      "9    17   apr       313         1    147         2         0  0  \n",
      "10   20   may       273         1     -1         0         3  0  \n",
      "11   17   apr       113         2     -1         0         3  0  \n",
      "12   13   aug       328         2     -1         0         3  0  \n",
      "13   30   apr       261         1     -1         0         3  1  \n",
      "14   29   jan        89         1    241         1         0  0  \n",
      "15   29   aug       189         2     -1         0         3  0  \n",
      "16   27   aug       239         5     -1         0         3  0  \n",
      "17   20   apr       114         1    152         2         0  0  \n",
      "18   23   may       250         1     -1         0         3  0  \n",
      "19    7   jul       148         1    152         1         1  0  \n"
     ]
    }
   ],
   "source": [
    "# We'll create a test DataFrame to practice feature engineering\n",
    "df_test = df.copy(deep=True)\n",
    "\n",
    "# Change categorial features from string values to numerical values, starting with the label ('y')\n",
    "df_test['y'] = df_test.y.map({'no':0,'yes':1})\n",
    "\n",
    "# Choose meaningful string type categorical features to convert to numerical values, then use for-loop combined with\n",
    "# LabelEncoder to change values\n",
    "# columns: 'job', 'marital', 'education', 'default', 'housing', 'loan', 'contact', 'poutcome'\n",
    "# TODO(justindelatorre): Leave out 'contact' feature because it doesn't seem \n",
    "feature_cols = ['job', 'marital', 'education', 'default', 'housing', 'loan', 'contact', 'poutcome']\n",
    "\n",
    "le = LabelEncoder()\n",
    "for col in feature_cols:\n",
    "    df_test[col] = le.fit_transform(df_test[col])\n",
    "    \n",
    "print df_test.head(20)"
   ]
  },
  {
   "cell_type": "markdown",
   "metadata": {},
   "source": [
    "###Q3: Build a decision tree model to predict whether a prospect will buy the product."
   ]
  },
  {
   "cell_type": "markdown",
   "metadata": {},
   "source": [
    "We'll use the categorical features we just converted as the features we'll use to predict outcomes."
   ]
  },
  {
   "cell_type": "code",
   "execution_count": 14,
   "metadata": {
    "collapsed": true
   },
   "outputs": [],
   "source": [
    "# TODO(justindelatorre): Add 'previous' as a potentially meaningful feature column\n",
    "X = df_test[feature_cols]\n",
    "y = df_test.y"
   ]
  },
  {
   "cell_type": "code",
   "execution_count": 16,
   "metadata": {
    "collapsed": false
   },
   "outputs": [
    {
     "data": {
      "text/plain": [
       "DecisionTreeClassifier(compute_importances=None, criterion='gini',\n",
       "            max_depth=8, max_features=None, max_leaf_nodes=None,\n",
       "            min_density=None, min_samples_leaf=1, min_samples_split=2,\n",
       "            random_state=1, splitter='best')"
      ]
     },
     "execution_count": 16,
     "metadata": {},
     "output_type": "execute_result"
    }
   ],
   "source": [
    "from sklearn.tree import DecisionTreeClassifier\n",
    "treeclf = DecisionTreeClassifier(max_depth=len(feature_cols), random_state=1)\n",
    "treeclf.fit(X, y)"
   ]
  },
  {
   "cell_type": "markdown",
   "metadata": {},
   "source": [
    "###Q4: Evaluate the accuracy of your decision tree model using cross validation."
   ]
  },
  {
   "cell_type": "code",
   "execution_count": 18,
   "metadata": {
    "collapsed": false
   },
   "outputs": [
    {
     "name": "stdout",
     "output_type": "stream",
     "text": [
      "Decision tree accuracy: 0.884758444197\n"
     ]
    }
   ],
   "source": [
    "scores = cross_val_score(treeclf, X, y, cv=10, scoring='accuracy')\n",
    "print 'Decision tree accuracy: {}'.format(np.mean(scores))"
   ]
  },
  {
   "cell_type": "markdown",
   "metadata": {},
   "source": [
    "###Q5: Repeat the analysis and cross validation with the file <code>bank-additional-full.csv</code>. \n",
    "\n",
    "How does the performance of the model change (with the additional training examples and additional features)?"
   ]
  },
  {
   "cell_type": "code",
   "execution_count": 19,
   "metadata": {
    "collapsed": false
   },
   "outputs": [
    {
     "data": {
      "text/html": [
       "<div style=\"max-height:1000px;max-width:1500px;overflow:auto;\">\n",
       "<table border=\"1\" class=\"dataframe\">\n",
       "  <thead>\n",
       "    <tr style=\"text-align: right;\">\n",
       "      <th></th>\n",
       "      <th>age</th>\n",
       "      <th>job</th>\n",
       "      <th>marital</th>\n",
       "      <th>education</th>\n",
       "      <th>default</th>\n",
       "      <th>housing</th>\n",
       "      <th>loan</th>\n",
       "      <th>contact</th>\n",
       "      <th>month</th>\n",
       "      <th>day_of_week</th>\n",
       "      <th>...</th>\n",
       "      <th>campaign</th>\n",
       "      <th>pdays</th>\n",
       "      <th>previous</th>\n",
       "      <th>poutcome</th>\n",
       "      <th>emp.var.rate</th>\n",
       "      <th>cons.price.idx</th>\n",
       "      <th>cons.conf.idx</th>\n",
       "      <th>euribor3m</th>\n",
       "      <th>nr.employed</th>\n",
       "      <th>y</th>\n",
       "    </tr>\n",
       "  </thead>\n",
       "  <tbody>\n",
       "    <tr>\n",
       "      <th>0</th>\n",
       "      <td> 56</td>\n",
       "      <td> housemaid</td>\n",
       "      <td> married</td>\n",
       "      <td>    basic.4y</td>\n",
       "      <td>      no</td>\n",
       "      <td>  no</td>\n",
       "      <td>  no</td>\n",
       "      <td> telephone</td>\n",
       "      <td> may</td>\n",
       "      <td> mon</td>\n",
       "      <td>...</td>\n",
       "      <td> 1</td>\n",
       "      <td> 999</td>\n",
       "      <td> 0</td>\n",
       "      <td> nonexistent</td>\n",
       "      <td> 1.1</td>\n",
       "      <td> 93.994</td>\n",
       "      <td>-36.4</td>\n",
       "      <td> 4.857</td>\n",
       "      <td> 5191</td>\n",
       "      <td> no</td>\n",
       "    </tr>\n",
       "    <tr>\n",
       "      <th>1</th>\n",
       "      <td> 57</td>\n",
       "      <td>  services</td>\n",
       "      <td> married</td>\n",
       "      <td> high.school</td>\n",
       "      <td> unknown</td>\n",
       "      <td>  no</td>\n",
       "      <td>  no</td>\n",
       "      <td> telephone</td>\n",
       "      <td> may</td>\n",
       "      <td> mon</td>\n",
       "      <td>...</td>\n",
       "      <td> 1</td>\n",
       "      <td> 999</td>\n",
       "      <td> 0</td>\n",
       "      <td> nonexistent</td>\n",
       "      <td> 1.1</td>\n",
       "      <td> 93.994</td>\n",
       "      <td>-36.4</td>\n",
       "      <td> 4.857</td>\n",
       "      <td> 5191</td>\n",
       "      <td> no</td>\n",
       "    </tr>\n",
       "    <tr>\n",
       "      <th>2</th>\n",
       "      <td> 37</td>\n",
       "      <td>  services</td>\n",
       "      <td> married</td>\n",
       "      <td> high.school</td>\n",
       "      <td>      no</td>\n",
       "      <td> yes</td>\n",
       "      <td>  no</td>\n",
       "      <td> telephone</td>\n",
       "      <td> may</td>\n",
       "      <td> mon</td>\n",
       "      <td>...</td>\n",
       "      <td> 1</td>\n",
       "      <td> 999</td>\n",
       "      <td> 0</td>\n",
       "      <td> nonexistent</td>\n",
       "      <td> 1.1</td>\n",
       "      <td> 93.994</td>\n",
       "      <td>-36.4</td>\n",
       "      <td> 4.857</td>\n",
       "      <td> 5191</td>\n",
       "      <td> no</td>\n",
       "    </tr>\n",
       "    <tr>\n",
       "      <th>3</th>\n",
       "      <td> 40</td>\n",
       "      <td>    admin.</td>\n",
       "      <td> married</td>\n",
       "      <td>    basic.6y</td>\n",
       "      <td>      no</td>\n",
       "      <td>  no</td>\n",
       "      <td>  no</td>\n",
       "      <td> telephone</td>\n",
       "      <td> may</td>\n",
       "      <td> mon</td>\n",
       "      <td>...</td>\n",
       "      <td> 1</td>\n",
       "      <td> 999</td>\n",
       "      <td> 0</td>\n",
       "      <td> nonexistent</td>\n",
       "      <td> 1.1</td>\n",
       "      <td> 93.994</td>\n",
       "      <td>-36.4</td>\n",
       "      <td> 4.857</td>\n",
       "      <td> 5191</td>\n",
       "      <td> no</td>\n",
       "    </tr>\n",
       "    <tr>\n",
       "      <th>4</th>\n",
       "      <td> 56</td>\n",
       "      <td>  services</td>\n",
       "      <td> married</td>\n",
       "      <td> high.school</td>\n",
       "      <td>      no</td>\n",
       "      <td>  no</td>\n",
       "      <td> yes</td>\n",
       "      <td> telephone</td>\n",
       "      <td> may</td>\n",
       "      <td> mon</td>\n",
       "      <td>...</td>\n",
       "      <td> 1</td>\n",
       "      <td> 999</td>\n",
       "      <td> 0</td>\n",
       "      <td> nonexistent</td>\n",
       "      <td> 1.1</td>\n",
       "      <td> 93.994</td>\n",
       "      <td>-36.4</td>\n",
       "      <td> 4.857</td>\n",
       "      <td> 5191</td>\n",
       "      <td> no</td>\n",
       "    </tr>\n",
       "  </tbody>\n",
       "</table>\n",
       "<p>5 rows × 21 columns</p>\n",
       "</div>"
      ],
      "text/plain": [
       "   age        job  marital    education  default housing loan    contact  \\\n",
       "0   56  housemaid  married     basic.4y       no      no   no  telephone   \n",
       "1   57   services  married  high.school  unknown      no   no  telephone   \n",
       "2   37   services  married  high.school       no     yes   no  telephone   \n",
       "3   40     admin.  married     basic.6y       no      no   no  telephone   \n",
       "4   56   services  married  high.school       no      no  yes  telephone   \n",
       "\n",
       "  month day_of_week ...  campaign  pdays  previous     poutcome emp.var.rate  \\\n",
       "0   may         mon ...         1    999         0  nonexistent          1.1   \n",
       "1   may         mon ...         1    999         0  nonexistent          1.1   \n",
       "2   may         mon ...         1    999         0  nonexistent          1.1   \n",
       "3   may         mon ...         1    999         0  nonexistent          1.1   \n",
       "4   may         mon ...         1    999         0  nonexistent          1.1   \n",
       "\n",
       "   cons.price.idx  cons.conf.idx  euribor3m  nr.employed   y  \n",
       "0          93.994          -36.4      4.857         5191  no  \n",
       "1          93.994          -36.4      4.857         5191  no  \n",
       "2          93.994          -36.4      4.857         5191  no  \n",
       "3          93.994          -36.4      4.857         5191  no  \n",
       "4          93.994          -36.4      4.857         5191  no  \n",
       "\n",
       "[5 rows x 21 columns]"
      ]
     },
     "execution_count": 19,
     "metadata": {},
     "output_type": "execute_result"
    }
   ],
   "source": [
    "# Examine the additional features made available in full dataset\n",
    "df_full.head()"
   ]
  },
  {
   "cell_type": "markdown",
   "metadata": {},
   "source": [
    "It doesn't look like the four new columns - <code>emp.var.rate</code>, <code>cons.price.idx</code>, <code>euribor3m</code>, <code>nr.employed</code> - are very meaningful, at least at first glance, so maybe the additional data will improve the model accuracy."
   ]
  },
  {
   "cell_type": "code",
   "execution_count": 21,
   "metadata": {
    "collapsed": false
   },
   "outputs": [
    {
     "name": "stdout",
     "output_type": "stream",
     "text": [
      "    age  job  marital  education  default  housing  loan  contact month  \\\n",
      "0    56    3        1          0        0        0     0        1   may   \n",
      "1    57    7        1          3        1        0     0        1   may   \n",
      "2    37    7        1          3        0        2     0        1   may   \n",
      "3    40    0        1          1        0        0     0        1   may   \n",
      "4    56    7        1          3        0        0     2        1   may   \n",
      "5    45    7        1          2        1        0     0        1   may   \n",
      "6    59    0        1          5        0        0     0        1   may   \n",
      "7    41    1        1          7        1        0     0        1   may   \n",
      "8    24    9        2          5        0        2     0        1   may   \n",
      "9    25    7        2          3        0        2     0        1   may   \n",
      "10   41    1        1          7        1        0     0        1   may   \n",
      "11   25    7        2          3        0        2     0        1   may   \n",
      "12   29    1        2          3        0        0     2        1   may   \n",
      "13   57    3        0          0        0        2     0        1   may   \n",
      "14   35    1        1          1        0        2     0        1   may   \n",
      "15   54    5        1          2        1        2     2        1   may   \n",
      "16   35    1        1          1        0        2     0        1   may   \n",
      "17   46    1        1          1        1        2     2        1   may   \n",
      "18   50    1        1          2        0        2     2        1   may   \n",
      "19   39    4        2          2        1        0     0        1   may   \n",
      "\n",
      "   day_of_week ...  campaign  pdays  previous  poutcome  emp.var.rate  \\\n",
      "0          mon ...         1    999         0         1           1.1   \n",
      "1          mon ...         1    999         0         1           1.1   \n",
      "2          mon ...         1    999         0         1           1.1   \n",
      "3          mon ...         1    999         0         1           1.1   \n",
      "4          mon ...         1    999         0         1           1.1   \n",
      "5          mon ...         1    999         0         1           1.1   \n",
      "6          mon ...         1    999         0         1           1.1   \n",
      "7          mon ...         1    999         0         1           1.1   \n",
      "8          mon ...         1    999         0         1           1.1   \n",
      "9          mon ...         1    999         0         1           1.1   \n",
      "10         mon ...         1    999         0         1           1.1   \n",
      "11         mon ...         1    999         0         1           1.1   \n",
      "12         mon ...         1    999         0         1           1.1   \n",
      "13         mon ...         1    999         0         1           1.1   \n",
      "14         mon ...         1    999         0         1           1.1   \n",
      "15         mon ...         1    999         0         1           1.1   \n",
      "16         mon ...         1    999         0         1           1.1   \n",
      "17         mon ...         1    999         0         1           1.1   \n",
      "18         mon ...         1    999         0         1           1.1   \n",
      "19         mon ...         1    999         0         1           1.1   \n",
      "\n",
      "    cons.price.idx  cons.conf.idx  euribor3m  nr.employed  y  \n",
      "0           93.994          -36.4      4.857         5191  0  \n",
      "1           93.994          -36.4      4.857         5191  0  \n",
      "2           93.994          -36.4      4.857         5191  0  \n",
      "3           93.994          -36.4      4.857         5191  0  \n",
      "4           93.994          -36.4      4.857         5191  0  \n",
      "5           93.994          -36.4      4.857         5191  0  \n",
      "6           93.994          -36.4      4.857         5191  0  \n",
      "7           93.994          -36.4      4.857         5191  0  \n",
      "8           93.994          -36.4      4.857         5191  0  \n",
      "9           93.994          -36.4      4.857         5191  0  \n",
      "10          93.994          -36.4      4.857         5191  0  \n",
      "11          93.994          -36.4      4.857         5191  0  \n",
      "12          93.994          -36.4      4.857         5191  0  \n",
      "13          93.994          -36.4      4.857         5191  0  \n",
      "14          93.994          -36.4      4.857         5191  0  \n",
      "15          93.994          -36.4      4.857         5191  0  \n",
      "16          93.994          -36.4      4.857         5191  0  \n",
      "17          93.994          -36.4      4.857         5191  0  \n",
      "18          93.994          -36.4      4.857         5191  0  \n",
      "19          93.994          -36.4      4.857         5191  0  \n",
      "\n",
      "[20 rows x 21 columns]\n"
     ]
    }
   ],
   "source": [
    "# We'll create a test DataFrame to practice feature engineering\n",
    "df_full_test = df_full.copy(deep=True)\n",
    "\n",
    "# Change categorial features from string values to numerical values, starting with the label ('y')\n",
    "df_full_test['y'] = df_full_test.y.map({'no':0,'yes':1})\n",
    "\n",
    "# Choose meaningful string type categorical features to convert to numerical values, then use for-loop combined with\n",
    "# LabelEncoder to change values\n",
    "# columns: 'job', 'marital', 'education', 'default', 'housing', 'loan', 'contact', 'poutcome'\n",
    "# TODO(justindelatorre): Leave out 'contact' feature because it doesn't seem \n",
    "feature_cols = ['job', 'marital', 'education', 'default', 'housing', 'loan', 'contact', 'poutcome']\n",
    "\n",
    "le = LabelEncoder()\n",
    "for col in feature_cols:\n",
    "    df_full_test[col] = le.fit_transform(df_full_test[col])\n",
    "    \n",
    "print df_full_test.head(20)"
   ]
  },
  {
   "cell_type": "code",
   "execution_count": 22,
   "metadata": {
    "collapsed": true
   },
   "outputs": [],
   "source": [
    "X = df_full_test[feature_cols]\n",
    "y = df_full_test.y"
   ]
  },
  {
   "cell_type": "code",
   "execution_count": 23,
   "metadata": {
    "collapsed": false
   },
   "outputs": [
    {
     "data": {
      "text/plain": [
       "DecisionTreeClassifier(compute_importances=None, criterion='gini',\n",
       "            max_depth=8, max_features=None, max_leaf_nodes=None,\n",
       "            min_density=None, min_samples_leaf=1, min_samples_split=2,\n",
       "            random_state=1, splitter='best')"
      ]
     },
     "execution_count": 23,
     "metadata": {},
     "output_type": "execute_result"
    }
   ],
   "source": [
    "treeclf = DecisionTreeClassifier(max_depth=len(feature_cols), random_state=1)\n",
    "treeclf.fit(X, y)"
   ]
  },
  {
   "cell_type": "code",
   "execution_count": 24,
   "metadata": {
    "collapsed": false
   },
   "outputs": [
    {
     "name": "stdout",
     "output_type": "stream",
     "text": [
      "Decision tree accuracy: 0.895478911089\n"
     ]
    }
   ],
   "source": [
    "scores = cross_val_score(treeclf, X, y, cv=10, scoring='accuracy')\n",
    "print 'Decision tree accuracy: {}'.format(np.mean(scores))"
   ]
  },
  {
   "cell_type": "markdown",
   "metadata": {},
   "source": [
    "It seems that adding the full dataset improves more than a full percent."
   ]
  }
 ],
 "metadata": {
  "kernelspec": {
   "display_name": "Python 2",
   "language": "python",
   "name": "python2"
  },
  "language_info": {
   "codemirror_mode": {
    "name": "ipython",
    "version": 2
   },
   "file_extension": ".py",
   "mimetype": "text/x-python",
   "name": "python",
   "nbconvert_exporter": "python",
   "pygments_lexer": "ipython2",
   "version": "2.7.9"
  }
 },
 "nbformat": 4,
 "nbformat_minor": 0
}
