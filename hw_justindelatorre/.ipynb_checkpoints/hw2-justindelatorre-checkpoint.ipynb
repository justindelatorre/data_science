{
 "cells": [
  {
   "cell_type": "markdown",
   "metadata": {},
   "source": [
    "# HW2: KNN and Cross-Validation"
   ]
  },
  {
   "cell_type": "markdown",
   "metadata": {},
   "source": [
    "First, we'll prepare all the packages and the data."
   ]
  },
  {
   "cell_type": "code",
   "execution_count": 18,
   "metadata": {
    "collapsed": true
   },
   "outputs": [],
   "source": [
    "# Import necessary packages and dataset\n",
    "%matplotlib inline\n",
    "from __future__ import division\n",
    "import pandas as pd\n",
    "import numpy as np\n",
    "\n",
    "from seaborn import plt\n",
    "import matplotlib.pyplot as plt\n",
    "from sklearn.datasets import load_iris\n",
    "from matplotlib.colors import ListedColormap\n",
    "from sklearn import neighbors, datasets, feature_selection\n",
    "from sklearn.cross_validation import train_test_split, cross_val_score\n",
    "\n",
    "iris = datasets.load_iris()\n",
    "iris_df = pd.DataFrame(iris.data, columns=iris.feature_names)\n",
    "iris_df['Target'] = iris.target"
   ]
  },
  {
   "cell_type": "code",
   "execution_count": 3,
   "metadata": {
    "collapsed": false
   },
   "outputs": [
    {
     "name": "stdout",
     "output_type": "stream",
     "text": [
      "[1, 2, 3, 4, 5, 6, 7, 8, 9, 10, 11, 12, 13, 14, 15, 16, 17, 18, 19, 20, 21, 22, 23, 24]\n"
     ]
    }
   ],
   "source": [
    "# the values of k in KNN\n",
    "# we will examine the performance on different k values and explore what value gives the best result\n",
    "n_neighbors = range(1, 25, 1)\n",
    "print n_neighbors"
   ]
  },
  {
   "cell_type": "markdown",
   "metadata": {},
   "source": [
    "<b>1. Implement KNN classification, using the sklearn package.</b>"
   ]
  },
  {
   "cell_type": "code",
   "execution_count": 11,
   "metadata": {
    "collapsed": false
   },
   "outputs": [],
   "source": [
    "# Create the training (and test) set using scikit-learn's train_test_split function\n",
    "X_train, X_test, y_train, y_test = train_test_split(iris.data, iris.target, test_size=0.3, random_state=12)"
   ]
  },
  {
   "cell_type": "code",
   "execution_count": 12,
   "metadata": {
    "collapsed": false
   },
   "outputs": [
    {
     "name": "stdout",
     "output_type": "stream",
     "text": [
      "[0.97777777777777775, 0.97777777777777775, 0.97777777777777775, 0.97777777777777775, 0.97777777777777775, 1.0, 0.97777777777777775, 1.0, 0.97777777777777775, 0.97777777777777775, 1.0, 0.97777777777777775, 0.97777777777777775, 0.97777777777777775, 0.97777777777777775, 0.97777777777777775, 0.97777777777777775, 0.97777777777777775, 0.97777777777777775, 0.97777777777777775, 0.97777777777777775, 0.9555555555555556, 0.9555555555555556, 0.97777777777777775]\n"
     ]
    }
   ],
   "source": [
    "# Loop through each neighbors value from 1 to 25 and append\n",
    "# the scores\n",
    "scores = []\n",
    "for n in n_neighbors:\n",
    "    clf = neighbors.KNeighborsClassifier(n)\n",
    "    clf.fit(X_train, y_train)\n",
    "    scores.append(clf.score(X_test, y_test))\n",
    "\n",
    "print scores"
   ]
  },
  {
   "cell_type": "markdown",
   "metadata": {},
   "source": [
    "<b>2. Use the sklearn package to implement cross-validation for your classifier. Use 5 folds for your cross-validation.</b>"
   ]
  },
  {
   "cell_type": "code",
   "execution_count": 13,
   "metadata": {
    "collapsed": false
   },
   "outputs": [],
   "source": [
    "clf = neighbors.KNeighborsClassifier(11, weights='uniform')\n",
    "clf.fit(iris.data, iris.target)\n",
    "clf_scores = cross_val_score(clf, iris_df.values, iris.target, cv=5)"
   ]
  },
  {
   "cell_type": "code",
   "execution_count": 34,
   "metadata": {
    "collapsed": false
   },
   "outputs": [
    {
     "name": "stdout",
     "output_type": "stream",
     "text": [
      "[ 0.93333333  1.          1.          0.96666667  1.        ]\n",
      "0.98\n"
     ]
    }
   ],
   "source": [
    "print clf_scores\n",
    "print clf_scores.mean()"
   ]
  },
  {
   "cell_type": "markdown",
   "metadata": {},
   "source": [
    "<b>3. Use your KNN classifier and cross-validation code from (1) and (2) above to determine the optimal value of K (number of nearest neighbors to consult) for this Iris dataset.</b><br>\n",
    "<i>Hint: This hyperparameter will be a number between 1 and 150 :)</i>"
   ]
  },
  {
   "cell_type": "code",
   "execution_count": 29,
   "metadata": {
    "collapsed": false
   },
   "outputs": [
    {
     "data": {
      "text/plain": [
       "[<matplotlib.lines.Line2D at 0x1099cbe50>]"
      ]
     },
     "execution_count": 29,
     "metadata": {},
     "output_type": "execute_result"
    },
    {
     "data": {
      "image/png": "[encoded data removed]",
      "text/plain": [
       "<matplotlib.figure.Figure at 0x109b5e190>"
      ]
     },
     "metadata": {},
     "output_type": "display_data"
    }
   ],
   "source": [
    "plt.plot(n_neighbors, scores, linewidth=3.0)"
   ]
  },
  {
   "cell_type": "markdown",
   "metadata": {},
   "source": [
    "Based on the plot above, the optimal K-value (hyperparamter) is 11."
   ]
  },
  {
   "cell_type": "markdown",
   "metadata": {},
   "source": [
    "<b>4. Using matplotlib, plot classifier accuracy versus the hyperparameter K for a range of K that you consider interesting. Explain in words what you are seeing.</b>"
   ]
  },
  {
   "cell_type": "code",
   "execution_count": 25,
   "metadata": {
    "collapsed": false
   },
   "outputs": [
    {
     "data": {
      "text/plain": [
       "[<matplotlib.lines.Line2D at 0x1094c70d0>]"
      ]
     },
     "execution_count": 25,
     "metadata": {},
     "output_type": "execute_result"
    },
    {
     "data": {
      "image/png": "[encoded data removed]",
      "text/plain": [
       "<matplotlib.figure.Figure at 0x1094e6750>"
      ]
     },
     "metadata": {},
     "output_type": "display_data"
    }
   ],
   "source": [
    "plt.plot(n_neighbors, scores, linewidth=3.0)"
   ]
  },
  {
   "cell_type": "markdown",
   "metadata": {},
   "source": [
    "Here, we see that, past a certain point, classifier accuracy becomes less and less accurate past the optimal point, which is indicative of overfitting a model to a dataset."
   ]
  },
  {
   "cell_type": "markdown",
   "metadata": {},
   "source": [
    "<b>5. Now, write your own implementation of cross-validation in Python without using the cross-validation methods from sklearn. Cross-validation is a very important concept. Implementing it yourself in Python is the best way to learn and understand it. Compare the results of your cross-validation code with your results using the cross-validation in sklearn.</b>"
   ]
  },
  {
   "cell_type": "markdown",
   "metadata": {},
   "source": [
    "<i>Note: I'm not 100% sure how to do this, so I might just submit this problem as partially complete and re-submit later for review, even if I'm ineligible for credit since it'll be late. I want to make sure I understand this rather than rushing to turn in what I have :) I'll include pseudo-code that hopefully explains my high-level thought process.</i>"
   ]
  },
  {
   "cell_type": "code",
   "execution_count": null,
   "metadata": {
    "collapsed": true
   },
   "outputs": [],
   "source": [
    "# At a high-level, I understand that cross-validation involves:\n",
    "# 1. Splitting the data into partitions\n",
    "# 2. Using one of the partitions as the test data set and a combination of \n",
    "#    rest of the data as the training set, then rinsing-and-repeating using\n",
    "#    each partition as the test set and the rest as the training set\n",
    "# 3. Finding the generalization error each time this process is run through\n",
    "\n",
    "# I'm having trouble specifically with the following when trying to implement\n",
    "# cross-validation on my own:\n",
    "# 1. What method/function can I use to generate the generalization error? I\n",
    "#    suspect that .fit() or .score() do that, but they don't return the\n",
    "#    values I expect..."
   ]
  },
  {
   "cell_type": "markdown",
   "metadata": {},
   "source": [
    "Let's start by creating the different partitions. For this example, we'll use five partitions."
   ]
  },
  {
   "cell_type": "code",
   "execution_count": 48,
   "metadata": {
    "collapsed": false
   },
   "outputs": [
    {
     "name": "stdout",
     "output_type": "stream",
     "text": [
      "[    sepal length (cm)  sepal width (cm)  petal length (cm)  petal width (cm)  \\\n",
      "0                 5.1               3.5                1.4               0.2   \n",
      "1                 4.9               3.0                1.4               0.2   \n",
      "2                 4.7               3.2                1.3               0.2   \n",
      "3                 4.6               3.1                1.5               0.2   \n",
      "4                 5.0               3.6                1.4               0.2   \n",
      "5                 5.4               3.9                1.7               0.4   \n",
      "6                 4.6               3.4                1.4               0.3   \n",
      "7                 5.0               3.4                1.5               0.2   \n",
      "8                 4.4               2.9                1.4               0.2   \n",
      "9                 4.9               3.1                1.5               0.1   \n",
      "10                5.4               3.7                1.5               0.2   \n",
      "11                4.8               3.4                1.6               0.2   \n",
      "12                4.8               3.0                1.4               0.1   \n",
      "13                4.3               3.0                1.1               0.1   \n",
      "14                5.8               4.0                1.2               0.2   \n",
      "15                5.7               4.4                1.5               0.4   \n",
      "16                5.4               3.9                1.3               0.4   \n",
      "17                5.1               3.5                1.4               0.3   \n",
      "18                5.7               3.8                1.7               0.3   \n",
      "19                5.1               3.8                1.5               0.3   \n",
      "20                5.4               3.4                1.7               0.2   \n",
      "21                5.1               3.7                1.5               0.4   \n",
      "22                4.6               3.6                1.0               0.2   \n",
      "23                5.1               3.3                1.7               0.5   \n",
      "24                4.8               3.4                1.9               0.2   \n",
      "25                5.0               3.0                1.6               0.2   \n",
      "26                5.0               3.4                1.6               0.4   \n",
      "27                5.2               3.5                1.5               0.2   \n",
      "28                5.2               3.4                1.4               0.2   \n",
      "29                4.7               3.2                1.6               0.2   \n",
      "\n",
      "    Target  \n",
      "0        0  \n",
      "1        0  \n",
      "2        0  \n",
      "3        0  \n",
      "4        0  \n",
      "5        0  \n",
      "6        0  \n",
      "7        0  \n",
      "8        0  \n",
      "9        0  \n",
      "10       0  \n",
      "11       0  \n",
      "12       0  \n",
      "13       0  \n",
      "14       0  \n",
      "15       0  \n",
      "16       0  \n",
      "17       0  \n",
      "18       0  \n",
      "19       0  \n",
      "20       0  \n",
      "21       0  \n",
      "22       0  \n",
      "23       0  \n",
      "24       0  \n",
      "25       0  \n",
      "26       0  \n",
      "27       0  \n",
      "28       0  \n",
      "29       0  ,     sepal length (cm)  sepal width (cm)  petal length (cm)  petal width (cm)  \\\n",
      "30                4.8               3.1                1.6               0.2   \n",
      "31                5.4               3.4                1.5               0.4   \n",
      "32                5.2               4.1                1.5               0.1   \n",
      "33                5.5               4.2                1.4               0.2   \n",
      "34                4.9               3.1                1.5               0.1   \n",
      "35                5.0               3.2                1.2               0.2   \n",
      "36                5.5               3.5                1.3               0.2   \n",
      "37                4.9               3.1                1.5               0.1   \n",
      "38                4.4               3.0                1.3               0.2   \n",
      "39                5.1               3.4                1.5               0.2   \n",
      "40                5.0               3.5                1.3               0.3   \n",
      "41                4.5               2.3                1.3               0.3   \n",
      "42                4.4               3.2                1.3               0.2   \n",
      "43                5.0               3.5                1.6               0.6   \n",
      "44                5.1               3.8                1.9               0.4   \n",
      "45                4.8               3.0                1.4               0.3   \n",
      "46                5.1               3.8                1.6               0.2   \n",
      "47                4.6               3.2                1.4               0.2   \n",
      "48                5.3               3.7                1.5               0.2   \n",
      "49                5.0               3.3                1.4               0.2   \n",
      "50                7.0               3.2                4.7               1.4   \n",
      "51                6.4               3.2                4.5               1.5   \n",
      "52                6.9               3.1                4.9               1.5   \n",
      "53                5.5               2.3                4.0               1.3   \n",
      "54                6.5               2.8                4.6               1.5   \n",
      "55                5.7               2.8                4.5               1.3   \n",
      "56                6.3               3.3                4.7               1.6   \n",
      "57                4.9               2.4                3.3               1.0   \n",
      "58                6.6               2.9                4.6               1.3   \n",
      "59                5.2               2.7                3.9               1.4   \n",
      "\n",
      "    Target  \n",
      "30       0  \n",
      "31       0  \n",
      "32       0  \n",
      "33       0  \n",
      "34       0  \n",
      "35       0  \n",
      "36       0  \n",
      "37       0  \n",
      "38       0  \n",
      "39       0  \n",
      "40       0  \n",
      "41       0  \n",
      "42       0  \n",
      "43       0  \n",
      "44       0  \n",
      "45       0  \n",
      "46       0  \n",
      "47       0  \n",
      "48       0  \n",
      "49       0  \n",
      "50       1  \n",
      "51       1  \n",
      "52       1  \n",
      "53       1  \n",
      "54       1  \n",
      "55       1  \n",
      "56       1  \n",
      "57       1  \n",
      "58       1  \n",
      "59       1  ,     sepal length (cm)  sepal width (cm)  petal length (cm)  petal width (cm)  \\\n",
      "60                5.0               2.0                3.5               1.0   \n",
      "61                5.9               3.0                4.2               1.5   \n",
      "62                6.0               2.2                4.0               1.0   \n",
      "63                6.1               2.9                4.7               1.4   \n",
      "64                5.6               2.9                3.6               1.3   \n",
      "65                6.7               3.1                4.4               1.4   \n",
      "66                5.6               3.0                4.5               1.5   \n",
      "67                5.8               2.7                4.1               1.0   \n",
      "68                6.2               2.2                4.5               1.5   \n",
      "69                5.6               2.5                3.9               1.1   \n",
      "70                5.9               3.2                4.8               1.8   \n",
      "71                6.1               2.8                4.0               1.3   \n",
      "72                6.3               2.5                4.9               1.5   \n",
      "73                6.1               2.8                4.7               1.2   \n",
      "74                6.4               2.9                4.3               1.3   \n",
      "75                6.6               3.0                4.4               1.4   \n",
      "76                6.8               2.8                4.8               1.4   \n",
      "77                6.7               3.0                5.0               1.7   \n",
      "78                6.0               2.9                4.5               1.5   \n",
      "79                5.7               2.6                3.5               1.0   \n",
      "80                5.5               2.4                3.8               1.1   \n",
      "81                5.5               2.4                3.7               1.0   \n",
      "82                5.8               2.7                3.9               1.2   \n",
      "83                6.0               2.7                5.1               1.6   \n",
      "84                5.4               3.0                4.5               1.5   \n",
      "85                6.0               3.4                4.5               1.6   \n",
      "86                6.7               3.1                4.7               1.5   \n",
      "87                6.3               2.3                4.4               1.3   \n",
      "88                5.6               3.0                4.1               1.3   \n",
      "89                5.5               2.5                4.0               1.3   \n",
      "\n",
      "    Target  \n",
      "60       1  \n",
      "61       1  \n",
      "62       1  \n",
      "63       1  \n",
      "64       1  \n",
      "65       1  \n",
      "66       1  \n",
      "67       1  \n",
      "68       1  \n",
      "69       1  \n",
      "70       1  \n",
      "71       1  \n",
      "72       1  \n",
      "73       1  \n",
      "74       1  \n",
      "75       1  \n",
      "76       1  \n",
      "77       1  \n",
      "78       1  \n",
      "79       1  \n",
      "80       1  \n",
      "81       1  \n",
      "82       1  \n",
      "83       1  \n",
      "84       1  \n",
      "85       1  \n",
      "86       1  \n",
      "87       1  \n",
      "88       1  \n",
      "89       1  ,      sepal length (cm)  sepal width (cm)  petal length (cm)  petal width (cm)  \\\n",
      "90                 5.5               2.6                4.4               1.2   \n",
      "91                 6.1               3.0                4.6               1.4   \n",
      "92                 5.8               2.6                4.0               1.2   \n",
      "93                 5.0               2.3                3.3               1.0   \n",
      "94                 5.6               2.7                4.2               1.3   \n",
      "95                 5.7               3.0                4.2               1.2   \n",
      "96                 5.7               2.9                4.2               1.3   \n",
      "97                 6.2               2.9                4.3               1.3   \n",
      "98                 5.1               2.5                3.0               1.1   \n",
      "99                 5.7               2.8                4.1               1.3   \n",
      "100                6.3               3.3                6.0               2.5   \n",
      "101                5.8               2.7                5.1               1.9   \n",
      "102                7.1               3.0                5.9               2.1   \n",
      "103                6.3               2.9                5.6               1.8   \n",
      "104                6.5               3.0                5.8               2.2   \n",
      "105                7.6               3.0                6.6               2.1   \n",
      "106                4.9               2.5                4.5               1.7   \n",
      "107                7.3               2.9                6.3               1.8   \n",
      "108                6.7               2.5                5.8               1.8   \n",
      "109                7.2               3.6                6.1               2.5   \n",
      "110                6.5               3.2                5.1               2.0   \n",
      "111                6.4               2.7                5.3               1.9   \n",
      "112                6.8               3.0                5.5               2.1   \n",
      "113                5.7               2.5                5.0               2.0   \n",
      "114                5.8               2.8                5.1               2.4   \n",
      "115                6.4               3.2                5.3               2.3   \n",
      "116                6.5               3.0                5.5               1.8   \n",
      "117                7.7               3.8                6.7               2.2   \n",
      "118                7.7               2.6                6.9               2.3   \n",
      "119                6.0               2.2                5.0               1.5   \n",
      "\n",
      "     Target  \n",
      "90        1  \n",
      "91        1  \n",
      "92        1  \n",
      "93        1  \n",
      "94        1  \n",
      "95        1  \n",
      "96        1  \n",
      "97        1  \n",
      "98        1  \n",
      "99        1  \n",
      "100       2  \n",
      "101       2  \n",
      "102       2  \n",
      "103       2  \n",
      "104       2  \n",
      "105       2  \n",
      "106       2  \n",
      "107       2  \n",
      "108       2  \n",
      "109       2  \n",
      "110       2  \n",
      "111       2  \n",
      "112       2  \n",
      "113       2  \n",
      "114       2  \n",
      "115       2  \n",
      "116       2  \n",
      "117       2  \n",
      "118       2  \n",
      "119       2  ,      sepal length (cm)  sepal width (cm)  petal length (cm)  petal width (cm)  \\\n",
      "120                6.9               3.2                5.7               2.3   \n",
      "121                5.6               2.8                4.9               2.0   \n",
      "122                7.7               2.8                6.7               2.0   \n",
      "123                6.3               2.7                4.9               1.8   \n",
      "124                6.7               3.3                5.7               2.1   \n",
      "125                7.2               3.2                6.0               1.8   \n",
      "126                6.2               2.8                4.8               1.8   \n",
      "127                6.1               3.0                4.9               1.8   \n",
      "128                6.4               2.8                5.6               2.1   \n",
      "129                7.2               3.0                5.8               1.6   \n",
      "130                7.4               2.8                6.1               1.9   \n",
      "131                7.9               3.8                6.4               2.0   \n",
      "132                6.4               2.8                5.6               2.2   \n",
      "133                6.3               2.8                5.1               1.5   \n",
      "134                6.1               2.6                5.6               1.4   \n",
      "135                7.7               3.0                6.1               2.3   \n",
      "136                6.3               3.4                5.6               2.4   \n",
      "137                6.4               3.1                5.5               1.8   \n",
      "138                6.0               3.0                4.8               1.8   \n",
      "139                6.9               3.1                5.4               2.1   \n",
      "140                6.7               3.1                5.6               2.4   \n",
      "141                6.9               3.1                5.1               2.3   \n",
      "142                5.8               2.7                5.1               1.9   \n",
      "143                6.8               3.2                5.9               2.3   \n",
      "144                6.7               3.3                5.7               2.5   \n",
      "145                6.7               3.0                5.2               2.3   \n",
      "146                6.3               2.5                5.0               1.9   \n",
      "147                6.5               3.0                5.2               2.0   \n",
      "148                6.2               3.4                5.4               2.3   \n",
      "149                5.9               3.0                5.1               1.8   \n",
      "\n",
      "     Target  \n",
      "120       2  \n",
      "121       2  \n",
      "122       2  \n",
      "123       2  \n",
      "124       2  \n",
      "125       2  \n",
      "126       2  \n",
      "127       2  \n",
      "128       2  \n",
      "129       2  \n",
      "130       2  \n",
      "131       2  \n",
      "132       2  \n",
      "133       2  \n",
      "134       2  \n",
      "135       2  \n",
      "136       2  \n",
      "137       2  \n",
      "138       2  \n",
      "139       2  \n",
      "140       2  \n",
      "141       2  \n",
      "142       2  \n",
      "143       2  \n",
      "144       2  \n",
      "145       2  \n",
      "146       2  \n",
      "147       2  \n",
      "148       2  \n",
      "149       2  ]\n"
     ]
    }
   ],
   "source": [
    "# This is where I get stuck :(\n",
    "\n",
    "# Set the reference points of each DataFrame partition\n",
    "num_partitions = 5\n",
    "len_partition_1 = int(len(iris_df) / num_partitions)\n",
    "len_partition_2 = 2 * (len_partition_1)\n",
    "len_partition_3 = 3 * (len_partition_1)\n",
    "len_partition_4 = 4 * (len_partition_1)\n",
    "len_partition_5 = 5 * (len_partition_1)\n",
    "\n",
    "# Create the partitions using the reference points above\n",
    "iris_df_1 = iris_df[0:len_partition_1]\n",
    "iris_df_2 = iris_df[len_partition_1:len_partition_2]\n",
    "iris_df_3 = iris_df[len_partition_2:len_partition_3]\n",
    "iris_df_4 = iris_df[len_partition_3:len_partition_4]\n",
    "iris_df_5 = iris_df[len_partition_4:len_partition_5]\n",
    "\n",
    "iris_partitions = [iris_df_1,\n",
    "                   iris_df_2,\n",
    "                   iris_df_3,\n",
    "                   iris_df_4,\n",
    "                   iris_df_5]\n",
    "\n",
    "new_scores = []\n",
    "for partition in iris_partitions: # loop through each partition as the test data\n",
    "    clf = neighbors.KNeighborsClassifier(11)\n",
    "    clf.fit()\n",
    "    scores.append(clf.score())"
   ]
  },
  {
   "cell_type": "markdown",
   "metadata": {},
   "source": [
    "<b>6. EXTRA CREDIT 1: Using the value of K obtained in (3) above, vary the number of folds used for cross-validation across an interesting range, e.g. [ 2, 3, 5, 6, 10, 15]. How does classifier accuracy vary with the number of folds used? Do you think there exists an optimal number of folds to use for this particular problem? Why or why not?</b>"
   ]
  },
  {
   "cell_type": "code",
   "execution_count": 44,
   "metadata": {
    "collapsed": false
   },
   "outputs": [
    {
     "data": {
      "text/plain": [
       "[<matplotlib.lines.Line2D at 0x108e70890>]"
      ]
     },
     "execution_count": 44,
     "metadata": {},
     "output_type": "execute_result"
    },
    {
     "data": {
      "image/png": "[encoded data removed]",
      "text/plain": [
       "<matplotlib.figure.Figure at 0x108ddc790>"
      ]
     },
     "metadata": {},
     "output_type": "display_data"
    }
   ],
   "source": [
    "ec_range = range(2, 15, 1)\n",
    "ec_scores = []\n",
    "\n",
    "ec_clf = neighbors.KNeighborsClassifier(11, weights='uniform')\n",
    "ec_clf.fit(iris.data, iris.target)\n",
    "\n",
    "for num in ec_range:\n",
    "  ec_scores.append(cross_val_score(ec_clf, iris_df.values, iris.target, cv=num).mean())\n",
    "\n",
    "plt.plot(ec_range, ec_scores, linewidth=3.0)"
   ]
  },
  {
   "cell_type": "markdown",
   "metadata": {},
   "source": [
    "Assuming I did the above example correctly, It looks like accuracy plateaus at >2 folds until we reach 15."
   ]
  },
  {
   "cell_type": "markdown",
   "metadata": {},
   "source": [
    "<b>7. EXTRA CREDIT 2: Write your own implementation of KNN classification in Python, without using the methods from sklearn. Compare your results with the results you obtained using sklearn.</b>"
   ]
  },
  {
   "cell_type": "code",
   "execution_count": null,
   "metadata": {
    "collapsed": true
   },
   "outputs": [],
   "source": []
  }
 ],
 "metadata": {
  "kernelspec": {
   "display_name": "Python 2",
   "language": "python",
   "name": "python2"
  },
  "language_info": {
   "codemirror_mode": {
    "name": "ipython",
    "version": 2
   },
   "file_extension": ".py",
   "mimetype": "text/x-python",
   "name": "python",
   "nbconvert_exporter": "python",
   "pygments_lexer": "ipython2",
   "version": "2.7.9"
  }
 },
 "nbformat": 4,
 "nbformat_minor": 0
}
