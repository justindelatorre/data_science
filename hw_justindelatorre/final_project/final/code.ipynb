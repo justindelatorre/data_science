{
 "cells": [
  {
   "cell_type": "markdown",
   "metadata": {},
   "source": [
    "#Part I: Data Munging"
   ]
  },
  {
   "cell_type": "markdown",
   "metadata": {},
   "source": [
    "<b>Data Sources:</b>\n",
    "<ul>\n",
    "<li>Inaugural Addresses and States of the Union: Project Gutenberg</li>\n",
    "<li>[Presidential Data](http://www.infoplease.com/ipa/A0194030.html): Infoplease</li>\n",
    "<li>[Presidential Rankings](https://en.wikipedia.org/wiki/Historical_rankings_of_Presidents_of_the_United_States#Five_Thirty_Eight_analysis): Wikipedia/538</li>\n",
    "</ul>\n",
    "\n",
    "Structured data can be found [here](https://docs.google.com/spreadsheets/d/1cujFV5JLRivY-k6LMEDCP8_zapHUtwNCdb9Qr8h2gOQ/edit#gid=0)."
   ]
  },
  {
   "cell_type": "markdown",
   "metadata": {},
   "source": [
    "###<i>Step 1: Parsing Speech Text</i>"
   ]
  },
  {
   "cell_type": "markdown",
   "metadata": {},
   "source": [
    "First, let's import all the packages we'll need to clean the data:\n",
    "<ul>\n",
    "<li><code>re</code> for regular expression functions</li>\n",
    "<li><code>pprint</code> to make printing more readable</li>\n",
    "<li><code>string</code> to clean string values</li>\n",
    "<li><code>pandas</code> because <i>duh</i></li>\n",
    "<li><code>numpy</code> because math</li>\n",
    "<li><code>matplotlib.pyplot</code> for charts</li>\n",
    "<li><code>CountVectorizer</code> for parsing tokens and removing stop words</li>\n",
    "</ul>"
   ]
  },
  {
   "cell_type": "code",
   "execution_count": 51,
   "metadata": {
    "collapsed": true
   },
   "outputs": [],
   "source": [
    "%matplotlib inline\n",
    "\n",
    "import re\n",
    "import pprint as pp\n",
    "import string\n",
    "import pandas as pd\n",
    "import numpy as np\n",
    "import matplotlib.pyplot as plt\n",
    "from sklearn.feature_extraction.text import CountVectorizer"
   ]
  },
  {
   "cell_type": "markdown",
   "metadata": {},
   "source": [
    "Next, we'll open the text files and read them into Python objects that can be parsed."
   ]
  },
  {
   "cell_type": "code",
   "execution_count": 52,
   "metadata": {
    "collapsed": true
   },
   "outputs": [],
   "source": [
    "# Inaugural Address text\n",
    "inaugural = open('../data/inaugural.txt', 'r')\n",
    "inaugural_text = inaugural.read()\n",
    "\n",
    "# State of the Union text\n",
    "sotu = open('../data/sotu.txt', 'r')\n",
    "sotu_text = sotu.read()"
   ]
  },
  {
   "cell_type": "markdown",
   "metadata": {},
   "source": [
    "First, we'll parse the inaugural speech data using <code>re</code> modules. We'll begin by creating a list of speech titles which will act as speech IDs."
   ]
  },
  {
   "cell_type": "code",
   "execution_count": 53,
   "metadata": {
    "collapsed": true
   },
   "outputs": [],
   "source": [
    "raw_speech_id_list = re.findall(r'\\*\\s\\*\\s\\*\\s\\*\\s\\*([\\w\\s\\,\\.]+)ADDRESS',\n",
    "                                inaugural_text)"
   ]
  },
  {
   "cell_type": "markdown",
   "metadata": {},
   "source": [
    "We'll use a <code>string</code> method (<code>strip</code>) to remove extraneous characters from the title list first. Later, we'll create a <code>dict</code> object that will have each title as a key and each full speech text as a value."
   ]
  },
  {
   "cell_type": "code",
   "execution_count": 54,
   "metadata": {
    "collapsed": true
   },
   "outputs": [],
   "source": [
    "stripped_id_list = [string.strip(title, \"\\r\\n \") for title in raw_speech_id_list]"
   ]
  },
  {
   "cell_type": "markdown",
   "metadata": {},
   "source": [
    "Let's move on to cleaning the speech text since we've cleaned the titles.\n",
    "\n",
    "All the speeches in the text file are separated by \\* \\* \\* \\* \\* delimiters, so we'll use <code>re.split</code> again to extract all the text between the delimiters."
   ]
  },
  {
   "cell_type": "code",
   "execution_count": 55,
   "metadata": {
    "collapsed": true
   },
   "outputs": [],
   "source": [
    "raw_speech = re.split(r'\\*\\s\\*\\s\\*\\s\\*\\s\\*', inaugural_text)"
   ]
  },
  {
   "cell_type": "markdown",
   "metadata": {},
   "source": [
    "Next, we'll use <code>re.sub</code> to replace the \"Transcriber's Notes\" because we only want the speech text for each inaugural address. We'll also ignore the first and last elements in the <code>raw_speech</code> list because it isn't actually speech text."
   ]
  },
  {
   "cell_type": "code",
   "execution_count": 56,
   "metadata": {
    "collapsed": false
   },
   "outputs": [
    {
     "name": "stdout",
     "output_type": "stream",
     "text": [
      "55\n"
     ]
    }
   ],
   "source": [
    "speeches = [re.sub(r'^([\\w\\W\\s]+)\\]', \"\", speech) for speech in raw_speech[1:len(raw_speech)-1]]\n",
    "\n",
    "print len(speeches)"
   ]
  },
  {
   "cell_type": "markdown",
   "metadata": {},
   "source": [
    "Finally, we'll use a combination of <code>re.sub</code> and <code>string.strip</code> to clean up all the extra spaces and newline characters in each speech."
   ]
  },
  {
   "cell_type": "code",
   "execution_count": 57,
   "metadata": {
    "collapsed": false
   },
   "outputs": [
    {
     "name": "stdout",
     "output_type": "stream",
     "text": [
      "55\n"
     ]
    }
   ],
   "source": [
    "clean_speeches = []\n",
    "[clean_speeches.append(re.sub(r'\\r\\n',\n",
    "                              \" \",\n",
    "                              string.strip(speech,\n",
    "                                           \"\\r\\n\"))) \n",
    " for speech in speeches]\n",
    "\n",
    "print len(clean_speeches)"
   ]
  },
  {
   "cell_type": "markdown",
   "metadata": {},
   "source": [
    "It looks like most of the works is done, but you'll see that the last three speeches still contain extranous test (mostly speech IDs) that should be removed, so we'll take the last use <code>re.sub</code> on the last three to extract the last bit of cruft before moving on."
   ]
  },
  {
   "cell_type": "code",
   "execution_count": 58,
   "metadata": {
    "collapsed": true
   },
   "outputs": [],
   "source": [
    "clean_speeches_inaugural = [re.sub(r'([A-Z0-9\\,\\.\\s]+)\\s{3}', \"\", speech) \n",
    "                            for speech in clean_speeches]"
   ]
  },
  {
   "cell_type": "markdown",
   "metadata": {},
   "source": [
    "Now that the inaugural data is clean, let's follow similar steps to clean the State of the Union (SOTU) speeches. Again, we'll use <code>re</code> modules to extract the text.\n",
    "\n",
    "First, we'll create a list of titles that will serve as speech IDs. Rather than extracting using Python, however, it'll be easier to just copy and paste the SOTU titles and load it into a Python list :)"
   ]
  },
  {
   "cell_type": "code",
   "execution_count": 59,
   "metadata": {
    "collapsed": false
   },
   "outputs": [
    {
     "name": "stdout",
     "output_type": "stream",
     "text": [
      "['GEORGE WASHINGTON, STATE OF THE UNION ADDRESS',\n",
      " 'GEORGE WASHINGTON, STATE OF THE UNION ADDRESS']\n"
     ]
    }
   ],
   "source": [
    "raw_speech_id_list_sotu = [\n",
    "'George Washington, State of the Union Address',\n",
    "'George Washington, State of the Union Address',\n",
    "'George Washington, State of the Union Address',\n",
    "'George Washington, State of the Union Address',\n",
    "'George Washington, State of the Union Address',\n",
    "'George Washington, State of the Union Address',\n",
    "'George Washington, State of the Union Address',\n",
    "'George Washington, State of the Union Address',\n",
    "'John Adams, State of the Union Address',\n",
    "'John Adams, State of the Union Address',\n",
    "'John Adams, State of the Union Address',\n",
    "'John Adams, State of the Union Address',\n",
    "'Thomas Jefferson, State of the Union Address',\n",
    "'Thomas Jefferson, State of the Union Address',\n",
    "'Thomas Jefferson, State of the Union Address',\n",
    "'Thomas Jefferson, State of the Union Address',\n",
    "'Thomas Jefferson, State of the Union Address',\n",
    "'Thomas Jefferson, State of the Union Address',\n",
    "'Thomas Jefferson, State of the Union Address',\n",
    "'Thomas Jefferson, State of the Union Address',\n",
    "'James Madison, State of the Union Address',\n",
    "'James Madison, State of the Union Address',\n",
    "'James Madison, State of the Union Address',\n",
    "'James Madison, State of the Union Address',\n",
    "'James Madison, State of the Union Address',\n",
    "'James Madison, State of the Union Address',\n",
    "'James Madison, State of the Union Address',\n",
    "'James Madison, State of the Union Address',\n",
    "'James Monroe, State of the Union Address',\n",
    "'James Monroe, State of the Union Address',\n",
    "'James Monroe, State of the Union Address',\n",
    "'James Monroe, State of the Union Address',\n",
    "'James Monroe, State of the Union Address',\n",
    "'James Monroe, State of the Union Address',\n",
    "'James Monroe, State of the Union Address',\n",
    "'James Monroe, State of the Union Address',\n",
    "'John Quincy Adams, State of the Union Address',\n",
    "'John Quincy Adams, State of the Union Address',\n",
    "'John Quincy Adams, State of the Union Address',\n",
    "'John Quincy Adams, State of the Union Address',\n",
    "'Andrew Jackson, State of the Union Address',\n",
    "'Andrew Jackson, State of the Union Address',\n",
    "'Andrew Jackson, State of the Union Address',\n",
    "'Andrew Jackson, State of the Union Address',\n",
    "'Andrew Jackson, State of the Union Address',\n",
    "'Andrew Jackson, State of the Union Address',\n",
    "'Andrew Jackson, State of the Union Address',\n",
    "'Andrew Jackson, State of the Union Address',\n",
    "'Martin van Buren, State of the Union Address',\n",
    "'Martin van Buren, State of the Union Address',\n",
    "'Martin van Buren, State of the Union Address',\n",
    "'Martin van Buren, State of the Union Address',\n",
    "'John Tyler, State of the Union Address',\n",
    "'John Tyler, State of the Union Address',\n",
    "'John Tyler, State of the Union Address',\n",
    "'John Tyler, State of the Union Address',\n",
    "'James Polk, State of the Union Address',\n",
    "'James Polk, State of the Union Address',\n",
    "'James Polk, State of the Union Address',\n",
    "'James Polk, State of the Union Address',\n",
    "'Zachary Taylor, State of the Union Address',\n",
    "'Millard Fillmore, State of the Union Address',\n",
    "'Millard Fillmore, State of the Union Address',\n",
    "'Millard Fillmore, State of the Union Address',\n",
    "'Franklin Pierce, State of the Union Address',\n",
    "'Franklin Pierce, State of the Union Address',\n",
    "'Franklin Pierce, State of the Union Address',\n",
    "'Franklin Pierce, State of the Union Address',\n",
    "'James Buchanan, State of the Union Address',\n",
    "'James Buchanan, State of the Union Address',\n",
    "'James Buchanan, State of the Union Address',\n",
    "'James Buchanan, State of the Union Address',\n",
    "'Abraham Lincoln, State of the Union Address',\n",
    "'Abraham Lincoln, State of the Union Address',\n",
    "'Abraham Lincoln, State of the Union Address',\n",
    "'Abraham Lincoln, State of the Union Address',\n",
    "'Andrew Johnson, State of the Union Address',\n",
    "'Andrew Johnson, State of the Union Address',\n",
    "'Andrew Johnson, State of the Union Address',\n",
    "'Andrew Johnson, State of the Union Address',\n",
    "'Ulysses S. Grant, State of the Union Address',\n",
    "'Ulysses S. Grant, State of the Union Address',\n",
    "'Ulysses S. Grant, State of the Union Address',\n",
    "'Ulysses S. Grant, State of the Union Address',\n",
    "'Ulysses S. Grant, State of the Union Address',\n",
    "'Ulysses S. Grant, State of the Union Address',\n",
    "'Ulysses S. Grant, State of the Union Address',\n",
    "'Ulysses S. Grant, State of the Union Address',\n",
    "'Rutherford B. Hayes, State of the Union Address',\n",
    "'Rutherford B. Hayes, State of the Union Address',\n",
    "'Rutherford B. Hayes, State of the Union Address',\n",
    "'Rutherford B. Hayes, State of the Union Address',\n",
    "'Chester A. Arthur, State of the Union Address',\n",
    "'Chester A. Arthur, State of the Union Address',\n",
    "'Chester A. Arthur, State of the Union Address',\n",
    "'Chester A. Arthur, State of the Union Address',\n",
    "'Grover Cleveland, State of the Union Address',\n",
    "'Grover Cleveland, State of the Union Address',\n",
    "'Grover Cleveland, State of the Union Address',\n",
    "'Grover Cleveland, State of the Union Address',\n",
    "'Benjamin Harrison, State of the Union Address',\n",
    "'Benjamin Harrison, State of the Union Address',\n",
    "'Benjamin Harrison, State of the Union Address',\n",
    "'Benjamin Harrison, State of the Union Address',\n",
    "'William McKinley, State of the Union Address',\n",
    "'William McKinley, State of the Union Address',\n",
    "'William McKinley, State of the Union Address',\n",
    "'William McKinley, State of the Union Address',\n",
    "'Theodore Roosevelt, State of the Union Address',\n",
    "'Theodore Roosevelt, State of the Union Address',\n",
    "'Theodore Roosevelt, State of the Union Address',\n",
    "'Theodore Roosevelt, State of the Union Address',\n",
    "'Theodore Roosevelt, State of the Union Address',\n",
    "'Theodore Roosevelt, State of the Union Address',\n",
    "'Theodore Roosevelt, State of the Union Address',\n",
    "'Theodore Roosevelt, State of the Union Address',\n",
    "'William H. Taft, State of the Union Address',\n",
    "'William H. Taft, State of the Union Address',\n",
    "'William H. Taft, State of the Union Address',\n",
    "'William H. Taft, State of the Union Address',\n",
    "'Woodrow Wilson, State of the Union Address',\n",
    "'Woodrow Wilson, State of the Union Address',\n",
    "'Woodrow Wilson, State of the Union Address',\n",
    "'Woodrow Wilson, State of the Union Address',\n",
    "'Woodrow Wilson, State of the Union Address',\n",
    "'Woodrow Wilson, State of the Union Address',\n",
    "'Woodrow Wilson, State of the Union Address',\n",
    "'Woodrow Wilson, State of the Union Address',\n",
    "'Warren Harding, State of the Union Address',\n",
    "'Warren Harding, State of the Union Address',\n",
    "'Calvin Coolidge, State of the Union Address',\n",
    "'Calvin Coolidge, State of the Union Address',\n",
    "'Calvin Coolidge, State of the Union Address',\n",
    "'Calvin Coolidge, State of the Union Address',\n",
    "'Calvin Coolidge, State of the Union Address',\n",
    "'Calvin Coolidge, State of the Union Address',\n",
    "'Herbert Hoover, State of the Union Address',\n",
    "'Herbert Hoover, State of the Union Address',\n",
    "'Herbert Hoover, State of the Union Address',\n",
    "'Herbert Hoover, State of the Union Address',\n",
    "'Franklin D. Roosevelt, State of the Union Address',\n",
    "'Franklin D. Roosevelt, State of the Union Address',\n",
    "'Franklin D. Roosevelt, State of the Union Address',\n",
    "'Franklin D. Roosevelt, State of the Union Address',\n",
    "'Franklin D. Roosevelt, State of the Union Address',\n",
    "'Franklin D. Roosevelt, State of the Union Address',\n",
    "'Franklin D. Roosevelt, State of the Union Address',\n",
    "'Franklin D. Roosevelt, State of the Union Address',\n",
    "'Franklin D. Roosevelt, State of the Union Address',\n",
    "'Franklin D. Roosevelt, State of the Union Address',\n",
    "'Franklin D. Roosevelt, State of the Union Address',\n",
    "'Franklin D. Roosevelt, State of the Union Address',\n",
    "'Harry S. Truman, State of the Union Address',\n",
    "'Harry S. Truman, State of the Union Address',\n",
    "'Harry S. Truman, State of the Union Address',\n",
    "'Harry S. Truman, State of the Union Address',\n",
    "'Harry S. Truman, State of the Union Address',\n",
    "'Harry S. Truman, State of the Union Address',\n",
    "'Harry S. Truman, State of the Union Address',\n",
    "'Harry S. Truman, State of the Union Address',\n",
    "'Dwight D. Eisenhower, State of the Union Address',\n",
    "'Dwight D. Eisenhower, State of the Union Address',\n",
    "'Dwight D. Eisenhower, State of the Union Address',\n",
    "'Dwight D. Eisenhower, State of the Union Address',\n",
    "'Dwight D. Eisenhower, State of the Union Address',\n",
    "'Dwight D. Eisenhower, State of the Union Address',\n",
    "'Dwight D. Eisenhower, State of the Union Address',\n",
    "'Dwight D. Eisenhower, State of the Union Address',\n",
    "'Dwight D. Eisenhower, State of the Union Address',\n",
    "'John F. Kennedy, State of the Union Address',\n",
    "'John F. Kennedy, State of the Union Address',\n",
    "'John F. Kennedy, State of the Union Address',\n",
    "'Lyndon B. Johnson, State of the Union Address',\n",
    "'Lyndon B. Johnson, State of the Union Address',\n",
    "'Lyndon B. Johnson, State of the Union Address',\n",
    "'Lyndon B. Johnson, State of the Union Address',\n",
    "'Lyndon B. Johnson, State of the Union Address',\n",
    "'Lyndon B. Johnson, State of the Union Address',\n",
    "'Richard Nixon, State of the Union Address',\n",
    "'Richard Nixon, State of the Union Address',\n",
    "'Richard Nixon, State of the Union Address',\n",
    "'Richard Nixon, State of the Union Address',\n",
    "'Richard Nixon, State of the Union Address',\n",
    "'Gerald R. Ford, State of the Union Address',\n",
    "'Gerald R. Ford, State of the Union Address',\n",
    "'Gerald R. Ford, State of the Union Address',\n",
    "'Jimmy Carter, State of the Union Address',\n",
    "'Jimmy Carter, State of the Union Address',\n",
    "'Jimmy Carter, State of the Union Address',\n",
    "'Jimmy Carter, State of the Union Address',\n",
    "'Ronald Reagan, State of the Union Address',\n",
    "'Ronald Reagan, State of the Union Address',\n",
    "'Ronald Reagan, State of the Union Address',\n",
    "'Ronald Reagan, State of the Union Address',\n",
    "'Ronald Reagan, State of the Union Address',\n",
    "'Ronald Reagan, State of the Union Address',\n",
    "'Ronald Reagan, State of the Union Address',\n",
    "'George H.W. Bush, State of the Union Address',\n",
    "'George H.W. Bush, State of the Union Address',\n",
    "'George H.W. Bush, State of the Union Address',\n",
    "'William J. Clinton, State of the Union Address',\n",
    "'William J. Clinton, State of the Union Address',\n",
    "'William J. Clinton, State of the Union Address',\n",
    "'William J. Clinton, State of the Union Address',\n",
    "'William J. Clinton, State of the Union Address',\n",
    "'William J. Clinton, State of the Union Address',\n",
    "'William J. Clinton, State of the Union Address',\n",
    "'George W. Bush, State of the Union Address',\n",
    "'George W. Bush, State of the Union Address',\n",
    "'George W. Bush, State of the Union Address',\n",
    "'George W. Bush, State of the Union Address',\n",
    "'George W. Bush, State of the Union Address',\n",
    "'George W. Bush, State of the Union Address',\n",
    "'George W. Bush, State of the Union Address'\n",
    "]\n",
    "\n",
    "# Capitalize speech IDs to conform to Inaugural Address data\n",
    "raw_speech_id_list_sotu_caps = []\n",
    "[raw_speech_id_list_sotu_caps.append(item.upper()) for item in raw_speech_id_list_sotu]\n",
    "\n",
    "pp.pprint(raw_speech_id_list_sotu_caps[:2])"
   ]
  },
  {
   "cell_type": "code",
   "execution_count": 60,
   "metadata": {
    "collapsed": false
   },
   "outputs": [
    {
     "name": "stdout",
     "output_type": "stream",
     "text": [
      "['GEORGE WASHINGTON, STATE OF THE UNION',\n",
      " 'GEORGE WASHINGTON, STATE OF THE UNION']\n"
     ]
    }
   ],
   "source": [
    "# Parse out speech IDs and append them to a list\n",
    "speech_id_list_sotu = []\n",
    "[speech_id_list_sotu.append(re.findall(r'^(.*?)\\sADDRESS',\n",
    "                                       speech)[0])\n",
    " for speech in raw_speech_id_list_sotu_caps]\n",
    "\n",
    "pp.pprint(speech_id_list_sotu[:2])"
   ]
  },
  {
   "cell_type": "code",
   "execution_count": 61,
   "metadata": {
    "collapsed": true
   },
   "outputs": [],
   "source": [
    "# Combine the speech IDs into a single list\n",
    "title_list = stripped_id_list + speech_id_list_sotu"
   ]
  },
  {
   "cell_type": "markdown",
   "metadata": {},
   "source": [
    "Now we're going to add each president's number to each of the titles in <code>title_list</code>, which will make for easier joining when we add personal details and rankings."
   ]
  },
  {
   "cell_type": "code",
   "execution_count": 62,
   "metadata": {
    "collapsed": false
   },
   "outputs": [],
   "source": [
    "# Write speech DataFrame data to a file\n",
    "file_df = open('../data/ids.csv', 'w')\n",
    "for row in title_list:\n",
    "    file_df.write(row)\n",
    "    file_df.write('\\n')\n",
    "\n",
    "file_df.close()"
   ]
  },
  {
   "cell_type": "markdown",
   "metadata": {},
   "source": [
    "Normally, we'd find a way to add the actual order numbers programmatically, but since there are relatively few records in the dataset, we can just do it by hand, then re-upload the CSV with the new values."
   ]
  },
  {
   "cell_type": "code",
   "execution_count": 63,
   "metadata": {
    "collapsed": false
   },
   "outputs": [
    {
     "data": {
      "text/html": [
       "<div style=\"max-height:1000px;max-width:1500px;overflow:auto;\">\n",
       "<table border=\"1\" class=\"dataframe\">\n",
       "  <thead>\n",
       "    <tr style=\"text-align: right;\">\n",
       "      <th></th>\n",
       "      <th>id</th>\n",
       "      <th> name</th>\n",
       "      <th> speech</th>\n",
       "    </tr>\n",
       "  </thead>\n",
       "  <tbody>\n",
       "    <tr>\n",
       "      <th>0</th>\n",
       "      <td> 1</td>\n",
       "      <td>  GEORGE WASHINGTON</td>\n",
       "      <td>   FIRST INAUGURAL</td>\n",
       "    </tr>\n",
       "    <tr>\n",
       "      <th>1</th>\n",
       "      <td> 1</td>\n",
       "      <td>  GEORGE WASHINGTON</td>\n",
       "      <td>  SECOND INAUGURAL</td>\n",
       "    </tr>\n",
       "    <tr>\n",
       "      <th>2</th>\n",
       "      <td> 2</td>\n",
       "      <td>         JOHN ADAMS</td>\n",
       "      <td>         INAUGURAL</td>\n",
       "    </tr>\n",
       "    <tr>\n",
       "      <th>3</th>\n",
       "      <td> 3</td>\n",
       "      <td>   THOMAS JEFFERSON</td>\n",
       "      <td>   FIRST INAUGURAL</td>\n",
       "    </tr>\n",
       "    <tr>\n",
       "      <th>4</th>\n",
       "      <td> 3</td>\n",
       "      <td>   THOMAS JEFFERSON</td>\n",
       "      <td>  SECOND INAUGURAL</td>\n",
       "    </tr>\n",
       "  </tbody>\n",
       "</table>\n",
       "</div>"
      ],
      "text/plain": [
       "   id                name             speech\n",
       "0   1   GEORGE WASHINGTON    FIRST INAUGURAL\n",
       "1   1   GEORGE WASHINGTON   SECOND INAUGURAL\n",
       "2   2          JOHN ADAMS          INAUGURAL\n",
       "3   3    THOMAS JEFFERSON    FIRST INAUGURAL\n",
       "4   3    THOMAS JEFFERSON   SECOND INAUGURAL"
      ]
     },
     "execution_count": 63,
     "metadata": {},
     "output_type": "execute_result"
    }
   ],
   "source": [
    "# Load newly-tagged data\n",
    "df_with_id = pd.read_csv('../data/ids_final.csv')\n",
    "df_with_id.head()"
   ]
  },
  {
   "cell_type": "markdown",
   "metadata": {},
   "source": [
    "The above <code>DataFrame</code> can be concatenated to the later <code>DataFrame</code>s containing the tokens generated by parsing the speech text."
   ]
  },
  {
   "cell_type": "markdown",
   "metadata": {},
   "source": [
    "Now for the hard part: let's grab the actual speech text for each State of the Union speech. First, we'll split the full text file; each speech is separated by \\*\\*\\*, so we'll split using that."
   ]
  },
  {
   "cell_type": "code",
   "execution_count": 64,
   "metadata": {
    "collapsed": true
   },
   "outputs": [],
   "source": [
    "raw_speech_sotu = re.split(r'\\*\\*\\*\\r\\n\\r\\n', sotu_text)\n",
    "\n",
    "# Actual speeches start at index 4 and end at index -3\n",
    "raw_speech_sotu = raw_speech_sotu[4:-3]"
   ]
  },
  {
   "cell_type": "markdown",
   "metadata": {},
   "source": [
    "To clean things up just a bit more, we'll remove the title information in each speech text."
   ]
  },
  {
   "cell_type": "code",
   "execution_count": 65,
   "metadata": {
    "collapsed": false
   },
   "outputs": [
    {
     "name": "stdout",
     "output_type": "stream",
     "text": [
      "214\n"
     ]
    }
   ],
   "source": [
    "clean_speeches_2 = []\n",
    "[clean_speeches_2.append(re.findall(r'[0-9]{4}([\\w\\W\\s\\S]+)$',\n",
    "                            speech)[0])\n",
    "                            for speech in raw_speech_sotu]\n",
    "\n",
    "print len(clean_speeches_2)"
   ]
  },
  {
   "cell_type": "code",
   "execution_count": 66,
   "metadata": {
    "collapsed": true
   },
   "outputs": [],
   "source": [
    "# Still need to clean SOTU speeches and remove '\\r\\n' instances and replace with '' or spaces\n",
    "clean_speeches_sotu = []\n",
    "\n",
    "for speech in clean_speeches_2:\n",
    "    clean_speeches_sotu.append(re.sub(r'\\r\\n{1}', ' ', speech))"
   ]
  },
  {
   "cell_type": "markdown",
   "metadata": {},
   "source": [
    "Now that both sets of speeches have been properly cleaned, we'll add them both together to create an aggregate list of cleaned speeches."
   ]
  },
  {
   "cell_type": "code",
   "execution_count": 67,
   "metadata": {
    "collapsed": true
   },
   "outputs": [],
   "source": [
    "clean_speeches_all = clean_speeches_inaugural + clean_speeches_sotu"
   ]
  },
  {
   "cell_type": "markdown",
   "metadata": {},
   "source": [
    "####<i>Tokenization with CountVectorizer</i>"
   ]
  },
  {
   "cell_type": "markdown",
   "metadata": {},
   "source": [
    "We'll create both a unigram and multigram (bigram and trigram) <code>DataFrame</code> for non-stemmed tokens that can be found in the speeches.\n",
    "\n",
    "We'll also lowercase all the tokens, and ensure that the document frequency is between 10 and 90 percent. Words that appear in fewer than 10 percent of speeches probably aren't relevant, and words that appear in greater than 90 percent are likely stop word-like, so don't add any meaningful context to the speeches."
   ]
  },
  {
   "cell_type": "code",
   "execution_count": 68,
   "metadata": {
    "collapsed": true
   },
   "outputs": [],
   "source": [
    "# Create a unigram vector\n",
    "unigram_vect = CountVectorizer(decode_error = 'ignore',\n",
    "                               stop_words = 'english',\n",
    "                               lowercase = True,\n",
    "                               max_features = 10000,\n",
    "                               min_df = 0.1,\n",
    "                               max_df = 0.9)\n",
    "unigram_vect.fit(clean_speeches_all)\n",
    "unigram_raw_feature_names = [token.encode('ascii','ignore') for token in unigram_vect.get_feature_names()]"
   ]
  },
  {
   "cell_type": "code",
   "execution_count": 69,
   "metadata": {
    "collapsed": true
   },
   "outputs": [],
   "source": [
    "# Create a multigram (bigram, trigram) vector to cut total number of features\n",
    "multigram_vect = CountVectorizer(decode_error = 'ignore',\n",
    "                                 stop_words = 'english',\n",
    "                                 ngram_range = (2,3),\n",
    "                                 lowercase = True,\n",
    "                                 max_features = 10000,\n",
    "                                 min_df = 0.1,\n",
    "                                 max_df = 0.9)\n",
    "multigram_vect.fit(clean_speeches_all)\n",
    "multigram_raw_feature_names = [token.encode('ascii','ignore') for token in multigram_vect.get_feature_names()]"
   ]
  },
  {
   "cell_type": "code",
   "execution_count": 70,
   "metadata": {
    "collapsed": false
   },
   "outputs": [
    {
     "name": "stdout",
     "output_type": "stream",
     "text": [
      "3596\n",
      "413\n"
     ]
    }
   ],
   "source": [
    "print len(unigram_raw_feature_names)\n",
    "print len(multigram_raw_feature_names)"
   ]
  },
  {
   "cell_type": "markdown",
   "metadata": {},
   "source": [
    "Using bigrams and trigrams in conjunction with setting document frequency values results in a feature space about a tenth as large the the space for unigrams only! We'll keep both instances though, since some of the techniques we'll use below seem to be more effective with unigrams, however."
   ]
  },
  {
   "cell_type": "code",
   "execution_count": 71,
   "metadata": {
    "collapsed": false
   },
   "outputs": [],
   "source": [
    "# Create unigram document-term matrix, then unigram DataFrame\n",
    "unigram_dtm = unigram_vect.transform(clean_speeches_all)\n",
    "unigram_dtm.toarray()\n",
    "unigram_df = pd.DataFrame(unigram_dtm.toarray(),\n",
    "                          columns=unigram_vect.get_feature_names())\n",
    "\n",
    "# Next, make sure to only include actual words in final DataFrame before adding speech IDs\n",
    "\n",
    "# Find the index of '90', the last non-word feature\n",
    "np.where(unigram_df.columns.values == '90') # index: 61\n",
    "\n",
    "# Concat unigram DataFrame to speech ID DataFrame\n",
    "unigram_df = pd.concat([df_with_id, unigram_df.iloc[:,62:]], axis=1)"
   ]
  },
  {
   "cell_type": "code",
   "execution_count": 72,
   "metadata": {
    "collapsed": false
   },
   "outputs": [],
   "source": [
    "# Create multigram document-term matrix, then multigram DataFrame\n",
    "multigram_dtm = multigram_vect.transform(clean_speeches_all)\n",
    "multigram_dtm.toarray()\n",
    "multigram_df = pd.DataFrame(multigram_dtm.toarray(),\n",
    "                            columns=multigram_vect.get_feature_names())\n",
    "\n",
    "# Next, make sure to only include actual word combinations in final DataFrame before adding speech IDs\n",
    "\n",
    "# Find the index of '500 000', the last non-word feature\n",
    "np.where(multigram_df.columns.values == '500 000') # index: 13\n",
    "\n",
    "# Create DataFrame that only contains non-word features\n",
    "multigram_words_df = multigram_df.iloc[:,14:]\n",
    "\n",
    "# Concat unigram DataFrame to speech ID DataFrame\n",
    "multigram_df = pd.concat([df_with_id, multigram_df.iloc[:,14:]], axis=1)"
   ]
  },
  {
   "cell_type": "code",
   "execution_count": 73,
   "metadata": {
    "collapsed": false
   },
   "outputs": [],
   "source": [
    "# Create grouped-by DataFrames\n",
    "# Unigram\n",
    "unigram_df_id_only = pd.concat([unigram_df.iloc[:,:1], unigram_df.iloc[:,3:]], axis=1)\n",
    "unigram_df_grouped = unigram_df_id_only.groupby('id', as_index = False).sum()\n",
    "\n",
    "# Multigram\n",
    "multigram_df_id_only = pd.concat([multigram_df.iloc[:,:1], multigram_df.iloc[:,3:]], axis=1)\n",
    "multigram_df_grouped = multigram_df_id_only.groupby('id', as_index = False).sum()"
   ]
  },
  {
   "cell_type": "markdown",
   "metadata": {},
   "source": [
    "Here we'll upload the personal details and aggregated ranks (as calculated by fivethirtyeight.com) for each president into separate <code>DataFrame</code>s, which we'll join to the newly-grouped by <code>DataFrame</code>s."
   ]
  },
  {
   "cell_type": "code",
   "execution_count": 74,
   "metadata": {
    "collapsed": true
   },
   "outputs": [],
   "source": [
    "# Upload personal details and rankings into DataFrames\n",
    "df_prez = pd.read_csv('../data/presidents.csv')\n",
    "df_rankings = pd.read_csv('../data/prez_rankings_538.csv')\n",
    "\n",
    "# Clean up newly-uploaded DataFrames a bit to only include important columns\n",
    "df_prez = df_prez[['id', 'party_name', 'religion']]\n",
    "df_rankings = df_rankings[['id', 'rank_aggregate']]"
   ]
  },
  {
   "cell_type": "code",
   "execution_count": 75,
   "metadata": {
    "collapsed": false
   },
   "outputs": [],
   "source": [
    "# Join df_prez and df_rankings to grouped DataFrames to create \"master\" DataFrames (*_df_all)\n",
    "unigram_df_all = pd.merge(pd.merge(unigram_df_grouped, df_prez, on=\"id\", how=\"left\", left_index=True), df_rankings, on=\"id\", how=\"left\", left_index=True)\n",
    "multigram_df_all = pd.merge(pd.merge(multigram_df_grouped, df_prez, on=\"id\", how=\"left\", left_index=True), df_rankings, on=\"id\", how=\"left\", left_index=True)"
   ]
  },
  {
   "cell_type": "markdown",
   "metadata": {},
   "source": [
    "####<i>Topic Clustering with Latent Dirichlet Allocation (LDA)</i>"
   ]
  },
  {
   "cell_type": "code",
   "execution_count": 76,
   "metadata": {
    "collapsed": false
   },
   "outputs": [
    {
     "name": "stdout",
     "output_type": "stream",
     "text": [
      "Topic 1: shall right action purpose means law present\n",
      "Topic 2: constitution congress union state shall president present\n",
      "Topic 3: world freedom free hope life know make\n",
      "Topic 4: program year economic federal million billion dollars\n",
      "Topic 5: congress world administration policy development international years\n",
      "Topic 6: law department commerce court american officers work\n",
      "Topic 7: present year necessary session commerce means debt\n",
      "Topic 8: federal legislation business agriculture present agricultural large\n",
      "Topic 9: america american americans children year work let\n",
      "Topic 10: congress mexico treaty minister treasury act american\n",
      "Topic 11: security growth energy years soviet programs federal\n",
      "Topic 12: congress report subject secretary year legislation consideration\n",
      "Topic 13: general state laws attention service law importance\n",
      "Topic 14: shall union fellow rights powers principles institutions\n",
      "Topic 15: year fiscal expenditures general june increase service\n",
      "Topic 16: treaty republic convention act cuba powers pacific\n",
      "Topic 17: foreign duties subject interests period place effect\n",
      "Topic 18: treasury duty money currency bank banks present\n",
      "Topic 19: men man business conditions work labor matter\n",
      "Topic 20: american congress commission countries international president foreign\n"
     ]
    }
   ],
   "source": [
    "# Import LDA module\n",
    "import lda\n",
    "\n",
    "# Turn the DataFrame into a matrix of numpy arrays, will serve as X in LDA\n",
    "unigram_df_matrix = unigram_df.as_matrix(columns=unigram_df.columns.values[3:])\n",
    "\n",
    "# Create new instance of LDA that will group into 20 topics\n",
    "# and cycle through 1000 iterations\n",
    "unigram_model = lda.LDA(n_topics=20, n_iter=1000, random_state=1)\n",
    "unigram_model.fit(unigram_df_matrix)\n",
    "unigram_topic_word = unigram_model.topic_word_\n",
    "unigram_n_top_words = 8\n",
    "\n",
    "#Note: word_list was generated in the above section on stemming\n",
    "for i, topic_dist in enumerate(unigram_topic_word):\n",
    "    unigram_topic_words = unigram_df.columns.values[3:][np.argsort(topic_dist)][:-unigram_n_top_words:-1]\n",
    "    print('Topic {}: {}'.format(i + 1, ' '.join(unigram_topic_words)))"
   ]
  },
  {
   "cell_type": "code",
   "execution_count": 77,
   "metadata": {
    "collapsed": true
   },
   "outputs": [],
   "source": [
    "# TODO: doc_topic_ mapping --> perhaps move to EDA section"
   ]
  },
  {
   "cell_type": "code",
   "execution_count": 78,
   "metadata": {
    "collapsed": false
   },
   "outputs": [
    {
     "name": "stdout",
     "output_type": "stream",
     "text": [
      "Topic 1: fellow citizens general government constitution united states constitution united\n",
      "Topic 2: past year house representatives self government time time\n",
      "Topic 3: national government interstate commerce supreme court self government\n",
      "Topic 4: fiscal year civil service past year district columbia\n",
      "Topic 5: session congress act congress french government present year\n",
      "Topic 6: army navy national defense recommend congress state union\n",
      "Topic 7: june 30 ending june ending june 30 fiscal year\n",
      "Topic 8: great britain fellow citizens public debt house representatives\n",
      "Topic 9: general government public money federal government public service\n",
      "Topic 10: federal government state local world war men women\n",
      "Topic 11: health care american people social security years ago\n",
      "Topic 12: great britain department state government united states government united\n",
      "Topic 13: fiscal year present fiscal present fiscal year public debt\n",
      "Topic 14: fellow citizens people united states people united branch government\n",
      "Topic 15: free world free nations soviet union past years\n",
      "Topic 16: policy united policy united states people united public service\n",
      "Topic 17: public lands mexican government secretary state favorable consideration\n",
      "Topic 18: report secretary attention congress citizens united states secretary war\n",
      "Topic 19: american people years ago self government government people\n",
      "Topic 20: fiscal year billion dollars united nations public works\n"
     ]
    }
   ],
   "source": [
    "# Turn the DataFrame into a matrix of numpy arrays, will serve as X in LDA\n",
    "multigram_df_matrix = multigram_df.as_matrix(columns=multigram_df.columns.values[3:])\n",
    "\n",
    "# Create new instance of LDA that will group into 20 topics\n",
    "# and cycle through 1000 iterations\n",
    "multigram_model = lda.LDA(n_topics=20, n_iter=1000, random_state=1)\n",
    "multigram_model.fit(multigram_df_matrix)\n",
    "multigram_topic_word = multigram_model.topic_word_\n",
    "multigram_n_top_words = 5\n",
    "\n",
    "#Note: word_list was generated in the above section on stemming\n",
    "for i, topic_dist in enumerate(multigram_topic_word):\n",
    "    multigram_topic_words = multigram_df.columns.values[3:][np.argsort(topic_dist)][:-multigram_n_top_words:-1]\n",
    "    print('Topic {}: {}'.format(i + 1, ' '.join(multigram_topic_words)))"
   ]
  },
  {
   "cell_type": "markdown",
   "metadata": {},
   "source": [
    "####<i>Stemming with PorterStemmer</i>"
   ]
  },
  {
   "cell_type": "markdown",
   "metadata": {},
   "source": []
  },
  {
   "cell_type": "code",
   "execution_count": 79,
   "metadata": {
    "collapsed": false
   },
   "outputs": [
    {
     "name": "stdout",
     "output_type": "stream",
     "text": [
      "2226\n"
     ]
    }
   ],
   "source": [
    "# Next is exploring PorterStemmer. Note that PorterStemmer can only work on a list of unigrams.\n",
    "\n",
    "# Import PorterStemmer\n",
    "from nltk.stem.porter import PorterStemmer\n",
    "\n",
    "# Instantiate a new PorterStemmer object\n",
    "ps = PorterStemmer()\n",
    "\n",
    "# Create Python list of tokens in DataFrame\n",
    "word_list = list(unigram_vect.get_feature_names())\n",
    "\n",
    "# Use PorterStemmer to stem the tokens\n",
    "stems = [ps.stem(token) for token in word_list]\n",
    "stems_set = set(stems) # This reduces the number of elements from the original 3596 unigrams\n",
    "stems_list = list(stems_set)\n",
    "\n",
    "print len(stems_list)"
   ]
  },
  {
   "cell_type": "code",
   "execution_count": 80,
   "metadata": {
    "collapsed": false
   },
   "outputs": [
    {
     "name": "stdout",
     "output_type": "stream",
     "text": [
      "398\n"
     ]
    }
   ],
   "source": [
    "# How do I count the occurrence of each stem in each speech?\n",
    "test_speech = str.split(clean_speeches_all[0])\n",
    "counter = 0\n",
    "stems_holder = []\n",
    "\n",
    "for stem in stems_list:\n",
    "    for word in test_speech:\n",
    "        if stem == ps.stem(word):\n",
    "#            print stem + ': ' + ps.stem(word)\n",
    "            counter += 1\n",
    "            stems_holder.append(stem)\n",
    "\n",
    "print counter\n",
    "\n",
    "# Note: Checking for stems in each speech doesn't work effectively\n",
    "# It might be better to create a dictionary of all the available stems for all speeches,\n",
    "#   then use ps.stem() on each word in each speech, then compare each generated stem to the stem dictionary"
   ]
  },
  {
   "cell_type": "markdown",
   "metadata": {},
   "source": [
    "####<i>Word Relevance Using TF-IDF Analysis</i>"
   ]
  },
  {
   "cell_type": "markdown",
   "metadata": {},
   "source": []
  },
  {
   "cell_type": "code",
   "execution_count": 81,
   "metadata": {
    "collapsed": false
   },
   "outputs": [],
   "source": [
    "# Import TfidfVectorizer from scikit-learn\n",
    "from sklearn.feature_extraction.text import TfidfVectorizer\n",
    "\n",
    "# Unigram tf-idf\n",
    "tfidf_vect = TfidfVectorizer(decode_error = 'ignore',\n",
    "                             stop_words = 'english',\n",
    "                             lowercase = True,\n",
    "                             max_features = 10000,\n",
    "                             min_df = 0.1,\n",
    "                             max_df = 0.9)\n",
    "tfidf_output = tfidf_vect.fit_transform(clean_speeches_all)\n",
    "\n",
    "# Turn matrix into a DataFrame\n",
    "tfidf_df = pd.DataFrame(tfidf_output.toarray(),\n",
    "                        columns=tfidf_vect.get_feature_names())"
   ]
  },
  {
   "cell_type": "markdown",
   "metadata": {
    "collapsed": true
   },
   "source": [
    "#Part II: Exploratory Data Analysis (EDA)"
   ]
  },
  {
   "cell_type": "markdown",
   "metadata": {},
   "source": [
    "####<i>Presidential Plots</i>"
   ]
  },
  {
   "cell_type": "markdown",
   "metadata": {},
   "source": [
    "In this section, we'll use aggregate functions to explore and plot the data in order to see if we can coax out any potential trends in the data before applying any models."
   ]
  },
  {
   "cell_type": "code",
   "execution_count": 82,
   "metadata": {
    "collapsed": false
   },
   "outputs": [
    {
     "data": {
      "text/plain": [
       "<matplotlib.axes._subplots.AxesSubplot at 0x7ffd3c72ffd0>"
      ]
     },
     "execution_count": 82,
     "metadata": {},
     "output_type": "execute_result"
    },
    {
     "data": {
      "image/png": "[encoded data removed]",
      "text/plain": [
       "<matplotlib.figure.Figure at 0x7ffd3c72f850>"
      ]
     },
     "metadata": {},
     "output_type": "display_data"
    }
   ],
   "source": [
    "# Visualize the most commonly-used unigrams in aggregate\n",
    "unigram_df_counts = pd.DataFrame(unigram_df.iloc[:,3:].apply(np.sum, axis=0), columns=['word_count'])\n",
    "unigram_df_counts_sorted = unigram_df_counts.sort(['word_count'], ascending = [0])[:20]\n",
    "\n",
    "unigram_df_counts_sorted.plot(kind='bar')"
   ]
  },
  {
   "cell_type": "code",
   "execution_count": 83,
   "metadata": {
    "collapsed": false
   },
   "outputs": [
    {
     "data": {
      "text/plain": [
       "<matplotlib.axes._subplots.AxesSubplot at 0x7ffd3bf54b90>"
      ]
     },
     "execution_count": 83,
     "metadata": {},
     "output_type": "execute_result"
    },
    {
     "data": {
      "image/png": "[encoded data removed]",
      "text/plain": [
       "<matplotlib.figure.Figure at 0x7ffd3bbf6f10>"
      ]
     },
     "metadata": {},
     "output_type": "display_data"
    }
   ],
   "source": [
    "# Visualize the most commonly-used multigrams in aggregate\n",
    "multigram_df_counts = pd.DataFrame(multigram_df.iloc[:,3:].apply(np.sum, axis=0), columns=['word_count'])\n",
    "multigram_df_counts_sorted = multigram_df_counts.sort(['word_count'], ascending = [0])[:20]\n",
    "\n",
    "multigram_df_counts_sorted.plot(kind='bar')"
   ]
  },
  {
   "cell_type": "code",
   "execution_count": 84,
   "metadata": {
    "collapsed": false
   },
   "outputs": [
    {
     "name": "stdout",
     "output_type": "stream",
     "text": [
      "religion_y\n",
      "Baptist                   world\n",
      "Congregationalist      congress\n",
      "Deist                     shall\n",
      "Disciples of Christ     america\n",
      "Episcopalian           congress\n",
      "Methodist              congress\n",
      "Presbyterian           congress\n",
      "Quaker                 congress\n",
      "Reformed Dutch              law\n",
      "Roman Catholic            world\n",
      "Southern Baptist          world\n",
      "Unitarian              congress\n",
      "dtype: object\n"
     ]
    }
   ],
   "source": [
    "# Group unigram DataFrame values by religion, then visualize most used unigrams by each religious affiliation\n",
    "\n",
    "# First use groupby to create word counts by religion\n",
    "unigram_df_religion = unigram_df_all.groupby('religion_y').sum()\n",
    "unigram_df_religion = unigram_df_religion.iloc[:, 1:-1]\n",
    "unigram_df_religion\n",
    "\n",
    "# Find the most used words by religious affiliation\n",
    "print unigram_df_religion.idxmax(axis=1)"
   ]
  },
  {
   "cell_type": "code",
   "execution_count": 85,
   "metadata": {
    "collapsed": false
   },
   "outputs": [
    {
     "name": "stdout",
     "output_type": "stream",
     "text": [
      "religion\n",
      "Baptist                        fiscal year\n",
      "Congregationalist       federal government\n",
      "Deist                      fellow citizens\n",
      "Disciples of Christ        american people\n",
      "Episcopalian                 great britain\n",
      "Methodist                      fiscal year\n",
      "Presbyterian                   fiscal year\n",
      "Quaker                  federal government\n",
      "Reformed Dutch         national government\n",
      "Roman Catholic              united nations\n",
      "Southern Baptist              human rights\n",
      "Unitarian                    great britain\n",
      "dtype: object\n"
     ]
    }
   ],
   "source": [
    "# Group multigram DataFrame values by religion, then visualize most used unigrams by each religious affiliation\n",
    "\n",
    "# First use groupby to create word counts by religion\n",
    "multigram_df_religion = multigram_df_all.groupby('religion').sum()\n",
    "multigram_df_religion = multigram_df_religion.iloc[:, 1:-1]\n",
    "multigram_df_religion\n",
    "\n",
    "# Find the most used words by religious affiliation\n",
    "print multigram_df_religion.idxmax(axis=1)"
   ]
  },
  {
   "cell_type": "code",
   "execution_count": 86,
   "metadata": {
    "collapsed": true
   },
   "outputs": [],
   "source": [
    "# NOTE: The multigram results above are interesting, and are more telling than the unigram results"
   ]
  },
  {
   "cell_type": "code",
   "execution_count": 87,
   "metadata": {
    "collapsed": false
   },
   "outputs": [
    {
     "name": "stdout",
     "output_type": "stream",
     "text": [
      "party_name\n",
      "Democratic                   congress\n",
      "Democratic Republican        congress\n",
      "Federalist                      shall\n",
      "Republican                   congress\n",
      "Union                    constitution\n",
      "Whig                         congress\n",
      "dtype: object\n"
     ]
    }
   ],
   "source": [
    "# Group unigram DataFrame values by party, then visualize most used unigrams by each party\n",
    "\n",
    "# First use groupby to create word counts by party\n",
    "unigram_df_party = unigram_df_all.groupby('party_name').sum()\n",
    "unigram_df_party = unigram_df_party.iloc[:, 1:-1]\n",
    "\n",
    "# Find the most used words by religious affiliation\n",
    "print unigram_df_party.idxmax(axis=1)"
   ]
  },
  {
   "cell_type": "code",
   "execution_count": 88,
   "metadata": {
    "collapsed": false
   },
   "outputs": [
    {
     "name": "stdout",
     "output_type": "stream",
     "text": [
      "party_name\n",
      "Democratic                         fiscal year\n",
      "Democratic Republican          fellow citizens\n",
      "Federalist               house representatives\n",
      "Republican                         fiscal year\n",
      "Union                              fiscal year\n",
      "Whig                             great britain\n",
      "dtype: object\n"
     ]
    }
   ],
   "source": [
    "# Group multigram DataFrame values by party, then visualize most multigrams by each party\n",
    "\n",
    "# First use groupby to create word counts by party\n",
    "multigram_df_party = multigram_df_all.groupby('party_name').sum()\n",
    "multigram_df_party = multigram_df_party.iloc[:, 1:-1]\n",
    "\n",
    "# Find the most used words by religious affiliation\n",
    "print multigram_df_party.idxmax(axis=1)"
   ]
  },
  {
   "cell_type": "code",
   "execution_count": 89,
   "metadata": {
    "collapsed": true
   },
   "outputs": [],
   "source": [
    "# NOTE: The multigram results above are also interesting, and are also more telling than the unigram results"
   ]
  },
  {
   "cell_type": "markdown",
   "metadata": {},
   "source": [
    "####(Optional) Word Clouds"
   ]
  },
  {
   "cell_type": "code",
   "execution_count": null,
   "metadata": {
    "collapsed": true
   },
   "outputs": [],
   "source": []
  },
  {
   "cell_type": "markdown",
   "metadata": {},
   "source": [
    "####<i>LDA Revisited, Topic by President</i>"
   ]
  },
  {
   "cell_type": "markdown",
   "metadata": {},
   "source": [
    "In this section, we're going to try LDA again, but this time, instead of at the individual speech level, we'll apply LDA at the president level to try and glean latent topics by president by looking for each president's top <code>doc\\_topic\\_</code>."
   ]
  },
  {
   "cell_type": "code",
   "execution_count": 90,
   "metadata": {
    "collapsed": false
   },
   "outputs": [
    {
     "name": "stdout",
     "output_type": "stream",
     "text": [
      "Topic 0: congress law subject department year laws report\n",
      "Topic 1: men work business law man labor far\n",
      "Topic 2: congress state act president shall territory american\n",
      "Topic 3: congress british foreign act intercourse session france\n",
      "Topic 4: federal congress years administration policy world past\n",
      "Topic 5: action expenditures fiscal service labor present special\n",
      "Topic 6: consideration interests commercial attention rights american view\n",
      "Topic 7: america american americans years help let year\n",
      "Topic 8: american international department foreign tariff court conference\n",
      "Topic 9: world freedom know american future today history\n",
      "Topic 10: force commerce millions powers spain progress tribes\n",
      "Topic 11: state character important necessary duties subject means\n",
      "Topic 12: year economic world program security free million\n",
      "Topic 13: present general given best measure information operation\n",
      "Topic 14: large agriculture economic construction business necessary production\n",
      "Topic 15: constitution union duty rights year constitutional period\n",
      "Topic 16: year relations general commission secretary products legislation\n",
      "Topic 17: treasury treaty condition executive present money just\n",
      "Topic 18: mexico texas mexican policy army territory act\n",
      "Topic 19: shall congress way make world life means\n"
     ]
    }
   ],
   "source": [
    "# Turn the DataFrame into a matrix of numpy arrays, will serve as X in LDA\n",
    "unigram_df_grouped_matrix = unigram_df_all[1:-3].as_matrix(columns=unigram_df_all.columns.values[1:-3])\n",
    "\n",
    "# Create new instance of LDA that will group into 20 topics\n",
    "# and cycle through 1000 iterations\n",
    "unigram_grouped_model = lda.LDA(n_topics=20, n_iter=1000, random_state=1)\n",
    "unigram_grouped_model.fit(unigram_df_grouped_matrix)\n",
    "unigram_grouped_topic_word = unigram_grouped_model.topic_word_\n",
    "unigram_grouped_n_top_words = 8\n",
    "\n",
    "#Note: word_list was generated in the above section on stemming\n",
    "for i, topic_dist in enumerate(unigram_grouped_topic_word):\n",
    "    unigram_grouped_topic_words = unigram_df_all.columns.values[1:-3][np.argsort(topic_dist)][:-unigram_grouped_n_top_words:-1]\n",
    "    print('Topic {}: {}'.format(i, ' '.join(unigram_grouped_topic_words)))"
   ]
  },
  {
   "cell_type": "code",
   "execution_count": 95,
   "metadata": {
    "collapsed": false
   },
   "outputs": [
    {
     "data": {
      "text/html": [
       "<div style=\"max-height:1000px;max-width:1500px;overflow:auto;\">\n",
       "<table border=\"1\" class=\"dataframe\">\n",
       "  <thead>\n",
       "    <tr style=\"text-align: right;\">\n",
       "      <th></th>\n",
       "      <th>id</th>\n",
       "      <th>abandon</th>\n",
       "      <th>abandoned</th>\n",
       "      <th>abiding</th>\n",
       "      <th>ability</th>\n",
       "      <th>able</th>\n",
       "      <th>abolished</th>\n",
       "      <th>abolition</th>\n",
       "      <th>abroad</th>\n",
       "      <th>absence</th>\n",
       "      <th>...</th>\n",
       "      <th>yes</th>\n",
       "      <th>yield</th>\n",
       "      <th>yielding</th>\n",
       "      <th>york</th>\n",
       "      <th>young</th>\n",
       "      <th>youth</th>\n",
       "      <th>zeal</th>\n",
       "      <th>party_name</th>\n",
       "      <th>religion_y</th>\n",
       "      <th>rank_aggregate</th>\n",
       "    </tr>\n",
       "  </thead>\n",
       "  <tbody>\n",
       "    <tr>\n",
       "      <th>2 </th>\n",
       "      <td> 1</td>\n",
       "      <td> 0</td>\n",
       "      <td> 1</td>\n",
       "      <td> 0</td>\n",
       "      <td> 2</td>\n",
       "      <td> 9</td>\n",
       "      <td> 0</td>\n",
       "      <td> 0</td>\n",
       "      <td> 4</td>\n",
       "      <td> 0</td>\n",
       "      <td>...</td>\n",
       "      <td> 0</td>\n",
       "      <td> 2</td>\n",
       "      <td> 0</td>\n",
       "      <td> 1</td>\n",
       "      <td> 0</td>\n",
       "      <td> 2</td>\n",
       "      <td> 3</td>\n",
       "      <td>            Federalist</td>\n",
       "      <td> Episcopalian</td>\n",
       "      <td>  3</td>\n",
       "    </tr>\n",
       "    <tr>\n",
       "      <th>15</th>\n",
       "      <td> 2</td>\n",
       "      <td> 2</td>\n",
       "      <td> 1</td>\n",
       "      <td> 0</td>\n",
       "      <td> 0</td>\n",
       "      <td> 1</td>\n",
       "      <td> 0</td>\n",
       "      <td> 0</td>\n",
       "      <td> 1</td>\n",
       "      <td> 0</td>\n",
       "      <td>...</td>\n",
       "      <td> 0</td>\n",
       "      <td> 0</td>\n",
       "      <td> 0</td>\n",
       "      <td> 0</td>\n",
       "      <td> 0</td>\n",
       "      <td> 0</td>\n",
       "      <td> 2</td>\n",
       "      <td>            Federalist</td>\n",
       "      <td>    Unitarian</td>\n",
       "      <td> 16</td>\n",
       "    </tr>\n",
       "    <tr>\n",
       "      <th>4 </th>\n",
       "      <td> 3</td>\n",
       "      <td> 1</td>\n",
       "      <td> 1</td>\n",
       "      <td> 0</td>\n",
       "      <td> 0</td>\n",
       "      <td> 9</td>\n",
       "      <td> 1</td>\n",
       "      <td> 1</td>\n",
       "      <td> 8</td>\n",
       "      <td> 0</td>\n",
       "      <td>...</td>\n",
       "      <td> 0</td>\n",
       "      <td> 1</td>\n",
       "      <td> 0</td>\n",
       "      <td> 3</td>\n",
       "      <td> 0</td>\n",
       "      <td> 0</td>\n",
       "      <td> 5</td>\n",
       "      <td> Democratic Republican</td>\n",
       "      <td>        Deist</td>\n",
       "      <td>  5</td>\n",
       "    </tr>\n",
       "    <tr>\n",
       "      <th>14</th>\n",
       "      <td> 4</td>\n",
       "      <td> 0</td>\n",
       "      <td> 1</td>\n",
       "      <td> 0</td>\n",
       "      <td> 2</td>\n",
       "      <td> 3</td>\n",
       "      <td> 0</td>\n",
       "      <td> 0</td>\n",
       "      <td> 4</td>\n",
       "      <td> 1</td>\n",
       "      <td>...</td>\n",
       "      <td> 0</td>\n",
       "      <td> 2</td>\n",
       "      <td> 3</td>\n",
       "      <td> 4</td>\n",
       "      <td> 0</td>\n",
       "      <td> 1</td>\n",
       "      <td> 5</td>\n",
       "      <td> Democratic Republican</td>\n",
       "      <td> Episcopalian</td>\n",
       "      <td> 15</td>\n",
       "    </tr>\n",
       "    <tr>\n",
       "      <th>13</th>\n",
       "      <td> 5</td>\n",
       "      <td> 6</td>\n",
       "      <td> 2</td>\n",
       "      <td> 0</td>\n",
       "      <td> 3</td>\n",
       "      <td> 9</td>\n",
       "      <td> 0</td>\n",
       "      <td> 1</td>\n",
       "      <td> 2</td>\n",
       "      <td> 0</td>\n",
       "      <td>...</td>\n",
       "      <td> 0</td>\n",
       "      <td> 2</td>\n",
       "      <td> 3</td>\n",
       "      <td> 4</td>\n",
       "      <td> 0</td>\n",
       "      <td> 2</td>\n",
       "      <td> 6</td>\n",
       "      <td> Democratic Republican</td>\n",
       "      <td> Episcopalian</td>\n",
       "      <td> 14</td>\n",
       "    </tr>\n",
       "  </tbody>\n",
       "</table>\n",
       "<p>5 rows × 3538 columns</p>\n",
       "</div>"
      ],
      "text/plain": [
       "    id  abandon  abandoned  abiding  ability  able  abolished  abolition  \\\n",
       "2    1        0          1        0        2     9          0          0   \n",
       "15   2        2          1        0        0     1          0          0   \n",
       "4    3        1          1        0        0     9          1          1   \n",
       "14   4        0          1        0        2     3          0          0   \n",
       "13   5        6          2        0        3     9          0          1   \n",
       "\n",
       "    abroad  absence       ...        yes  yield  yielding  york  young  youth  \\\n",
       "2        4        0       ...          0      2         0     1      0      2   \n",
       "15       1        0       ...          0      0         0     0      0      0   \n",
       "4        8        0       ...          0      1         0     3      0      0   \n",
       "14       4        1       ...          0      2         3     4      0      1   \n",
       "13       2        0       ...          0      2         3     4      0      2   \n",
       "\n",
       "    zeal             party_name    religion_y  rank_aggregate  \n",
       "2      3             Federalist  Episcopalian               3  \n",
       "15     2             Federalist     Unitarian              16  \n",
       "4      5  Democratic Republican         Deist               5  \n",
       "14     5  Democratic Republican  Episcopalian              15  \n",
       "13     6  Democratic Republican  Episcopalian              14  \n",
       "\n",
       "[5 rows x 3538 columns]"
      ]
     },
     "execution_count": 95,
     "metadata": {},
     "output_type": "execute_result"
    }
   ],
   "source": [
    "unigram_df_all.head()"
   ]
  },
  {
   "cell_type": "code",
   "execution_count": 94,
   "metadata": {
    "collapsed": false
   },
   "outputs": [
    {
     "name": "stdout",
     "output_type": "stream",
     "text": [
      "16 (top topic: 3)\n",
      "32 (top topic: 3)\n",
      "1 (top topic: 3)\n",
      "26 (top topic: 10)\n",
      "3 (top topic: 3)\n",
      "33 (top topic: 11)\n",
      "28 (top topic: 11)\n",
      "34 (top topic: 15)\n",
      "35 (top topic: 17)\n",
      "40 (top topic: 18)\n",
      "11 (top topic: 0)\n",
      "36 (top topic: 0)\n",
      "7 (top topic: 15)\n",
      "5 (top topic: 2)\n",
      "4 (top topic: 0)\n",
      "2 (top topic: 0)\n"
     ]
    },
    {
     "ename": "KeyError",
     "evalue": "16",
     "output_type": "error",
     "traceback": [
      "\u001b[1;31m---------------------------------------------------------------------------\u001b[0m",
      "\u001b[1;31mKeyError\u001b[0m                                  Traceback (most recent call last)",
      "\u001b[1;32m<ipython-input-94-fbf329d78a67>\u001b[0m in \u001b[0;36m<module>\u001b[1;34m()\u001b[0m\n\u001b[0;32m      6\u001b[0m \u001b[0mdoc_topic\u001b[0m \u001b[1;33m=\u001b[0m \u001b[0munigram_grouped_model\u001b[0m\u001b[1;33m.\u001b[0m\u001b[0mdoc_topic_\u001b[0m\u001b[1;33m\u001b[0m\u001b[0m\n\u001b[0;32m      7\u001b[0m \u001b[1;32mfor\u001b[0m \u001b[0mi\u001b[0m \u001b[1;32min\u001b[0m \u001b[0mrange\u001b[0m\u001b[1;33m(\u001b[0m\u001b[0mlen\u001b[0m\u001b[1;33m(\u001b[0m\u001b[0munigram_df_all\u001b[0m\u001b[1;33m)\u001b[0m\u001b[1;33m)\u001b[0m\u001b[1;33m:\u001b[0m\u001b[1;33m\u001b[0m\u001b[0m\n\u001b[1;32m----> 8\u001b[1;33m     \u001b[1;32mprint\u001b[0m\u001b[1;33m(\u001b[0m\u001b[1;34m\"{} (top topic: {})\"\u001b[0m\u001b[1;33m.\u001b[0m\u001b[0mformat\u001b[0m\u001b[1;33m(\u001b[0m\u001b[0mprez_ids\u001b[0m\u001b[1;33m[\u001b[0m\u001b[0mi\u001b[0m\u001b[1;33m]\u001b[0m\u001b[1;33m,\u001b[0m \u001b[0mdoc_topic\u001b[0m\u001b[1;33m[\u001b[0m\u001b[0mi\u001b[0m\u001b[1;33m]\u001b[0m\u001b[1;33m.\u001b[0m\u001b[0margmax\u001b[0m\u001b[1;33m(\u001b[0m\u001b[1;33m)\u001b[0m\u001b[1;33m)\u001b[0m\u001b[1;33m)\u001b[0m\u001b[1;33m\u001b[0m\u001b[0m\n\u001b[0m",
      "\u001b[1;32m/home/ubuntu/anaconda/lib/python2.7/site-packages/pandas/core/series.pyc\u001b[0m in \u001b[0;36m__getitem__\u001b[1;34m(self, key)\u001b[0m\n\u001b[0;32m    507\u001b[0m     \u001b[1;32mdef\u001b[0m \u001b[0m__getitem__\u001b[0m\u001b[1;33m(\u001b[0m\u001b[0mself\u001b[0m\u001b[1;33m,\u001b[0m \u001b[0mkey\u001b[0m\u001b[1;33m)\u001b[0m\u001b[1;33m:\u001b[0m\u001b[1;33m\u001b[0m\u001b[0m\n\u001b[0;32m    508\u001b[0m         \u001b[1;32mtry\u001b[0m\u001b[1;33m:\u001b[0m\u001b[1;33m\u001b[0m\u001b[0m\n\u001b[1;32m--> 509\u001b[1;33m             \u001b[0mresult\u001b[0m \u001b[1;33m=\u001b[0m \u001b[0mself\u001b[0m\u001b[1;33m.\u001b[0m\u001b[0mindex\u001b[0m\u001b[1;33m.\u001b[0m\u001b[0mget_value\u001b[0m\u001b[1;33m(\u001b[0m\u001b[0mself\u001b[0m\u001b[1;33m,\u001b[0m \u001b[0mkey\u001b[0m\u001b[1;33m)\u001b[0m\u001b[1;33m\u001b[0m\u001b[0m\n\u001b[0m\u001b[0;32m    510\u001b[0m \u001b[1;33m\u001b[0m\u001b[0m\n\u001b[0;32m    511\u001b[0m             \u001b[1;32mif\u001b[0m \u001b[1;32mnot\u001b[0m \u001b[0mnp\u001b[0m\u001b[1;33m.\u001b[0m\u001b[0misscalar\u001b[0m\u001b[1;33m(\u001b[0m\u001b[0mresult\u001b[0m\u001b[1;33m)\u001b[0m\u001b[1;33m:\u001b[0m\u001b[1;33m\u001b[0m\u001b[0m\n",
      "\u001b[1;32m/home/ubuntu/anaconda/lib/python2.7/site-packages/pandas/core/index.pyc\u001b[0m in \u001b[0;36mget_value\u001b[1;34m(self, series, key)\u001b[0m\n\u001b[0;32m   1415\u001b[0m \u001b[1;33m\u001b[0m\u001b[0m\n\u001b[0;32m   1416\u001b[0m         \u001b[1;32mtry\u001b[0m\u001b[1;33m:\u001b[0m\u001b[1;33m\u001b[0m\u001b[0m\n\u001b[1;32m-> 1417\u001b[1;33m             \u001b[1;32mreturn\u001b[0m \u001b[0mself\u001b[0m\u001b[1;33m.\u001b[0m\u001b[0m_engine\u001b[0m\u001b[1;33m.\u001b[0m\u001b[0mget_value\u001b[0m\u001b[1;33m(\u001b[0m\u001b[0ms\u001b[0m\u001b[1;33m,\u001b[0m \u001b[0mk\u001b[0m\u001b[1;33m)\u001b[0m\u001b[1;33m\u001b[0m\u001b[0m\n\u001b[0m\u001b[0;32m   1418\u001b[0m         \u001b[1;32mexcept\u001b[0m \u001b[0mKeyError\u001b[0m \u001b[1;32mas\u001b[0m \u001b[0me1\u001b[0m\u001b[1;33m:\u001b[0m\u001b[1;33m\u001b[0m\u001b[0m\n\u001b[0;32m   1419\u001b[0m             \u001b[1;32mif\u001b[0m \u001b[0mlen\u001b[0m\u001b[1;33m(\u001b[0m\u001b[0mself\u001b[0m\u001b[1;33m)\u001b[0m \u001b[1;33m>\u001b[0m \u001b[1;36m0\u001b[0m \u001b[1;32mand\u001b[0m \u001b[0mself\u001b[0m\u001b[1;33m.\u001b[0m\u001b[0minferred_type\u001b[0m \u001b[1;32min\u001b[0m \u001b[1;33m[\u001b[0m\u001b[1;34m'integer'\u001b[0m\u001b[1;33m,\u001b[0m\u001b[1;34m'boolean'\u001b[0m\u001b[1;33m]\u001b[0m\u001b[1;33m:\u001b[0m\u001b[1;33m\u001b[0m\u001b[0m\n",
      "\u001b[1;32mpandas/index.pyx\u001b[0m in \u001b[0;36mpandas.index.IndexEngine.get_value (pandas/index.c:3109)\u001b[1;34m()\u001b[0m\n",
      "\u001b[1;32mpandas/index.pyx\u001b[0m in \u001b[0;36mpandas.index.IndexEngine.get_value (pandas/index.c:2840)\u001b[1;34m()\u001b[0m\n",
      "\u001b[1;32mpandas/index.pyx\u001b[0m in \u001b[0;36mpandas.index.IndexEngine.get_loc (pandas/index.c:3647)\u001b[1;34m()\u001b[0m\n",
      "\u001b[1;32mpandas/index.pyx\u001b[0m in \u001b[0;36mpandas.index.IndexEngine._get_loc_duplicates (pandas/index.c:4038)\u001b[1;34m()\u001b[0m\n",
      "\u001b[1;32mpandas/index.pyx\u001b[0m in \u001b[0;36mpandas.index.Int64Engine._maybe_get_bool_indexer (pandas/index.c:7698)\u001b[1;34m()\u001b[0m\n",
      "\u001b[1;31mKeyError\u001b[0m: 16"
     ]
    }
   ],
   "source": [
    "# TODO: Need to fix this - throws error at 38 for some reason...\n",
    "\n",
    "prez_ids = unigram_df_all['id']\n",
    "\n",
    "# Find the most prevalent topic among each president's collection of speeches\n",
    "doc_topic = unigram_grouped_model.doc_topic_\n",
    "for i in range(len(unigram_df_all)):\n",
    "    print(\"{} (top topic: {})\".format(prez_ids[i], doc_topic[i].argmax()))"
   ]
  },
  {
   "cell_type": "markdown",
   "metadata": {},
   "source": [
    "#Part III: Training and Testing Models"
   ]
  },
  {
   "cell_type": "markdown",
   "metadata": {},
   "source": [
    "Before using any of the models, let's split our data into training and testing data that we can then run through the models:"
   ]
  },
  {
   "cell_type": "code",
   "execution_count": 126,
   "metadata": {
    "collapsed": false
   },
   "outputs": [],
   "source": [
    "# Import package containing LabelEncoder\n",
    "from sklearn import preprocessing\n",
    "\n",
    "# Create new instance of LabelEncoder for each outcome label\n",
    "unigram_le_party = preprocessing.LabelEncoder()\n",
    "unigram_le_party.fit_transform(unigram_df_all['party_name'])\n",
    "unigram_df_all['party_name'] = unigram_le_party.fit_transform(unigram_df_all['party_name'])\n",
    "\n",
    "multigram_le_party = preprocessing.LabelEncoder()\n",
    "multigram_le_party.fit_transform(multigram_df_all['party_name'])\n",
    "multigram_df_all['party_name'] = multigram_le_party.fit_transform(multigram_df_all['party_name'])\n",
    "\n",
    "unigram_le_religion = preprocessing.LabelEncoder()\n",
    "unigram_le_religion.fit_transform(unigram_df_all['religion_y'])\n",
    "unigram_df_all['religion_y'] = unigram_le_religion.fit_transform(unigram_df_all['religion_y'])\n",
    "\n",
    "multigram_le_religion = preprocessing.LabelEncoder()\n",
    "multigram_le_religion.fit_transform(multigram_df_all['religion'])\n",
    "multigram_df_all['religion'] = multigram_le_religion.fit_transform(multigram_df_all['religion'])"
   ]
  },
  {
   "cell_type": "code",
   "execution_count": 130,
   "metadata": {
    "collapsed": true
   },
   "outputs": [],
   "source": [
    "# Import test_train_split\n",
    "from sklearn.cross_validation import train_test_split\n",
    "\n",
    "# Split unigram data\n",
    "u_X_train, u_X_test, u_y_train, u_y_test = train_test_split(unigram_df_all.iloc[:,1:-3], # unigram tokens\n",
    "                                                            unigram_df_all.iloc[:,-2:-1], # 'party_name' column\n",
    "                                                            random_state = 1)\n",
    "\n",
    "# Split multigram data\n",
    "m_X_train, m_X_test, m_y_train, m_y_test = train_test_split(multigram_df_all.iloc[:,1:-3], # multigram tokens\n",
    "                                                            multigram_df_all.iloc[:,-2:-1], # 'party_name' column\n",
    "                                                            random_state = 1)"
   ]
  },
  {
   "cell_type": "markdown",
   "metadata": {},
   "source": [
    "####<i>Implementing Naïve Bayes</i>"
   ]
  },
  {
   "cell_type": "code",
   "execution_count": 136,
   "metadata": {
    "collapsed": false
   },
   "outputs": [
    {
     "name": "stdout",
     "output_type": "stream",
     "text": [
      "0.0909090909091\n",
      "[[0 0 0 0 0 0 0 0 0 0 0]\n",
      " [0 0 0 0 0 0 0 0 0 1 0]\n",
      " [0 0 0 0 0 0 0 0 0 0 0]\n",
      " [0 0 0 0 0 1 0 0 0 0 0]\n",
      " [1 0 0 0 0 0 0 0 0 0 0]\n",
      " [0 0 0 0 1 1 0 0 0 0 0]\n",
      " [0 0 0 0 0 0 0 0 0 0 2]\n",
      " [0 0 0 0 0 0 0 0 0 0 2]\n",
      " [0 0 1 0 1 0 0 0 0 0 0]\n",
      " [0 0 0 0 0 0 0 0 0 0 0]\n",
      " [0 0 0 0 0 0 0 0 0 0 0]]\n"
     ]
    },
    {
     "name": "stderr",
     "output_type": "stream",
     "text": [
      "/home/ubuntu/anaconda/lib/python2.7/site-packages/sklearn/naive_bayes.py:301: DataConversionWarning: A column-vector y was passed when a 1d array was expected. Please change the shape of y to (n_samples, ), for example using ravel().\n",
      "  y = column_or_1d(y, warn=True)\n"
     ]
    }
   ],
   "source": [
    "from sklearn.naive_bayes import MultinomialNB\n",
    "from sklearn import metrics\n",
    "\n",
    "# Train a Naive Bayes model using u_X_train\n",
    "u_nb = MultinomialNB()\n",
    "u_nb.fit(u_X_train, u_y_train)\n",
    "\n",
    "# Make predictions on test data using u_X_test\n",
    "u_preds = u_nb.predict(u_X_test)\n",
    "\n",
    "# Compare predictions to true labels\n",
    "print metrics.accuracy_score(u_y_test, u_preds)\n",
    "print metrics.confusion_matrix(u_y_test, u_preds)"
   ]
  },
  {
   "cell_type": "code",
   "execution_count": 137,
   "metadata": {
    "collapsed": false
   },
   "outputs": [
    {
     "name": "stdout",
     "output_type": "stream",
     "text": [
      "0.0909090909091\n",
      "[[0 0 0 1 0 0 0 0 0 0]\n",
      " [0 0 0 0 0 0 0 0 0 0]\n",
      " [0 0 0 0 1 0 0 0 0 0]\n",
      " [0 0 0 0 0 0 0 0 1 0]\n",
      " [1 0 0 0 1 0 0 0 0 0]\n",
      " [0 0 0 0 0 0 0 0 0 2]\n",
      " [0 0 0 0 0 2 0 0 0 0]\n",
      " [0 1 0 1 0 0 0 0 0 0]\n",
      " [0 0 0 0 0 0 0 0 0 0]\n",
      " [0 0 0 0 0 0 0 0 0 0]]\n"
     ]
    },
    {
     "name": "stderr",
     "output_type": "stream",
     "text": [
      "/home/ubuntu/anaconda/lib/python2.7/site-packages/sklearn/naive_bayes.py:301: DataConversionWarning: A column-vector y was passed when a 1d array was expected. Please change the shape of y to (n_samples, ), for example using ravel().\n",
      "  y = column_or_1d(y, warn=True)\n"
     ]
    }
   ],
   "source": [
    "# Train a Naive Bayes model using m_X_train\n",
    "m_nb = MultinomialNB()\n",
    "m_nb.fit(m_X_train, m_y_train)\n",
    "\n",
    "# Make predictions on test data using m_X_test\n",
    "m_preds = m_nb.predict(m_X_test)\n",
    "\n",
    "# Compare predictions to true labels\n",
    "print metrics.accuracy_score(m_y_test, m_preds)\n",
    "print metrics.confusion_matrix(m_y_test, m_preds)"
   ]
  },
  {
   "cell_type": "code",
   "execution_count": null,
   "metadata": {
    "collapsed": true
   },
   "outputs": [],
   "source": [
    "# TODO 1: Both instances of the model above are returning the same accuracy scores, so something has to be up.\n",
    "#         Maybe it's the way I split the dataset?\n",
    "# TODO 2: Also, I've only done it for party, and not for religion yet."
   ]
  },
  {
   "cell_type": "markdown",
   "metadata": {},
   "source": [
    "#Part IV: Using Outside Data"
   ]
  },
  {
   "cell_type": "markdown",
   "metadata": {},
   "source": [
    "####The West Wing <i>Data</i>"
   ]
  },
  {
   "cell_type": "markdown",
   "metadata": {},
   "source": [
    "####<i>President Barack Obama's Speeches</i>"
   ]
  },
  {
   "cell_type": "code",
   "execution_count": null,
   "metadata": {
    "collapsed": true
   },
   "outputs": [],
   "source": []
  }
 ],
 "metadata": {
  "kernelspec": {
   "display_name": "Python 2",
   "language": "python",
   "name": "python2"
  },
  "language_info": {
   "codemirror_mode": {
    "name": "ipython",
    "version": 2
   },
   "file_extension": ".py",
   "mimetype": "text/x-python",
   "name": "python",
   "nbconvert_exporter": "python",
   "pygments_lexer": "ipython2",
   "version": "2.7.9"
  }
 },
 "nbformat": 4,
 "nbformat_minor": 0
}
