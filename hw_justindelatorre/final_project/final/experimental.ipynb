{
 "cells": [
  {
   "cell_type": "markdown",
   "metadata": {},
   "source": [
    "#Part I: Data Munging"
   ]
  },
  {
   "cell_type": "markdown",
   "metadata": {},
   "source": [
    "<b>Data Sources:</b>\n",
    "<ul>\n",
    "<li>Inaugural Addresses and States of the Union: Project Gutenberg</li>\n",
    "<li>[Presidential Data](http://www.infoplease.com/ipa/A0194030.html): Infoplease</li>\n",
    "<li>[Presidential Rankings](https://en.wikipedia.org/wiki/Historical_rankings_of_Presidents_of_the_United_States#Five_Thirty_Eight_analysis): Wikipedia/538</li>\n",
    "</ul>\n",
    "\n",
    "Structured data can be found [here](https://docs.google.com/spreadsheets/d/1cujFV5JLRivY-k6LMEDCP8_zapHUtwNCdb9Qr8h2gOQ/edit#gid=0)."
   ]
  },
  {
   "cell_type": "markdown",
   "metadata": {},
   "source": [
    "###<i>Step 1: Parsing Speech Text</i>"
   ]
  },
  {
   "cell_type": "markdown",
   "metadata": {},
   "source": [
    "First, let's import all the packages we'll need to clean the data:\n",
    "<ul>\n",
    "<li><code>re</code> for regular expression functions</li>\n",
    "<li><code>pprint</code> to make printing more readable</li>\n",
    "<li><code>string</code> to clean string values</li>\n",
    "<li><code>pandas</code> because <i>duh</i></li>\n",
    "<li><code>numpy</code> because math</li>\n",
    "<li><code>matplotlib.pyplot</code> for charts</li>\n",
    "<li><code>CountVectorizer</code> for parsing tokens and removing stop words</li>\n",
    "</ul>"
   ]
  },
  {
   "cell_type": "code",
   "execution_count": 1,
   "metadata": {
    "collapsed": true
   },
   "outputs": [],
   "source": [
    "%matplotlib inline\n",
    "\n",
    "import re\n",
    "import pprint as pp\n",
    "import string\n",
    "import pandas as pd\n",
    "import numpy as np\n",
    "import matplotlib.pyplot as plt\n",
    "from sklearn.feature_extraction.text import CountVectorizer"
   ]
  },
  {
   "cell_type": "markdown",
   "metadata": {},
   "source": [
    "Next, we'll open the text files and read them into Python objects that can be parsed."
   ]
  },
  {
   "cell_type": "code",
   "execution_count": 2,
   "metadata": {
    "collapsed": true
   },
   "outputs": [],
   "source": [
    "# Inaugural Address text\n",
    "inaugural = open('../data/inaugural.txt', 'r')\n",
    "inaugural_text = inaugural.read()\n",
    "\n",
    "# State of the Union text\n",
    "sotu = open('../data/sotu.txt', 'r')\n",
    "sotu_text = sotu.read()"
   ]
  },
  {
   "cell_type": "markdown",
   "metadata": {},
   "source": [
    "First, we'll parse the inaugural speech data using <code>re</code> modules. We'll begin by creating a list of speech titles which will act as speech IDs."
   ]
  },
  {
   "cell_type": "code",
   "execution_count": 3,
   "metadata": {
    "collapsed": true
   },
   "outputs": [],
   "source": [
    "raw_speech_id_list = re.findall(r'\\*\\s\\*\\s\\*\\s\\*\\s\\*([\\w\\s\\,\\.]+)ADDRESS',\n",
    "                                inaugural_text)"
   ]
  },
  {
   "cell_type": "markdown",
   "metadata": {},
   "source": [
    "We'll use a <code>string</code> method (<code>strip</code>) to remove extraneous characters from the title list first. Later, we'll create a <code>dict</code> object that will have each title as a key and each full speech text as a value."
   ]
  },
  {
   "cell_type": "code",
   "execution_count": 4,
   "metadata": {
    "collapsed": true
   },
   "outputs": [],
   "source": [
    "stripped_id_list = [string.strip(title, \"\\r\\n \") for title in raw_speech_id_list]"
   ]
  },
  {
   "cell_type": "markdown",
   "metadata": {},
   "source": [
    "Let's move on to cleaning the speech text since we've cleaned the titles.\n",
    "\n",
    "All the speeches in the text file are separated by \\* \\* \\* \\* \\* delimiters, so we'll use <code>re.split</code> again to extract all the text between the delimiters."
   ]
  },
  {
   "cell_type": "code",
   "execution_count": 5,
   "metadata": {
    "collapsed": true
   },
   "outputs": [],
   "source": [
    "raw_speech = re.split(r'\\*\\s\\*\\s\\*\\s\\*\\s\\*', inaugural_text)"
   ]
  },
  {
   "cell_type": "markdown",
   "metadata": {},
   "source": [
    "Next, we'll use <code>re.sub</code> to replace the \"Transcriber's Notes\" because we only want the speech text for each inaugural address. We'll also ignore the first and last elements in the <code>raw_speech</code> list because it isn't actually speech text."
   ]
  },
  {
   "cell_type": "code",
   "execution_count": 6,
   "metadata": {
    "collapsed": false
   },
   "outputs": [
    {
     "name": "stdout",
     "output_type": "stream",
     "text": [
      "55\n"
     ]
    }
   ],
   "source": [
    "speeches = [re.sub(r'^([\\w\\W\\s]+)\\]', \"\", speech) for speech in raw_speech[1:len(raw_speech)-1]]\n",
    "\n",
    "print len(speeches)"
   ]
  },
  {
   "cell_type": "markdown",
   "metadata": {},
   "source": [
    "Finally, we'll use a combination of <code>re.sub</code> and <code>string.strip</code> to clean up all the extra spaces and newline characters in each speech."
   ]
  },
  {
   "cell_type": "code",
   "execution_count": 7,
   "metadata": {
    "collapsed": false
   },
   "outputs": [
    {
     "name": "stdout",
     "output_type": "stream",
     "text": [
      "55\n"
     ]
    }
   ],
   "source": [
    "clean_speeches = []\n",
    "[clean_speeches.append(re.sub(r'\\r\\n',\n",
    "                              \" \",\n",
    "                              string.strip(speech,\"\\r\\n\"))) for speech in speeches]\n",
    "\n",
    "print len(clean_speeches)"
   ]
  },
  {
   "cell_type": "markdown",
   "metadata": {},
   "source": [
    "It looks like most of the works is done, but you'll see that the last three speeches still contain extranous test (mostly speech IDs) that should be removed, so we'll take the last use <code>re.sub</code> on the last three to extract the last bit of cruft before moving on."
   ]
  },
  {
   "cell_type": "code",
   "execution_count": 8,
   "metadata": {
    "collapsed": true
   },
   "outputs": [],
   "source": [
    "clean_speeches_inaugural = [re.sub(r'([A-Z0-9\\,\\.\\s]+)\\s{3}', \"\", speech) \n",
    "                            for speech in clean_speeches]"
   ]
  },
  {
   "cell_type": "markdown",
   "metadata": {},
   "source": [
    "Now that the inaugural data is clean, let's follow similar steps to clean the State of the Union (SOTU) speeches. Again, we'll use <code>re</code> modules to extract the text.\n",
    "\n",
    "First, we'll create a list of titles that will serve as speech IDs. Rather than extracting using Python, however, it'll be easier to just copy and paste the SOTU titles and load it into a Python list :)"
   ]
  },
  {
   "cell_type": "code",
   "execution_count": 9,
   "metadata": {
    "collapsed": false
   },
   "outputs": [
    {
     "name": "stdout",
     "output_type": "stream",
     "text": [
      "['GEORGE WASHINGTON, STATE OF THE UNION ADDRESS',\n",
      " 'GEORGE WASHINGTON, STATE OF THE UNION ADDRESS']\n"
     ]
    }
   ],
   "source": [
    "raw_speech_id_list_sotu = [\n",
    "'George Washington, State of the Union Address',\n",
    "'George Washington, State of the Union Address',\n",
    "'George Washington, State of the Union Address',\n",
    "'George Washington, State of the Union Address',\n",
    "'George Washington, State of the Union Address',\n",
    "'George Washington, State of the Union Address',\n",
    "'George Washington, State of the Union Address',\n",
    "'George Washington, State of the Union Address',\n",
    "'John Adams, State of the Union Address',\n",
    "'John Adams, State of the Union Address',\n",
    "'John Adams, State of the Union Address',\n",
    "'John Adams, State of the Union Address',\n",
    "'Thomas Jefferson, State of the Union Address',\n",
    "'Thomas Jefferson, State of the Union Address',\n",
    "'Thomas Jefferson, State of the Union Address',\n",
    "'Thomas Jefferson, State of the Union Address',\n",
    "'Thomas Jefferson, State of the Union Address',\n",
    "'Thomas Jefferson, State of the Union Address',\n",
    "'Thomas Jefferson, State of the Union Address',\n",
    "'Thomas Jefferson, State of the Union Address',\n",
    "'James Madison, State of the Union Address',\n",
    "'James Madison, State of the Union Address',\n",
    "'James Madison, State of the Union Address',\n",
    "'James Madison, State of the Union Address',\n",
    "'James Madison, State of the Union Address',\n",
    "'James Madison, State of the Union Address',\n",
    "'James Madison, State of the Union Address',\n",
    "'James Madison, State of the Union Address',\n",
    "'James Monroe, State of the Union Address',\n",
    "'James Monroe, State of the Union Address',\n",
    "'James Monroe, State of the Union Address',\n",
    "'James Monroe, State of the Union Address',\n",
    "'James Monroe, State of the Union Address',\n",
    "'James Monroe, State of the Union Address',\n",
    "'James Monroe, State of the Union Address',\n",
    "'James Monroe, State of the Union Address',\n",
    "'John Quincy Adams, State of the Union Address',\n",
    "'John Quincy Adams, State of the Union Address',\n",
    "'John Quincy Adams, State of the Union Address',\n",
    "'John Quincy Adams, State of the Union Address',\n",
    "'Andrew Jackson, State of the Union Address',\n",
    "'Andrew Jackson, State of the Union Address',\n",
    "'Andrew Jackson, State of the Union Address',\n",
    "'Andrew Jackson, State of the Union Address',\n",
    "'Andrew Jackson, State of the Union Address',\n",
    "'Andrew Jackson, State of the Union Address',\n",
    "'Andrew Jackson, State of the Union Address',\n",
    "'Andrew Jackson, State of the Union Address',\n",
    "'Martin van Buren, State of the Union Address',\n",
    "'Martin van Buren, State of the Union Address',\n",
    "'Martin van Buren, State of the Union Address',\n",
    "'Martin van Buren, State of the Union Address',\n",
    "'John Tyler, State of the Union Address',\n",
    "'John Tyler, State of the Union Address',\n",
    "'John Tyler, State of the Union Address',\n",
    "'John Tyler, State of the Union Address',\n",
    "'James Polk, State of the Union Address',\n",
    "'James Polk, State of the Union Address',\n",
    "'James Polk, State of the Union Address',\n",
    "'James Polk, State of the Union Address',\n",
    "'Zachary Taylor, State of the Union Address',\n",
    "'Millard Fillmore, State of the Union Address',\n",
    "'Millard Fillmore, State of the Union Address',\n",
    "'Millard Fillmore, State of the Union Address',\n",
    "'Franklin Pierce, State of the Union Address',\n",
    "'Franklin Pierce, State of the Union Address',\n",
    "'Franklin Pierce, State of the Union Address',\n",
    "'Franklin Pierce, State of the Union Address',\n",
    "'James Buchanan, State of the Union Address',\n",
    "'James Buchanan, State of the Union Address',\n",
    "'James Buchanan, State of the Union Address',\n",
    "'James Buchanan, State of the Union Address',\n",
    "'Abraham Lincoln, State of the Union Address',\n",
    "'Abraham Lincoln, State of the Union Address',\n",
    "'Abraham Lincoln, State of the Union Address',\n",
    "'Abraham Lincoln, State of the Union Address',\n",
    "'Andrew Johnson, State of the Union Address',\n",
    "'Andrew Johnson, State of the Union Address',\n",
    "'Andrew Johnson, State of the Union Address',\n",
    "'Andrew Johnson, State of the Union Address',\n",
    "'Ulysses S. Grant, State of the Union Address',\n",
    "'Ulysses S. Grant, State of the Union Address',\n",
    "'Ulysses S. Grant, State of the Union Address',\n",
    "'Ulysses S. Grant, State of the Union Address',\n",
    "'Ulysses S. Grant, State of the Union Address',\n",
    "'Ulysses S. Grant, State of the Union Address',\n",
    "'Ulysses S. Grant, State of the Union Address',\n",
    "'Ulysses S. Grant, State of the Union Address',\n",
    "'Rutherford B. Hayes, State of the Union Address',\n",
    "'Rutherford B. Hayes, State of the Union Address',\n",
    "'Rutherford B. Hayes, State of the Union Address',\n",
    "'Rutherford B. Hayes, State of the Union Address',\n",
    "'Chester A. Arthur, State of the Union Address',\n",
    "'Chester A. Arthur, State of the Union Address',\n",
    "'Chester A. Arthur, State of the Union Address',\n",
    "'Chester A. Arthur, State of the Union Address',\n",
    "'Grover Cleveland, State of the Union Address',\n",
    "'Grover Cleveland, State of the Union Address',\n",
    "'Grover Cleveland, State of the Union Address',\n",
    "'Grover Cleveland, State of the Union Address',\n",
    "'Benjamin Harrison, State of the Union Address',\n",
    "'Benjamin Harrison, State of the Union Address',\n",
    "'Benjamin Harrison, State of the Union Address',\n",
    "'Benjamin Harrison, State of the Union Address',\n",
    "'William McKinley, State of the Union Address',\n",
    "'William McKinley, State of the Union Address',\n",
    "'William McKinley, State of the Union Address',\n",
    "'William McKinley, State of the Union Address',\n",
    "'Theodore Roosevelt, State of the Union Address',\n",
    "'Theodore Roosevelt, State of the Union Address',\n",
    "'Theodore Roosevelt, State of the Union Address',\n",
    "'Theodore Roosevelt, State of the Union Address',\n",
    "'Theodore Roosevelt, State of the Union Address',\n",
    "'Theodore Roosevelt, State of the Union Address',\n",
    "'Theodore Roosevelt, State of the Union Address',\n",
    "'Theodore Roosevelt, State of the Union Address',\n",
    "'William H. Taft, State of the Union Address',\n",
    "'William H. Taft, State of the Union Address',\n",
    "'William H. Taft, State of the Union Address',\n",
    "'William H. Taft, State of the Union Address',\n",
    "'Woodrow Wilson, State of the Union Address',\n",
    "'Woodrow Wilson, State of the Union Address',\n",
    "'Woodrow Wilson, State of the Union Address',\n",
    "'Woodrow Wilson, State of the Union Address',\n",
    "'Woodrow Wilson, State of the Union Address',\n",
    "'Woodrow Wilson, State of the Union Address',\n",
    "'Woodrow Wilson, State of the Union Address',\n",
    "'Woodrow Wilson, State of the Union Address',\n",
    "'Warren Harding, State of the Union Address',\n",
    "'Warren Harding, State of the Union Address',\n",
    "'Calvin Coolidge, State of the Union Address',\n",
    "'Calvin Coolidge, State of the Union Address',\n",
    "'Calvin Coolidge, State of the Union Address',\n",
    "'Calvin Coolidge, State of the Union Address',\n",
    "'Calvin Coolidge, State of the Union Address',\n",
    "'Calvin Coolidge, State of the Union Address',\n",
    "'Herbert Hoover, State of the Union Address',\n",
    "'Herbert Hoover, State of the Union Address',\n",
    "'Herbert Hoover, State of the Union Address',\n",
    "'Herbert Hoover, State of the Union Address',\n",
    "'Franklin D. Roosevelt, State of the Union Address',\n",
    "'Franklin D. Roosevelt, State of the Union Address',\n",
    "'Franklin D. Roosevelt, State of the Union Address',\n",
    "'Franklin D. Roosevelt, State of the Union Address',\n",
    "'Franklin D. Roosevelt, State of the Union Address',\n",
    "'Franklin D. Roosevelt, State of the Union Address',\n",
    "'Franklin D. Roosevelt, State of the Union Address',\n",
    "'Franklin D. Roosevelt, State of the Union Address',\n",
    "'Franklin D. Roosevelt, State of the Union Address',\n",
    "'Franklin D. Roosevelt, State of the Union Address',\n",
    "'Franklin D. Roosevelt, State of the Union Address',\n",
    "'Franklin D. Roosevelt, State of the Union Address',\n",
    "'Harry S. Truman, State of the Union Address',\n",
    "'Harry S. Truman, State of the Union Address',\n",
    "'Harry S. Truman, State of the Union Address',\n",
    "'Harry S. Truman, State of the Union Address',\n",
    "'Harry S. Truman, State of the Union Address',\n",
    "'Harry S. Truman, State of the Union Address',\n",
    "'Harry S. Truman, State of the Union Address',\n",
    "'Harry S. Truman, State of the Union Address',\n",
    "'Dwight D. Eisenhower, State of the Union Address',\n",
    "'Dwight D. Eisenhower, State of the Union Address',\n",
    "'Dwight D. Eisenhower, State of the Union Address',\n",
    "'Dwight D. Eisenhower, State of the Union Address',\n",
    "'Dwight D. Eisenhower, State of the Union Address',\n",
    "'Dwight D. Eisenhower, State of the Union Address',\n",
    "'Dwight D. Eisenhower, State of the Union Address',\n",
    "'Dwight D. Eisenhower, State of the Union Address',\n",
    "'Dwight D. Eisenhower, State of the Union Address',\n",
    "'John F. Kennedy, State of the Union Address',\n",
    "'John F. Kennedy, State of the Union Address',\n",
    "'John F. Kennedy, State of the Union Address',\n",
    "'Lyndon B. Johnson, State of the Union Address',\n",
    "'Lyndon B. Johnson, State of the Union Address',\n",
    "'Lyndon B. Johnson, State of the Union Address',\n",
    "'Lyndon B. Johnson, State of the Union Address',\n",
    "'Lyndon B. Johnson, State of the Union Address',\n",
    "'Lyndon B. Johnson, State of the Union Address',\n",
    "'Richard Nixon, State of the Union Address',\n",
    "'Richard Nixon, State of the Union Address',\n",
    "'Richard Nixon, State of the Union Address',\n",
    "'Richard Nixon, State of the Union Address',\n",
    "'Richard Nixon, State of the Union Address',\n",
    "'Gerald R. Ford, State of the Union Address',\n",
    "'Gerald R. Ford, State of the Union Address',\n",
    "'Gerald R. Ford, State of the Union Address',\n",
    "'Jimmy Carter, State of the Union Address',\n",
    "'Jimmy Carter, State of the Union Address',\n",
    "'Jimmy Carter, State of the Union Address',\n",
    "'Jimmy Carter, State of the Union Address',\n",
    "'Ronald Reagan, State of the Union Address',\n",
    "'Ronald Reagan, State of the Union Address',\n",
    "'Ronald Reagan, State of the Union Address',\n",
    "'Ronald Reagan, State of the Union Address',\n",
    "'Ronald Reagan, State of the Union Address',\n",
    "'Ronald Reagan, State of the Union Address',\n",
    "'Ronald Reagan, State of the Union Address',\n",
    "'George H.W. Bush, State of the Union Address',\n",
    "'George H.W. Bush, State of the Union Address',\n",
    "'George H.W. Bush, State of the Union Address',\n",
    "'William J. Clinton, State of the Union Address',\n",
    "'William J. Clinton, State of the Union Address',\n",
    "'William J. Clinton, State of the Union Address',\n",
    "'William J. Clinton, State of the Union Address',\n",
    "'William J. Clinton, State of the Union Address',\n",
    "'William J. Clinton, State of the Union Address',\n",
    "'William J. Clinton, State of the Union Address',\n",
    "'George W. Bush, State of the Union Address',\n",
    "'George W. Bush, State of the Union Address',\n",
    "'George W. Bush, State of the Union Address',\n",
    "'George W. Bush, State of the Union Address',\n",
    "'George W. Bush, State of the Union Address',\n",
    "'George W. Bush, State of the Union Address',\n",
    "'George W. Bush, State of the Union Address'\n",
    "]\n",
    "\n",
    "# Capitalize speech IDs to conform to Inaugural Address data\n",
    "raw_speech_id_list_sotu_caps = []\n",
    "[raw_speech_id_list_sotu_caps.append(item.upper()) for item in raw_speech_id_list_sotu]\n",
    "\n",
    "pp.pprint(raw_speech_id_list_sotu_caps[:2])"
   ]
  },
  {
   "cell_type": "code",
   "execution_count": 10,
   "metadata": {
    "collapsed": false
   },
   "outputs": [
    {
     "name": "stdout",
     "output_type": "stream",
     "text": [
      "['GEORGE WASHINGTON, STATE OF THE UNION',\n",
      " 'GEORGE WASHINGTON, STATE OF THE UNION']\n"
     ]
    }
   ],
   "source": [
    "# Parse out speech IDs and append them to a list\n",
    "speech_id_list_sotu = []\n",
    "[speech_id_list_sotu.append(re.findall(r'^(.*?)\\sADDRESS',\n",
    "                                       speech)[0])\n",
    " for speech in raw_speech_id_list_sotu_caps]\n",
    "\n",
    "pp.pprint(speech_id_list_sotu[:2])"
   ]
  },
  {
   "cell_type": "code",
   "execution_count": 11,
   "metadata": {
    "collapsed": true
   },
   "outputs": [],
   "source": [
    "# Combine the speech IDs into a single list\n",
    "title_list = stripped_id_list + speech_id_list_sotu"
   ]
  },
  {
   "cell_type": "markdown",
   "metadata": {},
   "source": [
    "Now we're going to add each president's number to each of the titles in <code>title_list</code>, which will make for easier joining when we add personal details and rankings."
   ]
  },
  {
   "cell_type": "code",
   "execution_count": 12,
   "metadata": {
    "collapsed": true
   },
   "outputs": [],
   "source": [
    "# Write speech DataFrame data to a file\n",
    "file_df = open('../data/ids.csv', 'w')\n",
    "for row in title_list:\n",
    "    file_df.write(row)\n",
    "    file_df.write('\\n')\n",
    "\n",
    "file_df.close()"
   ]
  },
  {
   "cell_type": "markdown",
   "metadata": {},
   "source": [
    "Normally, we'd find a way to add the actual order numbers programmatically, but since there are relatively few records in the dataset, we can just do it by hand, then re-upload the CSV with the new values."
   ]
  },
  {
   "cell_type": "code",
   "execution_count": 13,
   "metadata": {
    "collapsed": false
   },
   "outputs": [
    {
     "data": {
      "text/html": [
       "<div style=\"max-height:1000px;max-width:1500px;overflow:auto;\">\n",
       "<table border=\"1\" class=\"dataframe\">\n",
       "  <thead>\n",
       "    <tr style=\"text-align: right;\">\n",
       "      <th></th>\n",
       "      <th>id</th>\n",
       "      <th> name</th>\n",
       "      <th> speech</th>\n",
       "    </tr>\n",
       "  </thead>\n",
       "  <tbody>\n",
       "    <tr>\n",
       "      <th>0</th>\n",
       "      <td> 1</td>\n",
       "      <td>  GEORGE WASHINGTON</td>\n",
       "      <td>   FIRST INAUGURAL</td>\n",
       "    </tr>\n",
       "    <tr>\n",
       "      <th>1</th>\n",
       "      <td> 1</td>\n",
       "      <td>  GEORGE WASHINGTON</td>\n",
       "      <td>  SECOND INAUGURAL</td>\n",
       "    </tr>\n",
       "    <tr>\n",
       "      <th>2</th>\n",
       "      <td> 2</td>\n",
       "      <td>         JOHN ADAMS</td>\n",
       "      <td>         INAUGURAL</td>\n",
       "    </tr>\n",
       "    <tr>\n",
       "      <th>3</th>\n",
       "      <td> 3</td>\n",
       "      <td>   THOMAS JEFFERSON</td>\n",
       "      <td>   FIRST INAUGURAL</td>\n",
       "    </tr>\n",
       "    <tr>\n",
       "      <th>4</th>\n",
       "      <td> 3</td>\n",
       "      <td>   THOMAS JEFFERSON</td>\n",
       "      <td>  SECOND INAUGURAL</td>\n",
       "    </tr>\n",
       "  </tbody>\n",
       "</table>\n",
       "</div>"
      ],
      "text/plain": [
       "   id                name             speech\n",
       "0   1   GEORGE WASHINGTON    FIRST INAUGURAL\n",
       "1   1   GEORGE WASHINGTON   SECOND INAUGURAL\n",
       "2   2          JOHN ADAMS          INAUGURAL\n",
       "3   3    THOMAS JEFFERSON    FIRST INAUGURAL\n",
       "4   3    THOMAS JEFFERSON   SECOND INAUGURAL"
      ]
     },
     "execution_count": 13,
     "metadata": {},
     "output_type": "execute_result"
    }
   ],
   "source": [
    "# Load newly-tagged data\n",
    "df_with_id = pd.read_csv('../data/ids_final.csv')\n",
    "df_with_id.head()"
   ]
  },
  {
   "cell_type": "markdown",
   "metadata": {
    "collapsed": true
   },
   "source": [
    "The above <code>DataFrame</code> can be concatenated to the later <code>DataFrame</code>s containing the tokens generated by parsing the speech text."
   ]
  },
  {
   "cell_type": "markdown",
   "metadata": {},
   "source": [
    "Now for the hard part: let's grab the actual speech text for each State of the Union speech. First, we'll split the full text file; each speech is separated by \\*\\*\\*, so we'll split using that."
   ]
  },
  {
   "cell_type": "code",
   "execution_count": 14,
   "metadata": {
    "collapsed": true
   },
   "outputs": [],
   "source": [
    "raw_speech_sotu = re.split(r'\\*\\*\\*\\r\\n\\r\\n', sotu_text)\n",
    "\n",
    "# Actual speeches start at index 4 and end at index -3\n",
    "raw_speech_sotu = raw_speech_sotu[4:-3]"
   ]
  },
  {
   "cell_type": "markdown",
   "metadata": {},
   "source": [
    "To clean things up just a bit more, we'll remove the title information in each speech text."
   ]
  },
  {
   "cell_type": "code",
   "execution_count": 15,
   "metadata": {
    "collapsed": false
   },
   "outputs": [
    {
     "name": "stdout",
     "output_type": "stream",
     "text": [
      "214\n"
     ]
    }
   ],
   "source": [
    "clean_speeches_2 = []\n",
    "[clean_speeches_2.append(re.findall(r'[0-9]{4}([\\w\\W\\s\\S]+)$',\n",
    "                            speech)[0])\n",
    "                            for speech in raw_speech_sotu]\n",
    "\n",
    "print len(clean_speeches_2)"
   ]
  },
  {
   "cell_type": "code",
   "execution_count": 16,
   "metadata": {
    "collapsed": true
   },
   "outputs": [],
   "source": [
    "# Still need to clean SOTU speeches and remove '\\r\\n' instances and replace with '' or spaces\n",
    "clean_speeches_sotu = []\n",
    "\n",
    "for speech in clean_speeches_2:\n",
    "    clean_speeches_sotu.append(re.sub(r'\\r\\n{1}', ' ', speech))"
   ]
  },
  {
   "cell_type": "markdown",
   "metadata": {},
   "source": [
    "Now that both sets of speeches have been properly cleaned, we'll add them both together to create an aggregate list of cleaned speeches."
   ]
  },
  {
   "cell_type": "code",
   "execution_count": 17,
   "metadata": {
    "collapsed": true
   },
   "outputs": [],
   "source": [
    "clean_speeches_all = clean_speeches_inaugural + clean_speeches_sotu"
   ]
  },
  {
   "cell_type": "code",
   "execution_count": 22,
   "metadata": {
    "collapsed": false
   },
   "outputs": [],
   "source": [
    "df_speeches = pd.DataFrame(clean_speeches_all, columns = [\"speech_text\"])"
   ]
  },
  {
   "cell_type": "code",
   "execution_count": 34,
   "metadata": {
    "collapsed": false
   },
   "outputs": [
    {
     "data": {
      "text/plain": [
       "269"
      ]
     },
     "execution_count": 34,
     "metadata": {},
     "output_type": "execute_result"
    }
   ],
   "source": [
    "len(df_speeches)"
   ]
  },
  {
   "cell_type": "code",
   "execution_count": 30,
   "metadata": {
    "collapsed": true
   },
   "outputs": [],
   "source": [
    "df_all = pd.concat([df_with_id.iloc[:,:1], df_speeches], axis = 1)"
   ]
  },
  {
   "cell_type": "code",
   "execution_count": 50,
   "metadata": {
    "collapsed": false
   },
   "outputs": [
    {
     "data": {
      "text/html": [
       "<div style=\"max-height:1000px;max-width:1500px;overflow:auto;\">\n",
       "<table border=\"1\" class=\"dataframe\">\n",
       "  <thead>\n",
       "    <tr style=\"text-align: right;\">\n",
       "      <th></th>\n",
       "      <th>id</th>\n",
       "      <th>speech_text</th>\n",
       "    </tr>\n",
       "  </thead>\n",
       "  <tbody>\n",
       "    <tr>\n",
       "      <th>0 </th>\n",
       "      <td>  1</td>\n",
       "      <td> Fellow-Citizens of the Senate and of the House...</td>\n",
       "    </tr>\n",
       "    <tr>\n",
       "      <th>1 </th>\n",
       "      <td>  2</td>\n",
       "      <td> When it was first perceived, in early times, t...</td>\n",
       "    </tr>\n",
       "    <tr>\n",
       "      <th>2 </th>\n",
       "      <td>  3</td>\n",
       "      <td> Friends and Fellow-Citizens:  Called upon to u...</td>\n",
       "    </tr>\n",
       "    <tr>\n",
       "      <th>3 </th>\n",
       "      <td>  4</td>\n",
       "      <td> Unwilling to depart from examples of the most ...</td>\n",
       "    </tr>\n",
       "    <tr>\n",
       "      <th>4 </th>\n",
       "      <td>  5</td>\n",
       "      <td> I should be destitute of feeling if I was not ...</td>\n",
       "    </tr>\n",
       "    <tr>\n",
       "      <th>5 </th>\n",
       "      <td>  6</td>\n",
       "      <td> In compliance with an usage coeval with the ex...</td>\n",
       "    </tr>\n",
       "    <tr>\n",
       "      <th>6 </th>\n",
       "      <td>  7</td>\n",
       "      <td> Fellow-Citizens:  About to undertake the arduo...</td>\n",
       "    </tr>\n",
       "    <tr>\n",
       "      <th>7 </th>\n",
       "      <td>  8</td>\n",
       "      <td>  existed domestic institutions which, unwisely...</td>\n",
       "    </tr>\n",
       "    <tr>\n",
       "      <th>8 </th>\n",
       "      <td>  9</td>\n",
       "      <td> Called from a retirement which I had supposed ...</td>\n",
       "    </tr>\n",
       "    <tr>\n",
       "      <th>9 </th>\n",
       "      <td> 10</td>\n",
       "      <td>   To the Senate and House of Representatives o...</td>\n",
       "    </tr>\n",
       "    <tr>\n",
       "      <th>10</th>\n",
       "      <td> 11</td>\n",
       "      <td> Fellow-Citizens:  Without solicitation on my p...</td>\n",
       "    </tr>\n",
       "    <tr>\n",
       "      <th>11</th>\n",
       "      <td> 12</td>\n",
       "      <td> Elected by the American people to the highest ...</td>\n",
       "    </tr>\n",
       "    <tr>\n",
       "      <th>12</th>\n",
       "      <td> 13</td>\n",
       "      <td>   Fellow-Citizens of the Senate and of the Hou...</td>\n",
       "    </tr>\n",
       "    <tr>\n",
       "      <th>13</th>\n",
       "      <td> 14</td>\n",
       "      <td> My Countrymen:  It is a relief to feel that no...</td>\n",
       "    </tr>\n",
       "    <tr>\n",
       "      <th>14</th>\n",
       "      <td> 15</td>\n",
       "      <td>  against invasion.\" Now, how is it possible to...</td>\n",
       "    </tr>\n",
       "    <tr>\n",
       "      <th>15</th>\n",
       "      <td> 16</td>\n",
       "      <td> Fellow-Citizens of the United States:  In comp...</td>\n",
       "    </tr>\n",
       "    <tr>\n",
       "      <th>16</th>\n",
       "      <td> 17</td>\n",
       "      <td>   Fellow-Citizens of the Senate and House of R...</td>\n",
       "    </tr>\n",
       "    <tr>\n",
       "      <th>17</th>\n",
       "      <td> 18</td>\n",
       "      <td> Citizens of the United States:  Your suffrages...</td>\n",
       "    </tr>\n",
       "    <tr>\n",
       "      <th>18</th>\n",
       "      <td> 19</td>\n",
       "      <td> Fellow-Citizens:  We have assembled to repeat ...</td>\n",
       "    </tr>\n",
       "    <tr>\n",
       "      <th>19</th>\n",
       "      <td> 20</td>\n",
       "      <td> Fellow-Citizens:  We stand to-day upon an emin...</td>\n",
       "    </tr>\n",
       "    <tr>\n",
       "      <th>20</th>\n",
       "      <td> 21</td>\n",
       "      <td>   To the Senate and House of Representatives o...</td>\n",
       "    </tr>\n",
       "    <tr>\n",
       "      <th>21</th>\n",
       "      <td> 22</td>\n",
       "      <td> Fellow-Citizens:  In the presence of this vast...</td>\n",
       "    </tr>\n",
       "    <tr>\n",
       "      <th>22</th>\n",
       "      <td> 23</td>\n",
       "      <td> Fellow-Citizens:  There is no constitutional o...</td>\n",
       "    </tr>\n",
       "    <tr>\n",
       "      <th>23</th>\n",
       "      <td> 25</td>\n",
       "      <td> Fellow-Citizens:  In obedience to the will of ...</td>\n",
       "    </tr>\n",
       "    <tr>\n",
       "      <th>24</th>\n",
       "      <td> 26</td>\n",
       "      <td> My fellow-citizens, no people on earth have mo...</td>\n",
       "    </tr>\n",
       "    <tr>\n",
       "      <th>25</th>\n",
       "      <td> 27</td>\n",
       "      <td> My Fellow-Citizens:  Anyone who has taken the ...</td>\n",
       "    </tr>\n",
       "    <tr>\n",
       "      <th>26</th>\n",
       "      <td> 28</td>\n",
       "      <td> There has been a change of government. It bega...</td>\n",
       "    </tr>\n",
       "    <tr>\n",
       "      <th>27</th>\n",
       "      <td> 29</td>\n",
       "      <td> My Countrymen:  When one surveys the world abo...</td>\n",
       "    </tr>\n",
       "    <tr>\n",
       "      <th>28</th>\n",
       "      <td> 30</td>\n",
       "      <td> My Countrymen:  No one can contemplate current...</td>\n",
       "    </tr>\n",
       "    <tr>\n",
       "      <th>29</th>\n",
       "      <td> 31</td>\n",
       "      <td> My Countrymen:  This occasion is not alone the...</td>\n",
       "    </tr>\n",
       "    <tr>\n",
       "      <th>30</th>\n",
       "      <td> 32</td>\n",
       "      <td> I am certain that my fellow Americans expect t...</td>\n",
       "    </tr>\n",
       "    <tr>\n",
       "      <th>31</th>\n",
       "      <td> 33</td>\n",
       "      <td> Mr. Vice President, Mr. Chief Justice, and fel...</td>\n",
       "    </tr>\n",
       "    <tr>\n",
       "      <th>32</th>\n",
       "      <td> 34</td>\n",
       "      <td> My friends, before I begin the expression of t...</td>\n",
       "    </tr>\n",
       "    <tr>\n",
       "      <th>33</th>\n",
       "      <td> 35</td>\n",
       "      <td> Vice President Johnson, Mr. Speaker, Mr. Chief...</td>\n",
       "    </tr>\n",
       "    <tr>\n",
       "      <th>34</th>\n",
       "      <td> 36</td>\n",
       "      <td> My fellow countrymen, on this occasion, the oa...</td>\n",
       "    </tr>\n",
       "    <tr>\n",
       "      <th>35</th>\n",
       "      <td> 37</td>\n",
       "      <td> Senator Dirksen, Mr. Chief Justice, Mr. Vice P...</td>\n",
       "    </tr>\n",
       "    <tr>\n",
       "      <th>36</th>\n",
       "      <td> 38</td>\n",
       "      <td>   Mr. Speaker, Mr. Vice President, Members of ...</td>\n",
       "    </tr>\n",
       "    <tr>\n",
       "      <th>37</th>\n",
       "      <td> 39</td>\n",
       "      <td> For myself and for our Nation, I want to thank...</td>\n",
       "    </tr>\n",
       "    <tr>\n",
       "      <th>38</th>\n",
       "      <td> 40</td>\n",
       "      <td> Senator Hatfield, Mr. Chief Justice, Mr. Presi...</td>\n",
       "    </tr>\n",
       "    <tr>\n",
       "      <th>39</th>\n",
       "      <td> 41</td>\n",
       "      <td> Mr. Chief Justice, Mr. President, Vice Preside...</td>\n",
       "    </tr>\n",
       "    <tr>\n",
       "      <th>40</th>\n",
       "      <td> 42</td>\n",
       "      <td> My fellow citizens:  Today we celebrate the my...</td>\n",
       "    </tr>\n",
       "  </tbody>\n",
       "</table>\n",
       "</div>"
      ],
      "text/plain": [
       "    id                                        speech_text\n",
       "0    1  Fellow-Citizens of the Senate and of the House...\n",
       "1    2  When it was first perceived, in early times, t...\n",
       "2    3  Friends and Fellow-Citizens:  Called upon to u...\n",
       "3    4  Unwilling to depart from examples of the most ...\n",
       "4    5  I should be destitute of feeling if I was not ...\n",
       "5    6  In compliance with an usage coeval with the ex...\n",
       "6    7  Fellow-Citizens:  About to undertake the arduo...\n",
       "7    8   existed domestic institutions which, unwisely...\n",
       "8    9  Called from a retirement which I had supposed ...\n",
       "9   10    To the Senate and House of Representatives o...\n",
       "10  11  Fellow-Citizens:  Without solicitation on my p...\n",
       "11  12  Elected by the American people to the highest ...\n",
       "12  13    Fellow-Citizens of the Senate and of the Hou...\n",
       "13  14  My Countrymen:  It is a relief to feel that no...\n",
       "14  15   against invasion.\" Now, how is it possible to...\n",
       "15  16  Fellow-Citizens of the United States:  In comp...\n",
       "16  17    Fellow-Citizens of the Senate and House of R...\n",
       "17  18  Citizens of the United States:  Your suffrages...\n",
       "18  19  Fellow-Citizens:  We have assembled to repeat ...\n",
       "19  20  Fellow-Citizens:  We stand to-day upon an emin...\n",
       "20  21    To the Senate and House of Representatives o...\n",
       "21  22  Fellow-Citizens:  In the presence of this vast...\n",
       "22  23  Fellow-Citizens:  There is no constitutional o...\n",
       "23  25  Fellow-Citizens:  In obedience to the will of ...\n",
       "24  26  My fellow-citizens, no people on earth have mo...\n",
       "25  27  My Fellow-Citizens:  Anyone who has taken the ...\n",
       "26  28  There has been a change of government. It bega...\n",
       "27  29  My Countrymen:  When one surveys the world abo...\n",
       "28  30  My Countrymen:  No one can contemplate current...\n",
       "29  31  My Countrymen:  This occasion is not alone the...\n",
       "30  32  I am certain that my fellow Americans expect t...\n",
       "31  33  Mr. Vice President, Mr. Chief Justice, and fel...\n",
       "32  34  My friends, before I begin the expression of t...\n",
       "33  35  Vice President Johnson, Mr. Speaker, Mr. Chief...\n",
       "34  36  My fellow countrymen, on this occasion, the oa...\n",
       "35  37  Senator Dirksen, Mr. Chief Justice, Mr. Vice P...\n",
       "36  38    Mr. Speaker, Mr. Vice President, Members of ...\n",
       "37  39  For myself and for our Nation, I want to thank...\n",
       "38  40  Senator Hatfield, Mr. Chief Justice, Mr. Presi...\n",
       "39  41  Mr. Chief Justice, Mr. President, Vice Preside...\n",
       "40  42  My fellow citizens:  Today we celebrate the my..."
      ]
     },
     "execution_count": 50,
     "metadata": {},
     "output_type": "execute_result"
    }
   ],
   "source": [
    "df_grouped = df_all.groupby('id', as_index = False).sum()"
   ]
  },
  {
   "cell_type": "code",
   "execution_count": 54,
   "metadata": {
    "collapsed": false
   },
   "outputs": [
    {
     "data": {
      "text/plain": [
       "42"
      ]
     },
     "execution_count": 54,
     "metadata": {},
     "output_type": "execute_result"
    }
   ],
   "source": [
    "speeches_all = list(df_grouped.speech_text)\n",
    "\n",
    "len(speeches_all)"
   ]
  },
  {
   "cell_type": "code",
   "execution_count": null,
   "metadata": {
    "collapsed": true
   },
   "outputs": [],
   "source": []
  }
 ],
 "metadata": {
  "kernelspec": {
   "display_name": "Python 2",
   "language": "python",
   "name": "python2"
  },
  "language_info": {
   "codemirror_mode": {
    "name": "ipython",
    "version": 2
   },
   "file_extension": ".py",
   "mimetype": "text/x-python",
   "name": "python",
   "nbconvert_exporter": "python",
   "pygments_lexer": "ipython2",
   "version": "2.7.9"
  }
 },
 "nbformat": 4,
 "nbformat_minor": 0
}
