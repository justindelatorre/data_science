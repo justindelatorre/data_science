{
 "cells": [
  {
   "cell_type": "markdown",
   "metadata": {},
   "source": [
    "#PM3: First Draft and Progress Report ([presentation link](https://docs.google.com/presentation/d/1x0f_TOlJKiu6sIVaI-RIBynmladd02lt-9ZwkZsvPSE/edit#slide=id.p))"
   ]
  },
  {
   "cell_type": "markdown",
   "metadata": {},
   "source": [
    "##<i>Part I: Current Project Status</i>"
   ]
  },
  {
   "cell_type": "markdown",
   "metadata": {},
   "source": [
    "<i><b>tl;dr</b>: I've added more data to include more presidents, and labelling political affiliation on a gradient is too hard, so I'm going to switch to modeling other things.</i>"
   ]
  },
  {
   "cell_type": "markdown",
   "metadata": {},
   "source": [
    "###Roadblocks\n",
    "\n",
    "Since the last project milestone, I've obtained more data (which will be presented shortly) and, as a result of playing around with the original dataset, am strongly considering slightly tweaking my project objectives. Analyzing how conservative or liberal a president may be based on political rhetoric would likely involve creating a custom sentiment mapping, and while I have some familiarity with NLTK, I believe that a custom job would probably be beyond the scope of my skills at this time."
   ]
  },
  {
   "cell_type": "markdown",
   "metadata": {},
   "source": [
    "###New Data\n",
    "\n",
    "As such, I've obtained a few other pieces of data that may allow me to do something similar to my original goal. These data (from various online sources) contain information like a president's political party, religious affiliation, age at inauguration and at death, and each president's aggregate rank according to various scholars.\n",
    "\n",
    "In addition, I've also expanded the corpus of text to analyze to include state of the union addresses as well. Some presidents - primarily those who were not elected to office, mainly vice-presidents who assumed the position after their predecessors had either passed away or resigned - did not deliver inaugural addresses, and so I included more speeches to ensure more presidents were included in the sample."
   ]
  },
  {
   "cell_type": "markdown",
   "metadata": {},
   "source": [
    "###Changes in Project Scope and Objectives\n",
    "\n",
    "With these new data, I now hope to use political rhetoric to model the newly-introduced categorical and continuous labels (e.g., party, religion, ranking) and potentiall gain insight to the following questions, among others:\n",
    "<ul>\n",
    "<li>What common language, themes, and phrases do our greatest presidents have in common in their rhetoric?</li>\n",
    "<li>Is there a quanitifiable relationship between these rhetorical traits and how great a president is perceived to be?</li>\n",
    "<li>Does a president's specific religious background affect the language used in speeches?</li>\n",
    "</ul>"
   ]
  },
  {
   "cell_type": "markdown",
   "metadata": {},
   "source": [
    "##<i>Part II: Previous Milestone (PM2): Data Ready</i>"
   ]
  },
  {
   "cell_type": "markdown",
   "metadata": {},
   "source": [
    "<i>This section contains mostly data pre-processing and initial exploratory data analysis. If you're interested in what I've done since the previous milestone deadline, feel free to skip ahead to <b>Part III</b>.</i>"
   ]
  },
  {
   "cell_type": "markdown",
   "metadata": {},
   "source": [
    "<b>Data Sources:</b>\n",
    "<ul>\n",
    "<li>Inaugural Addresses and States of the Union: Project Gutenberg</li>\n",
    "<li>[Presidential Data](http://www.infoplease.com/ipa/A0194030.html): Infoplease</li>\n",
    "<li>[Presidential Rankings](https://en.wikipedia.org/wiki/Historical_rankings_of_Presidents_of_the_United_States#Five_Thirty_Eight_analysis): Wikipedia/538</li>\n",
    "</ul>\n",
    "\n",
    "Structured data can be found [here](https://docs.google.com/spreadsheets/d/1cujFV5JLRivY-k6LMEDCP8_zapHUtwNCdb9Qr8h2gOQ/edit#gid=0)."
   ]
  },
  {
   "cell_type": "markdown",
   "metadata": {},
   "source": [
    "####<i>Step 1: Pre-processing - Parsing Speeches</i>"
   ]
  },
  {
   "cell_type": "markdown",
   "metadata": {},
   "source": [
    "First, let's import all the packages we'll need to clean the data:\n",
    "<ul>\n",
    "<li><code>re</code> for regular expression functions</li>\n",
    "<li><code>pprint</code> to make printing more readable</li>\n",
    "<li><code>string</code> to clean string values</li>\n",
    "<li><code>pandas</code> because <i>duh</i></li>\n",
    "<li><code>numpy</code> because math</li>\n",
    "<li><code>matplotlib.pyplot</code> for charts</li>\n",
    "<li><code>CountVectorizer</code> for parsing tokens and removing stop words</li>\n",
    "</ul>"
   ]
  },
  {
   "cell_type": "code",
   "execution_count": 1,
   "metadata": {
    "collapsed": true
   },
   "outputs": [],
   "source": [
    "%matplotlib inline\n",
    "\n",
    "import re\n",
    "import pprint as pp\n",
    "import string\n",
    "import pandas as pd\n",
    "import numpy as np\n",
    "import matplotlib.pyplot as plt\n",
    "from sklearn.feature_extraction.text import CountVectorizer"
   ]
  },
  {
   "cell_type": "markdown",
   "metadata": {},
   "source": [
    "Next, we'll open the text files and read them into Python objects that can be parsed."
   ]
  },
  {
   "cell_type": "code",
   "execution_count": 2,
   "metadata": {
    "collapsed": false
   },
   "outputs": [],
   "source": [
    "# Inaugural speech text\n",
    "inaugural = open('../data/inaugural.txt', 'r')\n",
    "inaugural_text = inaugural.read()\n",
    "\n",
    "# State of the Union text\n",
    "sotu = open('../data/sotu.txt', 'r')\n",
    "sotu_text = sotu.read()"
   ]
  },
  {
   "cell_type": "markdown",
   "metadata": {
    "collapsed": true
   },
   "source": [
    "First, we'll parse the inaugural speech data using <code>re</code> modules."
   ]
  },
  {
   "cell_type": "code",
   "execution_count": 3,
   "metadata": {
    "collapsed": false
   },
   "outputs": [
    {
     "name": "stdout",
     "output_type": "stream",
     "text": [
      "55\n"
     ]
    }
   ],
   "source": [
    "# Create list of speech titles which will act as speech IDs\n",
    "raw_speech_id_list = re.findall(r'\\*\\s\\*\\s\\*\\s\\*\\s\\*([\\w\\s\\,\\.]+)ADDRESS',\n",
    "                                inaugural_text)\n",
    "\n",
    "print len(raw_speech_id_list)"
   ]
  },
  {
   "cell_type": "markdown",
   "metadata": {},
   "source": [
    "We'll use a <code>string</code> method (<code>strip</code>) to remove extraneous characters from the title list first. Later, we'll create a <code>dict</code> object that will have each title as a key and each full speech text as a value."
   ]
  },
  {
   "cell_type": "code",
   "execution_count": 4,
   "metadata": {
    "collapsed": false
   },
   "outputs": [],
   "source": [
    "stripped_id_list = [string.strip(title, \"\\r\\n \") for title in raw_speech_id_list]"
   ]
  },
  {
   "cell_type": "markdown",
   "metadata": {},
   "source": [
    "Let's move on to cleaning the speech text since we've cleaned the titles.\n",
    "\n",
    "All the speeches in the text file are separated by \\* \\* \\* \\* \\* delimiters, so we'll use <code>re.split</code> again to extract all the text between the delimiters."
   ]
  },
  {
   "cell_type": "code",
   "execution_count": 5,
   "metadata": {
    "collapsed": false
   },
   "outputs": [],
   "source": [
    "raw_speech = re.split(r'\\*\\s\\*\\s\\*\\s\\*\\s\\*', inaugural_text)"
   ]
  },
  {
   "cell_type": "markdown",
   "metadata": {},
   "source": [
    "Next, we'll use <code>re.sub</code> to replace the \"Transcriber's Notes\" because we only want the speech text for each inaugural address. We'll also ignore the first and last elements in the <code>raw_speech</code> list because it isn't actually speech text."
   ]
  },
  {
   "cell_type": "code",
   "execution_count": 6,
   "metadata": {
    "collapsed": false
   },
   "outputs": [
    {
     "name": "stdout",
     "output_type": "stream",
     "text": [
      "55\n"
     ]
    }
   ],
   "source": [
    "speeches = [re.sub(r'^([\\w\\W\\s]+)\\]', \"\", speech) for speech in raw_speech[1:len(raw_speech)-1]]\n",
    "\n",
    "print len(speeches)"
   ]
  },
  {
   "cell_type": "markdown",
   "metadata": {},
   "source": [
    "Finally, we'll use a combination of <code>re.sub</code> and <code>string.strip</code> to clean up all the extra spaces and newline characters in each speech."
   ]
  },
  {
   "cell_type": "code",
   "execution_count": 7,
   "metadata": {
    "collapsed": false
   },
   "outputs": [
    {
     "name": "stdout",
     "output_type": "stream",
     "text": [
      "'WILLIAM JEFFERSON CLINTON, SECOND INAUGURAL ADDRESS  JANUARY 20, 1997    My fellow citizens:  At this last presidential inauguration of the 20th century, let us lift our eyes toward the challenges that await us in the next century.  It is our great good fortune that time and chance have put us not only at the edge of a new century, in a new millennium, but on the edge of a bright new prospect in human affairs--a moment that will define our course, and our character, for decades to come.  We must keep our old democracy forever young. Guided by the ancient vision of a promised land, let us set our sights upon a land of new promise.  The promise of America was born in the 18th century out of the bold conviction that we are all created equal.  It was extended and preserved in the 19th century, when our nation spread across the continent, saved the union, and abolished the awful scourge of slavery.  Then, in turmoil and triumph, that promise exploded onto the world stage to make this the American Century.  And what a century it has been.  America became the world\\'s mightiest industrial power; saved the world from tyranny in two world wars and a long cold war; and time and again, reached out across the globe to millions who, like us, longed for the blessings of liberty.  Along the way, Americans produced a great middle class and security in old age; built unrivaled centers of learning and opened public schools to all; split the atom and explored the heavens; invented the computer and the microchip; and deepened the wellspring of justice by making a revolution in civil rights for African Americans and all minorities, and extending the circle of citizenship, opportunity and dignity to women.  Now, for the third time, a new century is upon us, and another time to choose.  We began the 19th century with a choice, to spread our nation from coast to coast.  We began the 20th century with a choice, to harness the Industrial Revolution to our values of free enterprise, conservation, and human decency.  Those choices made all the difference. At the dawn of the 21st century a free people must now choose to shape the forces of the Information Age and the global society, to unleash the limitless potential of all our people, and, yes, to form a more perfect union.  When last we gathered, our march to this new future seemed less certain than it does today.  We vowed then to set a clear course to renew our nation.  In these four years, we have been touched by tragedy, exhilarated by challenge, strengthened by achievement. America stands alone as the world\\'s indispensable nation. Once again, our economy is the strongest on Earth.  Once again, we are building stronger families, thriving communities, better educational opportunities, a cleaner environment. Problems that once seemed destined to deepen now bend to our efforts: our streets are safer and record numbers of our fellow citizens have moved from welfare to work.  And once again, we have resolved for our time a great debate over the role of government.  Today we can declare: Government is not the problem, and government is not the solution. We--the American people--we are the solution.  Our founders understood that well and gave us a democracy strong enough to endure for centuries, flexible enough to face our common challenges and advance our common dreams in each new day.  As times change, so government must change.  We need a new government for a new century--humble enough not to try to solve all our problems for us, but strong enough to give us the tools to solve our problems for ourselves; a government that is smaller, lives within its means, and does more with less.  Yet where it can stand up for our values and interests in the world, and where it can give Americans the power to make a real difference in their everyday lives, government should do more, not less.  The preeminent mission of our new government is to give all Americans an opportunity--not a guarantee, but a real opportunity--to build better lives.  Beyond that, my fellow citizens, the future is up to us. Our founders taught us that the preservation of our liberty and our union depends upon responsible citizenship.  And we need a new sense of responsibility for a new century.  There is work to do, work that government alone cannot do:  teaching children to read; hiring people off welfare rolls; coming out from behind locked doors and shuttered windows to help reclaim our streets from drugs and gangs and crime; taking time out of our own lives to serve others.  Each and every one of us, in our own way, must assume personal responsibility--not only for ourselves and our families, but for our neighbors and our nation.  Our greatest responsibility is to embrace a new spirit of community for a new century. For any one of us to succeed, we must succeed as one America.  The challenge of our past remains the challenge of our future--will we be one nation, one people, with one common destiny, or not?  Will we all come together, or come apart?  The divide of race has been America\\'s constant curse. And each new wave of immigrants gives new targets to old prejudices. Prejudice and contempt, cloaked in the pretense of religious or political conviction are no different.  These forces have nearly destroyed our nation in the past.  They plague us still. They fuel the fanaticism of terror.  And they torment the lives of millions in fractured nations all around the world.  These obsessions cripple both those who hate and, of course, those who are hated, robbing both of what they might become. We cannot, we will not, succumb to the dark impulses that lurk in the far regions of the soul everywhere.  We shall overcome them. And we shall replace them with the generous spirit of a people who feel at home with one another.  Our rich texture of racial, religious and political diversity will be a Godsend in the 21st century.  Great rewards will come to those who can live together, learn together, work together, forge new ties that bind together.  As this new era approaches we can already see its broad outlines. Ten years ago, the Internet was the mystical province of physicists; today, it is a commonplace encyclopedia for millions of schoolchildren. Scientists now are decoding the blueprint of human life. Cures for our most feared illnesses seem close at hand.  The world is no longer divided into two hostile camps. Instead, now we are building bonds with nations that once were our adversaries.  Growing connections of commerce and culture give us a chance to lift the fortunes and spirits of people the world over. And for the very first time in all of history, more people on this planet live under democracy than dictatorship.  My fellow Americans, as we look back at this remarkable century, we may ask, can we hope not just to follow, but even to surpass the achievements of the 20th century in America and to avoid the awful bloodshed that stained its legacy?  To that question, every American here and every American in our land today must answer a resounding \"Yes.\"  This is the heart of our task.  With a new vision of government, a new sense of responsibility, a new spirit of community, we will sustain America\\'s journey.  The promise we sought in a new land we will find again in a land of new promise.  In this new land, education will be every citizen\\'s most prized possession.  Our schools will have the highest standards in the world, igniting the spark of possibility in the eyes of every girl and every boy.  And the doors of higher education will be open to all.  The knowledge and power of the Information Age will be within reach not just of the few, but of every classroom, every library, every child.  Parents and children will have time not only to work, but to read and play together.  And the plans they make at their kitchen table will be those of a better home, a better job, the certain chance to go to college.  Our streets will echo again with the laughter of our children, because no one will try to shoot them or sell them drugs anymore. Everyone who can work, will work, with today\\'s permanent under class part of tomorrow\\'s growing middle class.  New miracles of medicine at last will reach not only those who can claim care now, but the children and hardworking families too long denied.  We will stand mighty for peace and freedom, and maintain a strong defense against terror and destruction.  Our children will sleep free from the threat of nuclear, chemical or biological weapons.  Ports and airports, farms and factories will thrive with trade and innovation and ideas. And the world\\'s greatest democracy will lead a whole world of democracies.  Our land of new promise will be a nation that meets its obligations--a nation that balances its budget, but never loses the balance of its values. A nation where our grandparents have secure retirement and health care, and their grandchildren know we have made the reforms necessary to sustain those benefits for their time.  A nation that fortifies the world\\'s most productive economy even as it protects the great natural bounty of our water, air, and majestic land.  And in this land of new promise, we will have reformed our politics so that the voice of the people will always speak louder than the din of narrow interests--regaining the participation and deserving the trust of all Americans.  Fellow citizens, let us build that America, a nation ever moving forward toward realizing the full potential of all its citizens.  Prosperity and power--yes, they are important, and we must maintain them.  But let us never forget:  The greatest progress we have made, and the greatest progress we have yet to make, is in the human heart.  In the end, all the world\\'s wealth and a thousand armies are no match for the strength and decency of the human spirit.  Thirty-four years ago, the man whose life we celebrate today spoke to us down there, at the other end of this Mall, in words that moved the conscience of a nation.  Like a prophet of old, he told of his dream that one day America would rise up and treat all its citizens as equals before the law and in the heart.  Martin Luther King\\'s dream was the American Dream.  His quest is our quest: the ceaseless striving to live out our true creed.  Our history has been built on such dreams and labors.  And by our dreams and labors we will redeem the promise of America in the 21st century.  To that effort I pledge all my strength and every power of my office. I ask the members of Congress here to join in that pledge. The American people returned to office a President of one party and a Congress of another.  Surely, they did not do this to advance the politics of petty bickering and extreme partisanship they plainly deplore.  No, they call on us instead to be repairers of the breach, and to move on with America\\'s mission.  America demands and deserves big things from us--and nothing big ever came from being small.  Let us remember the timeless wisdom of Cardinal Bernardin, when facing the end of his own life.  He said:  \"It is wrong to waste the precious gift of time, on acrimony and division.\"  Fellow citizens, we must not waste the precious gift of this time. For all of us are on that same journey of our lives, and our journey, too, will come to an end.  But the journey of our America must go on.  And so, my fellow Americans, we must be strong, for there is much to dare. The demands of our time are great and they are different.  Let us meet them with faith and courage, with patience and a grateful and happy heart. Let us shape the hope of this day into the noblest chapter in our history. Yes, let us build our bridge.  A bridge wide enough and strong enough for every American to cross over to a blessed land of new promise.  May those generations whose faces we cannot yet see, whose names we may never know, say of us here that we led our beloved land into a new century with the American Dream alive for all her children; with the American promise of a more perfect union a reality for all her people; with America\\'s bright flame of freedom spreading throughout all the world.  From the height of this place and the summit of this century, let us go forth.  May God strengthen our hands for the good work ahead--and always, always bless our America.'\n"
     ]
    }
   ],
   "source": [
    "clean_speeches = []\n",
    "[clean_speeches.append(re.sub(r'\\r\\n',\n",
    "                              \" \",\n",
    "                              string.strip(speech,\n",
    "                                           \"\\r\\n\"))) for speech in speeches]\n",
    "\n",
    "pp.pprint(clean_speeches[-3])"
   ]
  },
  {
   "cell_type": "markdown",
   "metadata": {},
   "source": [
    "Now that the data are all clean, we can create the <code>dict</code> that we mentioned earlier. But first, we'll create <code>list</code> of zipped <code>tuple</code>s, in case we need to access the data by index, since the key values in the <code>dict</code> will be a little unwieldy to invoke."
   ]
  },
  {
   "cell_type": "code",
   "execution_count": 8,
   "metadata": {
    "collapsed": false
   },
   "outputs": [
    {
     "name": "stdout",
     "output_type": "stream",
     "text": [
      "[('GEORGE WASHINGTON, FIRST INAUGURAL',\n",
      "  'Fellow-Citizens of the Senate and of the House of Representatives:  Among the vicissitudes incident to life no event could have filled me with greater anxieties than that of which the notification was transmitted by your order, and received on the 14th day of the present month. On the one hand, I was summoned by my Country, whose voice I can never hear but with veneration and love, from a retreat which I had chosen with the fondest predilection, and, in my flattering hopes, with an immutable decision, as the asylum of my declining years--a retreat which was rendered every day more necessary as well as more dear to me by the addition of habit to inclination, and of frequent interruptions in my health to the gradual waste committed on it by time. On the other hand, the magnitude and difficulty of the trust to which the voice of my country called me, being sufficient to awaken in the wisest and most experienced of her citizens a distrustful scrutiny into his qualifications, could not but overwhelm with despondence one who (inheriting inferior endowments from nature and unpracticed in the duties of civil administration) ought to be peculiarly conscious of his own deficiencies. In this conflict of emotions all I dare aver is that it has been my faithful study to collect my duty from a just appreciation of every circumstance by which it might be affected. All I dare hope is that if, in executing this task, I have been too much swayed by a grateful remembrance of former instances, or by an affectionate sensibility to this transcendent proof of the confidence of my fellow-citizens, and have thence too little consulted my incapacity as well as disinclination for the weighty and untried cares before me, my error will be palliated by the motives which mislead me, and its consequences be judged by my country with some share of the partiality in which they originated.  Such being the impressions under which I have, in obedience to the public summons, repaired to the present station, it would be peculiarly improper to omit in this first official act my fervent supplications to that Almighty Being who rules over the universe, who presides in the councils of nations, and whose providential aids can supply every human defect, that His benediction may consecrate to the liberties and happiness of the people of the United States a Government instituted by themselves for these essential purposes, and may enable every instrument employed in its administration to execute with success the functions allotted to his charge. In tendering this homage to the Great Author of every public and private good, I assure myself that it expresses your sentiments not less than my own, nor those of my fellow-citizens at large less than either. No people can be bound to acknowledge and adore the Invisible Hand which conducts the affairs of men more than those of the United States. Every step by which they have advanced to the character of an independent nation seems to have been distinguished by some token of providential agency; and in the important revolution just accomplished in the system of their united government the tranquil deliberations and voluntary consent of so many distinct communities from which the event has resulted can not be compared with the means by which most governments have been established without some return of pious gratitude, along with an humble anticipation of the future blessings which the past seem to presage. These reflections, arising out of the present crisis, have forced themselves too strongly on my mind to be suppressed. You will join with me, I trust, in thinking that there are none under the influence of which the proceedings of a new and free government can more auspiciously commence.  By the article establishing the executive department it is made the duty of the President \"to recommend to your consideration such measures as he shall judge necessary and expedient.\" The circumstances under which I now meet you will acquit me from entering into that subject further than to refer to the great constitutional charter under which you are assembled, and which, in defining your powers, designates the objects to which your attention is to be given. It will be more consistent with those circumstances, and far more congenial with the feelings which actuate me, to substitute, in place of a recommendation of particular measures, the tribute that is due to the talents, the rectitude, and the patriotism which adorn the characters selected to devise and adopt them. In these honorable qualifications I behold the surest pledges that as on one side no local prejudices or attachments, no separate views nor party animosities, will misdirect the comprehensive and equal eye which ought to watch over this great assemblage of communities and interests, so, on another, that the foundation of our national policy will be laid in the pure and immutable principles of private morality, and the preeminence of free government be exemplified by all the attributes which can win the affections of its citizens and command the respect of the world. I dwell on this prospect with every satisfaction which an ardent love for my country can inspire, since there is no truth more thoroughly established than that there exists in the economy and course of nature an indissoluble union between virtue and happiness; between duty and advantage; between the genuine maxims of an honest and magnanimous policy and the solid rewards of public prosperity and felicity; since we ought to be no less persuaded that the propitious smiles of Heaven can never be expected on a nation that disregards the eternal rules of order and right which Heaven itself has ordained; and since the preservation of the sacred fire of liberty and the destiny of the republican model of government are justly considered, perhaps, as deeply, as finally, staked on the experiment entrusted to the hands of the American people.  Besides the ordinary objects submitted to your care, it will remain with your judgment to decide how far an exercise of the occasional power delegated by the fifth article of the Constitution is rendered expedient at the present juncture by the nature of objections which have been urged against the system, or by the degree of inquietude which has given birth to them. Instead of undertaking particular recommendations on this subject, in which I could be guided by no lights derived from official opportunities, I shall again give way to my entire confidence in your discernment and pursuit of the public good; for I assure myself that whilst you carefully avoid every alteration which might endanger the benefits of an united and effective government, or which ought to await the future lessons of experience, a reverence for the characteristic rights of freemen and a regard  for the public harmony will sufficiently influence your deliberations on the question how far the former can be impregnably fortified or the latter be safely and advantageously promoted.  To the foregoing observations I have one to add, which will be most properly addressed to the House of Representatives. It concerns myself, and will therefore be as brief as possible. When I was first honored with a call into the service of my country, then on the eve of an arduous struggle for its liberties, the light in which I contemplated my duty required that I should renounce every pecuniary compensation. From this resolution I have in no instance departed; and being still under the impressions which produced it, I must decline as inapplicable to myself any share in the personal emoluments which may be indispensably included in a permanent provision for the executive department, and must accordingly pray that the pecuniary estimates for the station in which I am placed may during my continuance in it be limited to such actual expenditures as the public good may be thought to require.  Having thus imparted to you my sentiments as they have been awakened by the occasion which brings us together, I shall take my present leave; but not without resorting once more to the benign Parent of the Human Race in humble supplication that, since He has been pleased to favor the American people with opportunities for deliberating in perfect tranquillity, and dispositions for deciding with unparalleled unanimity on a form of government for the security of their union and the advancement of their happiness, so His divine blessing may be equally conspicuous in the enlarged views, the temperate consultations, and the wise measures on which the success of this Government must depend.')]\n"
     ]
    }
   ],
   "source": [
    "# Zip the titles and speeches together\n",
    "speeches_zip_inaugural = zip(stripped_id_list, clean_speeches)\n",
    "\n",
    "# Create a dictionary from the zipped data\n",
    "speeches_dict_inaugural = dict(speeches_zip_inaugural)\n",
    "\n",
    "pp.pprint(speeches_zip_inaugural[:1])"
   ]
  },
  {
   "cell_type": "markdown",
   "metadata": {},
   "source": [
    "Now that the data are mostly clean, we can now begin parsing the actual speech words using <code>CountVectorizer</code>.\n",
    "\n",
    "We'll since the <code>get_feature_names</code> method for <code>CountVectorizer</code> instances returns Unicode strings, we'll use the <code>encode</code> function to convert the resulting tokens to ASCII strings."
   ]
  },
  {
   "cell_type": "code",
   "execution_count": 9,
   "metadata": {
    "collapsed": false
   },
   "outputs": [],
   "source": [
    "inaugural_vect = CountVectorizer(decode_error = 'ignore', stop_words='english')\n",
    "inaugural_vect.fit(clean_speeches)\n",
    "raw_feature_names_inaugural = [token.encode('ascii','ignore') for token in inaugural_vect.get_feature_names()]"
   ]
  },
  {
   "cell_type": "markdown",
   "metadata": {},
   "source": [
    "We'll create a document-term matrix that will allow us to then create a <code>DataFrame</code> that counts the number of times each token appears in each speech:"
   ]
  },
  {
   "cell_type": "code",
   "execution_count": 10,
   "metadata": {
    "collapsed": false
   },
   "outputs": [],
   "source": [
    "dtm = inaugural_vect.transform(clean_speeches)\n",
    "dtm.toarray()\n",
    "raw_df_inaugural = pd.DataFrame(dtm.toarray(), columns=inaugural_vect.get_feature_names())"
   ]
  },
  {
   "cell_type": "markdown",
   "metadata": {},
   "source": [
    "Let's clean up the <code>DataFrame</code> by ignoring all the \"number\" tokens so we're left with only full words. We'll also add the titles to the final <code>DataFrame</code> to make labelling easier."
   ]
  },
  {
   "cell_type": "code",
   "execution_count": 11,
   "metadata": {
    "collapsed": false
   },
   "outputs": [
    {
     "name": "stdout",
     "output_type": "stream",
     "text": [
      "                              title_id  abandon  abandoned  abandonment  \\\n",
      "0   GEORGE WASHINGTON, FIRST INAUGURAL        0          0            0   \n",
      "1  GEORGE WASHINGTON, SECOND INAUGURAL        0          0            0   \n",
      "2                 JOHN ADAMS INAUGURAL        0          1            0   \n",
      "3     THOMAS JEFFERSON FIRST INAUGURAL        1          0            0   \n",
      "4    THOMAS JEFFERSON SECOND INAUGURAL        0          0            0   \n",
      "\n",
      "   abate  abdicated  abeyance  abhorring  abide  abiding  ...   yorktown  \\\n",
      "0      0          0         0          0      0        0  ...          0   \n",
      "1      0          0         0          0      0        0  ...          0   \n",
      "2      0          0         0          0      0        0  ...          0   \n",
      "3      0          0         0          0      0        0  ...          0   \n",
      "4      0          0         0          0      0        0  ...          0   \n",
      "\n",
      "   young  younger  youngest  youth  youthful  zeal  zealous  zealously  zone  \n",
      "0      0        0         0      0         0     0        0          0     0  \n",
      "1      0        0         0      0         0     0        0          0     0  \n",
      "2      0        0         0      0         0     1        0          0     0  \n",
      "3      0        0         0      0         0     1        0          0     0  \n",
      "4      0        0         0      0         0     3        0          0     0  \n",
      "\n",
      "[5 rows x 8504 columns]\n"
     ]
    },
    {
     "name": "stderr",
     "output_type": "stream",
     "text": [
      "/Users/Jay/anaconda/lib/python2.7/site-packages/IPython/kernel/__main__.py:3: SettingWithCopyWarning: \n",
      "A value is trying to be set on a copy of a slice from a DataFrame.\n",
      "Try using .loc[row_indexer,col_indexer] = value instead\n",
      "\n",
      "See the the caveats in the documentation: http://pandas.pydata.org/pandas-docs/stable/indexing.html#indexing-view-versus-copy\n",
      "  app.launch_new_instance()\n"
     ]
    }
   ],
   "source": [
    "inaugural_df = raw_df_inaugural.iloc[:,raw_feature_names_inaugural.index('6th')+1:]\n",
    "\n",
    "inaugural_df['title_id'] = stripped_id_list\n",
    "\n",
    "cols = inaugural_df.columns.tolist()\n",
    "cols = cols[-1:] + cols[:-1]\n",
    "inaugural_df = inaugural_df[cols]\n",
    "\n",
    "print inaugural_df[:5]"
   ]
  },
  {
   "cell_type": "markdown",
   "metadata": {},
   "source": [
    "Now let's parse the State of the Union (SOTU) data. Again, we'll use <code>re</code> modules to extract the text.\n",
    "\n",
    "First, we'll create a list of titles that will serve as speech IDs. Rather than extracting using Python, however, it'll be easier to just copy and paste the SOTU titles and load it into a Python list :)"
   ]
  },
  {
   "cell_type": "code",
   "execution_count": 12,
   "metadata": {
    "collapsed": false
   },
   "outputs": [
    {
     "name": "stdout",
     "output_type": "stream",
     "text": [
      "['GEORGE WASHINGTON, STATE OF THE UNION ADDRESS, JANUARY 8, 1790',\n",
      " 'GEORGE WASHINGTON, STATE OF THE UNION ADDRESS, DECEMBER 8, 1790',\n",
      " 'GEORGE WASHINGTON, STATE OF THE UNION ADDRESS, OCTOBER 25, 1791',\n",
      " 'GEORGE WASHINGTON, STATE OF THE UNION ADDRESS, NOVEMBER 6, 1792',\n",
      " 'GEORGE WASHINGTON, STATE OF THE UNION ADDRESS, DECEMBER 3, 1793']\n"
     ]
    }
   ],
   "source": [
    "raw_speech_id_list_sotu = [\n",
    "'George Washington, State of the Union Address, January 8, 1790',\n",
    "'George Washington, State of the Union Address, December 8, 1790',\n",
    "'George Washington, State of the Union Address, October 25, 1791',\n",
    "'George Washington, State of the Union Address, November 6, 1792',\n",
    "'George Washington, State of the Union Address, December 3, 1793',\n",
    "'George Washington, State of the Union Address, November 19, 1794',\n",
    "'George Washington, State of the Union Address, December 8, 1795',\n",
    "'George Washington, State of the Union Address, December 7, 1796',\n",
    "'John Adams, State of the Union Address, November 22, 1797',\n",
    "'John Adams, State of the Union Address, December 8, 1798',\n",
    "'John Adams, State of the Union Address, December 3, 1799',\n",
    "'John Adams, State of the Union Address, November 11, 1800',\n",
    "'Thomas Jefferson, State of the Union Address, December 8, 1801',\n",
    "'Thomas Jefferson, State of the Union Address, December 15, 1802',\n",
    "'Thomas Jefferson, State of the Union Address, October 17, 1803',\n",
    "'Thomas Jefferson, State of the Union Address, November 8, 1804',\n",
    "'Thomas Jefferson, State of the Union Address, December 3, 1805',\n",
    "'Thomas Jefferson, State of the Union Address, December 2, 1806',\n",
    "'Thomas Jefferson, State of the Union Address, October 27, 1807',\n",
    "'Thomas Jefferson, State of the Union Address, November 8, 1808',\n",
    "'James Madison, State of the Union Address, November 29, 1809',\n",
    "'James Madison, State of the Union Address, December 5, 1810',\n",
    "'James Madison, State of the Union Address, November 5, 1811',\n",
    "'James Madison, State of the Union Address, November 4, 1812',\n",
    "'James Madison, State of the Union Address, December 7, 1813',\n",
    "'James Madison, State of the Union Address, September 20, 1814',\n",
    "'James Madison, State of the Union Address, December 5, 1815',\n",
    "'James Madison, State of the Union Address, December 3, 1816',\n",
    "'James Monroe, State of the Union Address, December 12, 1817',\n",
    "'James Monroe, State of the Union Address, November 16, 1818',\n",
    "'James Monroe, State of the Union Address, December 7, 1819',\n",
    "'James Monroe, State of the Union Address, November 14, 1820',\n",
    "'James Monroe, State of the Union Address, December 3, 1821',\n",
    "'James Monroe, State of the Union Address, December 3, 1822',\n",
    "'James Monroe, State of the Union Address, December 2, 1823',\n",
    "'James Monroe, State of the Union Address, December 7, 1824',\n",
    "'John Quincy Adams, State of the Union Address, December 6, 1825',\n",
    "'John Quincy Adams, State of the Union Address, December 5, 1826',\n",
    "'John Quincy Adams, State of the Union Address, December 4, 1827',\n",
    "'John Quincy Adams, State of the Union Address, December 2, 1828',\n",
    "'Andrew Jackson, State of the Union Address, December 8, 1829',\n",
    "'Andrew Jackson, State of the Union Address, December 6, 1830',\n",
    "'Andrew Jackson, State of the Union Address, December 6, 1831',\n",
    "'Andrew Jackson, State of the Union Address, December 4, 1832',\n",
    "'Andrew Jackson, State of the Union Address, December 3, 1833',\n",
    "'Andrew Jackson, State of the Union Address, December 1, 1834',\n",
    "'Andrew Jackson, State of the Union Address, December 7, 1835',\n",
    "'Andrew Jackson, State of the Union Address, December 5, 1836',\n",
    "'Martin van Buren, State of the Union Address, December 5, 1837',\n",
    "'Martin van Buren, State of the Union Address, December 3, 1838',\n",
    "'Martin van Buren, State of the Union Address, December 2, 1839',\n",
    "'Martin van Buren, State of the Union Address, December 5, 1840',\n",
    "'John Tyler, State of the Union Address, December 7, 1841',\n",
    "'John Tyler, State of the Union Address, December 6, 1842',\n",
    "'John Tyler, State of the Union Address, December 6, 1843',\n",
    "'John Tyler, State of the Union Address, December 3, 1844',\n",
    "'James Polk, State of the Union Address, December 2, 1845',\n",
    "'James Polk, State of the Union Address, December 8, 1846',\n",
    "'James Polk, State of the Union Address, December 7, 1847',\n",
    "'James Polk, State of the Union Address, December 5, 1848',\n",
    "'Zachary Taylor, State of the Union Address, December 4, 1849',\n",
    "'Millard Fillmore, State of the Union Address, December 2, 1850',\n",
    "'Millard Fillmore, State of the Union Address, December 2, 1851',\n",
    "'Millard Fillmore, State of the Union Address, December 6, 1852',\n",
    "'Franklin Pierce, State of the Union Address, December 5, 1853',\n",
    "'Franklin Pierce, State of the Union Address, December 4, 1854',\n",
    "'Franklin Pierce, State of the Union Address, December 31, 1855',\n",
    "'Franklin Pierce, State of the Union Address, December 2, 1856',\n",
    "'James Buchanan, State of the Union Address, December 8, 1857',\n",
    "'James Buchanan, State of the Union Address, December 6, 1858',\n",
    "'James Buchanan, State of the Union Address, December 19, 1859',\n",
    "'James Buchanan, State of the Union Address, December 3, 1860',\n",
    "'Abraham Lincoln, State of the Union Address, December 3, 1861',\n",
    "'Abraham Lincoln, State of the Union Address, December 1, 1862',\n",
    "'Abraham Lincoln, State of the Union Address, December 8, 1863',\n",
    "'Abraham Lincoln, State of the Union Address, December 6, 1864',\n",
    "'Andrew Johnson, State of the Union Address, December 4, 1865',\n",
    "'Andrew Johnson, State of the Union Address, December 3, 1866',\n",
    "'Andrew Johnson, State of the Union Address, December 3, 1867',\n",
    "'Andrew Johnson, State of the Union Address, December 9, 1868',\n",
    "'Ulysses S. Grant, State of the Union Address, December 6, 1869',\n",
    "'Ulysses S. Grant, State of the Union Address, December 5, 1870',\n",
    "'Ulysses S. Grant, State of the Union Address, December 4, 1871',\n",
    "'Ulysses S. Grant, State of the Union Address, December 2, 1872',\n",
    "'Ulysses S. Grant, State of the Union Address, December 1, 1873',\n",
    "'Ulysses S. Grant, State of the Union Address, December 7, 1874',\n",
    "'Ulysses S. Grant, State of the Union Address, December 7, 1875',\n",
    "'Ulysses S. Grant, State of the Union Address, December 5, 1876',\n",
    "'Rutherford B. Hayes, State of the Union Address, December 3, 1877',\n",
    "'Rutherford B. Hayes, State of the Union Address, December 2, 1878',\n",
    "'Rutherford B. Hayes, State of the Union Address, December 1, 1879',\n",
    "'Rutherford B. Hayes, State of the Union Address, December 6, 1880',\n",
    "'Chester A. Arthur, State of the Union Address, December 6, 1881',\n",
    "'Chester A. Arthur, State of the Union Address, December 4, 1882',\n",
    "'Chester A. Arthur, State of the Union Address, December 4, 1883',\n",
    "'Chester A. Arthur, State of the Union Address, December 1, 1884',\n",
    "'Grover Cleveland, State of the Union Address, December 8, 1885',\n",
    "'Grover Cleveland, State of the Union Address, December 6, 1886',\n",
    "'Grover Cleveland, State of the Union Address, December 6, 1887',\n",
    "'Grover Cleveland, State of the Union Address, December 3, 1888',\n",
    "'Benjamin Harrison, State of the Union Address, December 3, 1889',\n",
    "'Benjamin Harrison, State of the Union Address, December 1, 1890',\n",
    "'Benjamin Harrison, State of the Union Address, December 9, 1891',\n",
    "'Benjamin Harrison, State of the Union Address, December 6, 1892',\n",
    "'William McKinley, State of the Union Address, December 6, 1897',\n",
    "'William McKinley, State of the Union Address, December 5, 1898',\n",
    "'William McKinley, State of the Union Address, December 5, 1899',\n",
    "'William McKinley, State of the Union Address, December 3, 1900',\n",
    "'Theodore Roosevelt, State of the Union Address, December 3, 1901',\n",
    "'Theodore Roosevelt, State of the Union Address, December 2, 1902',\n",
    "'Theodore Roosevelt, State of the Union Address, December 7, 1903',\n",
    "'Theodore Roosevelt, State of the Union Address, December 6, 1904',\n",
    "'Theodore Roosevelt, State of the Union Address, December 5, 1905',\n",
    "'Theodore Roosevelt, State of the Union Address, December 3, 1906',\n",
    "'Theodore Roosevelt, State of the Union Address, December 3, 1907',\n",
    "'Theodore Roosevelt, State of the Union Address, December 8, 1908',\n",
    "'William H. Taft, State of the Union Address, December 7, 1909',\n",
    "'William H. Taft, State of the Union Address, December 6, 1910',\n",
    "'William H. Taft, State of the Union Address, December 5, 1911',\n",
    "'William H. Taft, State of the Union Address, December 3, 1912',\n",
    "'Woodrow Wilson, State of the Union Address, December 2, 1913',\n",
    "'Woodrow Wilson, State of the Union Address, December 8, 1914',\n",
    "'Woodrow Wilson, State of the Union Address, December 7, 1915',\n",
    "'Woodrow Wilson, State of the Union Address, December 5, 1916',\n",
    "'Woodrow Wilson, State of the Union Address, December 4, 1917',\n",
    "'Woodrow Wilson, State of the Union Address, December 2, 1918',\n",
    "'Woodrow Wilson, State of the Union Address, December 2, 1919',\n",
    "'Woodrow Wilson, State of the Union Address, December 7, 1920',\n",
    "'Warren Harding, State of the Union Address, December 6, 1921',\n",
    "'Warren Harding, State of the Union Address, December 8, 1922',\n",
    "'Calvin Coolidge, State of the Union Address, December 6, 1923',\n",
    "'Calvin Coolidge, State of the Union Address, December 3, 1924',\n",
    "'Calvin Coolidge, State of the Union Address, December 8, 1925',\n",
    "'Calvin Coolidge, State of the Union Address, December 7, 1926',\n",
    "'Calvin Coolidge, State of the Union Address, December 6, 1927',\n",
    "'Calvin Coolidge, State of the Union Address, December 4, 1928',\n",
    "'Herbert Hoover, State of the Union Address, December 3, 1929',\n",
    "'Herbert Hoover, State of the Union Address, December 2, 1930',\n",
    "'Herbert Hoover, State of the Union Address, December 8, 1931',\n",
    "'Herbert Hoover, State of the Union Address, December 6, 1932',\n",
    "'Franklin D. Roosevelt, State of the Union Address, January 3, 1934',\n",
    "'Franklin D. Roosevelt, State of the Union Address, January 4, 1935',\n",
    "'Franklin D. Roosevelt, State of the Union Address, January 3, 1936',\n",
    "'Franklin D. Roosevelt, State of the Union Address, January 6, 1937',\n",
    "'Franklin D. Roosevelt, State of the Union Address, January 3, 1938',\n",
    "'Franklin D. Roosevelt, State of the Union Address, January 4, 1939',\n",
    "'Franklin D. Roosevelt, State of the Union Address, January 3, 1940',\n",
    "'Franklin D. Roosevelt, State of the Union Address, January 6, 1941',\n",
    "'Franklin D. Roosevelt, State of the Union Address, January 6, 1942',\n",
    "'Franklin D. Roosevelt, State of the Union Address, January 7, 1943',\n",
    "'Franklin D. Roosevelt, State of the Union Address, January 11, 1944',\n",
    "'Franklin D. Roosevelt, State of the Union Address, January 6, 1945',\n",
    "'Harry S. Truman, State of the Union Address, January 21, 1946',\n",
    "'Harry S. Truman, State of the Union Address, January 6, 1947',\n",
    "'Harry S. Truman, State of the Union Address, January 7, 1948',\n",
    "'Harry S. Truman, State of the Union Address, January 5, 1949',\n",
    "'Harry S. Truman, State of the Union Address, January 4, 1950',\n",
    "'Harry S. Truman, State of the Union Address, January 8, 1951',\n",
    "'Harry S. Truman, State of the Union Address, January 9, 1952',\n",
    "'Harry S. Truman, State of the Union Address, January 7, 1953',\n",
    "'Dwight D. Eisenhower, State of the Union Address, February 2, 1953',\n",
    "'Dwight D. Eisenhower, State of the Union Address, January 7, 1954',\n",
    "'Dwight D. Eisenhower, State of the Union Address, January 6, 1955',\n",
    "'Dwight D. Eisenhower, State of the Union Address, January 5, 1956',\n",
    "'Dwight D. Eisenhower, State of the Union Address, January 10, 1957',\n",
    "'Dwight D. Eisenhower, State of the Union Address, January 9, 1958',\n",
    "'Dwight D. Eisenhower, State of the Union Address, January 9, 1959',\n",
    "'Dwight D. Eisenhower, State of the Union Address, January 7, 1960',\n",
    "'Dwight D. Eisenhower, State of the Union Address, January 12, 1961',\n",
    "'John F. Kennedy, State of the Union Address, January 30, 1961',\n",
    "'John F. Kennedy, State of the Union Address, January 11, 1962',\n",
    "'John F. Kennedy, State of the Union Address, January 14, 1963',\n",
    "'Lyndon B. Johnson, State of the Union Address, January 8, 1964',\n",
    "'Lyndon B. Johnson, State of the Union Address, January 4, 1965',\n",
    "'Lyndon B. Johnson, State of the Union Address, January 12, 1966',\n",
    "'Lyndon B. Johnson, State of the Union Address, January 10, 1967',\n",
    "'Lyndon B. Johnson, State of the Union Address, January 17, 1968',\n",
    "'Lyndon B. Johnson, State of the Union Address, January 14, 1969',\n",
    "'Richard Nixon, State of the Union Address, January 22, 1970',\n",
    "'Richard Nixon, State of the Union Address, January 22, 1971',\n",
    "'Richard Nixon, State of the Union Address, January 20, 1972',\n",
    "'Richard Nixon, State of the Union Address, February 2, 1973',\n",
    "'Richard Nixon, State of the Union Address, January 30, 1974',\n",
    "'Gerald R. Ford, State of the Union Address, January 15, 1975',\n",
    "'Gerald R. Ford, State of the Union Address, January 19, 1976',\n",
    "'Gerald R. Ford, State of the Union Address, January 12, 1977',\n",
    "'Jimmy Carter, State of the Union Address, January 19, 1978',\n",
    "'Jimmy Carter, State of the Union Address, January 25, 1979',\n",
    "'Jimmy Carter, State of the Union Address, January 21, 1980',\n",
    "'Jimmy Carter, State of the Union Address, January 16, 1981',\n",
    "'Ronald Reagan, State of the Union Address, January 26, 1982',\n",
    "'Ronald Reagan, State of the Union Address, January 25, 1983',\n",
    "'Ronald Reagan, State of the Union Address, January 25, 1984',\n",
    "'Ronald Reagan, State of the Union Address, February 6, 1985',\n",
    "'Ronald Reagan, State of the Union Address, February 4, 1986',\n",
    "'Ronald Reagan, State of the Union Address, January 27, 1987',\n",
    "'Ronald Reagan, State of the Union Address, January 25, 1988',\n",
    "'George H.W. Bush, State of the Union Address, January 31, 1990',\n",
    "'George H.W. Bush, State of the Union Address, January 29, 1991',\n",
    "'George H.W. Bush, State of the Union Address, January 28, 1992',\n",
    "'William J. Clinton, State of the Union Address, January 25, 1994',\n",
    "'William J. Clinton, State of the Union Address, January 24, 1995',\n",
    "'William J. Clinton, State of the Union Address, January 23, 1996',\n",
    "'William J. Clinton, State of the Union Address, February 4, 1997',\n",
    "'William J. Clinton, State of the Union Address, January 27, 1998',\n",
    "'William J. Clinton, State of the Union Address, January 19, 1999',\n",
    "'William J. Clinton, State of the Union Address, January 27, 2000',\n",
    "'George W. Bush, State of the Union Address, February 27, 2001',\n",
    "'George W. Bush, State of the Union Address, September 20, 2001',\n",
    "'George W. Bush, State of the Union Address, January 29, 2002',\n",
    "'George W. Bush, State of the Union Address, January 28, 2003',\n",
    "'George W. Bush, State of the Union Address, January 20, 2004',\n",
    "'George W. Bush, State of the Union Address, February 2, 2005',\n",
    "'George W. Bush, State of the Union Address, January 31, 2006'\n",
    "]\n",
    "\n",
    "# Capitalize speech IDs to conform to Inaugural Address data\n",
    "raw_speech_id_list_sotu_caps = []\n",
    "[raw_speech_id_list_sotu_caps.append(item.upper()) for item in raw_speech_id_list_sotu]\n",
    "\n",
    "pp.pprint(raw_speech_id_list_sotu_caps[:5])"
   ]
  },
  {
   "cell_type": "markdown",
   "metadata": {},
   "source": [
    "To make things a little cleaner, we'll separate the speech IDs from the dates and use each as separate labels in the to-be-created <code>DataFrame</code>."
   ]
  },
  {
   "cell_type": "code",
   "execution_count": 13,
   "metadata": {
    "collapsed": false
   },
   "outputs": [
    {
     "name": "stdout",
     "output_type": "stream",
     "text": [
      "['JANUARY 8, 1790', 'DECEMBER 8, 1790', 'OCTOBER 25, 1791', 'NOVEMBER 6, 1792', 'DECEMBER 3, 1793']\n"
     ]
    }
   ],
   "source": [
    "# Parse out speech dates and append them to a list\n",
    "speech_date_list_sotu = []\n",
    "[speech_date_list_sotu.append(re.findall(r'ADDRESS\\,\\s([A-Z0-9\\s\\,]+)$',\n",
    "                             speech)[0])\n",
    " for speech in raw_speech_id_list_sotu_caps]\n",
    "\n",
    "print speech_date_list_sotu[:5]"
   ]
  },
  {
   "cell_type": "code",
   "execution_count": 14,
   "metadata": {
    "collapsed": false
   },
   "outputs": [
    {
     "name": "stdout",
     "output_type": "stream",
     "text": [
      "['GEORGE WASHINGTON, STATE OF THE UNION', 'GEORGE WASHINGTON, STATE OF THE UNION', 'GEORGE WASHINGTON, STATE OF THE UNION', 'GEORGE WASHINGTON, STATE OF THE UNION', 'GEORGE WASHINGTON, STATE OF THE UNION']\n"
     ]
    }
   ],
   "source": [
    "# Parse out speech IDs and append them to a list\n",
    "speech_id_list_sotu = []\n",
    "[speech_id_list_sotu.append(re.findall(r'^(.*?)\\sADDRESS',\n",
    "                                       speech)[0])\n",
    " for speech in raw_speech_id_list_sotu_caps]\n",
    "\n",
    "print speech_id_list_sotu[:5]"
   ]
  },
  {
   "cell_type": "code",
   "execution_count": 15,
   "metadata": {
    "collapsed": false
   },
   "outputs": [],
   "source": [
    "# Zip together both lists\n",
    "speeches_zip_sotu = zip(speech_id_list_sotu, speech_date_list_sotu)"
   ]
  },
  {
   "cell_type": "markdown",
   "metadata": {},
   "source": [
    "Now for the hard part: let's grab the actual speech text for each State of the Union speech. First, we'll split the full text file; each speech is separated by \\*\\*\\*, so we'll split using that."
   ]
  },
  {
   "cell_type": "code",
   "execution_count": 16,
   "metadata": {
    "collapsed": false
   },
   "outputs": [
    {
     "name": "stdout",
     "output_type": "stream",
     "text": [
      "State of the Union Address\r\n",
      "George Washington\r\n",
      "October 25, 1791\r\n",
      "\r\n",
      "Fellow-Citizens of the Senate and House of Representatives:\r\n",
      "\r\n",
      "\"In vain may we expect peace with the Indians on our frontiers so long\r\n",
      "as a lawless set of unprincipled wretches can violate the rights of\r\n",
      "hospitality, or infringe the most solemn treaties, without receiving the\r\n",
      "punishment they so justly merit.\"\r\n",
      "\r\n",
      "I meet you upon the present occasion with the feelings which are\r\n",
      "naturally inspired by a strong impression of the prosperous situations\r\n",
      "of our common country, and by a persuasion equally strong that the\r\n",
      "labors of the session which has just commenced will, under the guidance\r\n",
      "of a spirit no less prudent than patriotic, issue in measures conducive\r\n",
      "to the stability and increase of national prosperity.\r\n",
      "\r\n",
      "Numerous as are the providential blessings which demand our grateful\r\n",
      "acknowledgments, the abundance with which another year has again\r\n",
      "rewarded the industry of the husbandman is too important to escape\r\n",
      "recollection.\r\n",
      "\r\n",
      "Your own observations in your respective situations will have satisfied\r\n",
      "you of the progressive state of agriculture, manufactures, commerce, and\r\n",
      "navigation. In tracing their causes you will have remarked with\r\n",
      "particular pleasure the happy effects of that revival of confidence,\r\n",
      "public as well as private, to which the Constitution and laws of the\r\n",
      "United States have so eminently contributed; and you will have observed\r\n",
      "with no less interest new and decisive proofs of the increasing\r\n",
      "reputation and credit of the nation. But you nevertheless can not fail\r\n",
      "to derive satisfaction from the confirmation of these circumstances\r\n",
      "which will be disclosed in the several official communications that will\r\n",
      "be made to you in the course of your deliberations.\r\n",
      "\r\n",
      "The rapid subscriptions to the Bank of the United States, which\r\n",
      "completed the sum allowed to be subscribed in a single day, is among the\r\n",
      "striking and pleasing evidences which present themselves, not only of\r\n",
      "confidence in the Government, but of resource in the community.\r\n",
      "\r\n",
      "In the interval of your recess due attention has been paid to the\r\n",
      "execution of the different objects which were specially provided for by\r\n",
      "the laws and resolutions of the last session.\r\n",
      "\r\n",
      "Among the most important of these is the defense and security of the\r\n",
      "western frontiers. To accomplish it on the most humane principles was a\r\n",
      "primary wish.\r\n",
      "\r\n",
      "Accordingly, at the same time the treaties have been provisionally\r\n",
      "concluded and other proper means used to attach the wavering and to\r\n",
      "confirm in their friendship the well-disposed tribes of Indians,\r\n",
      "effectual measures have been adopted to make those of a hostile\r\n",
      "description sensible that a pacification was desired upon terms of\r\n",
      "moderation and justice.\r\n",
      "\r\n",
      "Those measures having proved unsuccessful, it became necessary to\r\n",
      "convince the refractory of the power of the United States to punish\r\n",
      "their depredations. Offensive operations have therefore been directed,\r\n",
      "to be conducted, however, as consistently as possible with the dictates\r\n",
      "of humanity.\r\n",
      "\r\n",
      "Some of these have been crowned with full success and others are yet\r\n",
      "depending. The expeditions which have been completed were carried on\r\n",
      "under the authority and at the expense of the United States by the\r\n",
      "militia of Kentucky, whose enterprise, intrepidity, and good conduct are\r\n",
      "entitled of peculiar commendation.\r\n",
      "\r\n",
      "Overtures of peace are still continued to the deluded tribes, and\r\n",
      "considerable numbers of individuals belonging to them have lately\r\n",
      "renounced all further opposition, removed from their former situations,\r\n",
      "and placed themselves under the immediate protection of the United\r\n",
      "States.\r\n",
      "\r\n",
      "It is sincerely to be desired that all need of coercion in future may\r\n",
      "cease and that an intimate intercourse may succeed, calculated to\r\n",
      "advance the happiness of the Indians and to attach them firmly to the\r\n",
      "United States.\r\n",
      "\r\n",
      "In order to this it seems necessary--That they should experience the\r\n",
      "benefits of an impartial dispensation of justice. That the mode of\r\n",
      "alienating their lands, the main source of discontent and war, should be\r\n",
      "so defined and regulated as to obviate imposition and as far as may be\r\n",
      "practicable controversy concerning the reality and extent of the\r\n",
      "alienations which are made. That commerce with them should be promoted\r\n",
      "under regulations tending to secure an equitable deportment toward them,\r\n",
      "and that such rational experiments should be made for imparting to them\r\n",
      "the blessings of civilization as may from time to time suit their\r\n",
      "condition. That the Executive of the United States should be enabled to\r\n",
      "employ the means to which the Indians have been long accustomed for\r\n",
      "uniting their immediate interests with the preservation of peace. And\r\n",
      "that efficacious provision should be made for inflicting adequate\r\n",
      "penalties upon all those who, by violating their rights, shall infringe\r\n",
      "the treaties and endanger the peace of the Union. A system corresponding\r\n",
      "with the mild principles of religion and philanthropy toward an\r\n",
      "unenlightened race of men, whose happiness materially depends on the\r\n",
      "conduct of the United States, would be as honorable to the national\r\n",
      "character as conformable to the dictates of sound policy.\r\n",
      "\r\n",
      "The powers specially vested in me by the act laying certain duties on\r\n",
      "distilled spirits, which respect the subdivisions of the districts into\r\n",
      "surveys, the appointment of officers, and the assignment of\r\n",
      "compensations, have likewise been carried into effect. In a manner in\r\n",
      "which both materials and experience were wanting to guide the\r\n",
      "calculation it will be readily conceived that there must have been\r\n",
      "difficulty in such an adjustment of the rates of compensation as would\r\n",
      "conciliate a reasonable competency with a proper regard to the limits\r\n",
      "prescribed by the law. It is hoped that the circumspection which has\r\n",
      "been used will be found in the result to have secured the last of the\r\n",
      "two objects; but it is probable that with a view to the first in some\r\n",
      "instances a revision of the provision will be found advisable.\r\n",
      "\r\n",
      "The impressions with which this law has been received by the community\r\n",
      "have been upon the whole such as were to be expected among enlightened\r\n",
      "and well-disposed citizens from the propriety and necessity of the\r\n",
      "measure. The novelty, however, of the tax in a considerable part of the\r\n",
      "United States and a misconception of some of its provisions have given\r\n",
      "occasion in particular places to some degree of discontent; but it is\r\n",
      "satisfactory to know that this disposition yields to proper explanations\r\n",
      "and more just apprehensions of the true nature of the law, and I\r\n",
      "entertain a full confidence that it will in all give way to motives\r\n",
      "which arise out of a just sense of duty and a virtuous regard to the\r\n",
      "public welfare.\r\n",
      "\r\n",
      "If there are any circumstances in the law which consistently with its\r\n",
      "main design may be so varied as to remove any well-intentioned\r\n",
      "objections that may happen to exist, it will consist with a wise\r\n",
      "moderation to make the proper variations. It is desirable on all\r\n",
      "occasions to unite with a steady and firm adherence to constitutional\r\n",
      "and necessary acts of Government the fullest evidence of a disposition\r\n",
      "as far as may be practicable to consult the wishes of every part of the\r\n",
      "community and to lay the foundations of the public administration in the\r\n",
      "affections of the people.\r\n",
      "\r\n",
      "Pursuant to the authority contained in the several acts on that subject,\r\n",
      "a district of 10 miles square for the permanent seat of the Government\r\n",
      "of the United States has been fixed and announced by proclamation, which\r\n",
      "district will comprehend lands on both sides of the river Potomac and\r\n",
      "the towns of Alexandria and Georgetown. A city has also been laid out\r\n",
      "agreeably to a plan which will be placed before Congress, and as there\r\n",
      "is a prospect, favored by the rate of sales which have already taken\r\n",
      "place, of ample funds for carrying on the necessary public buildings,\r\n",
      "there is every expectation of their due progress.\r\n",
      "\r\n",
      "The completion of the census of the inhabitants, for which provision was\r\n",
      "made by law, has been duly notified (excepting one instance in which the\r\n",
      "return has been informal, and another in which it has been omitted or\r\n",
      "miscarried), and the returns of the officers who were charged with this\r\n",
      "duty, which will be laid before you, will give you the pleasing\r\n",
      "assurance that the present population of the United States borders on\r\n",
      "4,000,000 persons.\r\n",
      "\r\n",
      "It is proper also to inform you that a further loan of 2,500,000 florins\r\n",
      "has been completed in Holland, the terms of which are similar to those\r\n",
      "of the one last announced, except as to a small reduction of charges.\r\n",
      "Another, on like terms, for 6,000,000 florins, had been set on foot\r\n",
      "under circumstances that assured an immediate completion.\r\n",
      "\r\n",
      "Gentlemen of the Senate:\r\n",
      "\r\n",
      "Two treaties which have been provisionally concluded with the Cherokees\r\n",
      "and Six Nations of Indians will be laid before you for your\r\n",
      "consideration and ratification.\r\n",
      "\r\n",
      "Gentlemen of the House of Representatives:\r\n",
      "\r\n",
      "In entering upon the discharge of your legislative trust you must\r\n",
      "anticipate with pleasure that many of the difficulties necessarily\r\n",
      "incident to the first arrangements of a new government for an extensive\r\n",
      "country have been happily surmounted by the zealous and judicious\r\n",
      "exertions of your predecessors in cooperation with the other branch of\r\n",
      "the Legislature. The important objects which remain to be accomplished\r\n",
      "will, I am persuaded, be conducted upon principles equally comprehensive\r\n",
      "and equally well calculated of the advancement of the general weal.\r\n",
      "\r\n",
      "The time limited for receiving subscriptions to the loans proposed by\r\n",
      "the act making provision for the debt of the United States having\r\n",
      "expired, statements from the proper department will as soon as possible\r\n",
      "apprise you of the exact result. Enough, however, is known already to\r\n",
      "afford an assurance that the views of that act have been substantially\r\n",
      "fulfilled. The subscription in the domestic debt of the United States\r\n",
      "has embraced by far the greatest proportion of that debt, affording at\r\n",
      "the same time proof of the general satisfaction of the public creditors\r\n",
      "with the system which has been proposed to their acceptance and of the\r\n",
      "spirit of accommodation to the convenience of the Government with which\r\n",
      "they are actuated. The subscriptions in the debts of the respective\r\n",
      "States as far as the provisions of the law have permitted may be said to\r\n",
      "be yet more general. The part of the debt of the United States which\r\n",
      "remains unsubscribed will naturally engage your further deliberations.\r\n",
      "\r\n",
      "It is particularly pleasing to me to be able to announce to you that the\r\n",
      "revenues which have been established promise to be adequate to their\r\n",
      "objects, and may be permitted, if no unforeseen exigency occurs, to\r\n",
      "supersede for the present the necessity of any new burthens upon our\r\n",
      "constituents.\r\n",
      "\r\n",
      "An object which will claim your early attention is a provision for the\r\n",
      "current service of the ensuing year, together with such ascertained\r\n",
      "demands upon the Treasury as require to be immediately discharged, and\r\n",
      "such casualties as may have arisen in the execution of the public\r\n",
      "business, for which no specific appropriation may have yet been made; of\r\n",
      "all which a proper estimate will be laid before you.\r\n",
      "\r\n",
      "Gentlemen of the Senate and of the House of Representatives:\r\n",
      "\r\n",
      "I shall content myself with a general reference to former communications\r\n",
      "for several objects upon which the urgency of other affairs has hitherto\r\n",
      "postponed any definitive resolution. Their importance will recall them\r\n",
      "to your attention, and I trust that the progress already made in the\r\n",
      "most arduous arrangements of the Government will afford you leisure to\r\n",
      "resume them to advantage.\r\n",
      "\r\n",
      "These are, however, some of them of which I can not forbear a more\r\n",
      "particular mention. These are the militia, the post office and post\r\n",
      "roads, the mint, weights and measures, a provision for the sale of the\r\n",
      "vacant lands of the United States.\r\n",
      "\r\n",
      "The first is certainly an object of primary importance whether viewed in\r\n",
      "reference to the national security to the satisfaction of the community\r\n",
      "or to the preservation of order. In connection with this the\r\n",
      "establishment of competent magazines and arsenals and the fortification\r\n",
      "of such places as are peculiarly important and vulnerable naturally\r\n",
      "present themselves to consideration. The safety of the United States\r\n",
      "under divine protection ought to rest on the basis of systematic and\r\n",
      "solid arrangements, exposed as little as possible to the hazards of\r\n",
      "fortuitous circumstances.\r\n",
      "\r\n",
      "The importance of the post office and post roads on a plan sufficiently\r\n",
      "liberal and comprehensive, as they respect the expedition, safety, and\r\n",
      "facility of communication, is increased by their instrumentality in\r\n",
      "diffusing a knowledge of the laws and proceedings of the Government,\r\n",
      "which, while it contributes to the security of the people, serves also\r\n",
      "to guard them against the effects of misrepresentation and\r\n",
      "misconception. The establishment of additional cross posts, especially\r\n",
      "to some of the important points in the Western and Northern parts of the\r\n",
      "Union, can not fail to be of material utility.\r\n",
      "\r\n",
      "The disorders in the existing currency, and especially the scarcity of\r\n",
      "small change, a scarcity so peculiarly distressing to the poorer\r\n",
      "classes, strongly recommend the carrying into immediate effect the\r\n",
      "resolution already entered into concerning the establishment of a mint.\r\n",
      "Measures have been taken pursuant to that resolution for procuring some\r\n",
      "of the most necessary artists, together with the requisite apparatus.\r\n",
      "\r\n",
      "An uniformity in the weights and measures of the country is among the\r\n",
      "important objects submitted to you by the Constitution, and if it can be\r\n",
      "derived from a standard at once invariable and universal, must be no\r\n",
      "less honorable to the public councils than conducive to the public\r\n",
      "convenience.\r\n",
      "\r\n",
      "A provision for the sale of the vacant lands of the United States is\r\n",
      "particularly urged, among other reasons, by the important considerations\r\n",
      "that they are pledged as a fund for reimbursing the public debt; that if\r\n",
      "timely and judiciously applied they may save the necessity of burthening\r\n",
      "our citizens with new taxes for the extinguishment of the principal; and\r\n",
      "that being free to discharge the principal but in a limited proportion,\r\n",
      "no opportunity ought to be lost for availing the public of its right.\r\n",
      "\r\n",
      "GO. WASHINGTON\r\n",
      "\r\n",
      "\n"
     ]
    }
   ],
   "source": [
    "raw_speech_sotu = re.split(r'\\*\\*\\*\\r\\n\\r\\n', sotu_text)\n",
    "\n",
    "# Actual speeches start at index 4 and end at index -3\n",
    "raw_speech_sotu = raw_speech_sotu[4:-3]\n",
    "\n",
    "print raw_speech_sotu[2]"
   ]
  },
  {
   "cell_type": "markdown",
   "metadata": {
    "collapsed": true
   },
   "source": [
    "To clean things up just a bit more, we'll remove the title information in each speech text."
   ]
  },
  {
   "cell_type": "code",
   "execution_count": 17,
   "metadata": {
    "collapsed": false
   },
   "outputs": [
    {
     "name": "stdout",
     "output_type": "stream",
     "text": [
      "'\\r\\n\\r\\nFellow-Citizens of the Senate and House of Representatives:\\r\\n\\r\\nI embrace with great satisfaction the opportunity which now presents\\r\\nitself of congratulating you on the present favorable prospects of our\\r\\npublic affairs. The recent accession of the important state of North\\r\\nCarolina to the Constitution of the United States (of which official\\r\\ninformation has been received), the rising credit and respectability of\\r\\nour country, the general and increasing good will toward the government\\r\\nof the Union, and the concord, peace, and plenty with which we are\\r\\nblessed are circumstances auspicious in an eminent degree to our\\r\\nnational prosperity.\\r\\n\\r\\nIn resuming your consultations for the general good you can not but\\r\\nderive encouragement from the reflection that the measures of the last\\r\\nsession have been as satisfactory to your constituents as the novelty\\r\\nand difficulty of the work allowed you to hope. Still further to realize\\r\\ntheir expectations and to secure the blessings which a gracious\\r\\nProvidence has placed within our reach will in the course of the present\\r\\nimportant session call for the cool and deliberate exertion of your\\r\\npatriotism, firmness, and wisdom.\\r\\n\\r\\nAmong the many interesting objects which will engage your attention that\\r\\nof providing for the common defense will merit particular regard. To be\\r\\nprepared for war is one of the most effectual means of preserving peace.\\r\\n\\r\\nA free people ought not only to be armed, but disciplined; to which end\\r\\na uniform and well-digested plan is requisite; and their safety and\\r\\ninterest require that they should promote such manufactories as tend to\\r\\nrender them independent of others for essential, particularly military,\\r\\nsupplies.\\r\\n\\r\\nThe proper establishment of the troops which may be deemed indispensable\\r\\nwill be entitled to mature consideration. In the arrangements which may\\r\\nbe made respecting it it will be of importance to conciliate the\\r\\ncomfortable support of the officers and soldiers with a due regard to\\r\\neconomy.\\r\\n\\r\\nThere was reason to hope that the pacific measures adopted with regard\\r\\nto certain hostile tribes of Indians would have relieved the inhabitants\\r\\nof our southern and western frontiers from their depredations, but you\\r\\nwill perceive from the information contained in the papers which I shall\\r\\ndirect to be laid before you (comprehending a communication from the\\r\\nCommonwealth of Virginia) that we ought to be prepared to afford\\r\\nprotection to those parts of the Union, and, if necessary, to punish\\r\\naggressors.\\r\\n\\r\\nThe interests of the United States require that our intercourse with\\r\\nother nations should be facilitated by such provisions as will enable me\\r\\nto fulfill my duty in that respect in the manner which circumstances may\\r\\nrender most conducive to the public good, and to this end that the\\r\\ncompensation to be made to the persons who may be employed should,\\r\\naccording to the nature of their appointments, be defined by law, and a\\r\\ncompetent fund designated for defraying the expenses incident to the\\r\\nconduct of foreign affairs.\\r\\n\\r\\nVarious considerations also render it expedient that the terms on which\\r\\nforeigners may be admitted to the rights of citizens should be speedily\\r\\nascertained by a uniform rule of naturalization.\\r\\n\\r\\nUniformity in the currency, weights, and measures of the United States\\r\\nis an object of great importance, and will, I am persuaded, be duly\\r\\nattended to.\\r\\n\\r\\nThe advancement of agriculture, commerce, and manufactures by all proper\\r\\nmeans will not, I trust, need recommendation; but I can not forbear\\r\\nintimating to you the expediency of giving effectual encouragement as\\r\\nwell to the introduction of new and useful inventions from abroad as to\\r\\nthe exertions of skill and genius in producing them at home, and of\\r\\nfacilitating the intercourse between the distant parts of our country by\\r\\na due attention to the post-office and post-roads.\\r\\n\\r\\nNor am I less persuaded that you will agree with me in opinion that\\r\\nthere is nothing which can better deserve your patronage than the\\r\\npromotion of science and literature. Knowledge is in every country the\\r\\nsurest basis of public happiness. In one in which the measures of\\r\\ngovernment receive their impressions so immediately from the sense of\\r\\nthe community as in ours it is proportionably essential.\\r\\n\\r\\nTo the security of a free constitution it contributes in various\\r\\nways--by convincing those who are intrusted with the public\\r\\nadministration that every valuable end of government is best answered by\\r\\nthe enlightened confidence of the people, and by teaching the people\\r\\nthemselves to know and to value their own rights; to discern and provide\\r\\nagainst invasions of them; to distinguish between oppression and the\\r\\nnecessary exercise of lawful authority; between burthens proceeding from\\r\\na disregard to their convenience and those resulting from the inevitable\\r\\nexigencies of society; to discriminate the spirit of liberty from that\\r\\nof licentiousness-- cherishing the first, avoiding the last--and uniting\\r\\na speedy but temperate vigilance against encroachments, with an\\r\\ninviolable respect to the laws.\\r\\n\\r\\nWhether this desirable object will be best promoted by affording aids to\\r\\nseminaries of learning already established, by the institution of a\\r\\nnational university, or by any other expedients will be well worthy of a\\r\\nplace in the deliberations of the legislature.\\r\\n\\r\\nGentlemen of the House of Representatives:\\r\\n\\r\\nI saw with peculiar pleasure at the close of the last session the\\r\\nresolution entered into by you expressive of your opinion that an\\r\\nadequate provision for the support of the public credit is a matter of\\r\\nhigh importance to the national honor and prosperity. In this sentiment\\r\\nI entirely concur; and to a perfect confidence in your best endeavors to\\r\\ndevise such a provision as will be truly with the end I add an equal\\r\\nreliance on the cheerful cooperation of the other branch of the\\r\\nlegislature.\\r\\n\\r\\nIt would be superfluous to specify inducements to a measure in which the\\r\\ncharacter and interests of the United States are so obviously so deeply\\r\\nconcerned, and which has received so explicit a sanction from your\\r\\ndeclaration.\\r\\n\\r\\nGentlemen of the Senate and House of Representatives:\\r\\n\\r\\nI have directed the proper officers to lay before you, respectively,\\r\\nsuch papers and estimates as regard the affairs particularly recommended\\r\\nto your consideration, and necessary to convey to you that information\\r\\nof the state of the Union which it is my duty to afford.\\r\\n\\r\\nThe welfare of our country is the great object to which our cares and\\r\\nefforts ought to be directed, and I shall derive great satisfaction from\\r\\na cooperation with you in the pleasing though arduous task of insuring\\r\\nto our fellow citizens the blessings which they have a right to expect\\r\\nfrom a free, efficient, and equal government.\\r\\n\\r\\n'\n"
     ]
    }
   ],
   "source": [
    "clean_speeches_sotu = []\n",
    "[clean_speeches_sotu.append(re.findall(r'[0-9]{4}([\\w\\W\\s\\S]+)$',\n",
    "                            speech)[0])\n",
    "                            for speech in raw_speech_sotu]\n",
    "\n",
    "pp.pprint(clean_speeches_sotu[0])"
   ]
  },
  {
   "cell_type": "markdown",
   "metadata": {},
   "source": [
    "At this point, we can now instantiate a new <code>CountVectorizer</code> and tokenize the words in all of the SOTU speeches."
   ]
  },
  {
   "cell_type": "code",
   "execution_count": 18,
   "metadata": {
    "collapsed": false
   },
   "outputs": [],
   "source": [
    "vect_sotu = CountVectorizer(decode_error = 'ignore', stop_words='english')\n",
    "vect_sotu.fit(clean_speeches_sotu)\n",
    "raw_feature_names_sotu = [token.encode('ascii','ignore') for token in vect_sotu.get_feature_names()]"
   ]
  },
  {
   "cell_type": "markdown",
   "metadata": {},
   "source": [
    "As with the Inaugural Addresses, we'll create a document-term matrix that will allow us to then create a <code>DataFrame</code> that counts the number of times each token appears in each speech. We'll also remove all non-word tokens:"
   ]
  },
  {
   "cell_type": "code",
   "execution_count": 20,
   "metadata": {
    "collapsed": false
   },
   "outputs": [],
   "source": [
    "# pp.pprint(raw_feature_names_sotu[raw_feature_names_sotu.index('aaron'):raw_feature_names_sotu.index('aaron') + 1])\n",
    "\n",
    "dtm_sotu = vect_sotu.transform(clean_speeches_sotu)\n",
    "dtm_sotu.toarray()\n",
    "raw_df_sotu = pd.DataFrame(dtm_sotu.toarray(), columns=vect_sotu.get_feature_names())"
   ]
  },
  {
   "cell_type": "code",
   "execution_count": 21,
   "metadata": {
    "collapsed": false
   },
   "outputs": [
    {
     "name": "stderr",
     "output_type": "stream",
     "text": [
      "/Users/Jay/anaconda/lib/python2.7/site-packages/IPython/kernel/__main__.py:3: SettingWithCopyWarning: \n",
      "A value is trying to be set on a copy of a slice from a DataFrame.\n",
      "Try using .loc[row_indexer,col_indexer] = value instead\n",
      "\n",
      "See the the caveats in the documentation: http://pandas.pydata.org/pandas-docs/stable/indexing.html#indexing-view-versus-copy\n",
      "  app.launch_new_instance()\n",
      "/Users/Jay/anaconda/lib/python2.7/site-packages/IPython/kernel/__main__.py:4: SettingWithCopyWarning: \n",
      "A value is trying to be set on a copy of a slice from a DataFrame.\n",
      "Try using .loc[row_indexer,col_indexer] = value instead\n",
      "\n",
      "See the the caveats in the documentation: http://pandas.pydata.org/pandas-docs/stable/indexing.html#indexing-view-versus-copy\n"
     ]
    },
    {
     "name": "stdout",
     "output_type": "stream",
     "text": [
      "                                title_id       speech_date  aaron  abandon  \\\n",
      "0  GEORGE WASHINGTON, STATE OF THE UNION   JANUARY 8, 1790      0        0   \n",
      "1  GEORGE WASHINGTON, STATE OF THE UNION  DECEMBER 8, 1790      0        0   \n",
      "2  GEORGE WASHINGTON, STATE OF THE UNION  OCTOBER 25, 1791      0        0   \n",
      "3  GEORGE WASHINGTON, STATE OF THE UNION  NOVEMBER 6, 1792      0        0   \n",
      "4  GEORGE WASHINGTON, STATE OF THE UNION  DECEMBER 3, 1793      0        0   \n",
      "\n",
      "   abandoned  abandoning  abandonment  abandons  abate  abated   ...     \\\n",
      "0          0           0            0         0      0       0   ...      \n",
      "1          0           0            0         0      0       0   ...      \n",
      "2          0           0            0         0      0       0   ...      \n",
      "3          0           0            0         0      0       0   ...      \n",
      "4          0           0            0         0      0       0   ...      \n",
      "\n",
      "   zimbabwe  zimbabwean  zinc  zion  zollverein  zone  zones  zoological  \\\n",
      "0         0           0     0     0           0     0      0           0   \n",
      "1         0           0     0     0           0     0      0           0   \n",
      "2         0           0     0     0           0     0      0           0   \n",
      "3         0           0     0     0           0     0      0           0   \n",
      "4         0           0     0     0           0     0      0           0   \n",
      "\n",
      "   zooming  zuloaga  \n",
      "0        0        0  \n",
      "1        0        0  \n",
      "2        0        0  \n",
      "3        0        0  \n",
      "4        0        0  \n",
      "\n",
      "[5 rows x 22042 columns]\n"
     ]
    }
   ],
   "source": [
    "df_sotu = raw_df_sotu.iloc[:,raw_feature_names_sotu.index('aaron'):]\n",
    "\n",
    "df_sotu['title_id'] = speech_id_list_sotu\n",
    "df_sotu['speech_date'] = speech_date_list_sotu\n",
    "\n",
    "# Re-arrange columns so title_id and speech_date are first two columns from the left\n",
    "cols_sotu = df_sotu.columns.tolist()\n",
    "cols_sotu = cols_sotu[-2:] + cols_sotu[:-2]\n",
    "df_sotu = df_sotu[cols_sotu]\n",
    "\n",
    "print df_sotu[:5]"
   ]
  },
  {
   "cell_type": "markdown",
   "metadata": {},
   "source": [
    "Phew! We're done with that part. There's still more to do though!"
   ]
  },
  {
   "cell_type": "markdown",
   "metadata": {},
   "source": [
    "####<i>Step 2: Pre-processing - Joining Data and Selecting Features</i>"
   ]
  },
  {
   "cell_type": "markdown",
   "metadata": {},
   "source": [
    "Now we'll load the other datasets into <code>DataFrame</code>s:"
   ]
  },
  {
   "cell_type": "code",
   "execution_count": 22,
   "metadata": {
    "collapsed": true
   },
   "outputs": [],
   "source": [
    "# Load president details into DataFrame\n",
    "df_prez = pd.read_csv('../data/presidents.csv')\n",
    "\n",
    "# Load aggregated president rankings into DataFrame\n",
    "df_rankings = pd.read_csv('../data/prez_rankings_538.csv')"
   ]
  },
  {
   "cell_type": "code",
   "execution_count": 23,
   "metadata": {
    "collapsed": false
   },
   "outputs": [
    {
     "name": "stdout",
     "output_type": "stream",
     "text": [
      "   id   name_and_party         name party_letter             party_name  \\\n",
      "0   1  Washington (F)3  Washington             F             Federalist   \n",
      "1   2     J. Adams (F)    J. Adams             F             Federalist   \n",
      "2   3   Jefferson (DR)   Jefferson            DR  Democratic Republican   \n",
      "3   4     Madison (DR)     Madison            DR  Democratic Republican   \n",
      "4   5      Monroe (DR)      Monroe            DR  Democratic Republican   \n",
      "\n",
      "        term state_of_birth  birth_date  death_date      religion  \\\n",
      "0  1789–1797            Va.   2/22/1732  12/14/1799  Episcopalian   \n",
      "1  1797–1801          Mass.  10/30/1735    7/4/1826     Unitarian   \n",
      "2  1801–1809            Va.   4/13/1743    7/4/1826         Deist   \n",
      "3  1809–1817            Va.   3/16/1751   6/28/1836  Episcopalian   \n",
      "4  1817–1825            Va.   4/28/1758    7/4/1831  Episcopalian   \n",
      "\n",
      "   age_inauguration age_death  \n",
      "0                57        67  \n",
      "1                61        90  \n",
      "2                57        83  \n",
      "3                57        85  \n",
      "4                58        73  \n"
     ]
    }
   ],
   "source": [
    "print df_prez[:5]"
   ]
  },
  {
   "cell_type": "markdown",
   "metadata": {},
   "source": [
    "Since the full dataset pulls together data from multiple sources, we'll need to very strategic about what data we join together to create the dataset that will be most effectively interpreted by the models we will use. Ideally, we'd like to be able join all the disparate data together using some common key ID, which unfortunately is not available, so it will need to be manufactured first before the data can be combined. Luckily, the <code>presidents.csv</code> file has an <code>id</code> feature that can be used to create other <code>id</code> in the other datasets.\n",
    "\n",
    "It would likely be more difficult to do this programmatically, so, in the interest of keeping things simple, let's write the current <code>DataFrame</code>s to files and manually tag each of the speeches with each president's <code>id</code>. A much larger dataset would probably require writing code to assign <code>id</code>s."
   ]
  },
  {
   "cell_type": "code",
   "execution_count": 24,
   "metadata": {
    "collapsed": false
   },
   "outputs": [],
   "source": [
    "# Write speech DataFrame data to a file\n",
    "file_df = open('../data/df.csv', 'w')\n",
    "for row in df.title_id:\n",
    "    file_df.write(row)\n",
    "    file_df.write('\\n')\n",
    "\n",
    "file_df.close()"
   ]
  },
  {
   "cell_type": "markdown",
   "metadata": {},
   "source": [
    "So after a little manual labor thanks to magic data entry elves, we can re-load the speech data into the <code>DataFrame</code>s, now with each president's respective <code>id</code>. Then we'll replace the existing columns in each <code>DataFrame</code> with the new data."
   ]
  },
  {
   "cell_type": "code",
   "execution_count": 25,
   "metadata": {
    "collapsed": false
   },
   "outputs": [],
   "source": [
    "# Load newly-tagged data\n",
    "df_inaugural_id = pd.read_csv('../data/df_inaugural_with_id.csv')\n",
    "df_sotu_id = pd.read_csv('../data/df_sotu_with_id.csv')\n",
    "\n",
    "# Concat loaded DataFrames to old DataFrames\n",
    "df_inaugural = pd.concat([df_inaugural_id, inaugural_df.iloc[:,1:]], axis=1)\n",
    "df_sotu = pd.concat([df_sotu_id, df_sotu.iloc[:,1:]], axis=1)"
   ]
  },
  {
   "cell_type": "markdown",
   "metadata": {},
   "source": [
    "We're finally done with our preliminary <code>DataFrame</code>s, so we can now decide how we can best combine all the data."
   ]
  },
  {
   "cell_type": "code",
   "execution_count": 26,
   "metadata": {
    "collapsed": false
   },
   "outputs": [
    {
     "name": "stdout",
     "output_type": "stream",
     "text": [
      "columns_sotu length:\n",
      "22044\n",
      "Original length:\n",
      "8506\n",
      "New length:\n",
      "22744\n"
     ]
    }
   ],
   "source": [
    "# Next step is to combine the inaugural and SOTU DataFrames\n",
    "# After they've been combined, we can groupby 'id' to get aggregate data per president\n",
    "# Then we can join party, religion, and ranking data as outcome labels and begin modeling\n",
    "\n",
    "columns_inaugural = list(df_inaugural.columns.values)\n",
    "columns_sotu = list(df_sotu.columns.values)\n",
    "\n",
    "columns_all = list(columns_inaugural)\n",
    "\n",
    "print 'columns_sotu length:'\n",
    "print len(columns_sotu)\n",
    "\n",
    "print 'Original length:'\n",
    "print len(columns_all)\n",
    "\n",
    "for col in columns_sotu:\n",
    "    if col not in columns_all:\n",
    "        columns_all.append(col)\n",
    "        \n",
    "print 'New length:'\n",
    "print len(columns_all)"
   ]
  },
  {
   "cell_type": "markdown",
   "metadata": {},
   "source": [
    "The new <code>columns_all</code> list now contains every token in both the Inaugural Address and State of the Union speeches. Next, we'll <code>groupby</code> the <code>id</code> column for each <code>DataFrame</code> to count the number of occurences for each token for each president per set of speeches, then combine the sums from both to get a total count:"
   ]
  },
  {
   "cell_type": "code",
   "execution_count": 27,
   "metadata": {
    "collapsed": false
   },
   "outputs": [
    {
     "name": "stdout",
     "output_type": "stream",
     "text": [
      "    abandon  abandoned  abandonment  abate  abdicated  abeyance  abhorring  \\\n",
      "id                                                                           \n",
      "1         0          0            0      0          0         0          0   \n",
      "\n",
      "    abide  abiding  abilities  ...   yorktown  young  younger  youngest  \\\n",
      "id                             ...                                        \n",
      "1       0        0          0  ...          0      0        0         0   \n",
      "\n",
      "    youth  youthful  zeal  zealous  zealously  zone  \n",
      "id                                                   \n",
      "1       0         0     0        0          0     0  \n",
      "\n",
      "[1 rows x 8503 columns]\n"
     ]
    }
   ],
   "source": [
    "# Create DataFrame containing only id and tokens for inaugurals\n",
    "df_inaugural_wc = pd.concat([df_inaugural.iloc[:,:1], df_inaugural.iloc[:,3:]], axis=1)\n",
    "\n",
    "# Use groupby on df_inaugural_wc to get token count per president\n",
    "df_inaugural_wc_groupby = df_inaugural_wc.groupby('id').sum()\n",
    "print df_inaugural_wc_groupby[:1]"
   ]
  },
  {
   "cell_type": "code",
   "execution_count": 28,
   "metadata": {
    "collapsed": false
   },
   "outputs": [],
   "source": [
    "# Create DataFrame containing only id and tokens, this time for SOTU\n",
    "df_sotu_wc = pd.concat([df_sotu.iloc[:,:1], df_sotu.iloc[:,4:]], axis=1)\n",
    "\n",
    "# Use groupby on df_inaugural_wc to get token count per president\n",
    "df_sotu_wc_groupby = df_sotu_wc.groupby('id').sum()"
   ]
  },
  {
   "cell_type": "code",
   "execution_count": 29,
   "metadata": {
    "collapsed": false
   },
   "outputs": [],
   "source": [
    "# Next, we'll need to create a new DataFrame that has a row for each president\n",
    "# and a column for each token. We will then loop through each row in the newly\n",
    "# grouped-by DataFrames and add the counts per token per president to the new DataFrame\n",
    "\n",
    "dict_totals = {}\n",
    "\n",
    "# Create dictionary with one dictionary for each president\n",
    "for num in range(1, 45):\n",
    "    dict_totals[num] = {}\n",
    "\n",
    "# Add all tokens to each president's dictionary\n",
    "for item in dict_totals:\n",
    "    for col in columns_all:\n",
    "        dict_totals[item][col] = 0"
   ]
  },
  {
   "cell_type": "code",
   "execution_count": 52,
   "metadata": {
    "collapsed": false
   },
   "outputs": [
    {
     "name": "stdout",
     "output_type": "stream",
     "text": [
      "0: 0\n",
      "1: 1\n",
      "0: 0\n",
      "0: 0\n",
      "0: 0\n",
      "abandon        0\n",
      "abandoned      0\n",
      "abandonment    0\n",
      "abate          0\n",
      "abdicated      0\n",
      "abeyance       0\n",
      "abhorring      0\n",
      "abide          0\n",
      "abiding        0\n",
      "abilities      0\n",
      "ability        0\n",
      "abject         0\n",
      "able           0\n",
      "abnormal       0\n",
      "abode          0\n",
      "...\n",
      "yield        0\n",
      "yielded      0\n",
      "yielding     0\n",
      "yields       0\n",
      "york         0\n",
      "yorktown     0\n",
      "young        0\n",
      "younger      0\n",
      "youngest     0\n",
      "youth        0\n",
      "youthful     0\n",
      "zeal         0\n",
      "zealous      0\n",
      "zealously    0\n",
      "zone         0\n",
      "Name: 1, Length: 8503, dtype: int64\n",
      "    abandon\n",
      "id         \n",
      "1         0\n"
     ]
    }
   ],
   "source": [
    "# Objective: Loop through the inaugural word count DataFrame and add to each president's word count in dict_totals\n",
    "\n",
    "# Pseudo code:\n",
    "# for president in dict_totals:\n",
    "#    for word in dict_totals[president]:\n",
    "        # loop through every word in each president's row in inaugural dataframe\n",
    "            # if the current dataframe word == dictionary word, add word count to that president's dictionary's count\n",
    "        # loop through every word in each president's row in SOTU dataframe\n",
    "            # if the current dataframe word == dictionary word, add word count to that president's dictionary's count\n",
    "\n",
    "# Actual code:\n",
    "#for president in dict_totals: # loop through president dictionaries - i.e., {1: {'word': 0, 'foo': 0, 'bar': 0}}\n",
    "#    for word in dict_totals[president]: # loop through words in current prez dictionary - i.e., {'foo': 0, 'bar': 0}\n",
    "#        for col in df_inaugural_wc_groupby[:1]: # TODO: Need to figure how to loop through DataFrame properly \n",
    "#            if str(word) == str(col): # If dict word == DataFrame word\n",
    "#                dict_totals[president][word] += df_inaugural_wc_groupby.iloc[0][col] # Add DataFrame value for word to dictionary total\n",
    "\n",
    "# print dict_totals[1] # Test output of first dictionary\n",
    "\n",
    "counter = 0\n",
    "for col in df_inaugural_wc_groupby.iloc[1]:\n",
    "    counter += 1\n",
    "    print str(col) + ': ' + str(df_inaugural_wc_groupby.iloc[1][col])\n",
    "    if counter == 5: break\n",
    "\n",
    "print df_inaugural_wc_groupby.iloc[0]        \n",
    "print df_inaugural_wc_groupby.iloc[:1,:1]\n",
    "\n",
    "# turn dictionaries into DataFrames (\"MegaDataFrame\")"
   ]
  },
  {
   "cell_type": "code",
   "execution_count": 31,
   "metadata": {
    "collapsed": true
   },
   "outputs": [],
   "source": [
    "# Objective: Join df_prez and df_rankings to MegaDataFrame"
   ]
  },
  {
   "cell_type": "markdown",
   "metadata": {},
   "source": [
    "##<i>Part III: NLTK Applications, LDA (Optional) and Modeling</i>"
   ]
  },
  {
   "cell_type": "code",
   "execution_count": null,
   "metadata": {
    "collapsed": true
   },
   "outputs": [],
   "source": []
  }
 ],
 "metadata": {
  "kernelspec": {
   "display_name": "Python 2",
   "language": "python",
   "name": "python2"
  },
  "language_info": {
   "codemirror_mode": {
    "name": "ipython",
    "version": 2
   },
   "file_extension": ".py",
   "mimetype": "text/x-python",
   "name": "python",
   "nbconvert_exporter": "python",
   "pygments_lexer": "ipython2",
   "version": "2.7.9"
  }
 },
 "nbformat": 4,
 "nbformat_minor": 0
}
