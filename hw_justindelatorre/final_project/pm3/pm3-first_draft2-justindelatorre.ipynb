{
 "cells": [
  {
   "cell_type": "markdown",
   "metadata": {},
   "source": [
    "#PM3: First Draft and Progress Report ([presentation link](https://docs.google.com/presentation/d/1x0f_TOlJKiu6sIVaI-RIBynmladd02lt-9ZwkZsvPSE/edit#slide=id.p))"
   ]
  },
  {
   "cell_type": "markdown",
   "metadata": {},
   "source": [
    "##<i>Part I: Current Project Status</i>"
   ]
  },
  {
   "cell_type": "markdown",
   "metadata": {},
   "source": [
    "<i><b>tl;dr</b>: I've added more data to include more presidents and speeches, and labelling political affiliation on a gradient is too hard, so I'm going to switch to modeling other things.</i>"
   ]
  },
  {
   "cell_type": "markdown",
   "metadata": {},
   "source": [
    "###Roadblocks\n",
    "\n",
    "Since the last project milestone, I've obtained more data (which will be presented shortly) and, as a result of playing around with the original dataset, am strongly considering slightly tweaking my project objectives. Analyzing how conservative or liberal a president may be based on political rhetoric would likely involve creating a custom sentiment mapping, and while I have some familiarity with NLTK, I believe that a custom job would probably be beyond the scope of my skills at this time."
   ]
  },
  {
   "cell_type": "markdown",
   "metadata": {},
   "source": [
    "###New Data\n",
    "\n",
    "As such, I've obtained a few other pieces of data that may allow me to do something similar to my original goal. These data (from various online sources) contain information like a president's political party, religious affiliation, age at inauguration and at death, and each president's aggregate rank according to various scholars.\n",
    "\n",
    "In addition, I've also expanded the corpus of text to analyze to include state of the union addresses as well. Some presidents - primarily those who were not elected to office, mainly vice-presidents who assumed the position after their predecessors had either passed away or resigned - did not deliver inaugural addresses, and so I included more speeches to ensure more presidents were included in the sample."
   ]
  },
  {
   "cell_type": "markdown",
   "metadata": {},
   "source": [
    "###Changes in Project Scope and Objectives\n",
    "\n",
    "With these new data, I now hope to use political rhetoric to model the newly-introduced categorical and continuous labels (e.g., party, religion, ranking) and potentiall gain insight to the following questions, among others:\n",
    "<ul>\n",
    "<li>What common language, themes, and phrases do our greatest presidents have in common in their rhetoric?</li>\n",
    "<li>Is there a quanitifiable relationship between these rhetorical traits and how great a president is perceived to be?</li>\n",
    "<li>Does a president's specific religious background affect the language used in speeches?</li>\n",
    "</ul>"
   ]
  },
  {
   "cell_type": "markdown",
   "metadata": {},
   "source": [
    "##<i>Part II: Previous Milestone (PM2): Data Ready</i>"
   ]
  },
  {
   "cell_type": "markdown",
   "metadata": {},
   "source": [
    "<i>This section contains mostly data pre-processing and initial exploratory data analysis. If you're interested in what I've done since the previous milestone deadline, feel free to skip ahead to <b>Part III</b>.</i>"
   ]
  },
  {
   "cell_type": "markdown",
   "metadata": {},
   "source": [
    "<b>Data Sources:</b>\n",
    "<ul>\n",
    "<li>Inaugural Addresses and States of the Union: Project Gutenberg</li>\n",
    "<li>[Presidential Data](http://www.infoplease.com/ipa/A0194030.html): Infoplease</li>\n",
    "<li>[Presidential Rankings](https://en.wikipedia.org/wiki/Historical_rankings_of_Presidents_of_the_United_States#Five_Thirty_Eight_analysis): Wikipedia/538</li>\n",
    "</ul>\n",
    "\n",
    "Structured data can be found [here](https://docs.google.com/spreadsheets/d/1cujFV5JLRivY-k6LMEDCP8_zapHUtwNCdb9Qr8h2gOQ/edit#gid=0)."
   ]
  },
  {
   "cell_type": "markdown",
   "metadata": {},
   "source": [
    "####<i>Step 1: Pre-processing - Parsing Speeches</i>"
   ]
  },
  {
   "cell_type": "markdown",
   "metadata": {},
   "source": [
    "First, let's import all the packages we'll need to clean the data:\n",
    "<ul>\n",
    "<li><code>re</code> for regular expression functions</li>\n",
    "<li><code>pprint</code> to make printing more readable</li>\n",
    "<li><code>string</code> to clean string values</li>\n",
    "<li><code>pandas</code> because <i>duh</i></li>\n",
    "<li><code>numpy</code> because math</li>\n",
    "<li><code>matplotlib.pyplot</code> for charts</li>\n",
    "<li><code>CountVectorizer</code> for parsing tokens and removing stop words</li>\n",
    "</ul>"
   ]
  },
  {
   "cell_type": "code",
   "execution_count": 1,
   "metadata": {
    "collapsed": true
   },
   "outputs": [],
   "source": [
    "%matplotlib inline\n",
    "\n",
    "import re\n",
    "import pprint as pp\n",
    "import string\n",
    "import pandas as pd\n",
    "import numpy as np\n",
    "import matplotlib.pyplot as plt\n",
    "from sklearn.feature_extraction.text import CountVectorizer"
   ]
  },
  {
   "cell_type": "markdown",
   "metadata": {},
   "source": [
    "Next, we'll open the text files and read them into Python objects that can be parsed."
   ]
  },
  {
   "cell_type": "code",
   "execution_count": 2,
   "metadata": {
    "collapsed": true
   },
   "outputs": [],
   "source": [
    "# Inaugural speech text\n",
    "inaugural = open('../data/inaugural.txt', 'r')\n",
    "inaugural_text = inaugural.read()\n",
    "\n",
    "# State of the Union text\n",
    "sotu = open('../data/sotu.txt', 'r')\n",
    "sotu_text = sotu.read()"
   ]
  },
  {
   "cell_type": "markdown",
   "metadata": {},
   "source": [
    "First, we'll parse the inaugural speech data using <code>re</code> modules."
   ]
  },
  {
   "cell_type": "code",
   "execution_count": 3,
   "metadata": {
    "collapsed": false
   },
   "outputs": [],
   "source": [
    "# Create list of speech titles which will act as speech IDs\n",
    "raw_speech_id_list = re.findall(r'\\*\\s\\*\\s\\*\\s\\*\\s\\*([\\w\\s\\,\\.]+)ADDRESS',\n",
    "                                inaugural_text)"
   ]
  },
  {
   "cell_type": "markdown",
   "metadata": {},
   "source": [
    "We'll use a <code>string</code> method (<code>strip</code>) to remove extraneous characters from the title list first. Later, we'll create a <code>dict</code> object that will have each title as a key and each full speech text as a value."
   ]
  },
  {
   "cell_type": "code",
   "execution_count": 4,
   "metadata": {
    "collapsed": true
   },
   "outputs": [],
   "source": [
    "stripped_id_list = [string.strip(title, \"\\r\\n \") for title in raw_speech_id_list]"
   ]
  },
  {
   "cell_type": "markdown",
   "metadata": {},
   "source": [
    "Let's move on to cleaning the speech text since we've cleaned the titles.\n",
    "\n",
    "All the speeches in the text file are separated by \\* \\* \\* \\* \\* delimiters, so we'll use <code>re.split</code> again to extract all the text between the delimiters."
   ]
  },
  {
   "cell_type": "code",
   "execution_count": 5,
   "metadata": {
    "collapsed": false
   },
   "outputs": [],
   "source": [
    "raw_speech = re.split(r'\\*\\s\\*\\s\\*\\s\\*\\s\\*', inaugural_text)"
   ]
  },
  {
   "cell_type": "markdown",
   "metadata": {},
   "source": [
    "Next, we'll use <code>re.sub</code> to replace the \"Transcriber's Notes\" because we only want the speech text for each inaugural address. We'll also ignore the first and last elements in the <code>raw_speech</code> list because it isn't actually speech text."
   ]
  },
  {
   "cell_type": "code",
   "execution_count": 6,
   "metadata": {
    "collapsed": false
   },
   "outputs": [
    {
     "name": "stdout",
     "output_type": "stream",
     "text": [
      "55\n"
     ]
    }
   ],
   "source": [
    "speeches = [re.sub(r'^([\\w\\W\\s]+)\\]', \"\", speech) for speech in raw_speech[1:len(raw_speech)-1]]\n",
    "\n",
    "print len(speeches)"
   ]
  },
  {
   "cell_type": "markdown",
   "metadata": {},
   "source": [
    "Finally, we'll use a combination of <code>re.sub</code> and <code>string.strip</code> to clean up all the extra spaces and newline characters in each speech."
   ]
  },
  {
   "cell_type": "code",
   "execution_count": 41,
   "metadata": {
    "collapsed": false
   },
   "outputs": [
    {
     "name": "stdout",
     "output_type": "stream",
     "text": [
      "55\n"
     ]
    }
   ],
   "source": [
    "clean_speeches = []\n",
    "[clean_speeches.append(re.sub(r'\\r\\n',\n",
    "                              \" \",\n",
    "                              string.strip(speech,\n",
    "                                           \"\\r\\n\"))) \n",
    " for speech in speeches]\n",
    "\n",
    "print len(clean_speeches)"
   ]
  },
  {
   "cell_type": "markdown",
   "metadata": {},
   "source": [
    "It looks like most of the works is done, but you'll see that the last three speeches still contain extranous test (mostly speech IDs) that should be removed, so we'll take the last use <code>re.sub</code> on the last three to extract the last bit of cruft before moving on."
   ]
  },
  {
   "cell_type": "code",
   "execution_count": 8,
   "metadata": {
    "collapsed": false
   },
   "outputs": [],
   "source": [
    "clean_speeches_inaugural = [re.sub(r'([A-Z0-9\\,\\.\\s]+)\\s{3}', \"\", speech) \n",
    "                            for speech in clean_speeches]"
   ]
  },
  {
   "cell_type": "markdown",
   "metadata": {},
   "source": [
    "Now that the inaugural data is clean, let's follow similar steps to clean the State of the Union (SOTU) speeches. Again, we'll use <code>re</code> modules to extract the text.\n",
    "\n",
    "First, we'll create a list of titles that will serve as speech IDs. Rather than extracting using Python, however, it'll be easier to just copy and paste the SOTU titles and load it into a Python list :)"
   ]
  },
  {
   "cell_type": "code",
   "execution_count": 9,
   "metadata": {
    "collapsed": false
   },
   "outputs": [
    {
     "name": "stdout",
     "output_type": "stream",
     "text": [
      "['GEORGE WASHINGTON, STATE OF THE UNION ADDRESS',\n",
      " 'GEORGE WASHINGTON, STATE OF THE UNION ADDRESS']\n"
     ]
    }
   ],
   "source": [
    "raw_speech_id_list_sotu = [\n",
    "'George Washington, State of the Union Address',\n",
    "'George Washington, State of the Union Address',\n",
    "'George Washington, State of the Union Address',\n",
    "'George Washington, State of the Union Address',\n",
    "'George Washington, State of the Union Address',\n",
    "'George Washington, State of the Union Address',\n",
    "'George Washington, State of the Union Address',\n",
    "'George Washington, State of the Union Address',\n",
    "'John Adams, State of the Union Address',\n",
    "'John Adams, State of the Union Address',\n",
    "'John Adams, State of the Union Address',\n",
    "'John Adams, State of the Union Address',\n",
    "'Thomas Jefferson, State of the Union Address',\n",
    "'Thomas Jefferson, State of the Union Address',\n",
    "'Thomas Jefferson, State of the Union Address',\n",
    "'Thomas Jefferson, State of the Union Address',\n",
    "'Thomas Jefferson, State of the Union Address',\n",
    "'Thomas Jefferson, State of the Union Address',\n",
    "'Thomas Jefferson, State of the Union Address',\n",
    "'Thomas Jefferson, State of the Union Address',\n",
    "'James Madison, State of the Union Address',\n",
    "'James Madison, State of the Union Address',\n",
    "'James Madison, State of the Union Address',\n",
    "'James Madison, State of the Union Address',\n",
    "'James Madison, State of the Union Address',\n",
    "'James Madison, State of the Union Address',\n",
    "'James Madison, State of the Union Address',\n",
    "'James Madison, State of the Union Address',\n",
    "'James Monroe, State of the Union Address',\n",
    "'James Monroe, State of the Union Address',\n",
    "'James Monroe, State of the Union Address',\n",
    "'James Monroe, State of the Union Address',\n",
    "'James Monroe, State of the Union Address',\n",
    "'James Monroe, State of the Union Address',\n",
    "'James Monroe, State of the Union Address',\n",
    "'James Monroe, State of the Union Address',\n",
    "'John Quincy Adams, State of the Union Address',\n",
    "'John Quincy Adams, State of the Union Address',\n",
    "'John Quincy Adams, State of the Union Address',\n",
    "'John Quincy Adams, State of the Union Address',\n",
    "'Andrew Jackson, State of the Union Address',\n",
    "'Andrew Jackson, State of the Union Address',\n",
    "'Andrew Jackson, State of the Union Address',\n",
    "'Andrew Jackson, State of the Union Address',\n",
    "'Andrew Jackson, State of the Union Address',\n",
    "'Andrew Jackson, State of the Union Address',\n",
    "'Andrew Jackson, State of the Union Address',\n",
    "'Andrew Jackson, State of the Union Address',\n",
    "'Martin van Buren, State of the Union Address',\n",
    "'Martin van Buren, State of the Union Address',\n",
    "'Martin van Buren, State of the Union Address',\n",
    "'Martin van Buren, State of the Union Address',\n",
    "'John Tyler, State of the Union Address',\n",
    "'John Tyler, State of the Union Address',\n",
    "'John Tyler, State of the Union Address',\n",
    "'John Tyler, State of the Union Address',\n",
    "'James Polk, State of the Union Address',\n",
    "'James Polk, State of the Union Address',\n",
    "'James Polk, State of the Union Address',\n",
    "'James Polk, State of the Union Address',\n",
    "'Zachary Taylor, State of the Union Address',\n",
    "'Millard Fillmore, State of the Union Address',\n",
    "'Millard Fillmore, State of the Union Address',\n",
    "'Millard Fillmore, State of the Union Address',\n",
    "'Franklin Pierce, State of the Union Address',\n",
    "'Franklin Pierce, State of the Union Address',\n",
    "'Franklin Pierce, State of the Union Address',\n",
    "'Franklin Pierce, State of the Union Address',\n",
    "'James Buchanan, State of the Union Address',\n",
    "'James Buchanan, State of the Union Address',\n",
    "'James Buchanan, State of the Union Address',\n",
    "'James Buchanan, State of the Union Address',\n",
    "'Abraham Lincoln, State of the Union Address',\n",
    "'Abraham Lincoln, State of the Union Address',\n",
    "'Abraham Lincoln, State of the Union Address',\n",
    "'Abraham Lincoln, State of the Union Address',\n",
    "'Andrew Johnson, State of the Union Address',\n",
    "'Andrew Johnson, State of the Union Address',\n",
    "'Andrew Johnson, State of the Union Address',\n",
    "'Andrew Johnson, State of the Union Address',\n",
    "'Ulysses S. Grant, State of the Union Address',\n",
    "'Ulysses S. Grant, State of the Union Address',\n",
    "'Ulysses S. Grant, State of the Union Address',\n",
    "'Ulysses S. Grant, State of the Union Address',\n",
    "'Ulysses S. Grant, State of the Union Address',\n",
    "'Ulysses S. Grant, State of the Union Address',\n",
    "'Ulysses S. Grant, State of the Union Address',\n",
    "'Ulysses S. Grant, State of the Union Address',\n",
    "'Rutherford B. Hayes, State of the Union Address',\n",
    "'Rutherford B. Hayes, State of the Union Address',\n",
    "'Rutherford B. Hayes, State of the Union Address',\n",
    "'Rutherford B. Hayes, State of the Union Address',\n",
    "'Chester A. Arthur, State of the Union Address',\n",
    "'Chester A. Arthur, State of the Union Address',\n",
    "'Chester A. Arthur, State of the Union Address',\n",
    "'Chester A. Arthur, State of the Union Address',\n",
    "'Grover Cleveland, State of the Union Address',\n",
    "'Grover Cleveland, State of the Union Address',\n",
    "'Grover Cleveland, State of the Union Address',\n",
    "'Grover Cleveland, State of the Union Address',\n",
    "'Benjamin Harrison, State of the Union Address',\n",
    "'Benjamin Harrison, State of the Union Address',\n",
    "'Benjamin Harrison, State of the Union Address',\n",
    "'Benjamin Harrison, State of the Union Address',\n",
    "'William McKinley, State of the Union Address',\n",
    "'William McKinley, State of the Union Address',\n",
    "'William McKinley, State of the Union Address',\n",
    "'William McKinley, State of the Union Address',\n",
    "'Theodore Roosevelt, State of the Union Address',\n",
    "'Theodore Roosevelt, State of the Union Address',\n",
    "'Theodore Roosevelt, State of the Union Address',\n",
    "'Theodore Roosevelt, State of the Union Address',\n",
    "'Theodore Roosevelt, State of the Union Address',\n",
    "'Theodore Roosevelt, State of the Union Address',\n",
    "'Theodore Roosevelt, State of the Union Address',\n",
    "'Theodore Roosevelt, State of the Union Address',\n",
    "'William H. Taft, State of the Union Address',\n",
    "'William H. Taft, State of the Union Address',\n",
    "'William H. Taft, State of the Union Address',\n",
    "'William H. Taft, State of the Union Address',\n",
    "'Woodrow Wilson, State of the Union Address',\n",
    "'Woodrow Wilson, State of the Union Address',\n",
    "'Woodrow Wilson, State of the Union Address',\n",
    "'Woodrow Wilson, State of the Union Address',\n",
    "'Woodrow Wilson, State of the Union Address',\n",
    "'Woodrow Wilson, State of the Union Address',\n",
    "'Woodrow Wilson, State of the Union Address',\n",
    "'Woodrow Wilson, State of the Union Address',\n",
    "'Warren Harding, State of the Union Address',\n",
    "'Warren Harding, State of the Union Address',\n",
    "'Calvin Coolidge, State of the Union Address',\n",
    "'Calvin Coolidge, State of the Union Address',\n",
    "'Calvin Coolidge, State of the Union Address',\n",
    "'Calvin Coolidge, State of the Union Address',\n",
    "'Calvin Coolidge, State of the Union Address',\n",
    "'Calvin Coolidge, State of the Union Address',\n",
    "'Herbert Hoover, State of the Union Address',\n",
    "'Herbert Hoover, State of the Union Address',\n",
    "'Herbert Hoover, State of the Union Address',\n",
    "'Herbert Hoover, State of the Union Address',\n",
    "'Franklin D. Roosevelt, State of the Union Address',\n",
    "'Franklin D. Roosevelt, State of the Union Address',\n",
    "'Franklin D. Roosevelt, State of the Union Address',\n",
    "'Franklin D. Roosevelt, State of the Union Address',\n",
    "'Franklin D. Roosevelt, State of the Union Address',\n",
    "'Franklin D. Roosevelt, State of the Union Address',\n",
    "'Franklin D. Roosevelt, State of the Union Address',\n",
    "'Franklin D. Roosevelt, State of the Union Address',\n",
    "'Franklin D. Roosevelt, State of the Union Address',\n",
    "'Franklin D. Roosevelt, State of the Union Address',\n",
    "'Franklin D. Roosevelt, State of the Union Address',\n",
    "'Franklin D. Roosevelt, State of the Union Address',\n",
    "'Harry S. Truman, State of the Union Address',\n",
    "'Harry S. Truman, State of the Union Address',\n",
    "'Harry S. Truman, State of the Union Address',\n",
    "'Harry S. Truman, State of the Union Address',\n",
    "'Harry S. Truman, State of the Union Address',\n",
    "'Harry S. Truman, State of the Union Address',\n",
    "'Harry S. Truman, State of the Union Address',\n",
    "'Harry S. Truman, State of the Union Address',\n",
    "'Dwight D. Eisenhower, State of the Union Address',\n",
    "'Dwight D. Eisenhower, State of the Union Address',\n",
    "'Dwight D. Eisenhower, State of the Union Address',\n",
    "'Dwight D. Eisenhower, State of the Union Address',\n",
    "'Dwight D. Eisenhower, State of the Union Address',\n",
    "'Dwight D. Eisenhower, State of the Union Address',\n",
    "'Dwight D. Eisenhower, State of the Union Address',\n",
    "'Dwight D. Eisenhower, State of the Union Address',\n",
    "'Dwight D. Eisenhower, State of the Union Address',\n",
    "'John F. Kennedy, State of the Union Address',\n",
    "'John F. Kennedy, State of the Union Address',\n",
    "'John F. Kennedy, State of the Union Address',\n",
    "'Lyndon B. Johnson, State of the Union Address',\n",
    "'Lyndon B. Johnson, State of the Union Address',\n",
    "'Lyndon B. Johnson, State of the Union Address',\n",
    "'Lyndon B. Johnson, State of the Union Address',\n",
    "'Lyndon B. Johnson, State of the Union Address',\n",
    "'Lyndon B. Johnson, State of the Union Address',\n",
    "'Richard Nixon, State of the Union Address',\n",
    "'Richard Nixon, State of the Union Address',\n",
    "'Richard Nixon, State of the Union Address',\n",
    "'Richard Nixon, State of the Union Address',\n",
    "'Richard Nixon, State of the Union Address',\n",
    "'Gerald R. Ford, State of the Union Address',\n",
    "'Gerald R. Ford, State of the Union Address',\n",
    "'Gerald R. Ford, State of the Union Address',\n",
    "'Jimmy Carter, State of the Union Address',\n",
    "'Jimmy Carter, State of the Union Address',\n",
    "'Jimmy Carter, State of the Union Address',\n",
    "'Jimmy Carter, State of the Union Address',\n",
    "'Ronald Reagan, State of the Union Address',\n",
    "'Ronald Reagan, State of the Union Address',\n",
    "'Ronald Reagan, State of the Union Address',\n",
    "'Ronald Reagan, State of the Union Address',\n",
    "'Ronald Reagan, State of the Union Address',\n",
    "'Ronald Reagan, State of the Union Address',\n",
    "'Ronald Reagan, State of the Union Address',\n",
    "'George H.W. Bush, State of the Union Address',\n",
    "'George H.W. Bush, State of the Union Address',\n",
    "'George H.W. Bush, State of the Union Address',\n",
    "'William J. Clinton, State of the Union Address',\n",
    "'William J. Clinton, State of the Union Address',\n",
    "'William J. Clinton, State of the Union Address',\n",
    "'William J. Clinton, State of the Union Address',\n",
    "'William J. Clinton, State of the Union Address',\n",
    "'William J. Clinton, State of the Union Address',\n",
    "'William J. Clinton, State of the Union Address',\n",
    "'George W. Bush, State of the Union Address',\n",
    "'George W. Bush, State of the Union Address',\n",
    "'George W. Bush, State of the Union Address',\n",
    "'George W. Bush, State of the Union Address',\n",
    "'George W. Bush, State of the Union Address',\n",
    "'George W. Bush, State of the Union Address',\n",
    "'George W. Bush, State of the Union Address'\n",
    "]\n",
    "\n",
    "# Capitalize speech IDs to conform to Inaugural Address data\n",
    "raw_speech_id_list_sotu_caps = []\n",
    "[raw_speech_id_list_sotu_caps.append(item.upper()) for item in raw_speech_id_list_sotu]\n",
    "\n",
    "pp.pprint(raw_speech_id_list_sotu_caps[:2])"
   ]
  },
  {
   "cell_type": "code",
   "execution_count": 10,
   "metadata": {
    "collapsed": false
   },
   "outputs": [
    {
     "name": "stdout",
     "output_type": "stream",
     "text": [
      "['GEORGE WASHINGTON, STATE OF THE UNION',\n",
      " 'GEORGE WASHINGTON, STATE OF THE UNION']\n"
     ]
    }
   ],
   "source": [
    "# Parse out speech IDs and append them to a list\n",
    "speech_id_list_sotu = []\n",
    "[speech_id_list_sotu.append(re.findall(r'^(.*?)\\sADDRESS',\n",
    "                                       speech)[0])\n",
    " for speech in raw_speech_id_list_sotu_caps]\n",
    "\n",
    "pp.pprint(speech_id_list_sotu[:2])"
   ]
  },
  {
   "cell_type": "code",
   "execution_count": 11,
   "metadata": {
    "collapsed": false
   },
   "outputs": [],
   "source": [
    "# Combine the speech IDs into a single list\n",
    "title_list = stripped_id_list + speech_id_list_sotu"
   ]
  },
  {
   "cell_type": "markdown",
   "metadata": {},
   "source": [
    "Now for the hard part: let's grab the actual speech text for each State of the Union speech. First, we'll split the full text file; each speech is separated by \\*\\*\\*, so we'll split using that."
   ]
  },
  {
   "cell_type": "code",
   "execution_count": 12,
   "metadata": {
    "collapsed": false
   },
   "outputs": [],
   "source": [
    "raw_speech_sotu = re.split(r'\\*\\*\\*\\r\\n\\r\\n', sotu_text)\n",
    "\n",
    "# Actual speeches start at index 4 and end at index -3\n",
    "raw_speech_sotu = raw_speech_sotu[4:-3]"
   ]
  },
  {
   "cell_type": "markdown",
   "metadata": {},
   "source": [
    "To clean things up just a bit more, we'll remove the title information in each speech text."
   ]
  },
  {
   "cell_type": "code",
   "execution_count": 40,
   "metadata": {
    "collapsed": false
   },
   "outputs": [
    {
     "name": "stdout",
     "output_type": "stream",
     "text": [
      "214\n"
     ]
    }
   ],
   "source": [
    "clean_speeches_sotu = []\n",
    "[clean_speeches_sotu.append(re.findall(r'[0-9]{4}([\\w\\W\\s\\S]+)$',\n",
    "                            speech)[0])\n",
    "                            for speech in raw_speech_sotu]\n",
    "\n",
    "print len(clean_speeches_sotu)"
   ]
  },
  {
   "cell_type": "markdown",
   "metadata": {},
   "source": [
    "Now that both sets of speeches have been properly cleaned, we'll add them both together, then run the aggregated set of speeches through <code>CountVectorizer</code> to tokenize all the words."
   ]
  },
  {
   "cell_type": "code",
   "execution_count": 14,
   "metadata": {
    "collapsed": false
   },
   "outputs": [],
   "source": [
    "clean_speeches_all = clean_speeches_inaugural + clean_speeches_sotu"
   ]
  },
  {
   "cell_type": "code",
   "execution_count": 15,
   "metadata": {
    "collapsed": false
   },
   "outputs": [],
   "source": [
    "vect = CountVectorizer(decode_error = 'ignore', stop_words='english')\n",
    "vect.fit(clean_speeches_all)\n",
    "raw_feature_names = [token.encode('ascii','ignore') for token in vect.get_feature_names()]"
   ]
  },
  {
   "cell_type": "markdown",
   "metadata": {},
   "source": [
    "From here, we'll create a document-term matrix that will allow us to then create a <code>DataFrame</code> that counts the number of times each token appears in each speech. We'll also remove all non-word tokens:"
   ]
  },
  {
   "cell_type": "code",
   "execution_count": 16,
   "metadata": {
    "collapsed": true
   },
   "outputs": [],
   "source": [
    "dtm = vect.transform(clean_speeches_all)\n",
    "dtm.toarray()\n",
    "raw_df = pd.DataFrame(dtm.toarray(), columns=vect.get_feature_names())"
   ]
  },
  {
   "cell_type": "code",
   "execution_count": 17,
   "metadata": {
    "collapsed": false
   },
   "outputs": [
    {
     "name": "stderr",
     "output_type": "stream",
     "text": [
      "/Users/Jay/anaconda/lib/python2.7/site-packages/IPython/kernel/__main__.py:3: SettingWithCopyWarning: \n",
      "A value is trying to be set on a copy of a slice from a DataFrame.\n",
      "Try using .loc[row_indexer,col_indexer] = value instead\n",
      "\n",
      "See the the caveats in the documentation: http://pandas.pydata.org/pandas-docs/stable/indexing.html#indexing-view-versus-copy\n",
      "  app.launch_new_instance()\n"
     ]
    }
   ],
   "source": [
    "df = raw_df.iloc[:,raw_feature_names.index('______________________')+1:]\n",
    "\n",
    "df['title_id'] = title_list\n",
    "\n",
    "cols = df.columns.tolist()\n",
    "cols = cols[-1:] + cols[:-1]\n",
    "df = df[cols]"
   ]
  },
  {
   "cell_type": "markdown",
   "metadata": {},
   "source": [
    "Phew! We're done with that part. There's still more to do though!"
   ]
  },
  {
   "cell_type": "markdown",
   "metadata": {},
   "source": [
    "####<i>Step 2: Pre-processing - Joining Data and Selecting Features</i>"
   ]
  },
  {
   "cell_type": "markdown",
   "metadata": {},
   "source": [
    "Now we'll load the other datasets into <code>DataFrame</code>s:"
   ]
  },
  {
   "cell_type": "code",
   "execution_count": 18,
   "metadata": {
    "collapsed": true
   },
   "outputs": [],
   "source": [
    "# Load president details into DataFrame\n",
    "df_prez = pd.read_csv('../data/presidents.csv')\n",
    "\n",
    "# Load aggregated president rankings into DataFrame\n",
    "df_rankings = pd.read_csv('../data/prez_rankings_538.csv')"
   ]
  },
  {
   "cell_type": "markdown",
   "metadata": {},
   "source": [
    "Since the full dataset pulls together data from multiple sources, we'll need to very strategic about what data we join together to create the dataset that will be most effectively interpreted by the models we will use. Ideally, we'd like to be able join all the disparate data together using some common key ID, which unfortunately is not available, so it will need to be manufactured first before the data can be combined. Luckily, the <code>presidents.csv</code> file has an <code>id</code> feature that can be used to create other <code>id</code> in the other datasets.\n",
    "\n",
    "It would likely be more difficult to do this programmatically, so, in the interest of keeping things simple, let's write the current <code>DataFrame</code>s to files and manually tag each of the speeches with each president's <code>id</code>. A much larger dataset would probably require writing code to assign <code>id</code>s."
   ]
  },
  {
   "cell_type": "code",
   "execution_count": 19,
   "metadata": {
    "collapsed": true
   },
   "outputs": [],
   "source": [
    "# Write speech DataFrame data to a file\n",
    "file_df = open('../data/df.csv', 'w')\n",
    "for row in df.title_id:\n",
    "    file_df.write(row)\n",
    "    file_df.write('\\n')\n",
    "\n",
    "file_df.close()"
   ]
  },
  {
   "cell_type": "markdown",
   "metadata": {
    "collapsed": true
   },
   "source": [
    "So after a little manual labor thanks to magic data entry elves, we can re-load the speech data into the <code>DataFrame</code>s, now with each president's respective <code>id</code>. Then we'll replace the existing columns in the <code>DataFrame</code> with the new data."
   ]
  },
  {
   "cell_type": "code",
   "execution_count": 35,
   "metadata": {
    "collapsed": false
   },
   "outputs": [
    {
     "name": "stdout",
     "output_type": "stream",
     "text": [
      "   id               name            speech  a14  aaa  aaron  abandon  \\\n",
      "0   1  GEORGE WASHINGTON   FIRST INAUGURAL    0    0      0        0   \n",
      "1   1  GEORGE WASHINGTON  SECOND INAUGURAL    0    0      0        0   \n",
      "2   2         JOHN ADAMS         INAUGURAL    0    0      0        0   \n",
      "3   3   THOMAS JEFFERSON   FIRST INAUGURAL    0    0      0        1   \n",
      "4   3   THOMAS JEFFERSON  SECOND INAUGURAL    0    0      0        0   \n",
      "\n",
      "   abandoned  abandoning  abandonment   ...     zimbabwe  zimbabwean  zinc  \\\n",
      "0          0           0            0   ...            0           0     0   \n",
      "1          0           0            0   ...            0           0     0   \n",
      "2          1           0            0   ...            0           0     0   \n",
      "3          0           0            0   ...            0           0     0   \n",
      "4          0           0            0   ...            0           0     0   \n",
      "\n",
      "   zion  zollverein  zone  zones  zoological  zooming  zuloaga  \n",
      "0     0           0     0      0           0        0        0  \n",
      "1     0           0     0      0           0        0        0  \n",
      "2     0           0     0      0           0        0        0  \n",
      "3     0           0     0      0           0        0        0  \n",
      "4     0           0     0      0           0        0        0  \n",
      "\n",
      "[5 rows x 22745 columns]\n",
      "# of records: 269 | # of tokens: 22745\n"
     ]
    }
   ],
   "source": [
    "# Load newly-tagged data\n",
    "df_with_id = pd.read_csv('../data/df_with_id.csv')\n",
    "\n",
    "# Concat loaded DataFrame to old DataFrame\n",
    "df = pd.concat([df_with_id, df.iloc[:,9:]], axis=1)\n",
    "\n",
    "print df.head()\n",
    "\n",
    "print '# of records: ' + str(len(df)) + ' | # of tokens: ' + str(len(df.columns.values))"
   ]
  },
  {
   "cell_type": "markdown",
   "metadata": {},
   "source": [
    "We're finally done with our preliminary <code>DataFrame</code>, so now let's load the last of the data (personal details and rankings for each president)."
   ]
  },
  {
   "cell_type": "code",
   "execution_count": 27,
   "metadata": {
    "collapsed": true
   },
   "outputs": [],
   "source": [
    "# Load president details into DataFrame\n",
    "df_prez = pd.read_csv('../data/presidents.csv')\n",
    "\n",
    "# Load aggregated president rankings into DataFrame\n",
    "df_rankings = pd.read_csv('../data/prez_rankings_538.csv')"
   ]
  },
  {
   "cell_type": "code",
   "execution_count": 25,
   "metadata": {
    "collapsed": false
   },
   "outputs": [
    {
     "data": {
      "text/html": [
       "<div style=\"max-height:1000px;max-width:1500px;overflow:auto;\">\n",
       "<table border=\"1\" class=\"dataframe\">\n",
       "  <thead>\n",
       "    <tr style=\"text-align: right;\">\n",
       "      <th></th>\n",
       "      <th>id</th>\n",
       "      <th>name_and_party</th>\n",
       "      <th>name</th>\n",
       "      <th>party_letter</th>\n",
       "      <th>party_name</th>\n",
       "      <th>term</th>\n",
       "      <th>state_of_birth</th>\n",
       "      <th>birth_date</th>\n",
       "      <th>death_date</th>\n",
       "      <th>religion</th>\n",
       "      <th>age_inauguration</th>\n",
       "      <th>age_death</th>\n",
       "    </tr>\n",
       "  </thead>\n",
       "  <tbody>\n",
       "    <tr>\n",
       "      <th>0</th>\n",
       "      <td> 1</td>\n",
       "      <td> Washington (F)3</td>\n",
       "      <td> Washington </td>\n",
       "      <td>  F</td>\n",
       "      <td>            Federalist</td>\n",
       "      <td> 1789–1797</td>\n",
       "      <td>   Va.</td>\n",
       "      <td>  2/22/1732</td>\n",
       "      <td> 12/14/1799</td>\n",
       "      <td> Episcopalian</td>\n",
       "      <td> 57</td>\n",
       "      <td> 67</td>\n",
       "    </tr>\n",
       "    <tr>\n",
       "      <th>1</th>\n",
       "      <td> 2</td>\n",
       "      <td>    J. Adams (F)</td>\n",
       "      <td>   J. Adams </td>\n",
       "      <td>  F</td>\n",
       "      <td>            Federalist</td>\n",
       "      <td> 1797–1801</td>\n",
       "      <td> Mass.</td>\n",
       "      <td> 10/30/1735</td>\n",
       "      <td>   7/4/1826</td>\n",
       "      <td>    Unitarian</td>\n",
       "      <td> 61</td>\n",
       "      <td> 90</td>\n",
       "    </tr>\n",
       "    <tr>\n",
       "      <th>2</th>\n",
       "      <td> 3</td>\n",
       "      <td>  Jefferson (DR)</td>\n",
       "      <td>  Jefferson </td>\n",
       "      <td> DR</td>\n",
       "      <td> Democratic Republican</td>\n",
       "      <td> 1801–1809</td>\n",
       "      <td>   Va.</td>\n",
       "      <td>  4/13/1743</td>\n",
       "      <td>   7/4/1826</td>\n",
       "      <td>        Deist</td>\n",
       "      <td> 57</td>\n",
       "      <td> 83</td>\n",
       "    </tr>\n",
       "    <tr>\n",
       "      <th>3</th>\n",
       "      <td> 4</td>\n",
       "      <td>    Madison (DR)</td>\n",
       "      <td>    Madison </td>\n",
       "      <td> DR</td>\n",
       "      <td> Democratic Republican</td>\n",
       "      <td> 1809–1817</td>\n",
       "      <td>   Va.</td>\n",
       "      <td>  3/16/1751</td>\n",
       "      <td>  6/28/1836</td>\n",
       "      <td> Episcopalian</td>\n",
       "      <td> 57</td>\n",
       "      <td> 85</td>\n",
       "    </tr>\n",
       "    <tr>\n",
       "      <th>4</th>\n",
       "      <td> 5</td>\n",
       "      <td>     Monroe (DR)</td>\n",
       "      <td>     Monroe </td>\n",
       "      <td> DR</td>\n",
       "      <td> Democratic Republican</td>\n",
       "      <td> 1817–1825</td>\n",
       "      <td>   Va.</td>\n",
       "      <td>  4/28/1758</td>\n",
       "      <td>   7/4/1831</td>\n",
       "      <td> Episcopalian</td>\n",
       "      <td> 58</td>\n",
       "      <td> 73</td>\n",
       "    </tr>\n",
       "  </tbody>\n",
       "</table>\n",
       "</div>"
      ],
      "text/plain": [
       "   id   name_and_party         name party_letter             party_name  \\\n",
       "0   1  Washington (F)3  Washington             F             Federalist   \n",
       "1   2     J. Adams (F)    J. Adams             F             Federalist   \n",
       "2   3   Jefferson (DR)   Jefferson            DR  Democratic Republican   \n",
       "3   4     Madison (DR)     Madison            DR  Democratic Republican   \n",
       "4   5      Monroe (DR)      Monroe            DR  Democratic Republican   \n",
       "\n",
       "        term state_of_birth  birth_date  death_date      religion  \\\n",
       "0  1789–1797            Va.   2/22/1732  12/14/1799  Episcopalian   \n",
       "1  1797–1801          Mass.  10/30/1735    7/4/1826     Unitarian   \n",
       "2  1801–1809            Va.   4/13/1743    7/4/1826         Deist   \n",
       "3  1809–1817            Va.   3/16/1751   6/28/1836  Episcopalian   \n",
       "4  1817–1825            Va.   4/28/1758    7/4/1831  Episcopalian   \n",
       "\n",
       "   age_inauguration age_death  \n",
       "0                57        67  \n",
       "1                61        90  \n",
       "2                57        83  \n",
       "3                57        85  \n",
       "4                58        73  "
      ]
     },
     "execution_count": 25,
     "metadata": {},
     "output_type": "execute_result"
    }
   ],
   "source": [
    "df_prez.head()"
   ]
  },
  {
   "cell_type": "code",
   "execution_count": 28,
   "metadata": {
    "collapsed": false
   },
   "outputs": [
    {
     "data": {
      "text/html": [
       "<div style=\"max-height:1000px;max-width:1500px;overflow:auto;\">\n",
       "<table border=\"1\" class=\"dataframe\">\n",
       "  <thead>\n",
       "    <tr style=\"text-align: right;\">\n",
       "      <th></th>\n",
       "      <th>id</th>\n",
       "      <th>rank_aggregate</th>\n",
       "      <th>president</th>\n",
       "    </tr>\n",
       "  </thead>\n",
       "  <tbody>\n",
       "    <tr>\n",
       "      <th>0</th>\n",
       "      <td> 16</td>\n",
       "      <td> 1</td>\n",
       "      <td>       Abraham Lincoln</td>\n",
       "    </tr>\n",
       "    <tr>\n",
       "      <th>1</th>\n",
       "      <td> 32</td>\n",
       "      <td> 2</td>\n",
       "      <td> Franklin D. Roosevelt</td>\n",
       "    </tr>\n",
       "    <tr>\n",
       "      <th>2</th>\n",
       "      <td>  1</td>\n",
       "      <td> 3</td>\n",
       "      <td>     George Washington</td>\n",
       "    </tr>\n",
       "    <tr>\n",
       "      <th>3</th>\n",
       "      <td> 26</td>\n",
       "      <td> 4</td>\n",
       "      <td>    Theodore Roosevelt</td>\n",
       "    </tr>\n",
       "    <tr>\n",
       "      <th>4</th>\n",
       "      <td>  3</td>\n",
       "      <td> 5</td>\n",
       "      <td>      Thomas Jefferson</td>\n",
       "    </tr>\n",
       "  </tbody>\n",
       "</table>\n",
       "</div>"
      ],
      "text/plain": [
       "   id  rank_aggregate              president\n",
       "0  16               1        Abraham Lincoln\n",
       "1  32               2  Franklin D. Roosevelt\n",
       "2   1               3      George Washington\n",
       "3  26               4     Theodore Roosevelt\n",
       "4   3               5       Thomas Jefferson"
      ]
     },
     "execution_count": 28,
     "metadata": {},
     "output_type": "execute_result"
    }
   ],
   "source": [
    "df_rankings.head()"
   ]
  },
  {
   "cell_type": "markdown",
   "metadata": {},
   "source": [
    "Now that everything is loaded, we can use <code>pd.merge</code> to create our master <code>DataFrame</code>:"
   ]
  },
  {
   "cell_type": "code",
   "execution_count": 36,
   "metadata": {
    "collapsed": false
   },
   "outputs": [
    {
     "name": "stdout",
     "output_type": "stream",
     "text": [
      "   id             name_x            speech  a14  aaa  aaron  abandon  \\\n",
      "0   1  GEORGE WASHINGTON   FIRST INAUGURAL    0    0      0        0   \n",
      "0   1  GEORGE WASHINGTON  SECOND INAUGURAL    0    0      0        0   \n",
      "\n",
      "   abandoned  abandoning  abandonment    ...           name_y  party_letter  \\\n",
      "0          0           0            0    ...      Washington              F   \n",
      "0          0           0            0    ...      Washington              F   \n",
      "\n",
      "   party_name     term_y  state_of_birth  birth_date  death_date  \\\n",
      "0  Federalist  1789–1797             Va.   2/22/1732  12/14/1799   \n",
      "0  Federalist  1789–1797             Va.   2/22/1732  12/14/1799   \n",
      "\n",
      "     religion_y  age_inauguration  age_death  \n",
      "0  Episcopalian                57         67  \n",
      "0  Episcopalian                57         67  \n",
      "\n",
      "[2 rows x 22756 columns]\n"
     ]
    }
   ],
   "source": [
    "# Join presidential details DataFrame\n",
    "df_merge_details = pd.merge(df, df_prez, on=\"id\", how=\"left\", left_index=True)"
   ]
  },
  {
   "cell_type": "code",
   "execution_count": 56,
   "metadata": {
    "collapsed": false
   },
   "outputs": [
    {
     "name": "stdout",
     "output_type": "stream",
     "text": [
      "   id           name_x              speech  a14  aaa  aaron  abandon  \\\n",
      "8  35  JOHN F. KENNEDY           INAUGURAL    0    0      0        0   \n",
      "8  35  JOHN F. KENNEDY  STATE OF THE UNION    0    0      0        0   \n",
      "8  35  JOHN F. KENNEDY  STATE OF THE UNION    0    0      0        1   \n",
      "8  35  JOHN F. KENNEDY  STATE OF THE UNION    0    0      0        1   \n",
      "\n",
      "   abandoned  abandoning  abandonment       ...         party_name     term_y  \\\n",
      "8          0           0            0       ...         Democratic  1961–1963   \n",
      "8          0           0            0       ...         Democratic  1961–1963   \n",
      "8          0           1            0       ...         Democratic  1961–1963   \n",
      "8          0           0            1       ...         Democratic  1961–1963   \n",
      "\n",
      "   state_of_birth  birth_date  death_date      religion_y  age_inauguration  \\\n",
      "8           Mass.   5/29/1917  11/22/1963  Roman Catholic                43   \n",
      "8           Mass.   5/29/1917  11/22/1963  Roman Catholic                43   \n",
      "8           Mass.   5/29/1917  11/22/1963  Roman Catholic                43   \n",
      "8           Mass.   5/29/1917  11/22/1963  Roman Catholic                43   \n",
      "\n",
      "   age_death  rank_aggregate      president_y  \n",
      "8         46               9  John F. Kennedy  \n",
      "8         46               9  John F. Kennedy  \n",
      "8         46               9  John F. Kennedy  \n",
      "8         46               9  John F. Kennedy  \n",
      "\n",
      "[4 rows x 22758 columns]\n"
     ]
    }
   ],
   "source": [
    "# Join aggregate rankings DataFrame\n",
    "df_all = pd.merge(df_merge_details, df_rankings, on=\"id\", how=\"left\", left_index=True)\n",
    "print df_all[df_all.religion_y == 'Roman Catholic']"
   ]
  },
  {
   "cell_type": "markdown",
   "metadata": {},
   "source": [
    "####<i>Step 3: Exploring the Aggregated Data - Plotting</i>"
   ]
  },
  {
   "cell_type": "markdown",
   "metadata": {},
   "source": [
    "In this section, we'll use aggregate functions to explore and plot the data in order to see if we can coax out any potential trends in the data before applying any models."
   ]
  },
  {
   "cell_type": "code",
   "execution_count": 49,
   "metadata": {
    "collapsed": false
   },
   "outputs": [
    {
     "data": {
      "text/plain": [
       "<matplotlib.axes._subplots.AxesSubplot at 0x10b48f110>"
      ]
     },
     "execution_count": 49,
     "metadata": {},
     "output_type": "execute_result"
    },
    {
     "data": {
      "image/png": "[encoded data removed]",
      "text/plain": [
       "<matplotlib.figure.Figure at 0x10b49c410>"
      ]
     },
     "metadata": {},
     "output_type": "display_data"
    }
   ],
   "source": [
    "# 1. Visualize the most commonly-used words in aggregate\n",
    "df_counts = pd.DataFrame(df.iloc[:,3:].apply(np.sum, axis=0), columns=['word_count'])\n",
    "df_counts_sorted = df_counts.sort(['word_count'], ascending = [0])[:20]\n",
    "\n",
    "df_counts_sorted.plot(kind='bar')"
   ]
  },
  {
   "cell_type": "code",
   "execution_count": 60,
   "metadata": {
    "collapsed": false
   },
   "outputs": [
    {
     "name": "stdout",
     "output_type": "stream",
     "text": [
      "religion_y\n",
      "Baptist                     world\n",
      "Congregationalist      government\n",
      "Deist                       shall\n",
      "Disciples of Christ        people\n",
      "Episcopalian               states\n",
      "Methodist                  states\n",
      "Presbyterian           government\n",
      "Quaker                 government\n",
      "Reformed Dutch         government\n",
      "Roman Catholic                new\n",
      "Southern Baptist            world\n",
      "Unitarian                  states\n",
      "dtype: object\n"
     ]
    }
   ],
   "source": [
    "# 2. Group DataFrame values by religion, then visualize most used words by each religious affiliation\n",
    "\n",
    "# First use groupby to create word counts by religion\n",
    "df_religion = df_merge_details.groupby('religion_y').sum()\n",
    "df_religion = df_religion.iloc[:, 1:-1]\n",
    "\n",
    "# Find the most used words by religious affiliation\n",
    "print df_religion.idxmax(axis=1)"
   ]
  },
  {
   "cell_type": "code",
   "execution_count": 61,
   "metadata": {
    "collapsed": false
   },
   "outputs": [
    {
     "name": "stdout",
     "output_type": "stream",
     "text": [
      "party_name\n",
      "Democratic               government\n",
      "Democratic Republican        states\n",
      "Federalist                   states\n",
      "Republican               government\n",
      "Union                        states\n",
      "Whig                     government\n",
      "dtype: object\n"
     ]
    }
   ],
   "source": [
    "# 3. Group DataFrame values by party, then visualize most used words by each party\n",
    "\n",
    "# First use groupby to create word counts by party\n",
    "df_party = df_merge_details.groupby('party_name').sum()\n",
    "df_party = df_party.iloc[:, 1:-1]\n",
    "\n",
    "# Find the most used words by religious affiliation\n",
    "print df_party.idxmax(axis=1)"
   ]
  },
  {
   "cell_type": "markdown",
   "metadata": {},
   "source": [
    "Frankly speaking, we haven't gleaned anything really meaningful from exploring the data (at least in the ways above), so let's use a new tool - <b>Natural Language Processing</b> - to see if we can engineer some features that will make the trends in the data a little more apparent."
   ]
  },
  {
   "cell_type": "markdown",
   "metadata": {},
   "source": [
    "####<i>Step 4: Exploring the Aggregated Data - Applying Natural Language Processing (NLP)</i> "
   ]
  },
  {
   "cell_type": "markdown",
   "metadata": {},
   "source": [
    "First, we'll use some stemming modules from <b><code>NLTK</code></b> (specifically <b><code>PorterStemmer</code></b>) to reduce the number of features in the master <code>DataFrame</code>:"
   ]
  },
  {
   "cell_type": "code",
   "execution_count": 75,
   "metadata": {
    "collapsed": false
   },
   "outputs": [
    {
     "name": "stdout",
     "output_type": "stream",
     "text": [
      "12632\n"
     ]
    }
   ],
   "source": [
    "# Import PorterStemmer\n",
    "from nltk.stem.porter import PorterStemmer\n",
    "\n",
    "# Instantiate a new PorterStemmer object\n",
    "ps = PorterStemmer()\n",
    "\n",
    "# Create Python list of tokens in DataFrame\n",
    "word_list = list(df_party.iloc[:,:].columns.values)\n",
    "\n",
    "# Use PorterStemmer to stem the tokens\n",
    "stems = [ps.stem(token) for token in word_list]\n",
    "stems_set = set(stems)\n",
    "\n",
    "print len(stems_set)"
   ]
  },
  {
   "cell_type": "markdown",
   "metadata": {},
   "source": [
    "Using <code>PorterStemmer</code>, we've effectively cut the number of features in half!"
   ]
  },
  {
   "cell_type": "code",
   "execution_count": 90,
   "metadata": {
    "collapsed": true
   },
   "outputs": [],
   "source": [
    "# TODO(justindelatorre): How can we practically use Porter Stemming with the master data to cut out features?\n",
    "# - Might be worth stemming the tokens before adding to master DataFrame (would require re-work of data munging $%&!)\n",
    "# - Then, we can pass stems through LDA to get potentially more meaningful topic clusters\n",
    "# - Can also use grouped topics as features for Naïve Bayes modeling?"
   ]
  },
  {
   "cell_type": "markdown",
   "metadata": {},
   "source": [
    "##<i>Part III: Testing and Training Models</i>"
   ]
  },
  {
   "cell_type": "markdown",
   "metadata": {},
   "source": [
    "####<i>Step 1: Implementing and Experimenting with LDA ([documentation](https://pypi.python.org/pypi/lda))</i>"
   ]
  },
  {
   "cell_type": "markdown",
   "metadata": {},
   "source": [
    "Another handy NLP application is <b>[latent Dirichlet allocation](https://en.wikipedia.org/wiki/Latent_Dirichlet_allocation) (LDA)</b>, which allows us to unearth hidden topics among the text we're examining. We can use this to potentially reduce our features even more, and in an even more meaningful way due to topic clustering."
   ]
  },
  {
   "cell_type": "code",
   "execution_count": 91,
   "metadata": {
    "collapsed": false
   },
   "outputs": [
    {
     "name": "stdout",
     "output_type": "stream",
     "text": [
      "Topic 0: states government united congress foreign shall treaty department state year time\n",
      "Topic 1: year states people legislation attention subject fiscal law congress number free\n",
      "Topic 2: world people great time nation way new hope right good come\n",
      "Topic 3: year world economic nations program free million dollars fiscal security war\n",
      "Topic 4: commerce citizens great attention intercourse treasury revenue vessels tribes object debt\n",
      "Topic 5: american international court canal law department men tariff navy proper commerce\n",
      "Topic 6: men man work business corporations law good far power need interstate\n",
      "Topic 7: war shall men peace american nations nation united life free let\n",
      "Topic 8: years reduction local prosperity general administration commission justice authority construction welfare\n",
      "Topic 9: federal new programs nation growth energy administration union percent years help\n",
      "Topic 10: america people americans work years new year let american children congress\n",
      "Topic 11: general government commission cuba american consideration products islands having gold international\n",
      "Topic 12: great service law people labor large purpose action country methods ought\n",
      "Topic 13: applause freedom america country security citizens ve free ll weapons tax\n",
      "Topic 14: people general government power subject constitution condition consideration character duties institutions\n",
      "Topic 15: states united great congress force powers year act war progress british\n",
      "Topic 16: government duty make interests lands present navy large different place army\n",
      "Topic 17: public country time state important citizens government laws means law best\n",
      "Topic 18: states mexico war constitution territory power great texas union treasury mexican\n",
      "Topic 19: government national congress federal work present action policy legislation war necessary\n"
     ]
    }
   ],
   "source": [
    "# Manipulate data so it can be passed through the LDA instance\n",
    "df_id_only = pd.concat([df.iloc[:,:1], df.iloc[:,3:]], axis=1)\n",
    "df_id_only_grouped = df_id_only.groupby('id').sum()\n",
    "\n",
    "# Turn the DataFrame into a matrix of numpy arrays, will serve as X in LDA\n",
    "df_matrix = df_id_only_grouped.as_matrix(columns=None)\n",
    "\n",
    "# Import LDA module\n",
    "import lda\n",
    "\n",
    "# Create new instance of LDA that will group into 20 topics\n",
    "# and cycle through 1000 iterations\n",
    "model = lda.LDA(n_topics=20, n_iter=1000, random_state=1)\n",
    "model.fit(df_matrix)\n",
    "topic_word = model.topic_word_\n",
    "n_top_words = 12\n",
    "\n",
    "# Note: word_list was generated in the above section on stemming\n",
    "for i, topic_dist in enumerate(topic_word):\n",
    "    topic_words = np.array(word_list)[np.argsort(topic_dist)][:-n_top_words:-1]\n",
    "    print('Topic {}: {}'.format(i, ' '.join(topic_words)))"
   ]
  },
  {
   "cell_type": "markdown",
   "metadata": {},
   "source": [
    "Now that we have some semblance of topic clustering, we can use <code>lda</code>'s <b><code>doc\\_topic\\_</code></b> function to figure out the most prominent topic (based on the above list) that each president focused on within the corpus of all his speeches in the dataset."
   ]
  },
  {
   "cell_type": "code",
   "execution_count": 98,
   "metadata": {
    "collapsed": false
   },
   "outputs": [
    {
     "name": "stdout",
     "output_type": "stream",
     "text": [
      "1 (top topic: 4)\n",
      "2 (top topic: 4)\n",
      "3 (top topic: 4)\n",
      "4 (top topic: 4)\n",
      "5 (top topic: 4)\n",
      "6 (top topic: 4)\n",
      "7 (top topic: 14)\n",
      "8 (top topic: 17)\n",
      "9 (top topic: 14)\n",
      "10 (top topic: 0)\n",
      "11 (top topic: 18)\n",
      "12 (top topic: 0)\n",
      "13 (top topic: 0)\n",
      "14 (top topic: 0)\n",
      "15 (top topic: 0)\n",
      "16 (top topic: 0)\n",
      "17 (top topic: 0)\n",
      "18 (top topic: 0)\n",
      "19 (top topic: 0)\n",
      "20 (top topic: 7)\n",
      "21 (top topic: 0)\n",
      "22 (top topic: 1)\n",
      "23 (top topic: 1)\n",
      "24 (top topic: 14)\n",
      "25 (top topic: 0)\n",
      "26 (top topic: 6)\n",
      "27 (top topic: 5)\n",
      "28 (top topic: 7)\n",
      "29 (top topic: 12)\n",
      "30 (top topic: 8)\n",
      "31 (top topic: 8)\n",
      "32 (top topic: 2)\n",
      "33 (top topic: 3)\n",
      "34 (top topic: 3)\n",
      "35 (top topic: 9)\n",
      "36 (top topic: 10)\n",
      "37 (top topic: 10)\n",
      "38 (top topic: 9)\n",
      "39 (top topic: 9)\n",
      "40 (top topic: 10)\n",
      "41 (top topic: 10)\n",
      "42 (top topic: 10)\n",
      "43 (top topic: 13)\n"
     ]
    }
   ],
   "source": [
    "# Find the most prevalent topic among each president's collection of speeches\n",
    "\n",
    "# Create list of president IDs\n",
    "prez_ids = df_id_only_grouped.index\n",
    "\n",
    "doc_topic = model.doc_topic_\n",
    "for i in range(len(prez_ids)):\n",
    "    print(\"{} (top topic: {})\".format(prez_ids[i], doc_topic[i].argmax()))"
   ]
  },
  {
   "cell_type": "markdown",
   "metadata": {},
   "source": [
    "Based on the results above, using LDA (at least on all the tokens, rather than a potentially more meaningful subset) gives us a slightly better look at any trends in all of the presidential speeches we're examining, but nothing glaringly meaningful sticks out just yet.\n",
    "\n",
    "Let's move on to using Naïve Bayes, where we hope to be able to predict, at least with some level of accuracy higher than a coin flip, the likelihood that a president is either of a certain party or religious affiliation based on the themes and words in the speeches, and if certain words and themes are predictive of our more highly-regarded presidents."
   ]
  },
  {
   "cell_type": "markdown",
   "metadata": {},
   "source": [
    "####<i>Step 2: Probabilities, Predictions, and Presidents with Naïve Bayes</i>"
   ]
  },
  {
   "cell_type": "code",
   "execution_count": null,
   "metadata": {
    "collapsed": true
   },
   "outputs": [],
   "source": []
  },
  {
   "cell_type": "markdown",
   "metadata": {},
   "source": [
    "####<i>Step 3: Using Outside Data</i>"
   ]
  },
  {
   "cell_type": "markdown",
   "metadata": {},
   "source": [
    "Unfortunately, there are limited full-text transcripts of speeches from the fake presidents - Jed Bartlett and Matt Santos from <i>The West Wing</i> - I wanted to run through the trained model. But, I've worked really hard to get to this point, so I'd like to at least see how good the model is, given that we know both president's outcome labels (both presidents were Roman Catholics and Democrats).\n",
    "\n",
    "Knowing that, I will march on and use any available text from the show transcripts in which either president gave some sort of speech. I know this is technically not the way to go given the model was trained and tested using specifically Inaugural Address and State of the Union text, but this is my project, so sue me :)"
   ]
  },
  {
   "cell_type": "code",
   "execution_count": null,
   "metadata": {
    "collapsed": true
   },
   "outputs": [],
   "source": [
    "# Load text into memory for data wrangling\n",
    "\n",
    "# Create arrays and DataFrames for each West Wing president\n",
    "\n",
    "# Apply the trained Naïve Bayes model to the aggregate text for each president"
   ]
  },
  {
   "cell_type": "markdown",
   "metadata": {},
   "source": [
    "##<i>Part IV: Conclusions</i>"
   ]
  },
  {
   "cell_type": "markdown",
   "metadata": {},
   "source": []
  }
 ],
 "metadata": {
  "kernelspec": {
   "display_name": "Python 2",
   "language": "python",
   "name": "python2"
  },
  "language_info": {
   "codemirror_mode": {
    "name": "ipython",
    "version": 2
   },
   "file_extension": ".py",
   "mimetype": "text/x-python",
   "name": "python",
   "nbconvert_exporter": "python",
   "pygments_lexer": "ipython2",
   "version": "2.7.9"
  }
 },
 "nbformat": 4,
 "nbformat_minor": 0
}
